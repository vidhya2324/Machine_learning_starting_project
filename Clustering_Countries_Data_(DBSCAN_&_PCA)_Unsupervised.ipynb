{
  "nbformat": 4,
  "nbformat_minor": 0,
  "metadata": {
    "colab": {
      "provenance": [],
      "authorship_tag": "ABX9TyMi41WuQKXK7Ouh6+VgTq8E",
      "include_colab_link": true
    },
    "kernelspec": {
      "name": "python3",
      "display_name": "Python 3"
    },
    "language_info": {
      "name": "python"
    }
  },
  "cells": [
    {
      "cell_type": "markdown",
      "metadata": {
        "id": "view-in-github",
        "colab_type": "text"
      },
      "source": [
        "<a href=\"https://colab.research.google.com/github/vidhya2324/Machine_learning_starting_project/blob/main/Clustering_Countries_Data_(DBSCAN_%26_PCA)_Unsupervised.ipynb\" target=\"_parent\"><img src=\"https://colab.research.google.com/assets/colab-badge.svg\" alt=\"Open In Colab\"/></a>"
      ]
    },
    {
      "cell_type": "markdown",
      "source": [
        "Clustering Countries Using Unsupervised Learning for Strategic Aid Allocation by HELP International"
      ],
      "metadata": {
        "id": "klzIqdB8V8Cq"
      }
    },
    {
      "cell_type": "code",
      "source": [
        "!kaggle datasets download -d rohan0301/unsupervised-learning-on-country-data"
      ],
      "metadata": {
        "colab": {
          "base_uri": "https://localhost:8080/"
        },
        "id": "J2SIouNxWKtJ",
        "outputId": "d66054d0-9ca0-465f-d19f-93fc9ea0d6c9"
      },
      "execution_count": 2,
      "outputs": [
        {
          "output_type": "stream",
          "name": "stdout",
          "text": [
            "Dataset URL: https://www.kaggle.com/datasets/rohan0301/unsupervised-learning-on-country-data\n",
            "License(s): MIT\n",
            "Downloading unsupervised-learning-on-country-data.zip to /content\n",
            "  0% 0.00/5.21k [00:00<?, ?B/s]\n",
            "100% 5.21k/5.21k [00:00<00:00, 7.12MB/s]\n"
          ]
        }
      ]
    },
    {
      "cell_type": "code",
      "source": [
        "!unzip \\*.zip && rm *.zip"
      ],
      "metadata": {
        "colab": {
          "base_uri": "https://localhost:8080/"
        },
        "id": "fcu_eEeyWbzK",
        "outputId": "a922af7c-217e-4017-b21f-1c207f982547"
      },
      "execution_count": 3,
      "outputs": [
        {
          "output_type": "stream",
          "name": "stdout",
          "text": [
            "Archive:  unsupervised-learning-on-country-data.zip\n",
            "  inflating: Country-data.csv        \n",
            "  inflating: data-dictionary.csv     \n"
          ]
        }
      ]
    },
    {
      "cell_type": "markdown",
      "source": [
        "#Data Transformation and Feature Engineering\n",
        "\n",
        "Yeo-Johnson Transformation:\n",
        "\n",
        "The PowerTransformer with the **Yeo-Johnson method** is applied to stabilize variance and make the data distribution more Gaussian-like, which can improve the effectiveness of clustering algorithms.\n",
        "\n",
        "Dimensionality Reduction with **PCA**,full form of PCA is principle component Analysis, is used to feature our data into 95%..its can reduce the dimension\n",
        "\n",
        "Clustering with **DBSCAN**\n",
        "\n",
        "DBSCAN (Density-Based Spatial Clustering of Applications with Noise) is selected for its ability to identify clusters of arbitrary shapes and its robustness to noise."
      ],
      "metadata": {
        "id": "hv5MQdc4Wx6i"
      }
    },
    {
      "cell_type": "code",
      "source": [
        "#import the neccessary libraries\n",
        "import pandas as pd\n",
        "import numpy as np\n",
        "from sklearn.preprocessing import RobustScaler, PowerTransformer\n",
        "from sklearn.cluster import DBSCAN\n",
        "from sklearn.metrics import silhouette_score\n",
        "from sklearn.decomposition import PCA"
      ],
      "metadata": {
        "id": "-Qj-QYsRWhSC"
      },
      "execution_count": 4,
      "outputs": []
    },
    {
      "cell_type": "code",
      "source": [
        "# Load the country data from the specified CSV file\n",
        "df = pd.read_csv(\"/content/Country-data.csv\")"
      ],
      "metadata": {
        "id": "X-o6kXLOXuRC"
      },
      "execution_count": 5,
      "outputs": []
    },
    {
      "cell_type": "code",
      "source": [
        "# Define the list of socio-economic and health-related features to be used for clustering\n",
        "features = [\n",
        "    \"child_mort\",          # Child mortality rate\n",
        "    \"exports\",             # Total exports\n",
        "    \"gdpp\",                # Gross Domestic Product per capita\n",
        "    \"health\",              # Health expenditure\n",
        "    \"imports\",             # Total imports\n",
        "    \"income\",              # Average income\n",
        "    \"inflation\",           # Inflation rate\n",
        "    \"life_expec\",          # Life expectancy\n",
        "    \"total_fer\",           # Total fertility rate\n",
        "]\n",
        "# Extract the feature matrix 'X' by selecting the defined features from the DataFrame\n",
        "X = df[features].copy()\n"
      ],
      "metadata": {
        "id": "I6LRYNHsX48y"
      },
      "execution_count": 7,
      "outputs": []
    },
    {
      "cell_type": "markdown",
      "source": [
        "#Apply Yeo-Johnson Transformation"
      ],
      "metadata": {
        "id": "_qgrySv9YMCy"
      }
    },
    {
      "cell_type": "code",
      "source": [
        "# Initialize the PowerTransformer with the Yeo-Johnson method to stabilize variance and make the data more Gaussian-like\n",
        "pt = PowerTransformer(method=\"yeo-johnson\")"
      ],
      "metadata": {
        "id": "TScO4WqvX7Kh"
      },
      "execution_count": 8,
      "outputs": []
    },
    {
      "cell_type": "code",
      "source": [
        "# Fit the transformer to the data and apply the transformation, creating a new DataFrame with transformed features\n",
        "X_transformed = pd.DataFrame(pt.fit_transform(X), columns=X.columns)"
      ],
      "metadata": {
        "id": "JfqAwXKOYNr6"
      },
      "execution_count": 9,
      "outputs": []
    },
    {
      "cell_type": "code",
      "source": [
        "# Generate interaction terms to capture the combined effect of pairs of features, potentially enhancing clustering performance\n",
        "X_transformed[\"gdpp_health\"] = X_transformed[\"gdpp\"] * X_transformed[\"health\"]\n",
        "X_transformed[\"exports_imports\"] = X_transformed[\"exports\"] * X_transformed[\"imports\"]\n",
        "X_transformed[\"life_expec_child_mort\"] = (\n",
        "    X_transformed[\"life_expec\"] * X_transformed[\"child_mort\"]\n",
        ")\n",
        "X_transformed[\"income_gdpp\"] = X_transformed[\"income\"] * X_transformed[\"gdpp\"]\n",
        "X_transformed[\"health_life_expec\"] = (\n",
        "    X_transformed[\"health\"] * X_transformed[\"life_expec\"]\n",
        ")\n"
      ],
      "metadata": {
        "id": "FcefFDvtY9mi"
      },
      "execution_count": 10,
      "outputs": []
    },
    {
      "cell_type": "markdown",
      "source": [
        "#Scale the Features"
      ],
      "metadata": {
        "id": "C1Hj3YFCZaNi"
      }
    },
    {
      "cell_type": "code",
      "source": [],
      "metadata": {
        "id": "vW-ZrkNHZb5i"
      },
      "execution_count": null,
      "outputs": []
    }
  ]
}