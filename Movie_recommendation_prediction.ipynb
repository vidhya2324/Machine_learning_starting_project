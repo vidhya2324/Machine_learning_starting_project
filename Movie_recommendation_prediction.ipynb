{
  "nbformat": 4,
  "nbformat_minor": 0,
  "metadata": {
    "colab": {
      "provenance": [],
      "authorship_tag": "ABX9TyN1nCaVZz3sLeVUHC+1gcGG",
      "include_colab_link": true
    },
    "kernelspec": {
      "name": "python3",
      "display_name": "Python 3"
    },
    "language_info": {
      "name": "python"
    }
  },
  "cells": [
    {
      "cell_type": "markdown",
      "metadata": {
        "id": "view-in-github",
        "colab_type": "text"
      },
      "source": [
        "<a href=\"https://colab.research.google.com/github/vidhya2324/Machine_learning_starting_project/blob/main/Movie_recommendation_prediction.ipynb\" target=\"_parent\"><img src=\"https://colab.research.google.com/assets/colab-badge.svg\" alt=\"Open In Colab\"/></a>"
      ]
    },
    {
      "cell_type": "markdown",
      "source": [
        "This project can be predicted by using the cosine similarity algorithm. this recommendation can be in done in three method\n",
        "* content based\n",
        "* overview based\n",
        "* popularity based\n",
        "\n"
      ],
      "metadata": {
        "id": "CfabjCkO07z8"
      }
    },
    {
      "cell_type": "code",
      "source": [
        "#import neccessary libraries\n",
        "import numpy as np\n",
        "import pandas as pd\n",
        "import matplotlib.pyplot as plt\n",
        "import seaborn as sns\n",
        "from sklearn.feature_extraction.text import TfidfVectorizer\n",
        "from sklearn.metrics.pairwise import cosine_similarity\n"
      ],
      "metadata": {
        "id": "S1qdWMB807kU"
      },
      "execution_count": 5,
      "outputs": []
    },
    {
      "cell_type": "markdown",
      "source": [
        "#Data collection"
      ],
      "metadata": {
        "id": "SmMDVEDI1ooD"
      }
    },
    {
      "cell_type": "code",
      "execution_count": 10,
      "metadata": {
        "id": "Mxucyzs70yld"
      },
      "outputs": [],
      "source": [
        "movies_data=pd.read_csv(\"/content/movies.csv\")"
      ]
    },
    {
      "cell_type": "code",
      "source": [
        "movies_data.head()"
      ],
      "metadata": {
        "colab": {
          "base_uri": "https://localhost:8080/",
          "height": 793
        },
        "id": "Nyg6QC4B2-5c",
        "outputId": "d31f6701-05e1-467c-fcab-fad485bd59e3"
      },
      "execution_count": 11,
      "outputs": [
        {
          "output_type": "execute_result",
          "data": {
            "text/plain": [
              "   index     budget                                    genres  \\\n",
              "0      0  237000000  Action Adventure Fantasy Science Fiction   \n",
              "1      1  300000000                  Adventure Fantasy Action   \n",
              "2      2  245000000                    Action Adventure Crime   \n",
              "3      3  250000000               Action Crime Drama Thriller   \n",
              "4      4  260000000          Action Adventure Science Fiction   \n",
              "\n",
              "                                       homepage      id  \\\n",
              "0                   http://www.avatarmovie.com/   19995   \n",
              "1  http://disney.go.com/disneypictures/pirates/     285   \n",
              "2   http://www.sonypictures.com/movies/spectre/  206647   \n",
              "3            http://www.thedarkknightrises.com/   49026   \n",
              "4          http://movies.disney.com/john-carter   49529   \n",
              "\n",
              "                                            keywords original_language  \\\n",
              "0  culture clash future space war space colony so...                en   \n",
              "1  ocean drug abuse exotic island east india trad...                en   \n",
              "2         spy based on novel secret agent sequel mi6                en   \n",
              "3  dc comics crime fighter terrorist secret ident...                en   \n",
              "4  based on novel mars medallion space travel pri...                en   \n",
              "\n",
              "                             original_title  \\\n",
              "0                                    Avatar   \n",
              "1  Pirates of the Caribbean: At World's End   \n",
              "2                                   Spectre   \n",
              "3                     The Dark Knight Rises   \n",
              "4                               John Carter   \n",
              "\n",
              "                                            overview  popularity  ... runtime  \\\n",
              "0  In the 22nd century, a paraplegic Marine is di...  150.437577  ...   162.0   \n",
              "1  Captain Barbossa, long believed to be dead, ha...  139.082615  ...   169.0   \n",
              "2  A cryptic message from Bond’s past sends him o...  107.376788  ...   148.0   \n",
              "3  Following the death of District Attorney Harve...  112.312950  ...   165.0   \n",
              "4  John Carter is a war-weary, former military ca...   43.926995  ...   132.0   \n",
              "\n",
              "                                    spoken_languages    status  \\\n",
              "0  [{\"iso_639_1\": \"en\", \"name\": \"English\"}, {\"iso...  Released   \n",
              "1           [{\"iso_639_1\": \"en\", \"name\": \"English\"}]  Released   \n",
              "2  [{\"iso_639_1\": \"fr\", \"name\": \"Fran\\u00e7ais\"},...  Released   \n",
              "3           [{\"iso_639_1\": \"en\", \"name\": \"English\"}]  Released   \n",
              "4           [{\"iso_639_1\": \"en\", \"name\": \"English\"}]  Released   \n",
              "\n",
              "                                          tagline  \\\n",
              "0                     Enter the World of Pandora.   \n",
              "1  At the end of the world, the adventure begins.   \n",
              "2                           A Plan No One Escapes   \n",
              "3                                 The Legend Ends   \n",
              "4            Lost in our world, found in another.   \n",
              "\n",
              "                                      title vote_average vote_count  \\\n",
              "0                                    Avatar          7.2      11800   \n",
              "1  Pirates of the Caribbean: At World's End          6.9       4500   \n",
              "2                                   Spectre          6.3       4466   \n",
              "3                     The Dark Knight Rises          7.6       9106   \n",
              "4                               John Carter          6.1       2124   \n",
              "\n",
              "                                                cast  \\\n",
              "0  Sam Worthington Zoe Saldana Sigourney Weaver S...   \n",
              "1  Johnny Depp Orlando Bloom Keira Knightley Stel...   \n",
              "2  Daniel Craig Christoph Waltz L\\u00e9a Seydoux ...   \n",
              "3  Christian Bale Michael Caine Gary Oldman Anne ...   \n",
              "4  Taylor Kitsch Lynn Collins Samantha Morton Wil...   \n",
              "\n",
              "                                                crew           director  \n",
              "0  [{'name': 'Stephen E. Rivkin', 'gender': 0, 'd...      James Cameron  \n",
              "1  [{'name': 'Dariusz Wolski', 'gender': 2, 'depa...     Gore Verbinski  \n",
              "2  [{'name': 'Thomas Newman', 'gender': 2, 'depar...         Sam Mendes  \n",
              "3  [{'name': 'Hans Zimmer', 'gender': 2, 'departm...  Christopher Nolan  \n",
              "4  [{'name': 'Andrew Stanton', 'gender': 2, 'depa...     Andrew Stanton  \n",
              "\n",
              "[5 rows x 24 columns]"
            ],
            "text/html": [
              "\n",
              "  <div id=\"df-0b0d924a-a574-4f97-b2c4-cf2aaf71992f\" class=\"colab-df-container\">\n",
              "    <div>\n",
              "<style scoped>\n",
              "    .dataframe tbody tr th:only-of-type {\n",
              "        vertical-align: middle;\n",
              "    }\n",
              "\n",
              "    .dataframe tbody tr th {\n",
              "        vertical-align: top;\n",
              "    }\n",
              "\n",
              "    .dataframe thead th {\n",
              "        text-align: right;\n",
              "    }\n",
              "</style>\n",
              "<table border=\"1\" class=\"dataframe\">\n",
              "  <thead>\n",
              "    <tr style=\"text-align: right;\">\n",
              "      <th></th>\n",
              "      <th>index</th>\n",
              "      <th>budget</th>\n",
              "      <th>genres</th>\n",
              "      <th>homepage</th>\n",
              "      <th>id</th>\n",
              "      <th>keywords</th>\n",
              "      <th>original_language</th>\n",
              "      <th>original_title</th>\n",
              "      <th>overview</th>\n",
              "      <th>popularity</th>\n",
              "      <th>...</th>\n",
              "      <th>runtime</th>\n",
              "      <th>spoken_languages</th>\n",
              "      <th>status</th>\n",
              "      <th>tagline</th>\n",
              "      <th>title</th>\n",
              "      <th>vote_average</th>\n",
              "      <th>vote_count</th>\n",
              "      <th>cast</th>\n",
              "      <th>crew</th>\n",
              "      <th>director</th>\n",
              "    </tr>\n",
              "  </thead>\n",
              "  <tbody>\n",
              "    <tr>\n",
              "      <th>0</th>\n",
              "      <td>0</td>\n",
              "      <td>237000000</td>\n",
              "      <td>Action Adventure Fantasy Science Fiction</td>\n",
              "      <td>http://www.avatarmovie.com/</td>\n",
              "      <td>19995</td>\n",
              "      <td>culture clash future space war space colony so...</td>\n",
              "      <td>en</td>\n",
              "      <td>Avatar</td>\n",
              "      <td>In the 22nd century, a paraplegic Marine is di...</td>\n",
              "      <td>150.437577</td>\n",
              "      <td>...</td>\n",
              "      <td>162.0</td>\n",
              "      <td>[{\"iso_639_1\": \"en\", \"name\": \"English\"}, {\"iso...</td>\n",
              "      <td>Released</td>\n",
              "      <td>Enter the World of Pandora.</td>\n",
              "      <td>Avatar</td>\n",
              "      <td>7.2</td>\n",
              "      <td>11800</td>\n",
              "      <td>Sam Worthington Zoe Saldana Sigourney Weaver S...</td>\n",
              "      <td>[{'name': 'Stephen E. Rivkin', 'gender': 0, 'd...</td>\n",
              "      <td>James Cameron</td>\n",
              "    </tr>\n",
              "    <tr>\n",
              "      <th>1</th>\n",
              "      <td>1</td>\n",
              "      <td>300000000</td>\n",
              "      <td>Adventure Fantasy Action</td>\n",
              "      <td>http://disney.go.com/disneypictures/pirates/</td>\n",
              "      <td>285</td>\n",
              "      <td>ocean drug abuse exotic island east india trad...</td>\n",
              "      <td>en</td>\n",
              "      <td>Pirates of the Caribbean: At World's End</td>\n",
              "      <td>Captain Barbossa, long believed to be dead, ha...</td>\n",
              "      <td>139.082615</td>\n",
              "      <td>...</td>\n",
              "      <td>169.0</td>\n",
              "      <td>[{\"iso_639_1\": \"en\", \"name\": \"English\"}]</td>\n",
              "      <td>Released</td>\n",
              "      <td>At the end of the world, the adventure begins.</td>\n",
              "      <td>Pirates of the Caribbean: At World's End</td>\n",
              "      <td>6.9</td>\n",
              "      <td>4500</td>\n",
              "      <td>Johnny Depp Orlando Bloom Keira Knightley Stel...</td>\n",
              "      <td>[{'name': 'Dariusz Wolski', 'gender': 2, 'depa...</td>\n",
              "      <td>Gore Verbinski</td>\n",
              "    </tr>\n",
              "    <tr>\n",
              "      <th>2</th>\n",
              "      <td>2</td>\n",
              "      <td>245000000</td>\n",
              "      <td>Action Adventure Crime</td>\n",
              "      <td>http://www.sonypictures.com/movies/spectre/</td>\n",
              "      <td>206647</td>\n",
              "      <td>spy based on novel secret agent sequel mi6</td>\n",
              "      <td>en</td>\n",
              "      <td>Spectre</td>\n",
              "      <td>A cryptic message from Bond’s past sends him o...</td>\n",
              "      <td>107.376788</td>\n",
              "      <td>...</td>\n",
              "      <td>148.0</td>\n",
              "      <td>[{\"iso_639_1\": \"fr\", \"name\": \"Fran\\u00e7ais\"},...</td>\n",
              "      <td>Released</td>\n",
              "      <td>A Plan No One Escapes</td>\n",
              "      <td>Spectre</td>\n",
              "      <td>6.3</td>\n",
              "      <td>4466</td>\n",
              "      <td>Daniel Craig Christoph Waltz L\\u00e9a Seydoux ...</td>\n",
              "      <td>[{'name': 'Thomas Newman', 'gender': 2, 'depar...</td>\n",
              "      <td>Sam Mendes</td>\n",
              "    </tr>\n",
              "    <tr>\n",
              "      <th>3</th>\n",
              "      <td>3</td>\n",
              "      <td>250000000</td>\n",
              "      <td>Action Crime Drama Thriller</td>\n",
              "      <td>http://www.thedarkknightrises.com/</td>\n",
              "      <td>49026</td>\n",
              "      <td>dc comics crime fighter terrorist secret ident...</td>\n",
              "      <td>en</td>\n",
              "      <td>The Dark Knight Rises</td>\n",
              "      <td>Following the death of District Attorney Harve...</td>\n",
              "      <td>112.312950</td>\n",
              "      <td>...</td>\n",
              "      <td>165.0</td>\n",
              "      <td>[{\"iso_639_1\": \"en\", \"name\": \"English\"}]</td>\n",
              "      <td>Released</td>\n",
              "      <td>The Legend Ends</td>\n",
              "      <td>The Dark Knight Rises</td>\n",
              "      <td>7.6</td>\n",
              "      <td>9106</td>\n",
              "      <td>Christian Bale Michael Caine Gary Oldman Anne ...</td>\n",
              "      <td>[{'name': 'Hans Zimmer', 'gender': 2, 'departm...</td>\n",
              "      <td>Christopher Nolan</td>\n",
              "    </tr>\n",
              "    <tr>\n",
              "      <th>4</th>\n",
              "      <td>4</td>\n",
              "      <td>260000000</td>\n",
              "      <td>Action Adventure Science Fiction</td>\n",
              "      <td>http://movies.disney.com/john-carter</td>\n",
              "      <td>49529</td>\n",
              "      <td>based on novel mars medallion space travel pri...</td>\n",
              "      <td>en</td>\n",
              "      <td>John Carter</td>\n",
              "      <td>John Carter is a war-weary, former military ca...</td>\n",
              "      <td>43.926995</td>\n",
              "      <td>...</td>\n",
              "      <td>132.0</td>\n",
              "      <td>[{\"iso_639_1\": \"en\", \"name\": \"English\"}]</td>\n",
              "      <td>Released</td>\n",
              "      <td>Lost in our world, found in another.</td>\n",
              "      <td>John Carter</td>\n",
              "      <td>6.1</td>\n",
              "      <td>2124</td>\n",
              "      <td>Taylor Kitsch Lynn Collins Samantha Morton Wil...</td>\n",
              "      <td>[{'name': 'Andrew Stanton', 'gender': 2, 'depa...</td>\n",
              "      <td>Andrew Stanton</td>\n",
              "    </tr>\n",
              "  </tbody>\n",
              "</table>\n",
              "<p>5 rows × 24 columns</p>\n",
              "</div>\n",
              "    <div class=\"colab-df-buttons\">\n",
              "\n",
              "  <div class=\"colab-df-container\">\n",
              "    <button class=\"colab-df-convert\" onclick=\"convertToInteractive('df-0b0d924a-a574-4f97-b2c4-cf2aaf71992f')\"\n",
              "            title=\"Convert this dataframe to an interactive table.\"\n",
              "            style=\"display:none;\">\n",
              "\n",
              "  <svg xmlns=\"http://www.w3.org/2000/svg\" height=\"24px\" viewBox=\"0 -960 960 960\">\n",
              "    <path d=\"M120-120v-720h720v720H120Zm60-500h600v-160H180v160Zm220 220h160v-160H400v160Zm0 220h160v-160H400v160ZM180-400h160v-160H180v160Zm440 0h160v-160H620v160ZM180-180h160v-160H180v160Zm440 0h160v-160H620v160Z\"/>\n",
              "  </svg>\n",
              "    </button>\n",
              "\n",
              "  <style>\n",
              "    .colab-df-container {\n",
              "      display:flex;\n",
              "      gap: 12px;\n",
              "    }\n",
              "\n",
              "    .colab-df-convert {\n",
              "      background-color: #E8F0FE;\n",
              "      border: none;\n",
              "      border-radius: 50%;\n",
              "      cursor: pointer;\n",
              "      display: none;\n",
              "      fill: #1967D2;\n",
              "      height: 32px;\n",
              "      padding: 0 0 0 0;\n",
              "      width: 32px;\n",
              "    }\n",
              "\n",
              "    .colab-df-convert:hover {\n",
              "      background-color: #E2EBFA;\n",
              "      box-shadow: 0px 1px 2px rgba(60, 64, 67, 0.3), 0px 1px 3px 1px rgba(60, 64, 67, 0.15);\n",
              "      fill: #174EA6;\n",
              "    }\n",
              "\n",
              "    .colab-df-buttons div {\n",
              "      margin-bottom: 4px;\n",
              "    }\n",
              "\n",
              "    [theme=dark] .colab-df-convert {\n",
              "      background-color: #3B4455;\n",
              "      fill: #D2E3FC;\n",
              "    }\n",
              "\n",
              "    [theme=dark] .colab-df-convert:hover {\n",
              "      background-color: #434B5C;\n",
              "      box-shadow: 0px 1px 3px 1px rgba(0, 0, 0, 0.15);\n",
              "      filter: drop-shadow(0px 1px 2px rgba(0, 0, 0, 0.3));\n",
              "      fill: #FFFFFF;\n",
              "    }\n",
              "  </style>\n",
              "\n",
              "    <script>\n",
              "      const buttonEl =\n",
              "        document.querySelector('#df-0b0d924a-a574-4f97-b2c4-cf2aaf71992f button.colab-df-convert');\n",
              "      buttonEl.style.display =\n",
              "        google.colab.kernel.accessAllowed ? 'block' : 'none';\n",
              "\n",
              "      async function convertToInteractive(key) {\n",
              "        const element = document.querySelector('#df-0b0d924a-a574-4f97-b2c4-cf2aaf71992f');\n",
              "        const dataTable =\n",
              "          await google.colab.kernel.invokeFunction('convertToInteractive',\n",
              "                                                    [key], {});\n",
              "        if (!dataTable) return;\n",
              "\n",
              "        const docLinkHtml = 'Like what you see? Visit the ' +\n",
              "          '<a target=\"_blank\" href=https://colab.research.google.com/notebooks/data_table.ipynb>data table notebook</a>'\n",
              "          + ' to learn more about interactive tables.';\n",
              "        element.innerHTML = '';\n",
              "        dataTable['output_type'] = 'display_data';\n",
              "        await google.colab.output.renderOutput(dataTable, element);\n",
              "        const docLink = document.createElement('div');\n",
              "        docLink.innerHTML = docLinkHtml;\n",
              "        element.appendChild(docLink);\n",
              "      }\n",
              "    </script>\n",
              "  </div>\n",
              "\n",
              "\n",
              "<div id=\"df-4e085e29-13f0-4526-8c89-1957c8b2d601\">\n",
              "  <button class=\"colab-df-quickchart\" onclick=\"quickchart('df-4e085e29-13f0-4526-8c89-1957c8b2d601')\"\n",
              "            title=\"Suggest charts\"\n",
              "            style=\"display:none;\">\n",
              "\n",
              "<svg xmlns=\"http://www.w3.org/2000/svg\" height=\"24px\"viewBox=\"0 0 24 24\"\n",
              "     width=\"24px\">\n",
              "    <g>\n",
              "        <path d=\"M19 3H5c-1.1 0-2 .9-2 2v14c0 1.1.9 2 2 2h14c1.1 0 2-.9 2-2V5c0-1.1-.9-2-2-2zM9 17H7v-7h2v7zm4 0h-2V7h2v10zm4 0h-2v-4h2v4z\"/>\n",
              "    </g>\n",
              "</svg>\n",
              "  </button>\n",
              "\n",
              "<style>\n",
              "  .colab-df-quickchart {\n",
              "      --bg-color: #E8F0FE;\n",
              "      --fill-color: #1967D2;\n",
              "      --hover-bg-color: #E2EBFA;\n",
              "      --hover-fill-color: #174EA6;\n",
              "      --disabled-fill-color: #AAA;\n",
              "      --disabled-bg-color: #DDD;\n",
              "  }\n",
              "\n",
              "  [theme=dark] .colab-df-quickchart {\n",
              "      --bg-color: #3B4455;\n",
              "      --fill-color: #D2E3FC;\n",
              "      --hover-bg-color: #434B5C;\n",
              "      --hover-fill-color: #FFFFFF;\n",
              "      --disabled-bg-color: #3B4455;\n",
              "      --disabled-fill-color: #666;\n",
              "  }\n",
              "\n",
              "  .colab-df-quickchart {\n",
              "    background-color: var(--bg-color);\n",
              "    border: none;\n",
              "    border-radius: 50%;\n",
              "    cursor: pointer;\n",
              "    display: none;\n",
              "    fill: var(--fill-color);\n",
              "    height: 32px;\n",
              "    padding: 0;\n",
              "    width: 32px;\n",
              "  }\n",
              "\n",
              "  .colab-df-quickchart:hover {\n",
              "    background-color: var(--hover-bg-color);\n",
              "    box-shadow: 0 1px 2px rgba(60, 64, 67, 0.3), 0 1px 3px 1px rgba(60, 64, 67, 0.15);\n",
              "    fill: var(--button-hover-fill-color);\n",
              "  }\n",
              "\n",
              "  .colab-df-quickchart-complete:disabled,\n",
              "  .colab-df-quickchart-complete:disabled:hover {\n",
              "    background-color: var(--disabled-bg-color);\n",
              "    fill: var(--disabled-fill-color);\n",
              "    box-shadow: none;\n",
              "  }\n",
              "\n",
              "  .colab-df-spinner {\n",
              "    border: 2px solid var(--fill-color);\n",
              "    border-color: transparent;\n",
              "    border-bottom-color: var(--fill-color);\n",
              "    animation:\n",
              "      spin 1s steps(1) infinite;\n",
              "  }\n",
              "\n",
              "  @keyframes spin {\n",
              "    0% {\n",
              "      border-color: transparent;\n",
              "      border-bottom-color: var(--fill-color);\n",
              "      border-left-color: var(--fill-color);\n",
              "    }\n",
              "    20% {\n",
              "      border-color: transparent;\n",
              "      border-left-color: var(--fill-color);\n",
              "      border-top-color: var(--fill-color);\n",
              "    }\n",
              "    30% {\n",
              "      border-color: transparent;\n",
              "      border-left-color: var(--fill-color);\n",
              "      border-top-color: var(--fill-color);\n",
              "      border-right-color: var(--fill-color);\n",
              "    }\n",
              "    40% {\n",
              "      border-color: transparent;\n",
              "      border-right-color: var(--fill-color);\n",
              "      border-top-color: var(--fill-color);\n",
              "    }\n",
              "    60% {\n",
              "      border-color: transparent;\n",
              "      border-right-color: var(--fill-color);\n",
              "    }\n",
              "    80% {\n",
              "      border-color: transparent;\n",
              "      border-right-color: var(--fill-color);\n",
              "      border-bottom-color: var(--fill-color);\n",
              "    }\n",
              "    90% {\n",
              "      border-color: transparent;\n",
              "      border-bottom-color: var(--fill-color);\n",
              "    }\n",
              "  }\n",
              "</style>\n",
              "\n",
              "  <script>\n",
              "    async function quickchart(key) {\n",
              "      const quickchartButtonEl =\n",
              "        document.querySelector('#' + key + ' button');\n",
              "      quickchartButtonEl.disabled = true;  // To prevent multiple clicks.\n",
              "      quickchartButtonEl.classList.add('colab-df-spinner');\n",
              "      try {\n",
              "        const charts = await google.colab.kernel.invokeFunction(\n",
              "            'suggestCharts', [key], {});\n",
              "      } catch (error) {\n",
              "        console.error('Error during call to suggestCharts:', error);\n",
              "      }\n",
              "      quickchartButtonEl.classList.remove('colab-df-spinner');\n",
              "      quickchartButtonEl.classList.add('colab-df-quickchart-complete');\n",
              "    }\n",
              "    (() => {\n",
              "      let quickchartButtonEl =\n",
              "        document.querySelector('#df-4e085e29-13f0-4526-8c89-1957c8b2d601 button');\n",
              "      quickchartButtonEl.style.display =\n",
              "        google.colab.kernel.accessAllowed ? 'block' : 'none';\n",
              "    })();\n",
              "  </script>\n",
              "</div>\n",
              "\n",
              "    </div>\n",
              "  </div>\n"
            ],
            "application/vnd.google.colaboratory.intrinsic+json": {
              "type": "dataframe",
              "variable_name": "movies_data"
            }
          },
          "metadata": {},
          "execution_count": 11
        }
      ]
    },
    {
      "cell_type": "code",
      "source": [
        "movies_data.tail()"
      ],
      "metadata": {
        "colab": {
          "base_uri": "https://localhost:8080/",
          "height": 689
        },
        "id": "SoY7w3In15Xk",
        "outputId": "6f06b8c8-a00a-408f-efeb-27a596af5f2a"
      },
      "execution_count": 12,
      "outputs": [
        {
          "output_type": "execute_result",
          "data": {
            "text/plain": [
              "      index  budget                         genres  \\\n",
              "4798   4798  220000          Action Crime Thriller   \n",
              "4799   4799    9000                 Comedy Romance   \n",
              "4800   4800       0  Comedy Drama Romance TV Movie   \n",
              "4801   4801       0                            NaN   \n",
              "4802   4802       0                    Documentary   \n",
              "\n",
              "                                               homepage      id  \\\n",
              "4798                                                NaN    9367   \n",
              "4799                                                NaN   72766   \n",
              "4800  http://www.hallmarkchannel.com/signedsealeddel...  231617   \n",
              "4801                        http://shanghaicalling.com/  126186   \n",
              "4802                                                NaN   25975   \n",
              "\n",
              "                                               keywords original_language  \\\n",
              "4798  united states\\u2013mexico barrier legs arms pa...                es   \n",
              "4799                                                NaN                en   \n",
              "4800  date love at first sight narration investigati...                en   \n",
              "4801                                                NaN                en   \n",
              "4802               obsession camcorder crush dream girl                en   \n",
              "\n",
              "                 original_title  \\\n",
              "4798                El Mariachi   \n",
              "4799                  Newlyweds   \n",
              "4800  Signed, Sealed, Delivered   \n",
              "4801           Shanghai Calling   \n",
              "4802          My Date with Drew   \n",
              "\n",
              "                                               overview  popularity  ...  \\\n",
              "4798  El Mariachi just wants to play his guitar and ...   14.269792  ...   \n",
              "4799  A newlywed couple's honeymoon is upended by th...    0.642552  ...   \n",
              "4800  \"Signed, Sealed, Delivered\" introduces a dedic...    1.444476  ...   \n",
              "4801  When ambitious New York attorney Sam is sent t...    0.857008  ...   \n",
              "4802  Ever since the second grade when he first saw ...    1.929883  ...   \n",
              "\n",
              "     runtime                               spoken_languages    status  \\\n",
              "4798    81.0  [{\"iso_639_1\": \"es\", \"name\": \"Espa\\u00f1ol\"}]  Released   \n",
              "4799    85.0                                             []  Released   \n",
              "4800   120.0       [{\"iso_639_1\": \"en\", \"name\": \"English\"}]  Released   \n",
              "4801    98.0       [{\"iso_639_1\": \"en\", \"name\": \"English\"}]  Released   \n",
              "4802    90.0       [{\"iso_639_1\": \"en\", \"name\": \"English\"}]  Released   \n",
              "\n",
              "                                                tagline  \\\n",
              "4798  He didn't come looking for trouble, but troubl...   \n",
              "4799  A newlywed couple's honeymoon is upended by th...   \n",
              "4800                                                NaN   \n",
              "4801                           A New Yorker in Shanghai   \n",
              "4802                                                NaN   \n",
              "\n",
              "                          title vote_average vote_count  \\\n",
              "4798                El Mariachi          6.6        238   \n",
              "4799                  Newlyweds          5.9          5   \n",
              "4800  Signed, Sealed, Delivered          7.0          6   \n",
              "4801           Shanghai Calling          5.7          7   \n",
              "4802          My Date with Drew          6.3         16   \n",
              "\n",
              "                                                   cast  \\\n",
              "4798  Carlos Gallardo Jaime de Hoyos Peter Marquardt...   \n",
              "4799  Edward Burns Kerry Bish\\u00e9 Marsha Dietlein ...   \n",
              "4800  Eric Mabius Kristin Booth Crystal Lowe Geoff G...   \n",
              "4801  Daniel Henney Eliza Coupe Bill Paxton Alan Ruc...   \n",
              "4802  Drew Barrymore Brian Herzlinger Corey Feldman ...   \n",
              "\n",
              "                                                   crew          director  \n",
              "4798  [{'name': 'Robert Rodriguez', 'gender': 0, 'de...  Robert Rodriguez  \n",
              "4799  [{'name': 'Edward Burns', 'gender': 2, 'depart...      Edward Burns  \n",
              "4800  [{'name': 'Carla Hetland', 'gender': 0, 'depar...       Scott Smith  \n",
              "4801  [{'name': 'Daniel Hsia', 'gender': 2, 'departm...       Daniel Hsia  \n",
              "4802  [{'name': 'Clark Peterson', 'gender': 2, 'depa...  Brian Herzlinger  \n",
              "\n",
              "[5 rows x 24 columns]"
            ],
            "text/html": [
              "\n",
              "  <div id=\"df-69f4c560-70b9-4465-9b19-46960e371d02\" class=\"colab-df-container\">\n",
              "    <div>\n",
              "<style scoped>\n",
              "    .dataframe tbody tr th:only-of-type {\n",
              "        vertical-align: middle;\n",
              "    }\n",
              "\n",
              "    .dataframe tbody tr th {\n",
              "        vertical-align: top;\n",
              "    }\n",
              "\n",
              "    .dataframe thead th {\n",
              "        text-align: right;\n",
              "    }\n",
              "</style>\n",
              "<table border=\"1\" class=\"dataframe\">\n",
              "  <thead>\n",
              "    <tr style=\"text-align: right;\">\n",
              "      <th></th>\n",
              "      <th>index</th>\n",
              "      <th>budget</th>\n",
              "      <th>genres</th>\n",
              "      <th>homepage</th>\n",
              "      <th>id</th>\n",
              "      <th>keywords</th>\n",
              "      <th>original_language</th>\n",
              "      <th>original_title</th>\n",
              "      <th>overview</th>\n",
              "      <th>popularity</th>\n",
              "      <th>...</th>\n",
              "      <th>runtime</th>\n",
              "      <th>spoken_languages</th>\n",
              "      <th>status</th>\n",
              "      <th>tagline</th>\n",
              "      <th>title</th>\n",
              "      <th>vote_average</th>\n",
              "      <th>vote_count</th>\n",
              "      <th>cast</th>\n",
              "      <th>crew</th>\n",
              "      <th>director</th>\n",
              "    </tr>\n",
              "  </thead>\n",
              "  <tbody>\n",
              "    <tr>\n",
              "      <th>4798</th>\n",
              "      <td>4798</td>\n",
              "      <td>220000</td>\n",
              "      <td>Action Crime Thriller</td>\n",
              "      <td>NaN</td>\n",
              "      <td>9367</td>\n",
              "      <td>united states\\u2013mexico barrier legs arms pa...</td>\n",
              "      <td>es</td>\n",
              "      <td>El Mariachi</td>\n",
              "      <td>El Mariachi just wants to play his guitar and ...</td>\n",
              "      <td>14.269792</td>\n",
              "      <td>...</td>\n",
              "      <td>81.0</td>\n",
              "      <td>[{\"iso_639_1\": \"es\", \"name\": \"Espa\\u00f1ol\"}]</td>\n",
              "      <td>Released</td>\n",
              "      <td>He didn't come looking for trouble, but troubl...</td>\n",
              "      <td>El Mariachi</td>\n",
              "      <td>6.6</td>\n",
              "      <td>238</td>\n",
              "      <td>Carlos Gallardo Jaime de Hoyos Peter Marquardt...</td>\n",
              "      <td>[{'name': 'Robert Rodriguez', 'gender': 0, 'de...</td>\n",
              "      <td>Robert Rodriguez</td>\n",
              "    </tr>\n",
              "    <tr>\n",
              "      <th>4799</th>\n",
              "      <td>4799</td>\n",
              "      <td>9000</td>\n",
              "      <td>Comedy Romance</td>\n",
              "      <td>NaN</td>\n",
              "      <td>72766</td>\n",
              "      <td>NaN</td>\n",
              "      <td>en</td>\n",
              "      <td>Newlyweds</td>\n",
              "      <td>A newlywed couple's honeymoon is upended by th...</td>\n",
              "      <td>0.642552</td>\n",
              "      <td>...</td>\n",
              "      <td>85.0</td>\n",
              "      <td>[]</td>\n",
              "      <td>Released</td>\n",
              "      <td>A newlywed couple's honeymoon is upended by th...</td>\n",
              "      <td>Newlyweds</td>\n",
              "      <td>5.9</td>\n",
              "      <td>5</td>\n",
              "      <td>Edward Burns Kerry Bish\\u00e9 Marsha Dietlein ...</td>\n",
              "      <td>[{'name': 'Edward Burns', 'gender': 2, 'depart...</td>\n",
              "      <td>Edward Burns</td>\n",
              "    </tr>\n",
              "    <tr>\n",
              "      <th>4800</th>\n",
              "      <td>4800</td>\n",
              "      <td>0</td>\n",
              "      <td>Comedy Drama Romance TV Movie</td>\n",
              "      <td>http://www.hallmarkchannel.com/signedsealeddel...</td>\n",
              "      <td>231617</td>\n",
              "      <td>date love at first sight narration investigati...</td>\n",
              "      <td>en</td>\n",
              "      <td>Signed, Sealed, Delivered</td>\n",
              "      <td>\"Signed, Sealed, Delivered\" introduces a dedic...</td>\n",
              "      <td>1.444476</td>\n",
              "      <td>...</td>\n",
              "      <td>120.0</td>\n",
              "      <td>[{\"iso_639_1\": \"en\", \"name\": \"English\"}]</td>\n",
              "      <td>Released</td>\n",
              "      <td>NaN</td>\n",
              "      <td>Signed, Sealed, Delivered</td>\n",
              "      <td>7.0</td>\n",
              "      <td>6</td>\n",
              "      <td>Eric Mabius Kristin Booth Crystal Lowe Geoff G...</td>\n",
              "      <td>[{'name': 'Carla Hetland', 'gender': 0, 'depar...</td>\n",
              "      <td>Scott Smith</td>\n",
              "    </tr>\n",
              "    <tr>\n",
              "      <th>4801</th>\n",
              "      <td>4801</td>\n",
              "      <td>0</td>\n",
              "      <td>NaN</td>\n",
              "      <td>http://shanghaicalling.com/</td>\n",
              "      <td>126186</td>\n",
              "      <td>NaN</td>\n",
              "      <td>en</td>\n",
              "      <td>Shanghai Calling</td>\n",
              "      <td>When ambitious New York attorney Sam is sent t...</td>\n",
              "      <td>0.857008</td>\n",
              "      <td>...</td>\n",
              "      <td>98.0</td>\n",
              "      <td>[{\"iso_639_1\": \"en\", \"name\": \"English\"}]</td>\n",
              "      <td>Released</td>\n",
              "      <td>A New Yorker in Shanghai</td>\n",
              "      <td>Shanghai Calling</td>\n",
              "      <td>5.7</td>\n",
              "      <td>7</td>\n",
              "      <td>Daniel Henney Eliza Coupe Bill Paxton Alan Ruc...</td>\n",
              "      <td>[{'name': 'Daniel Hsia', 'gender': 2, 'departm...</td>\n",
              "      <td>Daniel Hsia</td>\n",
              "    </tr>\n",
              "    <tr>\n",
              "      <th>4802</th>\n",
              "      <td>4802</td>\n",
              "      <td>0</td>\n",
              "      <td>Documentary</td>\n",
              "      <td>NaN</td>\n",
              "      <td>25975</td>\n",
              "      <td>obsession camcorder crush dream girl</td>\n",
              "      <td>en</td>\n",
              "      <td>My Date with Drew</td>\n",
              "      <td>Ever since the second grade when he first saw ...</td>\n",
              "      <td>1.929883</td>\n",
              "      <td>...</td>\n",
              "      <td>90.0</td>\n",
              "      <td>[{\"iso_639_1\": \"en\", \"name\": \"English\"}]</td>\n",
              "      <td>Released</td>\n",
              "      <td>NaN</td>\n",
              "      <td>My Date with Drew</td>\n",
              "      <td>6.3</td>\n",
              "      <td>16</td>\n",
              "      <td>Drew Barrymore Brian Herzlinger Corey Feldman ...</td>\n",
              "      <td>[{'name': 'Clark Peterson', 'gender': 2, 'depa...</td>\n",
              "      <td>Brian Herzlinger</td>\n",
              "    </tr>\n",
              "  </tbody>\n",
              "</table>\n",
              "<p>5 rows × 24 columns</p>\n",
              "</div>\n",
              "    <div class=\"colab-df-buttons\">\n",
              "\n",
              "  <div class=\"colab-df-container\">\n",
              "    <button class=\"colab-df-convert\" onclick=\"convertToInteractive('df-69f4c560-70b9-4465-9b19-46960e371d02')\"\n",
              "            title=\"Convert this dataframe to an interactive table.\"\n",
              "            style=\"display:none;\">\n",
              "\n",
              "  <svg xmlns=\"http://www.w3.org/2000/svg\" height=\"24px\" viewBox=\"0 -960 960 960\">\n",
              "    <path d=\"M120-120v-720h720v720H120Zm60-500h600v-160H180v160Zm220 220h160v-160H400v160Zm0 220h160v-160H400v160ZM180-400h160v-160H180v160Zm440 0h160v-160H620v160ZM180-180h160v-160H180v160Zm440 0h160v-160H620v160Z\"/>\n",
              "  </svg>\n",
              "    </button>\n",
              "\n",
              "  <style>\n",
              "    .colab-df-container {\n",
              "      display:flex;\n",
              "      gap: 12px;\n",
              "    }\n",
              "\n",
              "    .colab-df-convert {\n",
              "      background-color: #E8F0FE;\n",
              "      border: none;\n",
              "      border-radius: 50%;\n",
              "      cursor: pointer;\n",
              "      display: none;\n",
              "      fill: #1967D2;\n",
              "      height: 32px;\n",
              "      padding: 0 0 0 0;\n",
              "      width: 32px;\n",
              "    }\n",
              "\n",
              "    .colab-df-convert:hover {\n",
              "      background-color: #E2EBFA;\n",
              "      box-shadow: 0px 1px 2px rgba(60, 64, 67, 0.3), 0px 1px 3px 1px rgba(60, 64, 67, 0.15);\n",
              "      fill: #174EA6;\n",
              "    }\n",
              "\n",
              "    .colab-df-buttons div {\n",
              "      margin-bottom: 4px;\n",
              "    }\n",
              "\n",
              "    [theme=dark] .colab-df-convert {\n",
              "      background-color: #3B4455;\n",
              "      fill: #D2E3FC;\n",
              "    }\n",
              "\n",
              "    [theme=dark] .colab-df-convert:hover {\n",
              "      background-color: #434B5C;\n",
              "      box-shadow: 0px 1px 3px 1px rgba(0, 0, 0, 0.15);\n",
              "      filter: drop-shadow(0px 1px 2px rgba(0, 0, 0, 0.3));\n",
              "      fill: #FFFFFF;\n",
              "    }\n",
              "  </style>\n",
              "\n",
              "    <script>\n",
              "      const buttonEl =\n",
              "        document.querySelector('#df-69f4c560-70b9-4465-9b19-46960e371d02 button.colab-df-convert');\n",
              "      buttonEl.style.display =\n",
              "        google.colab.kernel.accessAllowed ? 'block' : 'none';\n",
              "\n",
              "      async function convertToInteractive(key) {\n",
              "        const element = document.querySelector('#df-69f4c560-70b9-4465-9b19-46960e371d02');\n",
              "        const dataTable =\n",
              "          await google.colab.kernel.invokeFunction('convertToInteractive',\n",
              "                                                    [key], {});\n",
              "        if (!dataTable) return;\n",
              "\n",
              "        const docLinkHtml = 'Like what you see? Visit the ' +\n",
              "          '<a target=\"_blank\" href=https://colab.research.google.com/notebooks/data_table.ipynb>data table notebook</a>'\n",
              "          + ' to learn more about interactive tables.';\n",
              "        element.innerHTML = '';\n",
              "        dataTable['output_type'] = 'display_data';\n",
              "        await google.colab.output.renderOutput(dataTable, element);\n",
              "        const docLink = document.createElement('div');\n",
              "        docLink.innerHTML = docLinkHtml;\n",
              "        element.appendChild(docLink);\n",
              "      }\n",
              "    </script>\n",
              "  </div>\n",
              "\n",
              "\n",
              "<div id=\"df-1e952f0c-4c8f-4503-b935-f5062c796e76\">\n",
              "  <button class=\"colab-df-quickchart\" onclick=\"quickchart('df-1e952f0c-4c8f-4503-b935-f5062c796e76')\"\n",
              "            title=\"Suggest charts\"\n",
              "            style=\"display:none;\">\n",
              "\n",
              "<svg xmlns=\"http://www.w3.org/2000/svg\" height=\"24px\"viewBox=\"0 0 24 24\"\n",
              "     width=\"24px\">\n",
              "    <g>\n",
              "        <path d=\"M19 3H5c-1.1 0-2 .9-2 2v14c0 1.1.9 2 2 2h14c1.1 0 2-.9 2-2V5c0-1.1-.9-2-2-2zM9 17H7v-7h2v7zm4 0h-2V7h2v10zm4 0h-2v-4h2v4z\"/>\n",
              "    </g>\n",
              "</svg>\n",
              "  </button>\n",
              "\n",
              "<style>\n",
              "  .colab-df-quickchart {\n",
              "      --bg-color: #E8F0FE;\n",
              "      --fill-color: #1967D2;\n",
              "      --hover-bg-color: #E2EBFA;\n",
              "      --hover-fill-color: #174EA6;\n",
              "      --disabled-fill-color: #AAA;\n",
              "      --disabled-bg-color: #DDD;\n",
              "  }\n",
              "\n",
              "  [theme=dark] .colab-df-quickchart {\n",
              "      --bg-color: #3B4455;\n",
              "      --fill-color: #D2E3FC;\n",
              "      --hover-bg-color: #434B5C;\n",
              "      --hover-fill-color: #FFFFFF;\n",
              "      --disabled-bg-color: #3B4455;\n",
              "      --disabled-fill-color: #666;\n",
              "  }\n",
              "\n",
              "  .colab-df-quickchart {\n",
              "    background-color: var(--bg-color);\n",
              "    border: none;\n",
              "    border-radius: 50%;\n",
              "    cursor: pointer;\n",
              "    display: none;\n",
              "    fill: var(--fill-color);\n",
              "    height: 32px;\n",
              "    padding: 0;\n",
              "    width: 32px;\n",
              "  }\n",
              "\n",
              "  .colab-df-quickchart:hover {\n",
              "    background-color: var(--hover-bg-color);\n",
              "    box-shadow: 0 1px 2px rgba(60, 64, 67, 0.3), 0 1px 3px 1px rgba(60, 64, 67, 0.15);\n",
              "    fill: var(--button-hover-fill-color);\n",
              "  }\n",
              "\n",
              "  .colab-df-quickchart-complete:disabled,\n",
              "  .colab-df-quickchart-complete:disabled:hover {\n",
              "    background-color: var(--disabled-bg-color);\n",
              "    fill: var(--disabled-fill-color);\n",
              "    box-shadow: none;\n",
              "  }\n",
              "\n",
              "  .colab-df-spinner {\n",
              "    border: 2px solid var(--fill-color);\n",
              "    border-color: transparent;\n",
              "    border-bottom-color: var(--fill-color);\n",
              "    animation:\n",
              "      spin 1s steps(1) infinite;\n",
              "  }\n",
              "\n",
              "  @keyframes spin {\n",
              "    0% {\n",
              "      border-color: transparent;\n",
              "      border-bottom-color: var(--fill-color);\n",
              "      border-left-color: var(--fill-color);\n",
              "    }\n",
              "    20% {\n",
              "      border-color: transparent;\n",
              "      border-left-color: var(--fill-color);\n",
              "      border-top-color: var(--fill-color);\n",
              "    }\n",
              "    30% {\n",
              "      border-color: transparent;\n",
              "      border-left-color: var(--fill-color);\n",
              "      border-top-color: var(--fill-color);\n",
              "      border-right-color: var(--fill-color);\n",
              "    }\n",
              "    40% {\n",
              "      border-color: transparent;\n",
              "      border-right-color: var(--fill-color);\n",
              "      border-top-color: var(--fill-color);\n",
              "    }\n",
              "    60% {\n",
              "      border-color: transparent;\n",
              "      border-right-color: var(--fill-color);\n",
              "    }\n",
              "    80% {\n",
              "      border-color: transparent;\n",
              "      border-right-color: var(--fill-color);\n",
              "      border-bottom-color: var(--fill-color);\n",
              "    }\n",
              "    90% {\n",
              "      border-color: transparent;\n",
              "      border-bottom-color: var(--fill-color);\n",
              "    }\n",
              "  }\n",
              "</style>\n",
              "\n",
              "  <script>\n",
              "    async function quickchart(key) {\n",
              "      const quickchartButtonEl =\n",
              "        document.querySelector('#' + key + ' button');\n",
              "      quickchartButtonEl.disabled = true;  // To prevent multiple clicks.\n",
              "      quickchartButtonEl.classList.add('colab-df-spinner');\n",
              "      try {\n",
              "        const charts = await google.colab.kernel.invokeFunction(\n",
              "            'suggestCharts', [key], {});\n",
              "      } catch (error) {\n",
              "        console.error('Error during call to suggestCharts:', error);\n",
              "      }\n",
              "      quickchartButtonEl.classList.remove('colab-df-spinner');\n",
              "      quickchartButtonEl.classList.add('colab-df-quickchart-complete');\n",
              "    }\n",
              "    (() => {\n",
              "      let quickchartButtonEl =\n",
              "        document.querySelector('#df-1e952f0c-4c8f-4503-b935-f5062c796e76 button');\n",
              "      quickchartButtonEl.style.display =\n",
              "        google.colab.kernel.accessAllowed ? 'block' : 'none';\n",
              "    })();\n",
              "  </script>\n",
              "</div>\n",
              "\n",
              "    </div>\n",
              "  </div>\n"
            ],
            "application/vnd.google.colaboratory.intrinsic+json": {
              "type": "dataframe"
            }
          },
          "metadata": {},
          "execution_count": 12
        }
      ]
    },
    {
      "cell_type": "code",
      "source": [
        "movies_data.info()"
      ],
      "metadata": {
        "colab": {
          "base_uri": "https://localhost:8080/"
        },
        "id": "qlT91wap2110",
        "outputId": "7513591d-5101-4578-822c-72289c993ce9"
      },
      "execution_count": 13,
      "outputs": [
        {
          "output_type": "stream",
          "name": "stdout",
          "text": [
            "<class 'pandas.core.frame.DataFrame'>\n",
            "RangeIndex: 4803 entries, 0 to 4802\n",
            "Data columns (total 24 columns):\n",
            " #   Column                Non-Null Count  Dtype  \n",
            "---  ------                --------------  -----  \n",
            " 0   index                 4803 non-null   int64  \n",
            " 1   budget                4803 non-null   int64  \n",
            " 2   genres                4775 non-null   object \n",
            " 3   homepage              1712 non-null   object \n",
            " 4   id                    4803 non-null   int64  \n",
            " 5   keywords              4391 non-null   object \n",
            " 6   original_language     4803 non-null   object \n",
            " 7   original_title        4803 non-null   object \n",
            " 8   overview              4800 non-null   object \n",
            " 9   popularity            4803 non-null   float64\n",
            " 10  production_companies  4803 non-null   object \n",
            " 11  production_countries  4803 non-null   object \n",
            " 12  release_date          4802 non-null   object \n",
            " 13  revenue               4803 non-null   int64  \n",
            " 14  runtime               4801 non-null   float64\n",
            " 15  spoken_languages      4803 non-null   object \n",
            " 16  status                4803 non-null   object \n",
            " 17  tagline               3959 non-null   object \n",
            " 18  title                 4803 non-null   object \n",
            " 19  vote_average          4803 non-null   float64\n",
            " 20  vote_count            4803 non-null   int64  \n",
            " 21  cast                  4760 non-null   object \n",
            " 22  crew                  4803 non-null   object \n",
            " 23  director              4773 non-null   object \n",
            "dtypes: float64(3), int64(5), object(16)\n",
            "memory usage: 900.7+ KB\n"
          ]
        }
      ]
    },
    {
      "cell_type": "code",
      "source": [
        "movies_data.shape"
      ],
      "metadata": {
        "colab": {
          "base_uri": "https://localhost:8080/"
        },
        "id": "L5LhE9gd21zM",
        "outputId": "5996af90-e406-406a-a336-356df723a12e"
      },
      "execution_count": 14,
      "outputs": [
        {
          "output_type": "execute_result",
          "data": {
            "text/plain": [
              "(4803, 24)"
            ]
          },
          "metadata": {},
          "execution_count": 14
        }
      ]
    },
    {
      "cell_type": "code",
      "source": [
        "movies_data.isnull().sum()"
      ],
      "metadata": {
        "colab": {
          "base_uri": "https://localhost:8080/",
          "height": 836
        },
        "id": "eZ3TKpR85Qb2",
        "outputId": "998f0ca7-9aa1-47bf-a2b4-d748e512b56b"
      },
      "execution_count": 18,
      "outputs": [
        {
          "output_type": "execute_result",
          "data": {
            "text/plain": [
              "index                      0\n",
              "budget                     0\n",
              "genres                    28\n",
              "homepage                3091\n",
              "id                         0\n",
              "keywords                 412\n",
              "original_language          0\n",
              "original_title             0\n",
              "overview                   3\n",
              "popularity                 0\n",
              "production_companies       0\n",
              "production_countries       0\n",
              "release_date               1\n",
              "revenue                    0\n",
              "runtime                    2\n",
              "spoken_languages           0\n",
              "status                     0\n",
              "tagline                  844\n",
              "title                      0\n",
              "vote_average               0\n",
              "vote_count                 0\n",
              "cast                      43\n",
              "crew                       0\n",
              "director                  30\n",
              "dtype: int64"
            ],
            "text/html": [
              "<div>\n",
              "<style scoped>\n",
              "    .dataframe tbody tr th:only-of-type {\n",
              "        vertical-align: middle;\n",
              "    }\n",
              "\n",
              "    .dataframe tbody tr th {\n",
              "        vertical-align: top;\n",
              "    }\n",
              "\n",
              "    .dataframe thead th {\n",
              "        text-align: right;\n",
              "    }\n",
              "</style>\n",
              "<table border=\"1\" class=\"dataframe\">\n",
              "  <thead>\n",
              "    <tr style=\"text-align: right;\">\n",
              "      <th></th>\n",
              "      <th>0</th>\n",
              "    </tr>\n",
              "  </thead>\n",
              "  <tbody>\n",
              "    <tr>\n",
              "      <th>index</th>\n",
              "      <td>0</td>\n",
              "    </tr>\n",
              "    <tr>\n",
              "      <th>budget</th>\n",
              "      <td>0</td>\n",
              "    </tr>\n",
              "    <tr>\n",
              "      <th>genres</th>\n",
              "      <td>28</td>\n",
              "    </tr>\n",
              "    <tr>\n",
              "      <th>homepage</th>\n",
              "      <td>3091</td>\n",
              "    </tr>\n",
              "    <tr>\n",
              "      <th>id</th>\n",
              "      <td>0</td>\n",
              "    </tr>\n",
              "    <tr>\n",
              "      <th>keywords</th>\n",
              "      <td>412</td>\n",
              "    </tr>\n",
              "    <tr>\n",
              "      <th>original_language</th>\n",
              "      <td>0</td>\n",
              "    </tr>\n",
              "    <tr>\n",
              "      <th>original_title</th>\n",
              "      <td>0</td>\n",
              "    </tr>\n",
              "    <tr>\n",
              "      <th>overview</th>\n",
              "      <td>3</td>\n",
              "    </tr>\n",
              "    <tr>\n",
              "      <th>popularity</th>\n",
              "      <td>0</td>\n",
              "    </tr>\n",
              "    <tr>\n",
              "      <th>production_companies</th>\n",
              "      <td>0</td>\n",
              "    </tr>\n",
              "    <tr>\n",
              "      <th>production_countries</th>\n",
              "      <td>0</td>\n",
              "    </tr>\n",
              "    <tr>\n",
              "      <th>release_date</th>\n",
              "      <td>1</td>\n",
              "    </tr>\n",
              "    <tr>\n",
              "      <th>revenue</th>\n",
              "      <td>0</td>\n",
              "    </tr>\n",
              "    <tr>\n",
              "      <th>runtime</th>\n",
              "      <td>2</td>\n",
              "    </tr>\n",
              "    <tr>\n",
              "      <th>spoken_languages</th>\n",
              "      <td>0</td>\n",
              "    </tr>\n",
              "    <tr>\n",
              "      <th>status</th>\n",
              "      <td>0</td>\n",
              "    </tr>\n",
              "    <tr>\n",
              "      <th>tagline</th>\n",
              "      <td>844</td>\n",
              "    </tr>\n",
              "    <tr>\n",
              "      <th>title</th>\n",
              "      <td>0</td>\n",
              "    </tr>\n",
              "    <tr>\n",
              "      <th>vote_average</th>\n",
              "      <td>0</td>\n",
              "    </tr>\n",
              "    <tr>\n",
              "      <th>vote_count</th>\n",
              "      <td>0</td>\n",
              "    </tr>\n",
              "    <tr>\n",
              "      <th>cast</th>\n",
              "      <td>43</td>\n",
              "    </tr>\n",
              "    <tr>\n",
              "      <th>crew</th>\n",
              "      <td>0</td>\n",
              "    </tr>\n",
              "    <tr>\n",
              "      <th>director</th>\n",
              "      <td>30</td>\n",
              "    </tr>\n",
              "  </tbody>\n",
              "</table>\n",
              "</div><br><label><b>dtype:</b> int64</label>"
            ]
          },
          "metadata": {},
          "execution_count": 18
        }
      ]
    },
    {
      "cell_type": "code",
      "source": [
        "# selecting the relevant features for recommendation\n",
        "\n",
        "selected_features = ['genres','keywords','tagline','cast','director']\n",
        "print(selected_features)"
      ],
      "metadata": {
        "colab": {
          "base_uri": "https://localhost:8080/"
        },
        "id": "KvQ98eOv5FA-",
        "outputId": "6ee0bdd4-53f2-4173-e873-09bdcb2c5270"
      },
      "execution_count": 15,
      "outputs": [
        {
          "output_type": "stream",
          "name": "stdout",
          "text": [
            "['genres', 'keywords', 'tagline', 'cast', 'director']\n"
          ]
        }
      ]
    },
    {
      "cell_type": "code",
      "source": [
        "#replacing the null values as null string\n",
        "for i in selected_features:\n",
        "  movies_data[i]=movies_data[i].fillna('')"
      ],
      "metadata": {
        "id": "Pkok50Za5NTe"
      },
      "execution_count": 21,
      "outputs": []
    },
    {
      "cell_type": "code",
      "source": [
        "#combining the selected_feature\n",
        "combined_data=movies_data['genres']+movies_data['keywords']+movies_data['tagline']+movies_data['cast']+movies_data['director']"
      ],
      "metadata": {
        "id": "AOREBb3Z6EPe"
      },
      "execution_count": 22,
      "outputs": []
    },
    {
      "cell_type": "code",
      "source": [
        "combined_data.info()"
      ],
      "metadata": {
        "colab": {
          "base_uri": "https://localhost:8080/"
        },
        "id": "JtoxA__X6dQG",
        "outputId": "786d9efa-be01-40d7-8f00-e071121b06ee"
      },
      "execution_count": 23,
      "outputs": [
        {
          "output_type": "stream",
          "name": "stdout",
          "text": [
            "<class 'pandas.core.series.Series'>\n",
            "RangeIndex: 4803 entries, 0 to 4802\n",
            "Series name: None\n",
            "Non-Null Count  Dtype \n",
            "--------------  ----- \n",
            "4803 non-null   object\n",
            "dtypes: object(1)\n",
            "memory usage: 37.6+ KB\n"
          ]
        }
      ]
    },
    {
      "cell_type": "code",
      "source": [
        "print(combined_data)"
      ],
      "metadata": {
        "colab": {
          "base_uri": "https://localhost:8080/"
        },
        "id": "RnlX1h6T6i-v",
        "outputId": "a437d34b-ba94-44ba-cfde-9204328f4a21"
      },
      "execution_count": 24,
      "outputs": [
        {
          "output_type": "stream",
          "name": "stdout",
          "text": [
            "0       Action Adventure Fantasy Science Fictioncultur...\n",
            "1       Adventure Fantasy Actionocean drug abuse exoti...\n",
            "2       Action Adventure Crimespy based on novel secre...\n",
            "3       Action Crime Drama Thrillerdc comics crime fig...\n",
            "4       Action Adventure Science Fictionbased on novel...\n",
            "                              ...                        \n",
            "4798    Action Crime Thrillerunited states\\u2013mexico...\n",
            "4799    Comedy RomanceA newlywed couple's honeymoon is...\n",
            "4800    Comedy Drama Romance TV Moviedate love at firs...\n",
            "4801    A New Yorker in ShanghaiDaniel Henney Eliza Co...\n",
            "4802    Documentaryobsession camcorder crush dream gir...\n",
            "Length: 4803, dtype: object\n"
          ]
        }
      ]
    },
    {
      "cell_type": "code",
      "source": [
        "#convert the categorical into values\n",
        "vectorizer = TfidfVectorizer()"
      ],
      "metadata": {
        "id": "_csPGzQx6l--"
      },
      "execution_count": 25,
      "outputs": []
    },
    {
      "cell_type": "code",
      "source": [
        "feature_vectors = vectorizer.fit_transform(combined_data)"
      ],
      "metadata": {
        "id": "A7xXBHF56sbW"
      },
      "execution_count": 28,
      "outputs": []
    },
    {
      "cell_type": "code",
      "source": [
        "print(feature_vectors)"
      ],
      "metadata": {
        "colab": {
          "base_uri": "https://localhost:8080/"
        },
        "id": "7OoeFbRt6-pW",
        "outputId": "c576ec49-cd85-4b74-f68b-06612d73988c"
      },
      "execution_count": 29,
      "outputs": [
        {
          "output_type": "stream",
          "name": "stdout",
          "text": [
            "  (0, 245)\t0.07858581760804864\n",
            "  (0, 444)\t0.09109355212252296\n",
            "  (0, 8936)\t0.11806131645084655\n",
            "  (0, 21836)\t0.09966592997173947\n",
            "  (0, 9304)\t0.27385789694599244\n",
            "  (0, 4456)\t0.2179967521551067\n",
            "  (0, 10193)\t0.1653243242081299\n",
            "  (0, 22916)\t0.3366875640692919\n",
            "  (0, 26334)\t0.130597230719163\n",
            "  (0, 4676)\t0.24529097704249617\n",
            "  (0, 22778)\t0.27385789694599244\n",
            "  (0, 24197)\t0.07518543993419267\n",
            "  (0, 27161)\t0.12619886579371511\n",
            "  (0, 18164)\t0.08690831799482268\n",
            "  (0, 18558)\t0.26121683351048536\n",
            "  (0, 21521)\t0.15623566659433683\n",
            "  (0, 27182)\t0.23480088356130557\n",
            "  (0, 27540)\t0.19771357974524179\n",
            "  (0, 21487)\t0.21550128478931552\n",
            "  (0, 22464)\t0.2020708956871175\n",
            "  (0, 26547)\t0.19638671147741735\n",
            "  (0, 23267)\t0.16128139780622522\n",
            "  (0, 14550)\t0.22368093636480682\n",
            "  (0, 16614)\t0.1569607387745327\n",
            "  (0, 20729)\t0.27385789694599244\n",
            "  :\t:\n",
            "  (4801, 18790)\t0.22450140828104795\n",
            "  (4801, 11776)\t0.3005604008026175\n",
            "  (4801, 758)\t0.19369913462690624\n",
            "  (4801, 8121)\t0.2611505149930138\n",
            "  (4801, 27513)\t0.3005604008026175\n",
            "  (4801, 27361)\t0.31510541707008866\n",
            "  (4801, 22170)\t0.31510541707008866\n",
            "  (4801, 5449)\t0.31510541707008866\n",
            "  (4801, 21297)\t0.31510541707008866\n",
            "  (4801, 22322)\t0.31510541707008866\n",
            "  (4801, 12520)\t0.31510541707008866\n",
            "  (4802, 7626)\t0.17686850692938538\n",
            "  (4802, 3128)\t0.17288424030654004\n",
            "  (4802, 8313)\t0.1713172199751922\n",
            "  (4802, 5354)\t0.2196244946235084\n",
            "  (4802, 2027)\t0.19514642661077047\n",
            "  (4802, 20664)\t0.1718311116708895\n",
            "  (4802, 11042)\t0.2245754361399493\n",
            "  (4802, 5847)\t0.2598601666162226\n",
            "  (4802, 9174)\t0.23381507827213685\n",
            "  (4802, 3569)\t0.2526933433912742\n",
            "  (4802, 6978)\t0.28212235292045307\n",
            "  (4802, 10640)\t0.28212235292045307\n",
            "  (4802, 11874)\t0.5642447058409061\n",
            "  (4802, 7770)\t0.28212235292045307\n"
          ]
        }
      ]
    },
    {
      "cell_type": "code",
      "source": [
        "#getting the similarity score by using cosine_similarity algorithm\n",
        "similarity=cosine_similarity(feature_vectors)"
      ],
      "metadata": {
        "id": "Tk2ZGVx67DOH"
      },
      "execution_count": 31,
      "outputs": []
    },
    {
      "cell_type": "code",
      "source": [
        "print(similarity)"
      ],
      "metadata": {
        "colab": {
          "base_uri": "https://localhost:8080/"
        },
        "id": "c6OwZk-574lP",
        "outputId": "c6d8174a-6dfc-44a7-affd-3139fe5c1404"
      },
      "execution_count": 32,
      "outputs": [
        {
          "output_type": "stream",
          "name": "stdout",
          "text": [
            "[[1.         0.06865296 0.01492221 ... 0.         0.         0.        ]\n",
            " [0.06865296 1.         0.02799128 ... 0.01243107 0.         0.        ]\n",
            " [0.01492221 0.02799128 1.         ... 0.         0.         0.        ]\n",
            " ...\n",
            " [0.         0.01243107 0.         ... 1.         0.         0.        ]\n",
            " [0.         0.         0.         ... 0.         1.         0.        ]\n",
            " [0.         0.         0.         ... 0.         0.         1.        ]]\n"
          ]
        }
      ]
    },
    {
      "cell_type": "code",
      "source": [
        "similarity.shape"
      ],
      "metadata": {
        "colab": {
          "base_uri": "https://localhost:8080/"
        },
        "id": "ubWy0qDO78q3",
        "outputId": "5e859899-dff7-477e-d609-177a70bd3e34"
      },
      "execution_count": 33,
      "outputs": [
        {
          "output_type": "execute_result",
          "data": {
            "text/plain": [
              "(4803, 4803)"
            ]
          },
          "metadata": {},
          "execution_count": 33
        }
      ]
    },
    {
      "cell_type": "code",
      "source": [
        "#getting the movies name from the user\n",
        "movie_name=input(\"enter the movie name: \")"
      ],
      "metadata": {
        "colab": {
          "base_uri": "https://localhost:8080/"
        },
        "id": "NfTMFCnI8Nau",
        "outputId": "7697eded-4cc5-4397-999b-0f787319af44"
      },
      "execution_count": 34,
      "outputs": [
        {
          "name": "stdout",
          "output_type": "stream",
          "text": [
            "enter the movie name: batman\n"
          ]
        }
      ]
    },
    {
      "cell_type": "code",
      "source": [
        "#creating the list for all the movies name titles alone\n",
        "list_of_all_movie_title=movies_data['title'].tolist()"
      ],
      "metadata": {
        "id": "BcUM2lVv83v_"
      },
      "execution_count": 36,
      "outputs": []
    },
    {
      "cell_type": "code",
      "source": [
        "print(list_of_all_movie_title)"
      ],
      "metadata": {
        "colab": {
          "base_uri": "https://localhost:8080/"
        },
        "id": "LwaGA9OM9Crn",
        "outputId": "a475de0e-a5d3-4a36-cddd-9ff256477d14"
      },
      "execution_count": 37,
      "outputs": [
        {
          "output_type": "stream",
          "name": "stdout",
          "text": [
            "['Avatar', \"Pirates of the Caribbean: At World's End\", 'Spectre', 'The Dark Knight Rises', 'John Carter', 'Spider-Man 3', 'Tangled', 'Avengers: Age of Ultron', 'Harry Potter and the Half-Blood Prince', 'Batman v Superman: Dawn of Justice', 'Superman Returns', 'Quantum of Solace', \"Pirates of the Caribbean: Dead Man's Chest\", 'The Lone Ranger', 'Man of Steel', 'The Chronicles of Narnia: Prince Caspian', 'The Avengers', 'Pirates of the Caribbean: On Stranger Tides', 'Men in Black 3', 'The Hobbit: The Battle of the Five Armies', 'The Amazing Spider-Man', 'Robin Hood', 'The Hobbit: The Desolation of Smaug', 'The Golden Compass', 'King Kong', 'Titanic', 'Captain America: Civil War', 'Battleship', 'Jurassic World', 'Skyfall', 'Spider-Man 2', 'Iron Man 3', 'Alice in Wonderland', 'X-Men: The Last Stand', 'Monsters University', 'Transformers: Revenge of the Fallen', 'Transformers: Age of Extinction', 'Oz: The Great and Powerful', 'The Amazing Spider-Man 2', 'TRON: Legacy', 'Cars 2', 'Green Lantern', 'Toy Story 3', 'Terminator Salvation', 'Furious 7', 'World War Z', 'X-Men: Days of Future Past', 'Star Trek Into Darkness', 'Jack the Giant Slayer', 'The Great Gatsby', 'Prince of Persia: The Sands of Time', 'Pacific Rim', 'Transformers: Dark of the Moon', 'Indiana Jones and the Kingdom of the Crystal Skull', 'The Good Dinosaur', 'Brave', 'Star Trek Beyond', 'WALL·E', 'Rush Hour 3', '2012', 'A Christmas Carol', 'Jupiter Ascending', 'The Legend of Tarzan', 'The Chronicles of Narnia: The Lion, the Witch and the Wardrobe', 'X-Men: Apocalypse', 'The Dark Knight', 'Up', 'Monsters vs Aliens', 'Iron Man', 'Hugo', 'Wild Wild West', 'The Mummy: Tomb of the Dragon Emperor', 'Suicide Squad', 'Evan Almighty', 'Edge of Tomorrow', 'Waterworld', 'G.I. Joe: The Rise of Cobra', 'Inside Out', 'The Jungle Book', 'Iron Man 2', 'Snow White and the Huntsman', 'Maleficent', 'Dawn of the Planet of the Apes', 'The Lovers', '47 Ronin', 'Captain America: The Winter Soldier', 'Shrek Forever After', 'Tomorrowland', 'Big Hero 6', 'Wreck-It Ralph', 'The Polar Express', 'Independence Day: Resurgence', 'How to Train Your Dragon', 'Terminator 3: Rise of the Machines', 'Guardians of the Galaxy', 'Interstellar', 'Inception', 'Shin Godzilla', 'The Hobbit: An Unexpected Journey', 'The Fast and the Furious', 'The Curious Case of Benjamin Button', 'X-Men: First Class', 'The Hunger Games: Mockingjay - Part 2', \"The Sorcerer's Apprentice\", 'Poseidon', 'Alice Through the Looking Glass', 'Shrek the Third', 'Warcraft', 'Terminator Genisys', 'The Chronicles of Narnia: The Voyage of the Dawn Treader', 'Pearl Harbor', 'Transformers', 'Alexander', 'Harry Potter and the Order of the Phoenix', 'Harry Potter and the Goblet of Fire', 'Hancock', 'I Am Legend', 'Charlie and the Chocolate Factory', 'Ratatouille', 'Batman Begins', 'Madagascar: Escape 2 Africa', 'Night at the Museum: Battle of the Smithsonian', 'X-Men Origins: Wolverine', 'The Matrix Revolutions', 'Frozen', 'The Matrix Reloaded', 'Thor: The Dark World', 'Mad Max: Fury Road', 'Angels & Demons', 'Thor', 'Bolt', 'G-Force', 'Wrath of the Titans', 'Dark Shadows', 'Mission: Impossible - Rogue Nation', 'The Wolfman', 'Bee Movie', 'Kung Fu Panda 2', 'The Last Airbender', 'Mission: Impossible III', 'White House Down', 'Mars Needs Moms', 'Flushed Away', 'Pan', 'Mr. Peabody & Sherman', 'Troy', \"Madagascar 3: Europe's Most Wanted\", 'Die Another Day', 'Ghostbusters', 'Armageddon', 'Men in Black II', 'Beowulf', 'Kung Fu Panda 3', 'Mission: Impossible - Ghost Protocol', 'Rise of the Guardians', 'Fun with Dick and Jane', 'The Last Samurai', 'Exodus: Gods and Kings', 'Star Trek', 'Spider-Man', 'How to Train Your Dragon 2', 'Gods of Egypt', 'Stealth', 'Watchmen', 'Lethal Weapon 4', 'Hulk', 'G.I. Joe: Retaliation', 'Sahara', 'Final Fantasy: The Spirits Within', 'Captain America: The First Avenger', 'The World Is Not Enough', 'Master and Commander: The Far Side of the World', 'The Twilight Saga: Breaking Dawn - Part 2', 'Happy Feet Two', 'The Incredible Hulk', 'The BFG', 'The Revenant', 'Turbo', 'Rango', 'Penguins of Madagascar', 'The Bourne Ultimatum', 'Kung Fu Panda', 'Ant-Man', 'The Hunger Games: Catching Fire', 'Home', 'War of the Worlds', 'Bad Boys II', 'Puss in Boots', 'Salt', 'Noah', 'The Adventures of Tintin', 'Harry Potter and the Prisoner of Azkaban', 'Australia', 'After Earth', 'Dinosaur', 'Night at the Museum: Secret of the Tomb', 'Megamind', \"Harry Potter and the Philosopher's Stone\", 'R.I.P.D.', 'Pirates of the Caribbean: The Curse of the Black Pearl', 'The Hunger Games: Mockingjay - Part 1', 'The Da Vinci Code', 'Rio 2', 'X2', 'Fast Five', 'Sherlock Holmes: A Game of Shadows', 'Clash of the Titans', 'Total Recall', 'The 13th Warrior', 'The Bourne Legacy', 'Batman & Robin', 'How the Grinch Stole Christmas', 'The Day After Tomorrow', 'Mission: Impossible II', 'The Perfect Storm', 'Fantastic 4: Rise of the Silver Surfer', 'Life of Pi', 'Ghost Rider', 'Jason Bourne', \"Charlie's Angels: Full Throttle\", 'Prometheus', 'Stuart Little 2', 'Elysium', 'The Chronicles of Riddick', 'RoboCop', 'Speed Racer', 'How Do You Know', 'Knight and Day', 'Oblivion', 'Star Wars: Episode III - Revenge of the Sith', 'Star Wars: Episode II - Attack of the Clones', 'Monsters, Inc.', 'The Wolverine', 'Star Wars: Episode I - The Phantom Menace', 'The Croods', 'Asterix at the Olympic Games', 'Windtalkers', \"The Huntsman: Winter's War\", 'Teenage Mutant Ninja Turtles', 'Gravity', \"Dante's Peak\", 'Teenage Mutant Ninja Turtles: Out of the Shadows', 'Fantastic Four', 'Night at the Museum', 'San Andreas', 'Tomorrow Never Dies', 'The Patriot', \"Ocean's Twelve\", 'Mr. & Mrs. Smith', 'Insurgent', 'The Aviator', \"Gulliver's Travels\", 'The Green Hornet', '300: Rise of an Empire', 'The Smurfs', 'Home on the Range', 'Allegiant', 'Real Steel', 'The Smurfs 2', 'Speed 2: Cruise Control', \"Ender's Game\", 'Live Free or Die Hard', 'The Lord of the Rings: The Fellowship of the Ring', 'Around the World in 80 Days', 'Ali', 'The Cat in the Hat', 'I, Robot', 'Kingdom of Heaven', 'Stuart Little', 'The Princess and the Frog', 'The Martian', 'The Island', 'Town & Country', 'Gone in Sixty Seconds', 'Gladiator', 'Minority Report', 'Harry Potter and the Chamber of Secrets', 'Casino Royale', 'Planet of the Apes', 'Terminator 2: Judgment Day', 'Public Enemies', 'American Gangster', 'True Lies', 'The Taking of Pelham 1 2 3', 'Little Fockers', 'The Other Guys', 'Eraser', 'Django Unchained', 'The Hunchback of Notre Dame', \"The Emperor's New Groove\", 'The Expendables 2', 'National Treasure', 'Eragon', 'Where the Wild Things Are', 'Epic', 'The Tourist', 'End of Days', 'Blood Diamond', 'The Wolf of Wall Street', 'Batman Forever', 'Starship Troopers', 'Cloud Atlas', \"Legend of the Guardians: The Owls of Ga'Hoole\", 'Catwoman', 'Hercules', 'Treasure Planet', 'Land of the Lost', 'The Expendables 3', 'Point Break', 'Son of the Mask', 'In the Heart of the Sea', 'The Adventures of Pluto Nash', 'Green Zone', 'The Peanuts Movie', 'The Spanish Prisoner', 'The Mummy Returns', 'Gangs of New York', 'The Flowers of War', \"Surf's Up\", 'The Stepford Wives', 'Black Hawk Down', 'The Campaign', 'The Fifth Element', 'Sex and the City 2', 'The Road to El Dorado', 'Ice Age: Continental Drift', 'Cinderella', 'The Lovely Bones', 'Finding Nemo', 'The Lord of the Rings: The Return of the King', 'The Lord of the Rings: The Two Towers', 'Seventh Son', 'Lara Croft: Tomb Raider', 'Transcendence', 'Jurassic Park III', 'Rise of the Planet of the Apes', 'The Spiderwick Chronicles', 'A Good Day to Die Hard', 'The Alamo', 'The Incredibles', 'Cutthroat Island', 'Percy Jackson & the Olympians: The Lightning Thief', 'Men in Black', 'Toy Story 2', 'Unstoppable', 'Rush Hour 2', 'What Lies Beneath', 'Cloudy with a Chance of Meatballs', 'Ice Age: Dawn of the Dinosaurs', 'The Secret Life of Walter Mitty', \"Charlie's Angels\", 'The Departed', 'Mulan', 'Tropic Thunder', 'The Girl with the Dragon Tattoo', 'Die Hard: With a Vengeance', 'Sherlock Holmes', 'Ben-Hur', 'Atlantis: The Lost Empire', 'Alvin and the Chipmunks: The Road Chip', 'Valkyrie', \"You Don't Mess with the Zohan\", 'Pixels', 'A.I. Artificial Intelligence', 'The Haunted Mansion', 'Contact', 'Hollow Man', 'The Interpreter', 'Percy Jackson: Sea of Monsters', 'Lara Croft Tomb Raider: The Cradle of Life', 'Now You See Me 2', 'The Saint', 'Spy Game', 'Mission to Mars', 'Rio', 'Bicentennial Man', 'Volcano', \"The Devil's Own\", 'K-19: The Widowmaker', 'Conan the Barbarian', 'Cinderella Man', 'The Nutcracker: The Untold Story', 'Seabiscuit', 'Twister', 'Cast Away', 'Happy Feet', 'The Bourne Supremacy', 'Air Force One', \"Ocean's Eleven\", 'The Three Musketeers', 'Hotel Transylvania', 'Enchanted', 'Safe House', '102 Dalmatians', 'Tower Heist', 'The Holiday', 'Enemy of the State', \"It's Complicated\", \"Ocean's Thirteen\", 'Open Season', 'Divergent', 'Enemy at the Gates', 'The Rundown', 'Last Action Hero', 'Memoirs of a Geisha', 'The Fast and the Furious: Tokyo Drift', 'Arthur Christmas', 'Meet Joe Black', 'Collateral Damage', 'All That Jazz', 'Mirror Mirror', 'Scott Pilgrim vs. the World', 'The Core', 'Nutty Professor II: The Klumps', 'Scooby-Doo', 'Dredd', 'Click', 'Creepshow', 'Cats & Dogs 2 : The Revenge of Kitty Galore', 'Jumper', 'Hellboy II: The Golden Army', 'Zodiac', 'The 6th Day', 'Bruce Almighty', 'The Expendables', 'Mission: Impossible', 'The Hunger Games', 'The Hangover Part II', 'Batman Returns', 'Over the Hedge', 'Lilo & Stitch', \"Charlotte's Web\", 'Deep Impact', 'RED 2', 'The Longest Yard', 'Alvin and the Chipmunks: Chipwrecked', 'Grown Ups 2', 'Get Smart', \"Something's Gotta Give\", 'Shutter Island', 'Four Christmases', 'Robots', 'Face/Off', 'Bedtime Stories', 'Road to Perdition', 'Just Go with It', 'Con Air', 'Eagle Eye', 'Cold Mountain', 'The Book of Eli', 'Flubber', 'The Haunting', 'Space Jam', 'The Pink Panther', 'The Day the Earth Stood Still', 'Conspiracy Theory', 'Fury', 'Six Days Seven Nights', 'Yogi Bear', 'Spirit: Stallion of the Cimarron', 'Zookeeper', 'Lost in Space', 'The Manchurian Candidate', 'Déjà Vu', 'Hotel Transylvania 2', 'Fantasia 2000', 'The Time Machine', 'Mighty Joe Young', 'Swordfish', 'The Legend of Zorro', 'What Dreams May Come', 'Little Nicky', 'The Brothers Grimm', 'Mars Attacks!', 'Evolution', 'The Edge', 'Surrogates', 'Thirteen Days', 'Daylight', 'Walking With Dinosaurs', 'Battlefield Earth', 'Looney Tunes: Back in Action', 'Nine', 'Timeline', 'The Postman', 'Babe: Pig in the City', 'The Last Witch Hunter', 'Red Planet', 'Arthur and the Invisibles', 'Oceans', 'A Sound of Thunder', 'Pompeii', 'Top Cat Begins', 'A Beautiful Mind', 'The Lion King', 'Journey 2: The Mysterious Island', 'Cloudy with a Chance of Meatballs 2', 'Red Dragon', 'Hidalgo', 'Jack and Jill', '2 Fast 2 Furious', 'The Little Prince', 'The Invasion', 'The Adventures of Rocky & Bullwinkle', 'The Secret Life of Pets', 'The League of Extraordinary Gentlemen', 'Despicable Me 2', 'Independence Day', 'The Lost World: Jurassic Park', 'Madagascar', 'Children of Men', 'X-Men', 'Wanted', 'The Rock', 'Ice Age: The Meltdown', '50 First Dates', 'Hairspray', 'Exorcist: The Beginning', 'Inspector Gadget', 'Now You See Me', 'Grown Ups', 'The Terminal', 'Hotel for Dogs', 'Vertical Limit', \"Charlie Wilson's War\", 'Shark Tale', 'Dreamgirls', 'Be Cool', 'Munich', 'Tears of the Sun', 'Killers', 'The Man from U.N.C.L.E.', 'Spanglish', 'Monster House', 'Bandits', 'First Knight', 'Anna and the King', 'Immortals', 'Hostage', 'Titan A.E.', 'Hollywood Homicide', 'Soldier', 'Carriers', 'Monkeybone', 'Flight of the Phoenix', 'Unbreakable', 'Minions', 'Sucker Punch', 'Snake Eyes', 'Sphere', 'The Angry Birds Movie', \"Fool's Gold\", 'Funny People', 'The Kingdom', 'Talladega Nights: The Ballad of Ricky Bobby', 'Dr. Dolittle 2', 'Braveheart', 'Jarhead', 'The Simpsons Movie', 'The Majestic', 'Driven', 'Two Brothers', 'The Village', 'Doctor Dolittle', 'Signs', 'Shrek 2', 'Cars', 'Runaway Bride', 'xXx', 'The SpongeBob Movie: Sponge Out of Water', 'Ransom', 'Inglourious Basterds', 'Hook', 'Die Hard 2', 'S.W.A.T.', 'Vanilla Sky', 'Lady in the Water', 'AVP: Alien vs. Predator', 'Alvin and the Chipmunks: The Squeakquel', 'We Were Soldiers', 'Olympus Has Fallen', 'Star Trek: Insurrection', 'Battle: Los Angeles', 'Big Fish', 'Wolf', 'War Horse', 'The Monuments Men', 'The Abyss', 'Wall Street: Money Never Sleeps', 'Dracula Untold', 'The Siege', 'Stardust', 'Seven Years in Tibet', 'The Dilemma', 'Bad Company', 'Doom', 'I Spy', 'Underworld: Awakening', 'Rock of Ages', \"Hart's War\", 'Killer Elite', 'Rollerball', 'Ballistic: Ecks vs. Sever', 'Hard Rain', 'Osmosis Jones', \"Legends of Oz: Dorothy's Return\", 'Blackhat', 'Sky Captain and the World of Tomorrow', 'Basic Instinct 2', 'Escape Plan', 'The Legend of Hercules', 'The Sum of All Fears', 'The Twilight Saga: Eclipse', 'The Score', 'Despicable Me', 'Money Train', 'Ted 2', 'Agora', 'Mystery Men', 'Hall Pass', 'The Insider', 'The Finest Hours', 'Body of Lies', 'Dinner for Schmucks', 'Abraham Lincoln: Vampire Hunter', 'Entrapment', 'The X Files', 'The Last Legion', 'Saving Private Ryan', 'Need for Speed', 'What Women Want', 'Ice Age', 'Dreamcatcher', 'Lincoln', 'The Matrix', 'Apollo 13', 'The Santa Clause 2', 'Les Misérables', \"You've Got Mail\", 'Step Brothers', 'The Mask of Zorro', 'Due Date', 'Unbroken', 'Space Cowboys', 'Cliffhanger', 'Broken Arrow', 'The Kid', 'World Trade Center', 'Mona Lisa Smile', 'The Dictator', 'Eyes Wide Shut', 'Annie', 'Focus', 'This Means War', 'Blade: Trinity', 'Red Dawn', 'Primary Colors', 'Resident Evil: Retribution', 'Death Race', 'The Long Kiss Goodnight', 'Proof of Life', 'Zathura: A Space Adventure', 'Fight Club', 'We Are Marshall', 'Hudson Hawk', 'Lucky Numbers', 'I, Frankenstein', 'Oliver Twist', 'Elektra', 'Sin City: A Dame to Kill For', 'Random Hearts', 'Everest', 'Perfume: The Story of a Murderer', 'Austin Powers in Goldmember', 'Astro Boy', 'Jurassic Park', 'Wyatt Earp', 'Clear and Present Danger', 'Dragon Blade', 'Little Man', 'U-571', 'The American President', 'The Love Guru', '3000 Miles to Graceland', 'The Hateful Eight', 'Blades of Glory', 'Hop', '300', 'Meet the Fockers', 'Marley & Me', 'The Green Mile', 'Wild Hogs', 'Chicken Little', 'Gone Girl', 'The Bourne Identity', 'GoldenEye', \"The General's Daughter\", 'The Truman Show', 'The Prince of Egypt', 'Daddy Day Care', '2 Guns', 'Cats & Dogs', 'The Italian Job', 'Two Weeks Notice', 'Antz', 'Couples Retreat', 'Days of Thunder', 'Cheaper by the Dozen 2', 'Maze Runner: The Scorch Trials', 'Eat Pray Love', 'The Family Man', 'RED', 'Any Given Sunday', 'The Horse Whisperer', 'Collateral', 'The Scorpion King', 'Ladder 49', 'Jack Reacher', 'Deep Blue Sea', 'This Is It', 'Contagion', 'Kangaroo Jack', 'Coraline', 'The Happening', 'Man on Fire', 'The Shaggy Dog', 'Starsky & Hutch', 'Jingle All the Way', 'Hellboy', 'A Civil Action', 'ParaNorman', 'The Jackal', 'Paycheck', 'Up Close & Personal', 'The Tale of Despereaux', 'The Tuxedo', 'Under Siege 2: Dark Territory', 'Jack Ryan: Shadow Recruit', 'Joy', 'London Has Fallen', 'Alien: Resurrection', 'Shooter', 'The Boxtrolls', 'Practical Magic', 'The Lego Movie', 'Miss Congeniality 2: Armed and Fabulous', 'Reign of Fire', 'Gangster Squad', 'Year One', 'Invictus', 'State of Play', 'Duplicity', 'My Favorite Martian', 'The Sentinel', 'Planet 51', 'Star Trek: Nemesis', 'Intolerable Cruelty', 'Trouble with the Curve', 'Edge of Darkness', 'The Relic', 'Analyze That', 'Righteous Kill', 'Mercury Rising', 'The Soloist', 'The Legend of Bagger Vance', 'Almost Famous', 'Garfield: A Tail of Two Kitties', 'xXx: State of the Union', 'Priest', 'Sinbad: Legend of the Seven Seas', 'Event Horizon', 'Dragonfly', 'The Black Dahlia', 'Flyboys', 'The Last Castle', 'Supernova', \"Winter's Tale\", 'The Mortal Instruments: City of Bones', 'Meet Dave', 'Dark Water', 'Edtv', 'Inkheart', 'The Spirit', 'Mortdecai', 'In the Name of the King: A Dungeon Siege Tale', 'Beyond Borders', 'The Monkey King 2', 'The Great Raid', 'Deadpool', 'Holy Man', 'American Sniper', 'Goosebumps', 'Just Like Heaven', 'The Flintstones in Viva Rock Vegas', 'Rambo III', 'Leatherheads', 'The Ridiculous 6', 'Did You Hear About the Morgans?', 'The Internship', 'Resident Evil: Afterlife', 'Red Tails', \"The Devil's Advocate\", \"That's My Boy\", 'DragonHeart', 'After the Sunset', 'Ghost Rider: Spirit of Vengeance', \"Captain Corelli's Mandolin\", 'The Pacifier', 'Walking Tall', 'Forrest Gump', 'Alvin and the Chipmunks', 'Meet the Parents', 'Pocahontas', 'Superman', 'The Nutty Professor', 'Hitch', 'George of the Jungle', 'American Wedding', 'Captain Phillips', 'Date Night', 'Casper', 'The Equalizer', 'Maid in Manhattan', 'Crimson Tide', 'The Pursuit of Happyness', 'Flightplan', 'Disclosure', 'City of Angels', 'Kill Bill: Vol. 1', 'Bowfinger', 'Kill Bill: Vol. 2', 'Tango & Cash', 'Death Becomes Her', 'Shanghai Noon', 'Executive Decision', \"Mr. Popper's Penguins\", 'The Forbidden Kingdom', 'Free Birds', 'Alien³', 'Evita', 'Ronin', 'The Ghost and the Darkness', 'Paddington', 'The Watch', 'The Hunted', 'Instinct', 'Stuck on You', 'Semi-Pro', 'The Pirates! In an Adventure with Scientists!', 'Changeling', 'Chain Reaction', 'The Fan', 'The Phantom of the Opera', 'Elizabeth: The Golden Age', 'Æon Flux', 'Gods and Generals', 'Turbulence', 'Imagine That', 'Muppets Most Wanted', 'Thunderbirds', 'Burlesque', 'A Very Long Engagement', 'Lolita', 'D-Tox', 'Blade II', 'Seven Pounds', 'Bullet to the Head', 'The Godfather: Part III', 'Elizabethtown', 'You, Me and Dupree', 'Superman II', 'Gigli', \"All the King's Men\", 'Shaft', 'Anastasia', 'Moulin Rouge!', 'Domestic Disturbance', 'Black Mass', 'Flags of Our Fathers', 'Law Abiding Citizen', 'Grindhouse', 'Beloved', 'Lucky You', 'Catch Me If You Can', 'Zero Dark Thirty', 'The Break-Up', 'Mamma Mia!', \"Valentine's Day\", 'The Dukes of Hazzard', 'The Thin Red Line', 'The Change-Up', 'Man on the Moon', 'Casino', 'From Paris with Love', 'Bulletproof Monk', 'Me, Myself & Irene', 'Barnyard', 'Deck the Halls', 'The Twilight Saga: New Moon', 'Shrek', 'The Adjustment Bureau', 'Robin Hood: Prince of Thieves', 'Jerry Maguire', 'Ted', 'As Good as It Gets', 'Patch Adams', 'Anchorman 2: The Legend Continues', 'Mr. Deeds', 'Super 8', 'Erin Brockovich', 'How to Lose a Guy in 10 Days', '22 Jump Street', 'Interview with the Vampire', 'Yes Man', 'Central Intelligence', 'Stepmom', \"Daddy's Home\", 'Into the Woods', 'Inside Man', 'Payback', 'Congo', 'We Bought a Zoo', 'Knowing', 'Failure to Launch', 'The Ring Two', 'Crazy, Stupid, Love.', 'Garfield', 'Christmas with the Kranks', 'Moneyball', 'Outbreak', 'Non-Stop', 'Race to Witch Mountain', 'V for Vendetta', 'Shanghai Knights', 'Curious George', 'Herbie Fully Loaded', \"Don't Say a Word\", 'Hansel & Gretel: Witch Hunters', 'Unfaithful', 'I Am Number Four', 'Syriana', '13 Hours: The Secret Soldiers of Benghazi', 'The Book of Life', 'Firewall', 'Absolute Power', 'G.I. Jane', 'The Game', 'Silent Hill', 'The Replacements', 'American Reunion', 'The Negotiator', 'Into the Storm', 'Beverly Hills Cop III', 'Gremlins 2: The New Batch', 'The Judge', 'The Peacemaker', 'Resident Evil: Apocalypse', 'Bridget Jones: The Edge of Reason', 'Out of Time', 'On Deadly Ground', 'The Adventures of Sharkboy and Lavagirl', 'The Beach', 'Raising Helen', 'Ninja Assassin', 'For Love of the Game', 'Striptease', 'Marmaduke', 'Hereafter', 'Murder by Numbers', 'Assassins', 'Hannibal Rising', 'The Story of Us', 'The Host', 'Basic', 'Blood Work', 'The International', 'Escape from L.A.', 'The Iron Giant', 'The Life Aquatic with Steve Zissou', 'Free State of Jones', 'The Life of David Gale', 'Man of the House', 'Run All Night', 'Eastern Promises', 'Into the Blue', 'The Messenger: The Story of Joan of Arc', 'Your Highness', 'Dream House', 'Mad City', \"Baby's Day Out\", 'The Scarlet Letter', 'Fair Game', 'Domino', 'Jade', 'Gamer', 'Beautiful Creatures', 'Death to Smoochy', 'Zoolander 2', 'The Big Bounce', 'What Planet Are You From?', 'Drive Angry', 'Street Fighter: The Legend of Chun-Li', 'The One', 'The Adventures of Ford Fairlane', 'The Boat That Rocked', 'Traffic', 'Indiana Jones and the Last Crusade', 'Anna Karenina', 'Chappie', 'The Bone Collector', 'Panic Room', 'The Tooth Fairy', 'Three Kings', 'Child 44', 'Rat Race', 'K-PAX', 'Kate & Leopold', 'Bedazzled', 'The Cotton Club', '3:10 to Yuma', 'Taken 3', 'Out of Sight', 'The Cable Guy', 'Earth', 'Dick Tracy', 'The Thomas Crown Affair', 'Riding in Cars with Boys', 'First Blood', 'Solaris', \"Happily N'Ever After\", 'Mary Reilly', \"My Best Friend's Wedding\", \"America's Sweethearts\", 'Insomnia', 'Star Trek: First Contact', 'Jonah Hex', 'Courage Under Fire', 'Liar Liar', 'The Infiltrator', 'Inchon', 'The Flintstones', 'Taken 2', 'Scary Movie 3', 'Miss Congeniality', 'Journey to the Center of the Earth', 'The Princess Diaries 2: Royal Engagement', 'The Pelican Brief', 'The Client', 'The Bucket List', 'Patriot Games', 'Monster-in-Law', 'Prisoners', 'Training Day', 'Galaxy Quest', 'Scary Movie 2', 'The Muppets', 'Blade', 'Coach Carter', 'Changing Lanes', 'Anaconda', 'Coyote Ugly', 'Love Actually', \"A Bug's Life\", 'From Hell', 'The Specialist', 'Tin Cup', 'Yours, Mine and Ours', 'Kicking & Screaming', \"The Hitchhiker's Guide to the Galaxy\", 'Fat Albert', 'Resident Evil: Extinction', 'Blended', 'Last Holiday', 'The River Wild', 'The Indian in the Cupboard', 'Savages', 'Cellular', 'Johnny English', 'The Ant Bully', 'Dune', 'Across the Universe', 'Revolutionary Road', '16 Blocks', 'Babylon A.D.', 'The Glimmer Man', 'Multiplicity', 'Aliens in the Attic', 'The Pledge', 'The Producers', 'The Phantom', 'All the Pretty Horses', 'Nixon', 'The Ghost Writer', 'Deep Rising', 'Miracle at St. Anna', 'Curse of the Golden Flower', 'Bangkok Dangerous', 'Big Trouble', 'Love in the Time of Cholera', 'Shadow Conspiracy', 'Johnny English Reborn', 'Foodfight!', 'Argo', 'The Fugitive', 'The Bounty Hunter', 'Sleepers', 'Rambo: First Blood Part II', 'The Juror', 'Pinocchio', \"Heaven's Gate\", 'Underworld: Evolution', 'Victor Frankenstein', 'Finding Forrester', '28 Days', 'Unleashed', 'The Sweetest Thing', 'The Firm', 'Charlie St. Cloud', 'The Mechanic', '21 Jump Street', 'Notting Hill', 'Chicken Run', 'Along Came Polly', 'Boomerang', 'The Heat', 'Cleopatra', 'Here Comes the Boom', 'High Crimes', 'The Mirror Has Two Faces', 'The Mothman Prophecies', 'Brüno', 'Licence to Kill', 'Red Riding Hood', '15 Minutes', 'Super Mario Bros.', 'Lord of War', 'Hero', 'One for the Money', 'The Interview', \"The Warrior's Way\", 'Micmacs', '8 Mile', 'Why I Did (Not) Eat My Father', \"A Knight's Tale\", 'The Medallion', 'The Sixth Sense', 'Man on a Ledge', 'The Big Year', 'The Karate Kid', 'American Hustle', 'The Proposal', 'Double Jeopardy', 'Back to the Future Part II', 'Lucy', 'Fifty Shades of Grey', 'Spy Kids 3-D: Game Over', 'A Time to Kill', 'Cheaper by the Dozen', 'Lone Survivor', 'A League of Their Own', 'The Conjuring 2', 'The Social Network', \"He's Just Not That Into You\", 'Scary Movie 4', 'Scream 3', 'Back to the Future Part III', 'Get Hard', 'Dracula', 'Julie & Julia', '42', 'The Talented Mr. Ripley', 'Dumb and Dumber To', 'Eight Below', 'The Intern', 'Ride Along 2', 'The Last of the Mohicans', 'Ray', 'Sin City', 'Vantage Point', 'I Love You, Man', 'Shallow Hal', 'JFK', \"Big Momma's House 2\", 'The Mexican', '17 Again', 'The Other Woman', 'The Final Destination', 'Bridge of Spies', 'Behind Enemy Lines', 'Get Him to the Greek', 'Shall We Dance?', 'Small Soldiers', 'Spawn', 'The Count of Monte Cristo', 'The Lincoln Lawyer', 'Unknown', 'The Prestige', 'Horrible Bosses 2', 'Escape from Planet Earth', 'Apocalypto', 'The Living Daylights', 'Predators', 'Legal Eagles', 'Secret Window', 'The Lake House', 'The Skeleton Key', 'The Odd Life of Timothy Green', 'Made of Honor', 'Jersey Boys', 'The Rainmaker', 'Gothika', 'Amistad', 'Medicine Man', 'Aliens vs Predator: Requiem', 'Ri¢hie Ri¢h', 'Autumn in New York', 'Music and Lyrics', 'Paul', 'The Guilt Trip', 'Scream 4', '8MM', 'The Doors', 'Sex Tape', 'Hanging Up', 'Final Destination 5', 'Mickey Blue Eyes', 'Pay It Forward', 'Fever Pitch', 'Drillbit Taylor', 'A Million Ways to Die in the West', 'The Shadow', 'Extremely Loud & Incredibly Close', 'Morning Glory', \"Get Rich or Die Tryin'\", 'The Art of War', 'Rent', 'Bless the Child', 'The Out-of-Towners', 'The Island of Dr. Moreau', 'The Musketeer', 'The Other Boleyn Girl', 'Sweet November', 'The Reaping', 'Mean Streets', 'Renaissance Man', 'Colombiana', 'Quest for Camelot', 'City By The Sea', 'At First Sight', 'Torque', 'City Hall', 'Showgirls', 'Marie Antoinette', 'Kiss of Death', 'Get Carter', 'The Impossible', 'Ishtar', 'Fantastic Mr. Fox', 'Life or Something Like It', 'Memoirs of an Invisible Man', 'Amélie', 'New York Minute', 'Alfie', 'Big Miracle', 'The Deep End of the Ocean', 'FearDotCom', \"Cirque du Freak: The Vampire's Assistant\", 'Duplex', 'Soul Men', 'Raise the Titanic', 'Universal Soldier: The Return', 'Pandorum', 'Impostor', 'Extreme Ops', 'Just Visiting', 'Sunshine', 'A Thousand Words', 'Delgo', 'The Gunman', 'Stormbreaker', 'Disturbia', 'Hackers', 'The Hunting Party', 'The Hudsucker Proxy', 'The Warlords', 'Nomad: The Warrior', 'Snowpiercer', 'A Monster in Paris', 'The Last Shot', 'The Crow', 'Baahubali: The Beginning', \"The Time Traveler's Wife\", 'Because I Said So', 'Frankenweenie', 'Serenity', 'Against the Ropes', 'Superman III', 'Grudge Match', 'Red Cliff', 'Sweet Home Alabama', 'The Ugly Truth', 'Sgt. Bilko', 'Spy Kids 2: The Island of Lost Dreams', 'Star Trek: Generations', 'The Grandmaster', 'Water for Elephants', \"Dragon Nest: Warriors' Dawn\", 'The Hurricane', 'Enough', 'Heartbreakers', 'Paul Blart: Mall Cop 2', 'Angel Eyes', 'Joe Somebody', 'The Ninth Gate', 'Extreme Measures', 'Rock Star', 'Precious', 'White Squall', 'The Thing', 'Riddick', 'Switchback', 'Texas Rangers', 'City of Ember', 'The Master', 'Virgin Territory', 'The Express', 'The 5th Wave', 'Creed', 'The Town', \"What to Expect When You're Expecting\", 'Burn After Reading', \"Nim's Island\", 'Rush', 'Magnolia', 'Cop Out', 'How to Be Single', 'Dolphin Tale', 'Twilight', 'John Q', 'Blue Streak', \"We're the Millers\", 'The Inhabited Island', 'Breakdown', 'Never Say Never Again', 'Hot Tub Time Machine', 'Dolphin Tale 2', 'Reindeer Games', 'A Man Apart', 'Aloha', 'Ghosts of Mississippi', 'Snow Falling on Cedars', 'The Rite', 'Gattaca', \"Isn't She Great\", 'Space Chimps', 'Head of State', 'The Hangover', 'Ip Man 3', 'Austin Powers: The Spy Who Shagged Me', 'Batman', 'There Be Dragons', 'Lethal Weapon 3', 'The Blind Side', 'Spy Kids', 'Horrible Bosses', 'True Grit', 'The Devil Wears Prada', 'Star Trek: The Motion Picture', 'Identity Thief', 'Cape Fear', '21', 'Trainwreck', 'Guess Who', 'The English Patient', 'L.A. Confidential', 'Sky High', 'In & Out', 'Species', 'A Nightmare on Elm Street', 'The Cell', 'The Man in the Iron Mask', 'Secretariat', 'TMNT', 'Radio', 'Friends with Benefits', 'Neighbors 2: Sorority Rising', 'Saving Mr. Banks', 'Malcolm X', 'This Is 40', 'Old Dogs', 'Underworld: Rise of the Lycans', 'License to Wed', 'The Benchwarmers', 'Must Love Dogs', 'Donnie Brasco', 'Resident Evil', 'Poltergeist', 'The Ladykillers', 'Max Payne', 'In Time', 'The Back-Up Plan', 'Something Borrowed', 'Black Knight', 'The Bad News Bears', 'Street Fighter', 'The Pianist', 'The Nativity Story', 'House of Wax', 'Closer', 'J. Edgar', 'Mirrors', 'Queen of the Damned', 'Predator 2', 'Untraceable', 'Blast from the Past', 'Flash Gordon', 'Jersey Girl', 'Alex Cross', 'Midnight in the Garden of Good and Evil', 'Heist', 'Nanny McPhee and the Big Bang', 'Hoffa', 'The X Files: I Want to Believe', 'Ella Enchanted', 'Concussion', 'Abduction', 'Valiant', 'Wonder Boys', 'Superhero Movie', 'Broken City', 'Cursed', 'Premium Rush', 'Hot Pursuit', 'The Four Feathers', 'Parker', 'Wimbledon', 'Furry Vengeance', 'Bait', 'Krull', 'Lions for Lambs', 'Flight of the Intruder', 'Walk Hard: The Dewey Cox Story', 'The Shipping News', 'American Outlaws', 'The Young Victoria', 'Whiteout', 'The Tree of Life', 'Knock Off', 'Sabotage', 'The Order', 'Punisher: War Zone', 'Zoom', 'The Walk', 'Warriors of Virtue', 'A Good Year', 'Radio Flyer', 'Bound by Honor', \"Smilla's Sense of Snow\", 'Femme Fatale', 'Lion of the Desert', 'The Horseman on the Roof', 'Ride with the Devil', 'Biutiful', 'Bandidas', 'Black Water Transit', 'The Maze Runner', 'Unfinished Business', 'The Age of Innocence', 'The Fountain', 'Chill Factor', 'Stolen', 'Ponyo', 'The Longest Ride', \"The Astronaut's Wife\", 'I Dreamed of Africa', 'Playing for Keeps', 'Mandela: Long Walk to Freedom', 'Reds', 'A Few Good Men', 'Exit Wounds', \"Big Momma's House\", 'Thunder and the House of Magic', 'The Darkest Hour', 'Step Up Revolution', 'Snakes on a Plane', 'The Watcher', 'The Punisher', 'Goal!: The Dream Begins', 'Safe', 'Pushing Tin', 'Return of the Jedi', 'Doomsday', 'The Reader', 'Wanderlust', 'Elf', 'Phenomenon', 'Snow Dogs', 'Scrooged', 'Nacho Libre', 'Bridesmaids', 'This Is the End', 'Stigmata', 'Men of Honor', 'Takers', 'The Big Wedding', 'Big Mommas: Like Father, Like Son', 'Source Code', 'Alive', 'The Number 23', 'The Young and Prodigious T.S. Spivet', '1941', 'Dreamer: Inspired By a True Story', 'A History of Violence', 'Transporter 2', 'The Quick and the Dead', 'Laws of Attraction', 'Bringing Out the Dead', 'Repo Men', 'Dragon Wars: D-War', 'Bogus', 'The Incredible Burt Wonderstone', \"Cats Don't Dance\", 'Cradle Will Rock', 'The Good German', 'George and the Dragon', 'Apocalypse Now', 'Going the Distance', \"Mr. Holland's Opus\", 'Criminal', 'Out of Africa', 'Flight', 'Moonraker', 'The Grand Budapest Hotel', 'Hearts in Atlantis', 'Arachnophobia', 'Frequency', 'Vacation', 'Get Shorty', 'Chicago', 'Big Daddy', 'American Pie 2', 'Toy Story', 'Speed', 'The Vow', 'Extraordinary Measures', 'Remember the Titans', 'The Hunt for Red October', 'The Butler', 'DodgeBall: A True Underdog Story', 'The Addams Family', 'Ace Ventura: When Nature Calls', 'The Princess Diaries', 'The First Wives Club', 'Se7en', 'District 9', 'The SpongeBob SquarePants Movie', 'Mystic River', 'Million Dollar Baby', 'Analyze This', 'The Notebook', '27 Dresses', 'Hannah Montana: The Movie', 'Rugrats in Paris: The Movie', 'The Prince of Tides', 'Legends of the Fall', 'Up in the Air', 'About Schmidt', 'Warm Bodies', 'Looper', 'Down to Earth', 'Babe', 'Hope Springs', 'Forgetting Sarah Marshall', 'Four Brothers', 'Baby Mama', 'Hope Floats', 'Bride Wars', 'Without a Paddle', '13 Going on 30', 'Midnight in Paris', 'The Nut Job', 'Blow', 'Message in a Bottle', 'Star Trek V: The Final Frontier', 'Like Mike', 'The Naked Gun 33⅓: The Final Insult', 'A View to a Kill', 'The Curse of the Were-Rabbit', 'P.S. I Love You', 'Racing Stripes', 'Atonement', 'Letters to Juliet', 'Black Rain', 'The Three Stooges', 'Corpse Bride', 'Glory Road', 'Sicario', 'Southpaw', 'Drag Me to Hell', 'The Age of Adaline', 'Secondhand Lions', 'Step Up 3D', 'Blue Crush', 'Stranger Than Fiction', '30 Days of Night', 'The Cabin in the Woods', 'Meet the Spartans', 'Midnight Run', 'The Running Man', 'Little Shop of Horrors', 'Hanna', 'Mortal Kombat: Annihilation', 'Larry Crowne', 'Carrie', 'Take the Lead', 'Gridiron Gang', \"What's the Worst That Could Happen?\", '9', 'Side Effects', 'The Prince & Me', 'Winnie the Pooh', 'Dumb and Dumberer: When Harry Met Lloyd', 'Bulworth', 'Get on Up', 'One True Thing', 'Virtuosity', 'My Super Ex-Girlfriend', 'Deliver Us from Evil', 'Sanctum', 'Little Black Book', 'The Five-Year Engagement', 'Mr. 3000', 'The Next Three Days', 'Ultraviolet', 'Assault on Precinct 13', 'The Replacement Killers', 'Fled', 'Eight Legged Freaks', 'Love & Other Drugs', '88 Minutes', 'North Country', 'The Whole Ten Yards', 'Splice', 'Howard the Duck', 'Pride and Glory', 'The Cave', 'Alex & Emma', 'Wicker Park', 'Fright Night', 'The New World', 'Wing Commander', 'In Dreams', 'Dragonball Evolution', 'The Last Stand', 'Godsend', 'Chasing Liberty', 'Hoodwinked Too! Hood VS. Evil', 'An Unfinished Life', 'The Imaginarium of Doctor Parnassus', \"Barney's Version\", 'Runner Runner', 'Antitrust', 'Glory', 'Once Upon a Time in America', 'Dead Man Down', 'The Merchant of Venice', 'The Good Thief', 'Supercross', 'Miss Potter', 'The Promise', 'DOA: Dead or Alive', 'The Assassination of Jesse James by the Coward Robert Ford', '1911', 'Little Nicholas', 'Wild Card', 'Machine Gun Preacher', 'Animals United', 'Goodbye Bafana', 'United Passions', 'Grace of Monaco', 'Savva. Heart of the Warrior', \"Ripley's Game\", 'Sausage Party', 'Pitch Perfect 2', 'Walk the Line', 'Keeping the Faith', 'The Borrowers', 'Frost/Nixon', 'Confessions of a Dangerous Mind', 'Serving Sara', 'The Boss', 'Cry Freedom', 'Mumford', 'Seed of Chucky', 'The Jacket', 'Aladdin', 'Straight Outta Compton', 'Indiana Jones and the Temple of Doom', 'The Rugrats Movie', 'Along Came a Spider', 'Florence Foster Jenkins', 'Once Upon a Time in Mexico', 'Die Hard', 'Role Models', 'The Big Short', 'Taking Woodstock', 'Miracle', 'Dawn of the Dead', 'The Wedding Planner', 'Space Pirate Captain Harlock', 'The Royal Tenenbaums', 'Identity', 'Last Vegas', 'For Your Eyes Only', 'Serendipity', 'Timecop', 'Zoolander', 'Safe Haven', 'Hocus Pocus', 'No Reservations', 'Kick-Ass', '30 Minutes or Less', 'Dracula 2000', 'Alexander and the Terrible, Horrible, No Good, Very Bad Day', 'Pride & Prejudice', 'Blade Runner', 'Rob Roy', '3 Days to Kill', 'We Own the Night', 'Lost Souls', 'Winged Migration', 'Just My Luck', 'Mystery, Alaska', 'The Spy Next Door', 'A Simple Wish', 'Ghosts of Mars', 'Our Brand Is Crisis', 'Pride and Prejudice and Zombies', 'Kundun', 'How to Lose Friends & Alienate People', 'Kick-Ass 2', 'Alatriste', 'Brick Mansions', 'Octopussy', 'Knocked Up', \"My Sister's Keeper\", 'Welcome Home Roscoe Jenkins', 'A Passage to India', 'Notes on a Scandal', 'Rendition', 'Star Trek VI: The Undiscovered Country', 'Divine Secrets of the Ya-Ya Sisterhood', 'Kiss the Girls', 'The Blues Brothers', 'The Sisterhood of the Traveling Pants 2', 'Joyful Noise', 'About a Boy', 'Lake Placid', 'Lucky Number Slevin', 'The Right Stuff', 'Anonymous', 'The NeverEnding Story', 'Dark City', 'The Duchess', 'Return to Oz', 'The Newton Boys', 'Case 39', 'Suspect Zero', 'Martian Child', 'Spy Kids: All the Time in the World', 'Money Monster', 'The 51st State', 'Flawless', 'Mindhunters', 'What Just Happened', 'The Statement', 'The Magic Flute', 'Paul Blart: Mall Cop', 'Freaky Friday', 'The 40 Year Old Virgin', 'Shakespeare in Love', 'A Walk Among the Tombstones', 'Kindergarten Cop', 'Pineapple Express', 'Ever After: A Cinderella Story', 'Open Range', 'Flatliners', 'A Bridge Too Far', 'Red Eye', 'Final Destination 2', 'O Brother, Where Art Thou?', 'Legion', 'Pain & Gain', 'In Good Company', 'Clockstoppers', 'Silverado', 'Brothers', 'Agent Cody Banks 2: Destination London', \"New Year's Eve\", 'Original Sin', 'The Raven', 'Welcome to Mooseport', 'Highlander: The Final Dimension', 'Blood and Wine', 'Snow White: A Tale of Terror', 'The Curse of the Jade Scorpion', 'Accidental Love', 'Flipper', 'Self/less', 'The Constant Gardener', 'The Passion of the Christ', 'Mrs. Doubtfire', 'Rain Man', 'Gran Torino', 'W.', 'Taken', 'The Best of Me', 'The Bodyguard', \"Schindler's List\", 'The Help', 'The Fifth Estate', 'Scooby-Doo 2: Monsters Unleashed', 'Forbidden Kingdom', 'Freddy vs. Jason', 'The Face of an Angel', 'Jimmy Neutron: Boy Genius', 'Cloverfield', 'Teenage Mutant Ninja Turtles II: The Secret of the Ooze', 'The Untouchables', 'No Country for Old Men', 'Ride Along', \"Bridget Jones's Diary\", 'Chocolat', 'Legally Blonde 2: Red, White & Blonde', 'Parental Guidance', 'No Strings Attached', 'Tombstone', 'Romeo Must Die', 'The Omen', 'Final Destination 3', 'The Lucky One', 'Bridge to Terabithia', 'Finding Neverland', 'A Madea Christmas', 'The Grey', 'Hide and Seek', 'Anchorman: The Legend of Ron Burgundy', 'GoodFellas', 'Agent Cody Banks', 'Nanny McPhee', 'Scarface', 'Nothing to Lose', 'The Last Emperor', 'Contraband', 'Money Talks', 'There Will Be Blood', 'The Wild Thornberrys Movie', 'Rugrats Go Wild', 'Undercover Brother', 'The Sisterhood of the Traveling Pants', 'Kiss of the Dragon', 'The House Bunny', 'Beauty Shop', 'Million Dollar Arm', 'The Giver', 'What a Girl Wants', 'Jeepers Creepers 2', 'Good Luck Chuck', 'Cradle 2 the Grave', 'The Hours', \"She's the Man\", \"Mr. Bean's Holiday\", 'Anacondas: The Hunt for the Blood Orchid', 'Blood Ties', 'August Rush', 'Elizabeth', 'Bride of Chucky', 'Tora! Tora! Tora!', 'Spice World', 'The Sitter', 'Dance Flick', 'The Shawshank Redemption', 'Crocodile Dundee in Los Angeles', 'Kingpin', 'The Gambler', 'August: Osage County', 'Ice Princess', 'A Lot Like Love', 'Eddie the Eagle', 'He Got Game', 'Don Juan DeMarco', 'Dear John', 'The Losers', \"Don't Be Afraid of the Dark\", 'War', 'Punch-Drunk Love', 'EuroTrip', 'Half Past Dead', 'Unaccompanied Minors', 'Bright Lights, Big City', 'The Adventures of Pinocchio', 'The Greatest Game Ever Played', 'The Box', 'The Ruins', 'The Next Best Thing', 'My Soul to Take', 'The Girl Next Door', 'Maximum Risk', 'Stealing Harvard', 'Legend', 'Hot Rod', 'Shark Night', \"Angela's Ashes\", 'Draft Day', 'Lifeforce', 'The Conspirator', 'Lords of Dogtown', 'The 33', 'Big Trouble in Little China', 'Fly Me to the Moon', 'Warrior', 'Michael Collins', 'Gettysburg', 'Stop-Loss', 'Abandon', 'Brokedown Palace', 'The Possession', 'Mrs. Winterbourne', 'Straw Dogs', 'The Hoax', 'Stone Cold', 'The Road', 'Sheena', 'Underclassman', \"Say It Isn't So\", \"The World's Fastest Indian\", 'Tank Girl', \"King's Ransom\", 'Blindness', 'BloodRayne', 'Carnage', 'Where the Truth Lies', 'Cirque du Soleil: Worlds Away', 'Without Limits', 'Me and Orson Welles', 'The Best Offer', 'The Bad Lieutenant: Port of Call - New Orleans', \"A Turtle's Tale: Sammy's Adventures\", 'Little White Lies', 'Love Ranch', \"The True Story of Puss 'n Boots\", 'Space Dogs', 'The Counselor', 'Ironclad', 'Waterloo', 'Kung Fu Jungle', 'Red Sky', 'Dangerous Liaisons', 'On the Road', 'Star Trek IV: The Voyage Home', 'Rocky Balboa', 'Scream 2', 'Jane Got a Gun', 'Think Like a Man Too', 'The Whole Nine Yards', 'Footloose', 'Old School', 'The Fisher King', 'I Still Know What You Did Last Summer', 'Return to Me', 'Zack and Miri Make a Porno', 'Nurse Betty', 'The Men Who Stare at Goats', 'Double Take', 'Girl, Interrupted', 'Win a Date with Tad Hamilton!', 'Muppets from Space', 'The Wiz', 'Ready to Rumble', 'Play It to the Bone', \"I Don't Know How She Does It\", 'Piranha 3D', 'Beyond the Sea', 'Meet the Deedles', 'The Thief and the Cobbler', 'The Bridge of San Luis Rey', 'Faster', \"Howl's Moving Castle\", 'Zombieland', 'The Waterboy', 'The Empire Strikes Back', 'Bad Boys', 'The Naked Gun 2½: The Smell of Fear', 'Final Destination', 'The Ides of March', 'Pitch Black', 'Someone Like You...', 'Her', 'Joy Ride', 'The Adventurer: The Curse of the Midas Box', 'Anywhere But Here', 'The Crew', 'Haywire', 'Jaws: The Revenge', \"Marvin's Room\", 'The Longshots', 'The End of the Affair', 'Harley Davidson and the Marlboro Man', 'In the Valley of Elah', 'Coco Before Chanel', 'Forsaken', 'Cheri', 'Vanity Fair', 'Bodyguards and Assassins', '1408', 'Spaceballs', 'The Water Diviner', 'Ghost', \"There's Something About Mary\", 'The Santa Clause', 'The Rookie', 'The Game Plan', 'The Bridges of Madison County', 'The Animal', 'Gandhi', 'The Hundred-Foot Journey', 'The Net', 'I Am Sam', 'Son of God', 'Underworld', 'Derailed', 'The Informant!', 'Shadowlands', 'Deuce Bigalow: European Gigolo', 'Delivery Man', 'Our Kind of Traitor', 'Saving Silverman', 'Diary of a Wimpy Kid: Dog Days', 'Summer of Sam', 'Jay and Silent Bob Strike Back', 'The Glass House', 'Hail, Caesar!', 'Josie and the Pussycats', 'Homefront', 'The Little Vampire', 'I Heart Huckabees', 'RoboCop 3', 'Megiddo: The Omega Code 2', 'Darling Lili', 'Dudley Do-Right', 'The Transporter Refueled', 'The Libertine', 'Black Book', 'Joyeux Noël', 'Hit & Run', 'Mad Money', 'Before I Go to Sleep', 'Sorcerer', 'Stone', 'Moliere', 'Out of the Furnace', 'Michael Clayton', 'My Fellow Americans', 'Arlington Road', 'Underdogs', 'To Rome with Love', 'Firefox', 'South Park: Bigger, Longer & Uncut', 'Death at a Funeral', 'Teenage Mutant Ninja Turtles III', 'Hardball', 'Silver Linings Playbook', 'Freedom Writers', 'For Colored Girls', 'The Transporter', 'Never Back Down', 'The Rage: Carrie 2', 'Away We Go', 'Swing Vote', 'Moonlight Mile', 'Tinker Tailor Soldier Spy', 'Molly', 'The Beaver', 'The Best Little Whorehouse in Texas', 'eXistenZ', 'Raiders of the Lost Ark', 'Home Alone 2: Lost in New York', 'Close Encounters of the Third Kind', 'Pulse', 'Beverly Hills Cop II', 'Bringing Down the House', 'The Silence of the Lambs', \"Wayne's World\", 'Jackass 3D', 'Jaws 2', 'Beverly Hills Chihuahua', 'The Conjuring', 'Are We There Yet?', 'Tammy', 'School of Rock', 'Mortal Kombat', 'White Chicks', 'The Descendants', 'Holes', 'The Last Song', '12 Years a Slave', 'Drumline', 'Why Did I Get Married Too?', 'Edward Scissorhands', 'Me Before You', \"Madea's Witness Protection\", 'The French Connection', 'Bad Moms', 'Date Movie', 'Return to Never Land', 'Selma', 'The Jungle Book 2', 'Boogeyman', 'Premonition', 'The Tigger Movie', 'Orphan', 'Max', 'Epic Movie', 'Spotlight', 'Lakeview Terrace', 'The Grudge 2', 'How Stella Got Her Groove Back', \"Bill & Ted's Bogus Journey\", 'Man of the Year', 'The Black Hole', 'The American', 'Selena', 'Vampires Suck', 'Babel', 'This Is Where I Leave You', 'Doubt', 'Team America: World Police', 'Texas Chainsaw 3D', 'Copycat', 'Scary Movie 5', 'Paint Your Wagon', 'Milk', 'Risen', 'Ghost Ship', 'A Very Harold & Kumar Christmas', 'Wild Things', 'The Stepfather', 'The Debt', 'High Fidelity', 'One Missed Call', 'Eye for an Eye', 'The Bank Job', 'Eternal Sunshine of the Spotless Mind', 'You Again', 'Street Kings', \"The World's End\", 'Nancy Drew', 'Daybreakers', \"She's Out of My League\", 'Monte Carlo', 'Stay Alive', 'Quigley Down Under', 'Alpha and Omega', 'The Covenant', 'Stick It', 'Shorts', 'To Die For', 'Nerve', 'Appaloosa', 'Vampires', 'Psycho', \"My Best Friend's Girl\", 'Endless Love', 'Georgia Rule', 'Under the Rainbow', 'Ladyhawke', 'Simon Birch', 'Reign Over Me', 'Into the Wild', 'School for Scoundrels', 'Silent Hill: Revelation 3D', 'From Dusk Till Dawn', \"Pooh's Heffalump Movie\", 'Home for the Holidays', 'Kung Fu Hustle', 'The Country Bears', 'The Kite Runner', '21 Grams', 'Paparazzi', 'A Guy Thing', 'Loser', 'Capitalism: A Love Story', 'The Greatest Story Ever Told', 'Secret in Their Eyes', 'Disaster Movie', 'Armored', 'The Man Who Knew Too Little', \"What's Your Number?\", 'Lockout', 'Envy', 'Crank: High Voltage', 'Bullets Over Broadway', 'One Night with the King', 'The Quiet American', 'The Weather Man', 'Undisputed', 'Ghost Town', '12 Rounds', 'Let Me In', '3 Ninjas Kick Back', 'Be Kind Rewind', 'Mrs Henderson Presents', 'Triple 9', 'Deconstructing Harry', 'Three to Tango', 'Burnt', \"We're No Angels\", 'Everyone Says I Love You', 'Death Sentence', \"Everybody's Fine\", 'Superbabies: Baby Geniuses 2', 'The Man', 'Code Name: The Cleaner', 'Connie and Carla', 'Sweet Charity', 'Inherent Vice', 'Doogal', 'Battle of the Year', 'An American Carol', 'Machete Kills', 'Willard', 'Strange Wilderness', 'Topsy-Turvy', 'Little Boy', 'A Dangerous Method', 'A Scanner Darkly', 'Chasing Mavericks', 'Alone in the Dark', 'Bandslam', 'Birth', 'A Most Violent Year', 'Passchendaele', 'Flash of Genius', \"I'm Not There.\", 'The Cold Light of Day', 'The Brothers Bloom', 'Synecdoche, New York', 'Princess Mononoke', 'Bon voyage', \"Can't Stop the Music\", 'The Proposition', 'My All American', 'Marci X', 'Equilibrium', 'The Children of Huang Shi', 'The Yards', 'The Oogieloves in the Big Balloon Adventure', 'By the Sea', 'Steamboy', 'The Game of Their Lives', 'All Good Things', 'Rapa Nui', 'CJ7', 'The Visitors II: The Corridors of Time', 'Dylan Dog: Dead of Night', 'People I Know', 'The Tempest', 'Regression', 'Three Kingdoms: Resurrection of the Dragon', 'Butterfly on a Wheel', 'Zambezia', 'Ramanujan', 'Dwegons', 'Hands of Stone', 'Survivor', 'The Frozen Ground', 'The Painted Veil', 'The Baader Meinhof Complex', 'Dances with Wolves', 'Bad Teacher', 'Sea of Love', 'A Cinderella Story', 'Scream', 'Thir13en Ghosts', 'The Shining', 'Back to the Future', 'House on Haunted Hill', 'I Can Do Bad All By Myself', 'Fight Valley', 'The Switch', 'Just Married', \"The Devil's Double\", 'Thomas and the Magic Railroad', 'The Crazies', 'Spirited Away', 'Firestorm', 'The Bounty', 'The Book Thief', 'Sex Drive', 'Leap Year', 'The Fall of the Roman Empire', 'Take Me Home Tonight', \"Won't Back Down\", 'The Nutcracker', 'Kansas City', 'Indignation', 'The Amityville Horror', 'Adaptation.', 'Land of the Dead', 'Out of Inferno', 'Fear and Loathing in Las Vegas', 'The Invention of Lying', 'Neighbors', 'The Mask', 'Big', 'Borat: Cultural Learnings of America for Make Benefit Glorious Nation of Kazakhstan', 'Legally Blonde', 'Star Trek III: The Search for Spock', 'The Exorcism of Emily Rose', 'Deuce Bigalow: Male Gigolo', 'Left Behind', 'The Family Stone', 'Barbershop 2:  Back in Business', 'Bad Santa', 'Austin Powers: International Man of Mystery', 'My Big Fat Greek Wedding 2', 'Diary of a Wimpy Kid: Rodrick Rules', 'Predator', 'Amadeus', 'Prom Night', 'Mean Girls', 'Under the Tuscan Sun', 'Gosford Park', 'Peggy Sue Got Married', 'Birdman', 'Blue Jasmine', 'United 93', 'Honey', 'Spy Hard', 'The Fog', 'Soul Surfer', 'Catch-22', 'Observe and Report', 'Conan the Destroyer', 'Raging Bull', 'Love Happens', 'Young Sherlock Holmes', 'Fame', '127 Hours', 'Small Time Crooks', 'Center Stage', 'Love the Coopers', 'Catch That Kid', 'Life as a House', 'Steve Jobs', 'I Love You, Beth Cooper', 'Youth in Revolt', 'The Legend of the Lone Ranger', 'The Tailor of Panama', 'Blow Out', 'Getaway', 'The Ice Storm', 'And So It Goes', 'Troop Beverly Hills', 'Being Julia', 'Nine 1/2 Weeks', 'Dragonslayer', 'The Last Station', 'Ed Wood', 'Labor Day', 'Mongol: The Rise of Genghis Khan', 'RockNRolla', 'Megaforce', 'Hamlet', \"Mao's Last Dancer\", 'Midnight Special', 'Anything Else', 'The Railway Man', 'The White Ribbon', 'Restoration', 'The Wraith', 'Salton Sea', 'Metallica: Through the Never', 'The Informers', 'Carlos', 'I Come with the Rain', \"One Man's Hero\", 'Day of the Dead', 'I Am Wrath', 'Renaissance', 'Red Sonja', 'Red Lights', 'Superbad', 'Madea Goes to Jail', 'Wolves', 'Step Up 2: The Streets', 'Hoodwinked!', 'Hotel Rwanda', 'Hitman', 'Black Nativity', 'The Prince', 'City of Ghosts', 'The Others', 'Aliens', 'My Fair Lady', 'I Know What You Did Last Summer', \"Let's Be Cops\", 'Sideways', 'Beerfest', 'Halloween', 'Good Boy!', 'The Best Man Holiday', \"Smokin' Aces\", 'Saw: The Final Chapter', '40 Days and 40 Nights', 'A Night at the Roxbury', 'Beastly', 'The Hills Have Eyes', 'Dickie Roberts: Former Child Star', 'McFarland, USA', 'Lottery Ticket', 'ATL', 'Pitch Perfect', 'Summer Catch', 'A Simple Plan', 'They', 'Larry the Cable Guy: Health Inspector', 'The Adventures of Elmo in Grouchland', \"Brooklyn's Finest\", '55 Days at Peking', 'Evil Dead', 'My Life in Ruins', 'American Dreamz', 'Superman IV: The Quest for Peace', 'How She Move', 'Running Scared', 'Bobby Jones: Stroke of Genius', 'Shanghai Surprise', 'The Illusionist', 'Roar', 'Veronica Guerin', 'Escobar: Paradise Lost', 'Southland Tales', 'Dragon Hunters', 'Damnation Alley', 'The Apparition', 'My Girl', 'Fur: An Imaginary Portrait of Diane Arbus', 'Wall Street', 'Sense and Sensibility', 'Becoming Jane', 'Sydney White', 'House of Sand and Fog', 'Dead Poets Society', 'Dumb and Dumber', 'When Harry Met Sally...', 'The Verdict', 'Road Trip', 'Varsity Blues', 'The Artist', 'The Unborn', 'Moonrise Kingdom', 'The Texas Chainsaw Massacre: The Beginning', 'The Young Messiah', 'The Master of Disguise', \"Pan's Labyrinth\", 'See Spot Run', 'Baby Boy', 'The Roommate', 'Joe Dirt', 'Double Impact', 'Hot Fuzz', 'The Women', 'Vicky Cristina Barcelona', 'Arn: The Knight Templar', 'Boys and Girls', 'White Oleander', \"Jennifer's Body\", 'Drowning Mona', 'Radio Days', 'Remember Me', 'How to Deal', 'My Stepmother is an Alien', 'Philadelphia', 'The Thirteenth Floor', 'The Cookout', 'Meteor', 'Duets', 'Hollywood Ending', 'Detroit Rock City', 'Highlander', 'Things We Lost in the Fire', 'Steel', 'The Immigrant', 'The White Countess', 'Trance', 'Soul Plane', 'Welcome to the Sticks', 'Good', 'Enter the Void', 'Vamps', \"Hachi: A Dog's Tale\", 'Zulu', 'The Homesman', 'Juwanna Mann', 'Ararat', 'Madison', 'Slow Burn', 'Wasabi', 'Slither', 'Beverly Hills Cop', 'Home Alone', 'Three Men and a Baby', 'Tootsie', 'Top Gun', 'Crouching Tiger, Hidden Dragon', 'American Beauty', \"The King's Speech\", 'Twins', 'The Yellow Handkerchief', 'The Color Purple', 'Tidal Wave', 'The Imitation Game', 'Private Benjamin', \"Coal Miner's Daughter\", 'Diary of a Wimpy Kid', 'Mama', \"National Lampoon's Vacation\", 'Bad Grandpa', 'The Queen', 'Beetlejuice', 'Why Did I Get Married?', 'Little Women', 'The Woman in Black', 'When a Stranger Calls', 'Big Fat Liar', 'The Deer Hunter', 'Wag the Dog', 'The Lizzie McGuire Movie', 'Snitch', 'Krampus', 'The Faculty', \"What's Love Got to Do with It\", 'Cop Land', 'Not Another Teen Movie', 'End of Watch', 'The Skulls', 'The Theory of Everything', \"Malibu's Most Wanted\", 'Where the Heart Is', 'Lawrence of Arabia', 'Halloween II', 'Wild', 'The Last House on the Left', 'The Wedding Date', 'Halloween: Resurrection', 'The Princess Bride', 'The Great Debaters', 'Drive', 'Confessions of a Teenage Drama Queen', 'The Object of My Affection', '28 Weeks Later', 'When the Game Stands Tall', 'Because of Winn-Dixie', 'Love & Basketball', 'Grosse Pointe Blank', 'All About Steve', 'Book of Shadows: Blair Witch 2', 'The Craft', 'Match Point', 'Ramona and Beezus', 'The Remains of the Day', 'Boogie Nights', 'Nowhere to Run', 'Flicka', 'The Hills Have Eyes 2', 'Urban Legends: Final Cut', 'Tuck Everlasting', 'The Marine', 'Keanu', 'Country Strong', 'Disturbing Behavior', 'The Place Beyond the Pines', 'The November Man', 'Eye of the Beholder', 'The Hurt Locker', 'Firestarter', 'Killing Them Softly', 'A Most Wanted Man', 'Freddy Got Fingered', \"VeggieTales: The Pirates Who Don't Do Anything\", 'U2 3D', 'Highlander: Endgame', 'Idlewild', 'One Day', 'Whip It', 'Knockaround Guys', 'Confidence', 'The Muse', 'De-Lovely', 'New York Stories', \"Barney's Great Adventure\", 'The Man with the Iron Fists', 'Home Fries', 'Here On Earth', 'Brazil', 'Raise Your Voice', 'The Big Lebowski', 'Black Snake Moan', 'Dark Blue', 'A Mighty Heart', 'Whatever It Takes', 'Boat Trip', 'The Importance of Being Earnest', 'The Love Letter', 'Hoot', 'In Bruges', 'Peeples', 'The Rocker', 'Post Grad', 'Promised Land', 'Whatever Works', 'The In Crowd', 'The Three Burials of Melquiades Estrada', 'Jakob the Liar', 'Kiss Kiss Bang Bang', 'Idle Hands', 'Mulholland Drive', 'Blood and Chocolate', 'You Will Meet a Tall Dark Stranger', 'Never Let Me Go', 'The Company', 'Transsiberian', 'The Clan of the Cave Bear', 'Crazy in Alabama', 'Funny Games', 'Listening', \"Felicia's Journey\", 'Metropolis', 'District B13', \"Things to Do in Denver When You're Dead\", 'The Assassin', 'Buffalo Soldiers', 'The Return', 'Ong Bak 2', 'Centurion', 'Silent Trigger', 'The Midnight Meat Train', 'Winnie Mandela', 'The Son of No One', \"All The Queen's Men\", 'The Good Night', 'Bathory: Countess of Blood', 'Khumba', 'Automata', 'Dungeons & Dragons: Wrath of the Dragon God', 'Chiamatemi Francesco - Il Papa della gente', 'Shinjuku Incident', 'Pandaemonium', 'Groundhog Day', 'Magic Mike XXL', 'Romeo + Juliet', \"Sarah's Key\", 'Freedom', 'Unforgiven', 'Manderlay', 'Slumdog Millionaire', 'Fatal Attraction', 'Pretty Woman', 'Crocodile Dundee II', 'Broken Horses', 'Born on the Fourth of July', 'Cool Runnings', 'My Bloody Valentine', 'Stomp the Yard', 'The Spy Who Loved Me', 'Urban Legend', 'Good Deeds', 'White Fang', 'Superstar', 'The Iron Lady', 'Jonah: A VeggieTales Movie', 'Poetic Justice', 'All About the Benjamins', 'Vampire in Brooklyn', 'Exorcist II: The Heretic', 'An American Haunting', \"My Boss's Daughter\", 'A Perfect Getaway', 'Our Family Wedding', 'Dead Man on Campus', 'Tea with Mussolini', 'Thinner', 'New York, New York', 'Crooklyn', 'I Think I Love My Wife', 'Jason X', 'Bobby', 'Head Over Heels', 'Fun Size', 'The Diving Bell and the Butterfly', 'Little Children', 'Gossip', 'A Walk on the Moon', 'Catch a Fire', 'Soul Survivors', 'Jefferson in Paris', 'Easy Virtue', 'Caravans', 'Mr. Turner', 'Wild Grass', 'Amen.', 'Reign of Assassins', 'The Lucky Ones', 'Margaret', 'Stan Helsing', 'Flipped', 'Brokeback Mountain', 'Clueless', 'Far from Heaven', 'Hot Tub Time Machine 2', 'Quills', 'Seven Psychopaths', \"The Caveman's Valentine\", 'Downfall', 'The Sea Inside', 'Under the Skin', 'Good Morning, Vietnam', 'The Last Godfather', 'Justin Bieber: Never Say Never', 'Black Swan', 'The Godfather: Part II', 'Save the Last Dance', 'A Nightmare on Elm Street 4: The Dream Master', 'Miracles from Heaven', 'Dude, Where’s My Car?', 'Young Guns', 'St. Vincent', 'About Last Night', '10 Things I Hate About You', 'The New Guy', \"National Lampoon's Loaded Weapon 1\", 'The Shallows', 'The Butterfly Effect', 'Snow Day', 'This Christmas', 'Baby Geniuses', 'The Big Hit', 'Harriet the Spy', \"Child's Play 2\", 'No Good Deed', 'The Mist', 'Ex Machina', 'Being John Malkovich', 'Two Can Play That Game', 'Earth to Echo', 'Crazy/Beautiful', 'Letters from Iwo Jima', 'The Astronaut Farmer', 'Woo', 'Room', 'Dirty Work', 'Serial Mom', 'Dick', 'Light It Up', '54', 'Bubble Boy', 'Birthday Girl', '21 & Over', \"Paris, je t'aime\", 'Resurrecting the Champ', 'Admission', 'The Widow of Saint-Pierre', 'Chloe', 'Faithful', 'Find Me Guilty', 'The Perks of Being a Wallflower', 'Excessive Force', 'Infamous', 'The Claim', 'The Vatican Tapes', 'Attack the Block', 'In the Land of Blood and Honey', 'The Call', 'Operation Chromite', 'The Crocodile Hunter: Collision Course', 'I Love You Phillip Morris', 'Quest for Fire', 'Antwone Fisher', \"The Emperor's Club\", 'True Romance', 'Womb', 'Glengarry Glen Ross', 'The Killer Inside Me', 'Cat People', 'Sorority Row', 'The Prisoner of Zenda', 'Lars and the Real Girl', 'The Boy in the Striped Pyjamas', 'Dancer in the Dark', 'Oscar and Lucinda', 'The Funeral', 'Solitary Man', 'Machete', 'Casino Jack', 'The Land Before Time', 'Tae Guk Gi: The Brotherhood of War', 'The Perfect Game', 'The Exorcist', 'Jaws', 'American Pie', 'Ernest & Celestine', 'The Golden Child', 'Think Like a Man', 'Barbershop', 'Star Trek II: The Wrath of Khan', 'Ace Ventura: Pet Detective', 'WarGames', 'Witness', 'Act of Valor', 'Step Up', 'Beavis and Butt-Head Do America', 'Jackie Brown', 'Harold & Kumar Escape from Guantanamo Bay', 'Chronicle', 'Yentl', 'Time Bandits', 'Crossroads', 'Project X', 'Patton', 'One Hour Photo', 'Quarantine', 'The Eye', 'Johnson Family Vacation', 'How High', 'The Muppet Christmas Carol', 'Frida', 'Katy Perry: Part of Me', 'The Fault in Our Stars', 'Rounders', 'Top Five', 'Prophecy', 'Stir of Echoes', 'Philomena', 'The Upside of Anger', 'The Boys from Brazil', 'Aquamarine', 'Paper Towns', \"My Baby's Daddy\", 'Nebraska', 'Tales from the Crypt: Demon Knight', \"Max Keeble's Big Move\", 'Young Adult', 'Crank', \"Def Jam's How to Be a Player\", 'Living Out Loud', 'Just Wright', 'Rachel Getting Married', 'The Postman Always Rings Twice', 'Girl with a Pearl Earring', 'Das Boot', 'Sorority Boys', 'About Time', 'House of Flying Daggers', 'Arbitrage', 'Project Almanac', 'Cadillac Records', 'Screwed', 'Fortress', 'For Your Consideration', 'Celebrity', 'Running with Scissors', 'From Justin to Kelly', 'Girl 6', 'In the Cut', 'Two Lovers', 'Last Orders', 'The Host', 'The Pursuit of D.B. Cooper', 'Ravenous', 'Charlie Bartlett', 'The Great Beauty', 'The Dangerous Lives of Altar Boys', 'Stoker', '2046', 'Married Life', 'Duma', 'Ondine', 'Brother', 'Welcome to Collinwood', 'Critical Care', 'The Life Before Her Eyes', 'Darling Companion', 'Trade', 'Fateless', 'Breakfast of Champions', 'A Woman, a Gun and a Noodle Shop', 'Cypher', 'City of Life and Death', 'Legend of a Rabbit', 'Space Battleship Yamato', '5 Days of War', 'Triangle', '10 Days in a Madhouse', 'Heaven is for Real', 'Snatch', \"Dancin' It's On\", 'Pet Sematary', 'Madadayo', 'The Cry of the Owl', 'A Tale of Three Cities', 'Gremlins', 'Star Wars', 'Dirty Grandpa', 'Doctor Zhivago', 'Trash', 'High School Musical 3: Senior Year', 'The Fighter', 'Jackass Number Two', 'My Cousin Vinny', 'If I Stay', 'Drive Hard', 'Major League', \"St. Trinian's\", 'Phone Booth', 'A Walk to Remember', 'Dead Man Walking', 'Cruel Intentions', 'Saw VI', 'History of the World: Part I', 'The Secret Life of Bees', 'Corky Romano', 'Raising Cain', 'F.I.S.T.', 'Invaders from Mars', 'Brooklyn', 'Barry Lyndon', 'Out Cold', 'The Ladies Man', 'Quartet', 'Tomcats', 'Frailty', 'Woman in Gold', 'Kinsey', 'Army of Darkness', 'Slackers', \"What's Eating Gilbert Grape\", 'The Visual Bible: The Gospel of John', 'Vera Drake', 'The Guru', 'The Perez Family', 'Inside Llewyn Davis', 'O', 'Return to the Blue Lagoon', 'The Molly Maguires', 'Romance & Cigarettes', 'Copying Beethoven', 'Brighton Rock', 'Saw V', 'Machine Gun McCain', 'LOL', 'Jindabyne', 'Kabhi Alvida Naa Kehna', 'An Ideal Husband', 'The Last Days on Mars', 'Darkness', '2001: A Space Odyssey', 'E.T. the Extra-Terrestrial', 'In the Land of Women', 'The Blue Butterfly', 'There Goes My Baby', 'Housefull', 'September Dawn', 'For Greater Glory - The True Story of Cristiada', 'The Bélier Family', 'Good Will Hunting', 'Misconduct', 'Saw III', 'Stripes', 'Bring It On', 'The Purge: Election Year', \"She's All That\", 'Saw IV', 'White Noise', \"Madea's Family Reunion\", 'The Color of Money', 'The Longest Day', 'The Mighty Ducks', 'The Grudge', 'Happy Gilmore', 'Jeepers Creepers', \"Bill & Ted's Excellent Adventure\", 'Oliver!', 'The Best Exotic Marigold Hotel', \"Recess: School's Out\", 'Mad Max Beyond Thunderdome', 'Commando', 'The Boy', 'Devil', 'Friday After Next', 'Insidious: Chapter 3', 'The Last Dragon', 'The Lawnmower Man', \"Nick and Norah's Infinite Playlist\", 'Dogma', 'The Banger Sisters', 'Twilight Zone: The Movie', 'Road House', 'A Low Down Dirty Shame', 'Swimfan', 'Employee of the Month', \"Can't Hardly Wait\", 'The Outsiders', \"Pete's Dragon\", 'The Dead Zone', 'Sinister 2', 'Sparkle', 'Valentine', 'The Fourth Kind', 'A Prairie Home Companion', 'Sugar Hill', 'Invasion U.S.A.', 'Roll Bounce', 'Rushmore', 'Skyline', 'The Second Best Exotic Marigold Hotel', 'Kit Kittredge: An American Girl', 'The Perfect Man', \"Mo' Better Blues\", 'Kung Pow: Enter the Fist', 'Tremors', 'Wrong Turn', 'The Long Riders', 'The Corruptor', 'Mud', 'Reno 911!: Miami', 'One Direction: This Is Us', 'The Goods: Live Hard, Sell Hard', 'Hey Arnold! The Movie', 'My Week with Marilyn', 'The Matador', 'Love Jones', 'The Gift', 'End of the Spear', 'Get Over It', 'Office Space', 'Drop Dead Gorgeous', 'Big Eyes', 'Very Bad Things', 'Sleepover', 'Body Double', 'MacGruber', 'Dirty Pretty Things', 'Movie 43', 'Over Her Dead Body', 'Seeking a Friend for the End of the World', 'Cedar Rapids', 'American History X', 'The Collection', \"Teacher's Pet\", 'The Red Violin', 'The Straight Story', 'Deuces Wild', 'Bad Words', 'Run, Fatboy, Run', 'Heartbeeps', 'Black or White', 'On the Line', 'Rescue Dawn', 'Danny Collins', 'Jeff, Who Lives at Home', 'I Am Love', 'Atlas Shrugged Part II', 'Romeo Is Bleeding', 'The Limey', 'Crash', 'The House of Mirth', 'Malone', 'Peaceful Warrior', 'Bucky Larson: Born to Be a Star', 'Bamboozled', 'The Forest', 'Sphinx', \"While We're Young\", 'A Better Life', 'Spider', 'Gun Shy', 'Nicholas Nickleby', 'The Iceman', 'Krrish', 'Cecil B. Demented', 'Killer Joe', 'The Joneses', 'Owning Mahowny', 'The Brothers Solomon', 'My Blueberry Nights', 'Illuminata', 'Swept Away', 'War, Inc.', 'Shaolin Soccer', 'The Brown Bunny', 'The Swindle', 'Rosewater', 'The Chambermaid on the Titanic', 'Coriolanus', 'Imaginary Heroes', 'High Heels and Low Lifes', \"World's Greatest Dad\", 'Severance', 'Edmond', 'Welcome to the Rileys', 'Police Academy: Mission to Moscow', 'Blood Done Sign My Name', 'Cinco de Mayo: La Batalla', 'Elsa & Fred', 'An Alan Smithee Film: Burn, Hollywood, Burn', 'The Open Road', 'The Good Guy', 'Motherhood', 'Free Style', 'Strangerland', 'Janky Promoters', 'Blonde Ambition', 'The Oxford Murders', 'The Reef', 'Eulogy', 'White Noise 2: The Light', 'Beat the World', 'Fifty Dead Men Walking', 'Jungle Shuffle', 'Adam Resurrected', 'Of Horses and Men', \"It's a Wonderful Afterlife\", \"The Devil's Tomb\", 'Partition', 'Good Intentions', 'The Good, The Bad, The Weird', 'Nurse 3-D', 'Gunless', 'Adventureland', 'The Lost City', 'Next Friday', 'American Heist', 'You Only Live Twice', 'Plastic', 'Amour', 'Poltergeist III', 'Re-Kill', \"It's a Mad, Mad, Mad, Mad World\", 'Volver', 'Heavy Metal', 'Gentlemen Broncos', 'Richard III', 'Into the Grizzly Maze', 'Kites', 'Melancholia', 'Red Dog', 'Jab Tak Hai Jaan', 'Alien', 'The Texas Chain Saw Massacre', 'The Runaways', 'Fiddler on the Roof', 'Thunderball', 'Detention', 'Loose Cannons', 'Set It Off', 'The Best Man', \"Child's Play\", 'Sicko', 'The Purge: Anarchy', 'Down to You', 'Harold & Kumar Go to White Castle', 'The Contender', 'Boiler Room', 'Trading Places', 'Black Christmas', \"Breakin' All the Rules\", 'Henry V', 'The Savages', 'Chasing Papi', 'The Way of the Gun', 'Igby Goes Down', 'PCU', 'The Ultimate Gift', 'The Ice Pirates', 'Gracie', 'Trust the Man', 'Hamlet 2', 'Velvet Goldmine', 'The Wailing', 'Glee: The Concert Movie', 'The Legend of Suriyothai', 'Two Evil Eyes', 'Barbecue', 'All or Nothing', 'Princess Kaiulani', 'Opal Dream', 'Flame & Citron', 'Undiscovered', 'Red Riding: In the Year of Our Lord 1974', 'The Girl on the Train', 'Veronika Decides to Die', 'Crocodile Dundee', 'Ultramarines: A Warhammer 40,000 Movie', 'The I Inside', 'Beneath Hill 60', 'Polisse', 'Awake', 'Star Wars: Clone Wars: Volume 1', 'Skin Trade', 'The Lost Boys', 'Crazy Heart', 'The Rose', 'Baggage Claim', 'Barbarella', 'Shipwrecked', 'Election', 'The Namesake', 'The DUFF', 'Glitter', 'The Haunting in Connecticut 2: Ghosts of Georgia', 'Silmido', 'Bright Star', 'My Name Is Khan', 'All Is Lost', 'Limbo', 'Namastey London', 'The Wind That Shakes the Barley', 'Yeh Jawaani Hai Deewani', 'Quo Vadis', 'Repo! The Genetic Opera', 'Valley of the Wolves: Iraq', 'Pulp Fiction', 'The Muppet Movie', 'Nightcrawler', 'Club Dread', 'The Sound of Music', 'Splash', 'Little Miss Sunshine', 'Stand by Me', '28 Days Later', 'You Got Served', 'Escape from Alcatraz', 'Brown Sugar', 'A Thin Line Between Love and Hate', '50/50', 'Shutter', 'That Awkward Moment', 'Modern Problems', 'Kicks', 'Much Ado About Nothing', \"On Her Majesty's Secret Service\", 'New Nightmare', 'Drive Me Crazy', 'Akeelah and the Bee', 'Half Baked', 'New in Town', 'American Psycho', 'The Good Girl', 'Bon Cop Bad Cop', 'The Boondock Saints II: All Saints Day', 'The City of Your Final Destination', 'Enough Said', 'Easy A', 'The Inkwell', 'Shadow of the Vampire', 'Prom', 'The Pallbearer', 'Held Up', 'Woman on Top', 'Howards End', 'Anomalisa', 'Another Year', '8 Women', 'Showdown in Little Tokyo', 'Clay Pigeons', \"It's Kind of a Funny Story\", 'Made in Dagenham', 'When Did You Last See Your Father?', 'Prefontaine', 'The Wicked Lady', 'The Secret of Kells', 'Begin Again', 'Down in the Valley', 'Brooklyn Rules', 'Restless', 'The Singing Detective', 'The Land Girls', 'Fido', 'The Wendell Baker Story', 'Wild Target', 'Pathology', 'Wuthering Heights', '10th & Wolf', 'Dear Wendy', 'Aloft', 'Akira', 'The Death and Life of Bobby Z', 'The Rocket: The Legend of Rocket Richard', 'Swelter', 'My Lucky Star', 'Imagine Me & You', 'Mr. Church', 'Swimming Pool', 'Green Street Hooligans: Underground', 'The Blood of Heroes', 'Code of Honor', 'Driving Miss Daisy', 'Soul Food', 'Rumble in the Bronx', 'Far from Men', 'Thank You for Smoking', 'Hostel: Part II', 'An Education', 'Shopgirl', 'The Hotel New Hampshire', 'Narc', 'Men with Brooms', 'Witless Protection', 'The Work and the Glory', 'Extract', 'Masked and Anonymous', 'Betty Fisher and Other Stories', 'Code 46', 'Outside Bet', 'Albert Nobbs', 'Black November', 'Ta Ra Rum Pum', 'Persepolis', 'The Hole', 'The Wave', 'The Neon Demon', 'Harry Brown', 'The Omega Code', 'Juno', 'Pound of Flesh', 'Diamonds Are Forever', 'The Godfather', 'Flashdance', '(500) Days of Summer', 'The Piano', 'Magic Mike', 'Darkness Falls', 'Live and Let Die', 'My Dog Skip', 'Definitely, Maybe', 'Jumping the Broom', 'Good Night, and Good Luck.', 'Capote', 'Desperado', \"Logan's Run\", 'The Man with the Golden Gun', 'Action Jackson', 'The Descent', 'Michael Jordan to the Max', \"Devil's Due\", 'Flirting with Disaster', \"The Devil's Rejects\", 'Dope', 'In Too Deep', 'House of 1000 Corpses', 'Alien Zone', 'A Serious Man', 'Get Low', 'Warlock', 'Beyond the Lights', 'A Single Man', 'The Last Temptation of Christ', 'Outside Providence', 'Bride & Prejudice', 'Rabbit-Proof Fence', \"Who's Your Caddy?\", 'Split Second', 'The Other Side of Heaven', 'Veer-Zaara', 'Redbelt', 'Cyrus', 'A Dog Of Flanders', 'Auto Focus', 'Factory Girl', 'We Need to Talk About Kevin', 'The Christmas Candle', 'The Mighty Macs', \"Losin' It\", 'Mother and Child', 'March or Die', 'The Visitors', 'Somewhere', 'I Hope They Serve Beer in Hell', 'Chairman of the Board', 'Hesher', 'Dom Hemingway', 'Gerry', 'The Heart of Me', 'Freeheld', 'The Extra Man', 'Hard to Be a God', 'Ca$h', 'Wah-Wah', 'The Boondock Saints', 'Z Storm', 'Twixt', 'The Snow Queen', 'Alpha and Omega: The Legend of the Saw Tooth Cave', 'Pale Rider', 'Stargate: The Ark of Truth', 'Dazed and Confused', 'High School Musical 2', 'Two Lovers and a Bear', 'Criminal Activities', 'Aimee & Jaguar', 'The Chumscrubber', 'Shade', 'House at the End of the Street', 'Incendies', 'Remember Me, My Love', 'Perrier’s Bounty', 'Elite Squad', 'Annabelle', 'Bran Nue Dae', 'Boyz n the Hood', 'La Bamba', 'The Four Seasons', 'Dressed to Kill', 'The Adventures of Huck Finn', 'Go', 'Friends with Money', 'The Andromeda Strain', 'Bats', 'Nowhere in Africa', 'Shame', 'Layer Cake', 'The Work and the Glory II: American Zion', 'The East', 'A Home at the End of the World', 'Aberdeen', 'The Messenger', 'Tracker', 'Control', 'The Terminator', 'Good bye, Lenin!', 'The Damned United', 'The Return of the Living Dead', 'Mallrats', 'Grease', 'Platoon', 'Fahrenheit 9/11', 'Butch Cassidy and the Sundance Kid', 'Mary Poppins', 'Ordinary People', 'West Side Story', 'Caddyshack', 'The Brothers', 'The Wood', 'The Usual Suspects', 'A Nightmare on Elm Street 5: The Dream Child', 'National Lampoon’s Van Wilder', 'The Wrestler', 'Duel in the Sun', 'Best in Show', 'Escape from New York', 'School Daze', 'Daddy Day Camp', 'Mr. Nice Guy', 'A Mighty Wind', 'Mystic Pizza', 'Sliding Doors', 'Tales from the Hood', 'The Last King of Scotland', 'Halloween 5: The Revenge of Michael Myers', 'Bernie', 'Dolphins and Whales: Tribes of the Ocean', 'Pollock', '200 Cigarettes', 'The Words', 'Casa De Mi Padre', 'City Island', 'The Guard', 'College', 'The Virgin Suicides', 'Little Voice', 'Miss March', 'Wish I Was Here', 'Simply Irresistible', 'Hedwig and the Angry Inch', 'Only the Strong', 'Goddess of Love', 'Shattered Glass', 'Novocaine', 'The Business of Strangers', 'The Wild Bunch', 'The Wackness', 'The First Great Train Robbery', 'Morvern Callar', 'Beastmaster 2: Through the Portal of Time', 'The 5th Quarter', 'The Flower of Evil', 'The Greatest', 'Snow Flower and the Secret Fan', 'Come Early Morning', 'Lucky Break', 'Julia', 'Surfer, Dude', 'Lake of Fire', '11:14', 'Men of War', 'Don McKay', 'Deadfall', 'A Shine of Rainbows', 'The Hit List', 'Emma', 'Videodrome', 'The Spanish Apartment', 'Song One', 'Winter in Wartime', 'Freaky Deaky', 'The Train', 'Trade Of Innocents', 'The Protector', 'Stiff Upper Lips', 'Bend It Like Beckham', 'Sunshine State', 'Crossover', 'Khiladi 786', '[REC]²', 'Standing Ovation', 'The Sting', 'Chariots of Fire', 'Diary of a Mad Black Woman', 'Shine', 'Don Jon', 'High Plains Drifter', 'Ghost World', 'Iris', 'Galaxina', 'The Chorus', 'Mambo Italiano', 'Wonderland', 'Do the Right Thing', 'Harvard Man', 'Le Havre', 'Irreversible', 'R100', 'Rang De Basanti', 'Animals', 'Salvation Boulevard', 'The Ten', 'A Room for Romeo Brass', 'Headhunters', 'Grabbers', 'Saint Ralph', 'Miss Julie', 'Somewhere in Time', 'Dum Maaro Dum', 'Insidious: Chapter 2', 'Saw II', '10 Cloverfield Lane', 'Jackass: The Movie', 'Lights Out', 'Paranormal Activity 3', 'Ouija', 'A Nightmare on Elm Street 3: Dream Warriors', 'Instructions Not Included', 'Paranormal Activity 4', 'The Robe', 'The Return of the Pink Panther', \"Freddy's Dead: The Final Nightmare\", 'Monster', '20,000 Leagues Under the Sea', 'Paranormal Activity: The Marked Ones', 'The Elephant Man', 'Dallas Buyers Club', 'The Lazarus Effect', 'Memento', 'Oculus', 'Clerks II', 'Billy Elliot', 'The Way Way Back', 'House Party 2', 'The Man from Snowy River', \"Doug's 1st Movie\", 'The Apostle', 'Mommie Dearest', 'Our Idiot Brother', 'Race', 'The Players Club', 'As Above, So Below', 'Addicted', \"Eve's Bayou\", 'Still Alice', 'The Egyptian', 'Nighthawks', 'Friday the 13th Part VIII: Jason Takes Manhattan', 'My Big Fat Greek Wedding', 'Spring Breakers', 'Halloween: The Curse of Michael Myers', 'Y Tu Mamá También', 'Shaun of the Dead', 'The Haunting of Molly Hartley', 'Lone Star', 'Halloween 4: The Return of Michael Myers', \"April Fool's Day\", 'Diner', 'Lone Wolf McQuade', 'Apollo 18', 'Sunshine Cleaning', 'No Escape', 'The Beastmaster', 'Solomon and Sheba', 'Fifty Shades of Black', 'Not Easily Broken', 'A Farewell to Arms', 'The Perfect Match', 'Digimon: The Movie', 'Saved!', 'The Barbarian Invasions', 'Robin and Marian', 'The Forsaken', 'Force 10 from Navarone', 'UHF', \"Grandma's Boy\", 'Slums of Beverly Hills', 'Once Upon a Time in the West', 'Made', 'Moon', 'Keeping Up with the Steins', 'Sea Rex 3D: Journey to a Prehistoric World', 'The Sweet Hereafter', 'Of Gods and Men', 'Bottle Shock', 'Jekyll and Hyde ... Together Again', 'Heavenly Creatures', '90 Minutes in Heaven', 'Everything Must Go', 'Zero Effect', 'The Machinist', 'Light Sleeper', 'Kill the Messenger', 'Rabbit Hole', 'Party Monster', 'Green Room', 'The Oh in Ohio', 'Atlas Shrugged Part III: Who is John Galt?', 'Bottle Rocket', 'Albino Alligator', 'Gandhi, My Father', 'Standard Operating Procedure', 'Out of the Blue', 'Tucker and Dale vs Evil', 'Lovely, Still', 'Tycoon', 'Desert Blue', 'Decoys', 'The Visit', 'Redacted', 'Fascination', 'Area 51', 'Sleep Tight', 'The Cottage', 'Dead Like Me: Life After Death', 'Farce of the Penguins', 'Flying By', 'Rudderless', 'Henry & Me', 'Christmas Eve', 'We Have Your Husband', 'Dying of the Light', 'Born Of War', 'Capricorn One', \"Should've Been Romeo\", 'Running Forever', 'Yoga Hosers', 'Navy Seals vs. Zombies', 'I Served the King of England', 'Soul Kitchen', 'Sling Blade', 'The Awakening', 'Hostel', 'A Cock and Bull Story', 'Take Shelter', 'Lady in White', 'Driving Lessons', \"Let's Kill Ward's Wife\", 'The Texas Chainsaw Massacre 2', 'Pat Garrett & Billy the Kid', 'Only God Forgives', 'Camping Sauvage', 'Without Men', 'Dear Frankie', 'All Hat', 'The Names of Love', 'Treading Water', 'Savage Grace', 'Out of the Blue', 'Police Academy', 'The Blue Lagoon', 'Four Weddings and a Funeral', 'Fast Times at Ridgemont High', 'Moby Dick', '25th Hour', 'Bound', 'Requiem for a Dream', 'State Fair', 'Tango', 'Salvador', \"Moms' Night Out\", 'Donnie Darko', 'Saving Private Perez', 'Character', 'Spun', 'Life During Wartime', 'Sympathy for Lady Vengeance', \"Mozart's Sister\", 'Mean Machine', 'Exiled', 'Blackthorn', 'Lilya 4-ever', 'After.Life', 'Fugly', \"One Flew Over the Cuckoo's Nest\", \"R.L. Stine's Monsterville: The Cabinet of Souls\", 'Silent Movie', 'Airlift', 'Anne of Green Gables', 'Falcon Rising', 'The Sweeney', 'Sexy Beast', 'Easy Money', 'Whale Rider', 'Paa', 'Cargo', 'High School Musical', 'Love and Death on Long Island', 'Night Watch', 'The Crying Game', \"Porky's\", 'Survival of the Dead', 'Night of the Living Dead', 'Lost in Translation', 'Annie Hall', 'The Greatest Show on Earth', \"Monster's Ball\", 'Maggie', 'Leaving Las Vegas', 'Hansel and Gretel Get Baked', 'The Front Page', 'The Boy Next Door', 'Trapeze', 'The Kids Are All Right', 'They Live', 'The Great Escape', 'What the #$*! Do We (K)now!?', 'The Last Exorcism Part II', 'Boyhood', 'Scoop', 'The Wash', '3 Strikes', 'The Cooler', 'The Misfits', 'The Night Listener', 'The Jerky Boys', 'The Orphanage', 'A Haunted House 2', 'The Rules of Attraction', 'Topaz', \"Let's Go to Prison\", 'Four Rooms', 'Secretary', 'The Real Cancun', 'Talk Radio', 'Waiting for Guffman', 'Love Stinks', 'You Kill Me', 'Thumbsucker', 'Red State', 'Mirrormask', 'Samsara', 'The Barbarians', 'The Art of Getting By', 'Zipper', 'Poolhall Junkies', 'The Loss of Sexual Innocence', 'Holy Motors', 'Joe', 'Shooting Fish', 'Prison', 'Psycho Beach Party', 'The Big Tease', 'Guten Tag, Ramón', 'Trust', 'An Everlasting Piece', 'Among Giants', 'Adore', 'The Velocity of Gary', 'Mondays in the Sun', 'Stake Land', 'The Last Time I Committed Suicide', 'Futuro Beach', 'Another Happy Day', 'A Lonely Place to Die', 'Nothing', 'The Geographer Drank His Globe Away', '1776', 'Inescapable', \"Hell's Angels\", 'Purple Violets', 'The Veil', 'The Loved Ones', 'The Helpers', 'How to Fall in Love', 'The Perfect Wave', 'A Man for All Seasons', 'Network', 'Gone with the Wind', 'Desert Dancer', 'Major Dundee', 'Annie Get Your Gun', 'Four Lions', 'The House of Sand', 'Defendor', 'The Pirate', 'The Good Heart', 'The History Boys', 'Midnight Cowboy', 'The Full Monty', 'Airplane!', 'Chain of Command', 'Friday', 'Menace II Society', 'Creepshow 2', 'The Ballad of Cable Hogue', 'In Cold Blood', \"The Nun's Story\", 'Harper', 'Frenzy', 'The Witch', 'I Got the Hook Up', \"She's the One\", 'Gods and Monsters', 'The Secret in Their Eyes', 'Train', 'Evil Dead II', 'Pootie Tang', 'Sharknado', 'The Other Conquest', 'Troll Hunter', 'Ira & Abby', 'Winter Passing', 'D.E.B.S.', 'The Masked Saint', 'The Betrayed', 'Taxman', 'The Secret', '2:13', 'Batman: The Dark Knight Returns, Part 2', 'Time to Choose', 'In the Name of the King III', 'Wicked Blood', 'Stranded', 'Lords of London', 'High Anxiety', 'March of the Penguins', 'Margin Call', 'August', 'Choke', 'Whiplash', 'City of God', 'Human Traffic', 'To Write Love on Her Arms', 'The Dead Girl', 'The Hunt', 'A Christmas Story', 'Bella', 'Class of 1984', 'The Opposite Sex', 'Dreaming of Joseph Lees', 'The Class', \"Rosemary's Baby\", 'The Man Who Shot Liberty Valance', 'Adam', 'Maria Full of Grace', 'Beginners', 'Feast', 'Animal House', 'Goldfinger', 'Antiviral', \"It's a Wonderful Life\", 'Trainspotting', 'The Original Kings of Comedy', 'Paranormal Activity 2', 'Waking Ned', 'Bowling for Columbine', 'Coming Home', \"A Nightmare on Elm Street Part 2: Freddy's Revenge\", 'A Room with a View', 'The Purge', 'Sinister', 'Martin Lawrence Live: Runteldat', 'Cat on a Hot Tin Roof', 'Beneath the Planet of the Apes', 'Air Bud', 'Pokémon: Spell of the Unknown', 'Friday the 13th Part VI: Jason Lives', 'The Bridge on the River Kwai', 'Spaced Invaders', 'Family Plot', 'The Apartment', 'Jason Goes to Hell: The Final Friday', 'Torn Curtain', \"Dave Chappelle's Block Party\", 'Slow West', 'Krush Groove', 'Next Day Air', 'Elmer Gantry', 'Judgment at Nuremberg', \"Trippin'\", 'Red River', 'Phat Girlz', 'Before Midnight', 'Teen Wolf Too', 'Phantasm II', 'Woman Thou Art Loosed', 'Real Women Have Curves', 'Water', 'East Is East', 'Whipped', 'Kama Sutra - A Tale of Love', 'Please Give', 'Willy Wonka & the Chocolate Factory', 'Warlock: The Armageddon', '8 Heads in a Duffel Bag', 'Days of Heaven', 'Thirteen Conversations About One Thing', 'Jawbreaker', 'Basquiat', 'Frances Ha', 'Tsotsi', 'Happiness', 'DysFunktional Family', 'Tusk', 'Oldboy', 'Letters to God', 'Hobo with a Shotgun', 'Compadres', 'Freeway', \"Love's Abiding Joy\", 'Fish Tank', 'Damsels in Distress', 'Creature', 'Bachelorette', 'Brave New Girl', \"Tim and Eric's Billion Dollar Movie\", 'Summer Storm', 'Fort McCoy', 'Chain Letter', 'Just Looking', 'The Divide', 'The Eclipse', 'Demonic', 'My Big Fat Independent Movie', 'The Deported', 'Tanner Hall', 'Open Road', 'They Came Together', '30 Nights of Paranormal Activity With the Devil Inside the Girl With the Dragon Tattoo', 'Never Back Down 2: The Beatdown', 'Point Blank', 'Four Single Fathers', 'Enter the Dangerous Mind', 'Something Wicked', 'AWOL-72', 'Iguana', 'Chicago Overcoat', 'Barry Munday', 'Central Station', 'Pocketful of Miracles', 'Close Range', 'Boynton Beach Club', 'Amnesiac', 'Freakonomics', 'High Tension', 'Griff the Invisible', 'Unnatural', 'Hustle & Flow', 'Some Like It Hot', 'Friday the 13th Part VII: The New Blood', 'The Wizard of Oz', 'Young Frankenstein', 'Diary of the Dead', 'Lage Raho Munna Bhai', \"Ulee's Gold\", 'The Black Stallion', 'Sardaarji', 'Journey to Saturn', \"Donovan's Reef\", 'The Dress', 'A Guy Named Joe', 'Blazing Saddles', 'Friday the 13th: The Final Chapter', 'Ida', 'Maurice', 'Beer League', 'Riding Giants', 'Timecrimes', 'Silver Medalist', 'Timber Falls', \"Singin' in the Rain\", 'Fat, Sick & Nearly Dead', 'A Haunted House', \"2016: Obama's America\", 'That Thing You Do!', 'Halloween III: Season of the Witch', 'Escape from the Planet of the Apes', 'Hud', 'Kevin Hart: Let Me Explain', 'My Own Private Idaho', 'Garden State', 'Before Sunrise', 'Evil Words', \"Jesus' Son\", 'Saving Face', 'Brick Lane', 'Robot & Frank', 'My Life Without Me', 'The Spectacular Now', 'Religulous', 'Fuel', \"Valley of the Heart's Delight\", 'Eye of the Dolphin', '8: The Mormon Proposition', 'The Other End of the Line', 'Anatomy', 'Sleep Dealer', 'Super', 'Christmas Mail', 'Stung', 'Antibirth', 'Get on the Bus', 'Thr3e', 'Idiocracy', 'The Rise of the Krays', 'This Is England', 'U.F.O.', 'Bathing Beauty', 'Go for It!', 'Dancer, Texas Pop. 81', 'Show Boat', 'Redemption Road', 'The Calling', 'The Brave Little Toaster', 'Fantasia', '8 Days', 'Friday the 13th Part III', 'Friday the 13th: A New Beginning', 'The Last Sin Eater', 'Do You Believe?', 'Impact Point', 'The Valley of Decision', 'Eden', 'Chicken Tikka Masala', \"There's Always Woodstock\", 'Jack Brooks: Monster Slayer', 'The Best Years of Our Lives', 'Bully', 'Elling', 'Mi America', '[REC]', 'Lies in Plain Sight', 'Sharkskin', 'Containment', 'The Timber', 'From Russia with Love', 'The Toxic Avenger Part II', 'Sleeper', 'It Follows', 'Everything You Always Wanted to Know About Sex *But Were Afraid to Ask', 'To Kill a Mockingbird', 'Mad Max 2: The Road Warrior', 'The Legend of Drunken Master', \"Boys Don't Cry\", 'Silent House', 'The Lives of Others', 'Courageous', 'The Hustler', 'Boom Town', 'The Triplets of Belleville', 'Smoke Signals', 'American Splendor', 'Before Sunset', 'Amores perros', 'Thirteen', \"Gentleman's Agreement\", \"Winter's Bone\", 'Touching the Void', \"Alexander's Ragtime Band\", 'Me and You and Everyone We Know', 'Inside Job', 'We Are Your Friends', 'Ghost Dog: The Way of the Samurai', 'Harsh Times', 'Captive', 'Full Frontal', 'Witchboard', 'Shortbus', 'Waltz with Bashir', 'The Book of Mormon Movie, Volume 1: The Journey', 'No End in Sight', 'The Diary of a Teenage Girl', 'In the Shadow of the Moon', \"Meek's Cutoff\", 'Inside Deep Throat', 'Dinner Rush', 'Clockwatchers', 'The Virginity Hit', 'Subway', 'House of D', 'Teeth', 'Six-String Samurai', 'Hum To Mohabbat Karega', \"It's All Gone Pete Tong\", 'Saint John of Las Vegas', '24 7: Twenty Four Seven', 'Stonewall', 'Roadside Romeo', 'This Thing of Ours', 'The Lost Medallion: The Adventures of Billy Stone', 'The Last Five Years', 'The Missing Person', 'Return of the Living Dead 3', 'London', 'Sherrybaby', 'Circle', 'Eden Lake', 'Plush', 'Lesbian Vampire Killers', \"Gangster's Paradise: Jerusalema\", 'Freeze Frame', 'Grave Encounters', 'Stitches', 'Nine Dead', 'To Be Frank, Sinatra at 100', 'Bananas', 'Supercapitalist', 'Rockaway', 'The Lady from Shanghai', \"No Man's Land: The Rise of Reeker\", 'Highway', 'Small Apartments', 'Coffee Town', 'The Ghastly Love of Johnny X', 'All Is Bright', 'The Torture Chamber of Dr. Sadism', \"Straight A's\", 'A Funny Thing Happened on the Way to the Forum', 'Slacker Uprising', \"The Legend of Hell's Gate: An American Conspiracy\", 'The Walking Deceased', 'The Curse of Downers Grove', 'Shark Lake', \"River's Edge\", 'Northfork', 'The Marine 4: Moving Target', 'Buried', 'Submarine', 'The Square', 'One to Another', 'ABCD (Any Body Can Dance)', 'Man on Wire', 'Abandoned', 'Brotherly Love', 'The Last Exorcism', 'Nowhere Boy', 'A Streetcar Named Desire', 'Dr. Strangelove or: How I Learned to Stop Worrying and Love the Bomb', 'The Crime of Padre Amaro', 'Beasts of the Southern Wild', 'Battle for the Planet of the Apes', 'Songcatcher', 'Higher Ground', 'Vaalu', 'The Greatest Movie Ever Sold', 'Ed and His Dead Mother', 'Travellers and Magicians', \"Hang 'em High\", 'Deadline - U.S.A.', 'Sublime', \"A Beginner's Guide to Snuff\", 'Independence Daysaster', 'Dysfunctional Friends', 'Run Lola Run', 'May', 'Against the Wild', 'Under the Same Moon', 'Conquest of the Planet of the Apes', 'In the Bedroom', 'I Spit on Your Grave', 'Happy, Texas', 'My Summer of Love', 'The Lunchbox', 'Yes', \"You Can't Take It With You\", 'From Here to Eternity', 'She Wore a Yellow Ribbon', 'Grace Unplugged', 'Foolish', 'N-Secure', 'Caramel', 'Out of the Dark', 'The Bubble', 'The Conversation', 'Dil Jo Bhi Kahey...', 'Mississippi Mermaid', 'I Love Your Work', 'Cabin Fever', 'Waitress', 'Bloodsport', 'Mr. Smith Goes to Washington', 'Kids', 'The Squid and the Whale', 'Kissing Jessica Stein', 'Kickboxer: Vengeance', 'Spellbound', 'Exotica', \"Buffalo '66\", 'Insidious', 'Repo Man', 'Nine Queens', 'The Gatekeepers', 'The Ballad of Jack and Rose', 'The To Do List', 'Killing Zoe', 'The Believer', 'Snow Angels', 'Unsullied', 'Session 9', 'I Want Someone to Eat Cheese With', 'Mooz-lum', 'Hatchet', 'Modern Times', 'Stolen Summer', 'My Name Is Bruce', 'The Salon', 'Road Hard', 'Forty Shades of Blue', 'Amigo', 'Pontypool', 'Trucker', 'Me You and Five Bucks', 'The Lords of Salem', 'Housebound', 'Wal-Mart: The High Cost of Low Price', 'Fetching Cody', 'Last I Heard', 'Closer to the Moon', 'Mutant World', 'Growing Up Smith', 'Checkmate', '#Horror', 'Wind Walkers', 'Snow White and the Seven Dwarfs', 'The Holy Girl', 'Shalako', 'Incident at Loch Ness', 'The Dog Lover', 'GirlHouse', 'The Blue Room', 'House at the End of the Drive', 'Batman', 'Lock, Stock and Two Smoking Barrels', 'The Ballad of Gregorio Cortez', 'The Celebration', 'Trees Lounge', 'Journey from the Fall', 'The Basket', 'Eddie: The Sleepwalking Cannibal', 'Queen of the Mountains', 'Def-Con 4', 'The Hebrew Hammer', \"Neal 'n' Nikki\", 'The 41–Year–Old Virgin Who Knocked Up Sarah Marshall and Felt Superbad About It', 'Forget Me Not', 'Rebecca', 'Friday the 13th Part 2', 'The Lost Weekend', 'C.H.U.D.', 'Filly Brown', 'The Lion of Judah', 'Niagara', 'How Green Was My Valley', 'Da Sweet Blood of Jesus', 'Sex, Lies, and Videotape', 'Saw', 'Super Troopers', 'The Algerian', 'The Amazing Catfish', 'Monsoon Wedding', 'You Can Count on Me', 'The Trouble with Harry', \"But I'm a Cheerleader\", 'Home Run', 'Reservoir Dogs', 'The Blue Bird', 'The Good, the Bad and the Ugly', 'The Second Mother', 'Blue Like Jazz', 'Down & Out With The Dolls', 'Pink Ribbons, Inc.', 'Certifiably Jonathan', 'Desire', 'The Blade of Don Juan', 'Grand Theft Parsons', 'Extreme Movie', 'The Charge of the Light Brigade', 'Below Zero', 'Crowsnest', 'Airborne', 'Cotton Comes to Harlem', 'The Wicked Within', 'Bleeding Hearts', 'Waiting...', \"Dead Man's Shoes\", 'From a Whisper to a Scream', 'Sex With Strangers', \"Dracula: Pages from a Virgin's Diary\", 'Faith Like Potatoes', 'Beyond the Black Rainbow', 'The Raid', 'The Dead Undead', 'The Vatican Exorcisms', 'Casablanca', 'Lake Mungo', 'Rocket Singh: Salesman of the Year', 'Silent Running', 'Rocky', 'The Sleepwalker', 'Tom Jones', 'Unfriended', 'Taxi Driver', 'The Howling', 'Dr. No', 'Chernobyl Diaries', 'Hellraiser', \"God's Not Dead 2\", 'Cry_Wolf', 'Godzilla 2000', 'Blue Valentine', 'Transamerica', 'The Devil Inside', 'Beyond the Valley of the Dolls', 'Love Me Tender', 'An Inconvenient Truth', 'Sands of Iwo Jima', 'Shine a Light', 'The Green Inferno', 'Departure', 'The Sessions', 'Food, Inc.', 'October Baby', 'Next Stop Wonderland', 'The Skeleton Twins', 'Martha Marcy May Marlene', 'Obvious Child', 'Frozen River', '20 Feet from Stardom', 'Two Girls and a Guy', 'Walking and Talking', 'Who Killed the Electric Car?', 'The Broken Hearts Club: A Romantic Comedy', 'Bubba Ho-tep', 'Slam', 'Brigham City', 'Fiza', 'Orgazmo', 'All the Real Girls', 'Dream with the Fishes', 'Blue Car', 'Palo Alto', 'Ajami', 'Wristcutters: A Love Story', 'I Origins', 'The Battle of Shaker Heights', 'The Act of Killing', 'Taxi to the Dark Side', 'Once in a Lifetime: The Extraordinary Story of the New York Cosmos', 'Guiana 1838', 'Lisa Picard Is Famous', 'Antarctica: A Year on Ice', 'A LEGO Brickumentary', 'Hardflip', 'Chocolate: Deep Dark Secrets', 'The House of the Devil', 'The Perfect Host', 'Safe Men', 'Speedway Junky', 'The Last Big Thing', 'The Specials', '16 to Life', 'Alone With Her', 'Creative Control', 'Special', 'Sparkler', 'The Helix... Loaded', 'In Her Line of Fire', 'The Jimmy Show', 'Heli', 'Karachi se Lahore', 'Loving Annabelle', 'Hits', 'Jimmy and Judy', 'Frat Party', \"The Party's Over\", 'Proud', 'The Poker House', 'Childless', 'ZMD: Zombies of Mass Destruction', 'Snow White: A Deadly Summer', 'Hidden Away', 'My Last Day Without You', 'Steppin: The Movie', \"Doc Holliday's Revenge\", 'Black Rock', 'Truth or Dare', 'The Pet', 'Bang Bang Baby', 'Fear Clinic', 'Zombie Hunter', 'A Fine Step', 'Charly', 'Banshee Chapter', 'Ask Me Anything', 'And Then Came Love', 'Food Chains', 'On the Waterfront', 'L!fe Happens', '4 Months, 3 Weeks and 2 Days', 'The Horror Network Vol. 1', 'Hard Candy', 'The Quiet', 'Circumstance', 'Fruitvale Station', 'The Brass Teapot', 'Bambi', 'The Hammer', 'Latter Days', 'Elza', '1982', 'For a Good Time, Call...', 'Celeste & Jesse Forever', 'Time Changer', 'London to Brighton', 'American Hero', 'Windsor Drive', 'A Separation', 'Crying with Laughter', 'Welcome to the Dollhouse', 'Ruby in Paradise', 'Raising Victor Vargas', \"Pandora's Box\", 'Harrison Montgomery', 'Live-In Maid', 'Deterrence', 'The Mudge Boy', 'The Young Unknowns', 'Not Cool', 'Dead Snow', 'Saints and Soldiers', 'Vessel', 'American Graffiti', 'Iraq for Sale: The War Profiteers', 'Aqua Teen Hunger Force Colon Movie Film for Theaters', 'Safety Not Guaranteed', 'Kevin Hart: Laugh at My Pain', 'Kill List', 'The Innkeepers', 'The Conformist', 'Interview with the Assassin', 'Donkey Punch', 'All the Boys Love Mandy Lane', 'Bled', 'High Noon', 'Hoop Dreams', 'Rize', 'L.I.E.', 'The Sisterhood of Night', 'B-Girl', 'Half Nelson', 'Naturally Native', 'Hav Plenty', 'Adulterers', 'Escape from Tomorrow', 'Starsuckers', 'The Hadza:  Last of the First', 'After', 'Treachery', 'Walter', 'Top Hat', 'The Blair Witch Project', 'Woodstock', 'The Kentucky Fried Movie', 'Mercy Streets', 'Carousel of Revenge', 'Broken Vessels', 'Water & Power', 'They Will Have to Kill Us First', 'Light from the Darkroom', 'The Country Doctor', \"The Maid's Room\", \"A Hard Day's Night\", 'The Harvest (La Cosecha)', 'Love Letters', 'Juliet and Alfa Romeo', 'Fireproof', 'Faith Connections', 'Benji', 'Open Water', 'High Road', 'Kingdom of the Spiders', 'Mad Hot Ballroom', 'The Station Agent', 'To Save A Life', 'Wordplay', 'Beyond the Mat', 'The Singles Ward', 'Osama', 'Sholem Aleichem: Laughing In The Darkness', 'Groove', 'The R.M.', 'Twin Falls Idaho', 'Mean Creek', 'Hurricane Streets', 'Never Again', 'Civil Brand', 'Lonesome Jim', 'Drinking Buddies', 'Deceptive Practice: The Mysteries and Mentors of Ricky Jay', 'Seven Samurai', 'The Other Dream Team', 'Johnny Suede', 'Finishing The Game', 'Rubber', 'Kiss the Bride', 'The Slaughter Rule', 'Monsters', 'The Californians', 'The Living Wake', 'Detention of the Dead', 'Crazy Stone', 'Scott Walker: 30 Century Man', 'Everything Put Together', 'Good Kill', 'The Outrageous Sophie Tucker', 'Now Is Good', 'Girls Gone Dead', 'America Is Still the Place', 'Subconscious', 'Enter Nowhere', 'El Rey de Najayo', 'Fight to the Finish', \"Alleluia! The Devil's Carnival\", 'The Sound and the Shadow', 'Rodeo Girl', 'Born to Fly: Elizabeth Streb vs. Gravity', 'The Little Ponderosa Zoo', 'The Toxic Avenger', 'Straight Out of Brooklyn', 'Bloody Sunday', 'Diamond Ruff', 'Conversations with Other Women', 'Poultrygeist: Night of the Chicken Dead', 'Mutual Friends', '42nd Street', 'Rise of the Entrepreneur: The Search for a Better Way', 'Metropolitan', 'As It Is in Heaven', 'Roadside', 'Napoleon Dynamite', 'Blue Ruin', 'Paranormal Activity', 'Dogtown and Z-Boys', 'Monty Python and the Holy Grail', 'Quinceañera', 'Gory Gory Hallelujah', 'Tarnation', 'I Want Your Money', 'Love in the Time of Monsters', 'The Beyond', 'What Happens in Vegas', 'The Dark Hours', 'My Beautiful Laundrette', 'Fabled', 'Show Me', 'Cries and Whispers', 'Intolerance', 'Trekkies', 'The Broadway Melody', 'The Evil Dead', 'Maniac', 'Censored Voices', 'Murderball', 'American Ninja 2: The Confrontation', '51 Birch Street', 'Rotor DR1', '12 Angry Men', 'My Dog Tulip', 'It Happened One Night', 'Dogtooth', 'Tupac: Resurrection', 'Tumbleweeds', 'The Prophecy', \"When the Cat's Away\", 'Pieces of April', 'The Big Swap', 'Old Joy', 'Wendy and Lucy', '3 Backyards', 'Pierrot le Fou', 'Sisters in Law', 'Ayurveda: Art of Being', 'Nothing But a Man', 'First Love, Last Rites', 'Fighting Tommy Riley', 'Royal Kill', 'The Looking Glass', 'Death Race 2000', 'Locker 13', 'Midnight Cabaret', \"Anderson's Cross\", 'Bizarre', 'Graduation Day', 'Some Guy Who Kills People', 'Compliance', 'Chasing Amy', 'Lovely & Amazing', 'Death Calls', 'Better Luck Tomorrow', 'The Incredibly True Adventure of Two Girls In Love', 'Chuck & Buck', 'American Desi', \"Amidst the Devil's Wings\", 'Cube', 'Love and Other Catastrophes', 'I Married a Strange Person!', 'November', 'Like Crazy', 'Teeth and Blood', 'Sugar Town', 'The Motel', 'The Canyons', 'On the Outs', 'Shotgun Stories', 'Exam', 'The Sticky Fingers of Time', 'Sunday School Musical', 'Rust', 'Ink', 'The Christmas Bunny', 'Butterfly', 'UnDivided', 'The Frozen', 'Horse Camp', 'Give Me Shelter', 'The Big Parade', 'Little Big Top', 'Along the Roadside', 'Bronson', 'Western Religion', 'Burn', 'Urbania', 'The Stewardesses', 'The Beast from 20,000 Fathoms', 'Mad Max', 'Swingers', 'A Fistful of Dollars', 'She Done Him Wrong', 'Short Cut to Nirvana: Kumbh Mela', 'The Grace Card', 'Middle of Nowhere', 'Three', 'The Business of Fancydancing', 'Call + Response', 'Malevolence', 'Reality Show', 'Super Hybrid', 'Baghead', 'American Beast', 'The Case of the Grinning Cat', 'Ordet', 'Good Dick', 'The Man from Earth', 'The Trials Of Darryl Hunt', 'Samantha: An American Girl Holiday', 'Yesterday Was a Lie', 'Theresa Is a Mother', 'H.', 'Archaeology of a Woman', 'Children of Heaven', 'Weekend', \"She's Gotta Have It\", 'Butterfly Girl', 'The World Is Mine', 'Another Earth', \"Sweet Sweetback's Baadasssss Song\", 'Perfect Cowboy', 'Tadpole', 'Once', 'The Woman Chaser', 'The Horse Boy', 'When the Lights Went Out', 'Heroes of Dirt', 'A Charlie Brown Christmas', 'Antarctic Edge: 70° South', 'Aroused', 'Top Spin', 'Roger & Me', 'An American in Hollywood', 'Sound of My Voice', 'The Blood of My Brother: A Story of Death in Iraq', \"Your Sister's Sister\", \"A Dog's Breakfast\", 'The Married Woman', 'The Birth of a Nation', 'The Work and The Story', 'Facing the Giants', 'The Gallows', 'Eraserhead', 'Hollywood Shuffle', 'The Mighty', 'Penitentiary', 'The Lost Skeleton of Cadavra', \"Dude Where's My Dog?\", 'Cheap Thrills', 'Indie Game: The Movie', 'Straightheads', 'Open Secret', 'Echo Dr.', 'The Night Visitor', 'The Past Is a Grotesque Animal', 'Peace, Propaganda & the Promised Land', 'Pi', \"I Love You, Don't Touch Me!\", '20 Dates', 'Queen Crab', 'Super Size Me', 'The FP', 'Happy Christmas', \"The Brain That Wouldn't Die\", 'Tiger Orange', 'Supporting Characters', 'Absentia', 'The Brothers McMullen', 'The Dirties', 'Gabriela', 'Tiny Furniture', 'Hayride', 'The Naked Ape', 'Counting', 'The Call of Cthulhu', 'Bending Steel', 'The Signal', 'The Image Revolution', 'This Is Martin Bonner', 'A True Story', 'George Washington', 'Smiling Fish & Goat On Fire', 'Dawn of the Crescent Moon', 'Raymond Did It', 'The Last Waltz', 'Run, Hide, Die', 'The Exploding Girl', \"The Legend of God's Gun\", 'Mutual Appreciation', 'Her Cry: La Llorona Investigation', 'Down Terrace', 'Clerks', 'Pink Narcissus', 'Funny Ha Ha', 'In the Company of Men', 'Manito', 'Rampage', 'Slacker', 'Dutch Kills', 'Dry Spell', 'Flywheel', 'Backmask', 'The Puffy Chair', 'Stories of Our Lives', 'Breaking Upwards', 'All Superheroes Must Die', 'Pink Flamingos', 'Clean', 'The Circle', 'Tin Can Man', 'Cure', 'On The Downlow', 'Sanctuary: Quite a Conundrum', 'Bang', 'Primer', 'Cavite', 'El Mariachi', 'Newlyweds', 'Signed, Sealed, Delivered', 'Shanghai Calling', 'My Date with Drew']\n"
          ]
        }
      ]
    },
    {
      "cell_type": "code",
      "source": [
        "import difflib"
      ],
      "metadata": {
        "id": "SZc0P9i89K8H"
      },
      "execution_count": 38,
      "outputs": []
    },
    {
      "cell_type": "code",
      "source": [
        "#finding the close match for the movie name\n",
        "find_close_match = difflib.get_close_matches(movie_name, list_of_all_movie_title)\n",
        "print(find_close_match)"
      ],
      "metadata": {
        "colab": {
          "base_uri": "https://localhost:8080/"
        },
        "id": "YhHeFQJ49V4A",
        "outputId": "ded5b823-96b7-4b64-b605-e2b3abd415f4"
      },
      "execution_count": 40,
      "outputs": [
        {
          "output_type": "stream",
          "name": "stdout",
          "text": [
            "['Batman', 'Batman', 'Catwoman']\n"
          ]
        }
      ]
    },
    {
      "cell_type": "code",
      "source": [
        "close_match = find_close_match[0]\n",
        "print(close_match)"
      ],
      "metadata": {
        "colab": {
          "base_uri": "https://localhost:8080/"
        },
        "id": "4iEPZfw19j9I",
        "outputId": "69b3ba84-bfdb-420c-e655-364456f9f503"
      },
      "execution_count": 41,
      "outputs": [
        {
          "output_type": "stream",
          "name": "stdout",
          "text": [
            "Batman\n"
          ]
        }
      ]
    },
    {
      "cell_type": "code",
      "source": [
        "#find the index of the movie based on the title\n",
        "index_of_movie=movies_data[movies_data.title==close_match]['index'].values[0]\n",
        "print(index_of_movie)"
      ],
      "metadata": {
        "colab": {
          "base_uri": "https://localhost:8080/"
        },
        "id": "K_6RrUbo9w0Q",
        "outputId": "5a819461-f002-4253-bb21-ec313954a2a9"
      },
      "execution_count": 43,
      "outputs": [
        {
          "output_type": "stream",
          "name": "stdout",
          "text": [
            "1359\n"
          ]
        }
      ]
    },
    {
      "cell_type": "code",
      "source": [
        "# getting a list of similar movies\n",
        "\n",
        "similarity_score = list(enumerate(similarity[index_of_movie]))#enumerate is used for the loop and counting of the loop\n",
        "print(similarity_score)"
      ],
      "metadata": {
        "colab": {
          "base_uri": "https://localhost:8080/"
        },
        "id": "i_sbiB8P-Wn4",
        "outputId": "4a44e812-5e42-485f-f95e-8671ab749336"
      },
      "execution_count": 46,
      "outputs": [
        {
          "output_type": "stream",
          "name": "stdout",
          "text": [
            "[(0, 0.02240375535667525), (1, 0.03713141379401656), (2, 0.0), (3, 0.10838373968111226), (4, 0.019944737887898405), (5, 0.05317631129839719), (6, 0.0), (7, 0.0), (8, 0.035160513892531414), (9, 0.03454811132330651), (10, 0.11109698567521185), (11, 0.0), (12, 0.012619314884576243), (13, 0.009721477854320879), (14, 0.11913438408092053), (15, 0.0), (16, 0.0), (17, 0.0), (18, 0.0400618813386922), (19, 0.017602372926109135), (20, 0.0), (21, 0.0), (22, 0.009602492201906355), (23, 0.017315613279587763), (24, 0.028733215611761623), (25, 0.0), (26, 0.0), (27, 0.0), (28, 0.0), (29, 0.0), (30, 0.0495993846004657), (31, 0.019952864845240073), (32, 0.06265766221664047), (33, 0.0), (34, 0.0), (35, 0.0), (36, 0.020216206166662323), (37, 0.013135677301594614), (38, 0.0), (39, 0.024705322919237677), (40, 0.03280352047010059), (41, 0.03250126184898705), (42, 0.020671521047326318), (43, 0.01010530935325807), (44, 0.0), (45, 0.0), (46, 0.05028360865169049), (47, 0.0), (48, 0.0), (49, 0.008832707979668931), (50, 0.022833831513894745), (51, 0.0), (52, 0.0), (53, 0.010351437583500732), (54, 0.03764554627493949), (55, 0.0), (56, 0.0), (57, 0.011048339350951132), (58, 0.01121443026136493), (59, 0.009747041528534546), (60, 0.0), (61, 0.012700373484944955), (62, 0.0), (63, 0.00931362411698938), (64, 0.031159421690442557), (65, 0.10239698980890886), (66, 0.019262039047220004), (67, 0.0), (68, 0.0), (69, 0.017363459719421617), (70, 0.0), (71, 0.0), (72, 0.055025476155765675), (73, 0.048204314636356056), (74, 0.0), (75, 0.01960615440842188), (76, 0.0), (77, 0.009795475476886592), (78, 0.0), (79, 0.027132185209419214), (80, 0.013046272145414307), (81, 0.02958927407423937), (82, 0.0), (83, 0.015531757773516954), (84, 0.0), (85, 0.0), (86, 0.013520122347505449), (87, 0.0), (88, 0.009941287358253288), (89, 0.018289843107424354), (90, 0.02044601045374992), (91, 0.0), (92, 0.012567725772953824), (93, 0.009691599170659088), (94, 0.0), (95, 0.029009163815098195), (96, 0.029291298646836158), (97, 0.0), (98, 0.030477258970799954), (99, 0.023260954667415942), (100, 0.03062233809721153), (101, 0.032952580400956825), (102, 0.0), (103, 0.04925284807813812), (104, 0.0), (105, 0.01027358197328786), (106, 0.012783799771503951), (107, 0.0), (108, 0.02048000619536641), (109, 0.0), (110, 0.0), (111, 0.0), (112, 0.0), (113, 0.04376112570163569), (114, 0.03089695018280408), (115, 0.02691126059906336), (116, 0.02238287187708494), (117, 0.030148495215724228), (118, 0.0), (119, 0.12776123800525568), (120, 0.01052159098700765), (121, 0.03066168936424828), (122, 0.010773838881822125), (123, 0.009552854061704877), (124, 0.009121013777987049), (125, 0.009655288421852856), (126, 0.009579123181116103), (127, 0.0), (128, 0.0), (129, 0.012524535895791007), (130, 0.0), (131, 0.013528940185735224), (132, 0.009590407896318279), (133, 0.03241446892707571), (134, 0.0), (135, 0.01827072465468556), (136, 0.0), (137, 0.031151642300106967), (138, 0.0), (139, 0.0), (140, 0.010316036268870296), (141, 0.0), (142, 0.0), (143, 0.0), (144, 0.0), (145, 0.0), (146, 0.0), (147, 0.0), (148, 0.023474108063262427), (149, 0.009529425759268299), (150, 0.034459583496868236), (151, 0.0), (152, 0.02947506117074221), (153, 0.0), (154, 0.012160286698455978), (155, 0.0), (156, 0.03362942397247913), (157, 0.0), (158, 0.0), (159, 0.011617455202332748), (160, 0.012164401890336508), (161, 0.0), (162, 0.012212705249354241), (163, 0.05349212446978034), (164, 0.04102777245564078), (165, 0.01124442779478855), (166, 0.0), (167, 0.0), (168, 0.012156438170569252), (169, 0.0), (170, 0.02538813983863699), (171, 0.028623517887526283), (172, 0.011990894182334821), (173, 0.0), (174, 0.0), (175, 0.009571212201126616), (176, 0.00914696292707064), (177, 0.022401253727517924), (178, 0.009692180566485107), (179, 0.0), (180, 0.0), (181, 0.021271556721688175), (182, 0.020060090810409867), (183, 0.02075698310316922), (184, 0.013455261482547895), (185, 0.0), (186, 0.018188919031877207), (187, 0.0), (188, 0.0), (189, 0.022393762886417812), (190, 0.009498352329180986), (191, 0.02195782409001988), (192, 0.0), (193, 0.0), (194, 0.0), (195, 0.02187523604175549), (196, 0.04648408464869908), (197, 0.033156844062853644), (198, 0.022426210512177552), (199, 0.03941315415639358), (200, 0.02076538756663958), (201, 0.010711388757040936), (202, 0.0), (203, 0.0), (204, 0.010130020696885166), (205, 0.00983416308479351), (206, 0.012181499131207509), (207, 0.019378669975534016), (208, 0.021796330656086035), (209, 0.0), (210, 0.1766600851752957), (211, 0.02012934700563767), (212, 0.0195572727947943), (213, 0.01102905171410361), (214, 0.0), (215, 0.05674760511016427), (216, 0.009907615851439466), (217, 0.05675227833518347), (218, 0.0), (219, 0.03808627098968786), (220, 0.018915504992778408), (221, 0.0), (222, 0.0), (223, 0.040735496683667154), (224, 0.06074038789618559), (225, 0.0), (226, 0.07611681978677547), (227, 0.0), (228, 0.0), (229, 0.0), (230, 0.0), (231, 0.0), (232, 0.0), (233, 0.0), (234, 0.010390363432992046), (235, 0.012076803551916976), (236, 0.0), (237, 0.0), (238, 0.020608488182034045), (239, 0.009799392720273423), (240, 0.0), (241, 0.012704565306017464), (242, 0.022394098715113126), (243, 0.0), (244, 0.0), (245, 0.017898535151997696), (246, 0.0), (247, 0.00950019053331062), (248, 0.026472309181708602), (249, 0.0), (250, 0.028115276804844623), (251, 0.021857853184800602), (252, 0.020113947831758856), (253, 0.0), (254, 0.0), (255, 0.0), (256, 0.009912644051391157), (257, 0.010286215466113705), (258, 0.012912472556528786), (259, 0.01845418801969359), (260, 0.0), (261, 0.0), (262, 0.012171326811528596), (263, 0.0), (264, 0.0), (265, 0.04152376781718313), (266, 0.0), (267, 0.03426633537714501), (268, 0.012353931626794101), (269, 0.03628693861335637), (270, 0.0228430819463364), (271, 0.015634220074933786), (272, 0.030370942217242285), (273, 0.009104620005870935), (274, 0.0), (275, 0.009495500056012048), (276, 0.03325305552123907), (277, 0.0), (278, 0.08186116819189636), (279, 0.022574415705566883), (280, 0.009343932932266328), (281, 0.009704750455790605), (282, 0.0), (283, 0.0), (284, 0.01044127305931057), (285, 0.027619949157269015), (286, 0.0), (287, 0.010061992260550578), (288, 0.0), (289, 0.0), (290, 0.010946870246653478), (291, 0.024361538552001995), (292, 0.028782821273160286), (293, 0.02755575959420719), (294, 0.0), (295, 0.023625324210669468), (296, 0.023594640681128883), (297, 0.010449565829685563), (298, 0.010087832781190445), (299, 0.08717682043081576), (300, 0.0), (301, 0.0), (302, 0.0), (303, 0.09110195855422171), (304, 0.0), (305, 0.05371679199170137), (306, 0.014887632507166293), (307, 0.0), (308, 0.008576826506673846), (309, 0.013864836295683499), (310, 0.009742416661732147), (311, 0.0), (312, 0.0), (313, 0.0), (314, 0.040500370032107956), (315, 0.008959542892795208), (316, 0.02079260901342736), (317, 0.0), (318, 0.01829356896053651), (319, 0.0), (320, 0.0), (321, 0.00984787698901222), (322, 0.013212629928814253), (323, 0.033869152387607696), (324, 0.03980935264904019), (325, 0.0), (326, 0.023020841554247155), (327, 0.02782892606031033), (328, 0.016936958741942683), (329, 0.022180044006723472), (330, 0.01217886213064027), (331, 0.03260582341899649), (332, 0.01850920035162183), (333, 0.0), (334, 0.01925951992392881), (335, 0.0), (336, 0.009161764031058832), (337, 0.0), (338, 0.0), (339, 0.027392518875394383), (340, 0.007998000300012135), (341, 0.012138585742271042), (342, 0.05120069927978245), (343, 0.025504245421354044), (344, 0.0), (345, 0.010501752595585983), (346, 0.008886759073724763), (347, 0.0), (348, 0.0), (349, 0.0), (350, 0.010889310435251095), (351, 0.07070958213802363), (352, 0.019229978170321453), (353, 0.016790795055477387), (354, 0.029008101840228145), (355, 0.0), (356, 0.009958753624552731), (357, 0.02154733871006815), (358, 0.05732999715216538), (359, 0.0), (360, 0.0), (361, 0.009958765941688777), (362, 0.0), (363, 0.0), (364, 0.028716435897120467), (365, 0.0), (366, 0.04948370544447902), (367, 0.009320400643550239), (368, 0.0), (369, 0.027615321811039838), (370, 0.00960679176757831), (371, 0.008249497346592477), (372, 0.04619645704043869), (373, 0.015579475652904436), (374, 0.0), (375, 0.0), (376, 0.0), (377, 0.014655491078085064), (378, 0.0), (379, 0.011413912684510034), (380, 0.008832295154985676), (381, 0.015815301141894774), (382, 0.0), (383, 0.0), (384, 0.01920357881817587), (385, 0.0), (386, 0.0), (387, 0.009999795955900958), (388, 0.02080717883734877), (389, 0.009844997376840964), (390, 0.0), (391, 0.01181527122228535), (392, 0.0), (393, 0.023060389036391057), (394, 0.0), (395, 0.017201873701048708), (396, 0.010519515783183808), (397, 0.0), (398, 0.019422821773212536), (399, 0.0), (400, 0.018184771041987177), (401, 0.0), (402, 0.010229213815181368), (403, 0.03000616019699002), (404, 0.0), (405, 0.016245087674765894), (406, 0.009312526598606785), (407, 0.011046187205335203), (408, 0.020321466734946416), (409, 0.0061715734273922), (410, 0.01189820017560762), (411, 0.024250352470070777), (412, 0.009655428500811393), (413, 0.012791988553452288), (414, 0.009743816432603847), (415, 0.010558110249771793), (416, 0.0211251404684053), (417, 0.03308926876376596), (418, 0.0), (419, 0.037032834189148094), (420, 0.022313705195196078), (421, 0.024102437767224573), (422, 0.07223143106530092), (423, 0.012604173190926802), (424, 0.0), (425, 0.011004753970892008), (426, 0.044778108570074644), (427, 0.0), (428, 0.23511456646392073), (429, 0.008951232841697214), (430, 0.0), (431, 0.009901614491545249), (432, 0.0), (433, 0.010358649688636533), (434, 0.03337037745262923), (435, 0.012367717867941459), (436, 0.0), (437, 0.010875091937650374), (438, 0.09880550579305722), (439, 0.0), (440, 0.009631183639287487), (441, 0.010210383300090655), (442, 0.008126602599664487), (443, 0.01162368679214702), (444, 0.04573733916595929), (445, 0.0), (446, 0.009910864993784234), (447, 0.0487997999961728), (448, 0.024486648492490617), (449, 0.0), (450, 0.010207657971341244), (451, 0.012206262158113067), (452, 0.017687367958080413), (453, 0.010298972595694572), (454, 0.018363458306527324), (455, 0.0), (456, 0.019707932612610862), (457, 0.010055734666512406), (458, 0.0), (459, 0.0), (460, 0.0), (461, 0.0), (462, 0.0), (463, 0.02146411637635043), (464, 0.0), (465, 0.0), (466, 0.0), (467, 0.0), (468, 0.019316319614047995), (469, 0.0), (470, 0.04445122554390595), (471, 0.01065854147487534), (472, 0.012515687692867577), (473, 0.11114401567413634), (474, 0.0), (475, 0.008389064019176776), (476, 0.030868137669260227), (477, 0.0), (478, 0.0), (479, 0.010967203928464923), (480, 0.03659858163097993), (481, 0.014403244114144132), (482, 0.0), (483, 0.017833925585344614), (484, 0.03576644542103051), (485, 0.009101199556693008), (486, 0.011655563565427894), (487, 0.0), (488, 0.02020903907839601), (489, 0.01535858252463237), (490, 0.0), (491, 0.0), (492, 0.0), (493, 0.014427383851741884), (494, 0.031064111576508922), (495, 0.01953429703414176), (496, 0.0), (497, 0.022268306498233796), (498, 0.0), (499, 0.010642494329598193), (500, 0.019577610704987924), (501, 0.010292046119893398), (502, 0.0), (503, 0.02695893049098051), (504, 0.0), (505, 0.021439256486149548), (506, 0.010387650735441574), (507, 0.0), (508, 0.0), (509, 0.0), (510, 0.03098432762422159), (511, 0.0), (512, 0.0), (513, 0.03166656955665527), (514, 0.0), (515, 0.008853219052598008), (516, 0.028398823845824983), (517, 0.009668320797452829), (518, 0.030594001588743622), (519, 0.0), (520, 0.0), (521, 0.0), (522, 0.0), (523, 0.0), (524, 0.00988313242719885), (525, 0.01848566768469463), (526, 0.0), (527, 0.016556265503721638), (528, 0.0227170235925325), (529, 0.0), (530, 0.0), (531, 0.009237527993382302), (532, 0.0), (533, 0.0), (534, 0.021268296311908248), (535, 0.009554368586001935), (536, 0.0), (537, 0.012149963580543417), (538, 0.0), (539, 0.010699092857654439), (540, 0.0), (541, 0.0), (542, 0.018546310544146086), (543, 0.010487428775208248), (544, 0.00971684769157105), (545, 0.0), (546, 0.05045713658936722), (547, 0.025958803075874618), (548, 0.009070714230636242), (549, 0.03590510912144959), (550, 0.0), (551, 0.0), (552, 0.0), (553, 0.010167465536458083), (554, 0.01974924392452754), (555, 0.009750924314604415), (556, 0.027256142869623884), (557, 0.01015934967636056), (558, 0.009016664783186511), (559, 0.012844011400108886), (560, 0.023340324964254058), (561, 0.0), (562, 0.0), (563, 0.01021174385501247), (564, 0.0), (565, 0.010624696546920363), (566, 0.009258872051598765), (567, 0.0107749632617939), (568, 0.0), (569, 0.0), (570, 0.0), (571, 0.02924014206398944), (572, 0.02526185066168161), (573, 0.0), (574, 0.00976533071072874), (575, 0.0103715684180882), (576, 0.010577838492267115), (577, 0.009556147569798145), (578, 0.022137958676382526), (579, 0.0), (580, 0.0), (581, 0.04856505650408623), (582, 0.009803199560028916), (583, 0.05716259445298032), (584, 0.06682730997127058), (585, 0.01265323884102121), (586, 0.017888565785552465), (587, 0.05817364025326034), (588, 0.026710393031226548), (589, 0.012128085682494103), (590, 0.0), (591, 0.023203927306106424), (592, 0.017919406769403068), (593, 0.0), (594, 0.0), (595, 0.0), (596, 0.0), (597, 0.03479763835613799), (598, 0.0), (599, 0.0), (600, 0.012195295754345387), (601, 0.0), (602, 0.0), (603, 0.017029973974291387), (604, 0.0), (605, 0.01205321209069943), (606, 0.01905350350352089), (607, 0.0), (608, 0.027713861715228123), (609, 0.0), (610, 0.0), (611, 0.0), (612, 0.03408498577530092), (613, 0.018791644480116044), (614, 0.0157986511445955), (615, 0.009252589904393604), (616, 0.0), (617, 0.028121818244114877), (618, 0.02021141005311438), (619, 0.0), (620, 0.01955825594904554), (621, 0.0), (622, 0.0), (623, 0.0), (624, 0.020073490635601265), (625, 0.0), (626, 0.010913470410531607), (627, 0.017099578286337395), (628, 0.0), (629, 0.007837371982289376), (630, 0.008886077115813028), (631, 0.01874575406162367), (632, 0.0), (633, 0.016127441412384654), (634, 0.019685531859581596), (635, 0.0), (636, 0.011540519548213878), (637, 0.0), (638, 0.042580782224227245), (639, 0.0), (640, 0.0), (641, 0.0), (642, 0.020712594138099928), (643, 0.010677781567924068), (644, 0.021317409300270474), (645, 0.0), (646, 0.0333480957615378), (647, 0.018754675912872353), (648, 0.0), (649, 0.0), (650, 0.0), (651, 0.0), (652, 0.01829729875084552), (653, 0.0), (654, 0.0), (655, 0.0), (656, 0.01925331204762139), (657, 0.0), (658, 0.01386989222149835), (659, 0.009527615387896782), (660, 0.0), (661, 0.012765792759873338), (662, 0.06985449382753928), (663, 0.01100266195825475), (664, 0.0), (665, 0.027770297436034083), (666, 0.030006925384464006), (667, 0.009865994413777595), (668, 0.0), (669, 0.010082102008656047), (670, 0.0), (671, 0.0), (672, 0.03160983916211225), (673, 0.03069720418578427), (674, 0.0), (675, 0.019486586362591173), (676, 0.009648106831979638), (677, 0.009598554358004979), (678, 0.022961961596508283), (679, 0.008812325427218192), (680, 0.00900982740951281), (681, 0.07206474309798566), (682, 0.0), (683, 0.0), (684, 0.00866216092095423), (685, 0.0), (686, 0.0), (687, 0.0), (688, 0.0), (689, 0.011496633187146289), (690, 0.03499963320776361), (691, 0.009138457462542531), (692, 0.008559272820159126), (693, 0.00943217121249538), (694, 0.019078451257139056), (695, 0.02215414485413125), (696, 0.021214625523434685), (697, 0.009901290466705372), (698, 0.0), (699, 0.0), (700, 0.0), (701, 0.0), (702, 0.01054178400405139), (703, 0.0), (704, 0.0), (705, 0.0), (706, 0.010560894033426643), (707, 0.0), (708, 0.00899956947188469), (709, 0.0), (710, 0.020938484305012366), (711, 0.00869713332410539), (712, 0.0), (713, 0.0), (714, 0.009371111200781575), (715, 0.03941683935633206), (716, 0.010407725732087958), (717, 0.009641186750819463), (718, 0.018141179968091236), (719, 0.009325060233713904), (720, 0.010152250230516432), (721, 0.029584141308441583), (722, 0.00976365605061386), (723, 0.00852111297481901), (724, 0.0), (725, 0.0), (726, 0.01049663646121656), (727, 0.0), (728, 0.020555494578683615), (729, 0.0), (730, 0.008557170701214272), (731, 0.036161474726832885), (732, 0.01127147013785341), (733, 0.0), (734, 0.0), (735, 0.0), (736, 0.026037592004176033), (737, 0.0), (738, 0.0), (739, 0.008872985930083148), (740, 0.021355634542667704), (741, 0.020423629131674913), (742, 0.0), (743, 0.028741579647694658), (744, 0.0), (745, 0.0), (746, 0.018454620647385837), (747, 0.009954221067663058), (748, 0.023055899006562523), (749, 0.0), (750, 0.012022899363607857), (751, 0.0), (752, 0.008914130455950653), (753, 0.06695306533745868), (754, 0.012594831501251194), (755, 0.053746258084306664), (756, 0.009000164466558784), (757, 0.015300558802198343), (758, 0.020338525997158026), (759, 0.009750694505958831), (760, 0.011347353504314633), (761, 0.026665188977091428), (762, 0.03756415507254084), (763, 0.021362094508383146), (764, 0.01315673543563687), (765, 0.0), (766, 0.010293488636053972), (767, 0.020128862827381883), (768, 0.013177579155409753), (769, 0.0), (770, 0.0), (771, 0.009569921283056466), (772, 0.018740583084504214), (773, 0.0), (774, 0.03842204373009633), (775, 0.009105414650626599), (776, 0.013365020793374567), (777, 0.0), (778, 0.0), (779, 0.01980330962180459), (780, 0.0), (781, 0.024749271391797795), (782, 0.04240722174663501), (783, 0.0), (784, 0.012936272909705959), (785, 0.014674941543847771), (786, 0.0), (787, 0.0), (788, 0.009384573675678657), (789, 0.0), (790, 0.009990655068291315), (791, 0.03492460554719645), (792, 0.011733790456409873), (793, 0.0), (794, 0.00808482189027663), (795, 0.00947492822069505), (796, 0.0), (797, 0.011097355738579057), (798, 0.0), (799, 0.023592039172020324), (800, 0.0), (801, 0.0), (802, 0.0), (803, 0.0), (804, 0.0097275113810037), (805, 0.0114163128299035), (806, 0.0), (807, 0.01045529444148914), (808, 0.0), (809, 0.025255851414996384), (810, 0.012954033885247579), (811, 0.009878177518899972), (812, 0.013981233742622654), (813, 0.10123832077817581), (814, 0.012010551876430516), (815, 0.010875329508949365), (816, 0.0), (817, 0.0), (818, 0.0), (819, 0.0), (820, 0.013362923206077713), (821, 0.01946283951788934), (822, 0.02731223198678303), (823, 0.0), (824, 0.0), (825, 0.03807287939057175), (826, 0.033512977863525195), (827, 0.06120439432912382), (828, 0.010523137620138128), (829, 0.0), (830, 0.03676863611839655), (831, 0.017309169170529864), (832, 0.042581317810811356), (833, 0.009448122964427388), (834, 0.0), (835, 0.0), (836, 0.04082008431509085), (837, 0.0), (838, 0.0), (839, 0.008709502084207062), (840, 0.00887590183336817), (841, 0.011135621220040335), (842, 0.022666217093419948), (843, 0.0), (844, 0.0), (845, 0.0), (846, 0.03248836662523419), (847, 0.019139996869902334), (848, 0.0), (849, 0.009138541018680823), (850, 0.0), (851, 0.0), (852, 0.019293863109539004), (853, 0.0), (854, 0.009202528186279367), (855, 0.0), (856, 0.01887466987436795), (857, 0.010459871048259425), (858, 0.032287385176937904), (859, 0.0), (860, 0.0), (861, 0.0), (862, 0.025031587801303656), (863, 0.0), (864, 0.011870699867842095), (865, 0.019744954087318873), (866, 0.010815130762317668), (867, 0.04854346415795774), (868, 0.0), (869, 0.04086403050371532), (870, 0.09374374282187639), (871, 0.009997725816055845), (872, 0.0), (873, 0.019779412536052643), (874, 0.0186142663079455), (875, 0.009588269403755909), (876, 0.0), (877, 0.01033646249373172), (878, 0.0), (879, 0.009210571165509296), (880, 0.018892809119306946), (881, 0.016598391294229704), (882, 0.015577980691722728), (883, 0.0), (884, 0.011003621169408494), (885, 0.0), (886, 0.01991759179304846), (887, 0.0), (888, 0.0), (889, 0.0), (890, 0.0), (891, 0.0), (892, 0.010114008033610605), (893, 0.00906192057652092), (894, 0.0), (895, 0.0), (896, 0.03961173680080877), (897, 0.010489355792423665), (898, 0.012598893159739508), (899, 0.0), (900, 0.0), (901, 0.02538123260461977), (902, 0.0), (903, 0.013471265685753206), (904, 0.07400589822308704), (905, 0.02401403180569985), (906, 0.0), (907, 0.0), (908, 0.0), (909, 0.0), (910, 0.009791302131446031), (911, 0.00965060724566677), (912, 0.0), (913, 0.0), (914, 0.009419296576491392), (915, 0.01620616021462147), (916, 0.0), (917, 0.023585040936822267), (918, 0.03430813323682281), (919, 0.0), (920, 0.020197140496395358), (921, 0.0), (922, 0.010200180211987715), (923, 0.02612595059985693), (924, 0.0), (925, 0.0), (926, 0.0), (927, 0.0), (928, 0.01103619689135424), (929, 0.026574461408641885), (930, 0.009428046375891543), (931, 0.012469218687727962), (932, 0.0), (933, 0.019317547775221114), (934, 0.02673698316536067), (935, 0.06761431436834758), (936, 0.02199300971912515), (937, 0.011764668598747034), (938, 0.018717329674857612), (939, 0.020172752383077797), (940, 0.0), (941, 0.008576381175542443), (942, 0.010719242132012129), (943, 0.019686837833134584), (944, 0.01037917452023047), (945, 0.0), (946, 0.050970508714280494), (947, 0.03321070326021023), (948, 0.018679906778214614), (949, 0.010040193300262396), (950, 0.008135437992256654), (951, 0.0), (952, 0.0), (953, 0.0), (954, 0.0), (955, 0.018562394328055443), (956, 0.0), (957, 0.0), (958, 0.009819110872906812), (959, 0.027318859658972044), (960, 0.0), (961, 0.0), (962, 0.014158194997717765), (963, 0.0515551938941923), (964, 0.01904053579216471), (965, 0.0), (966, 0.0), (967, 0.014862042020656899), (968, 0.041838749931019714), (969, 0.04952408631125282), (970, 0.03046263327364188), (971, 0.01554170393363433), (972, 0.0), (973, 0.0), (974, 0.018080222513400343), (975, 0.0), (976, 0.0), (977, 0.011286206531630394), (978, 0.03399964518057721), (979, 0.010283760870469474), (980, 0.02068694962138997), (981, 0.030745755535707468), (982, 0.019885557637215456), (983, 0.008223347463784586), (984, 0.0), (985, 0.0), (986, 0.0), (987, 0.009117896890853395), (988, 0.009569641952207957), (989, 0.0), (990, 0.0160977233131341), (991, 0.0), (992, 0.02022686686160363), (993, 0.02163953361731611), (994, 0.04225158470054262), (995, 0.011619841654046361), (996, 0.009379718329950463), (997, 0.0), (998, 0.022194881085840723), (999, 0.011483544205566677), (1000, 0.011988324762455208), (1001, 0.019215225880643696), (1002, 0.021677249926958107), (1003, 0.008241318430063252), (1004, 0.0), (1005, 0.0), (1006, 0.03524394485665225), (1007, 0.0), (1008, 0.006812721780422651), (1009, 0.04559540615008836), (1010, 0.010633750427540133), (1011, 0.0), (1012, 0.0), (1013, 0.018701445453954017), (1014, 0.0), (1015, 0.031300339829618495), (1016, 0.0418015052451596), (1017, 0.10562994219433144), (1018, 0.04102879999743348), (1019, 0.0), (1020, 0.010664333000370018), (1021, 0.0), (1022, 0.019765461508575537), (1023, 0.0), (1024, 0.007893944846745979), (1025, 0.02730076112627962), (1026, 0.03393157381957151), (1027, 0.03359569015089318), (1028, 0.0), (1029, 0.03757218354700365), (1030, 0.019317935605692945), (1031, 0.03489245177948799), (1032, 0.0), (1033, 0.01822580389754454), (1034, 0.05289331224406982), (1035, 0.11093877169421315), (1036, 0.01880382386691358), (1037, 0.0), (1038, 0.027441514855176107), (1039, 0.0), (1040, 0.02176169643065292), (1041, 0.00837928937610017), (1042, 0.010839671644367103), (1043, 0.058384672736713265), (1044, 0.0), (1045, 0.009444343896221284), (1046, 0.006814176351391362), (1047, 0.007077162390692758), (1048, 0.06760801959500656), (1049, 0.01898526669937998), (1050, 0.03894993827993337), (1051, 0.0), (1052, 0.025215200668421773), (1053, 0.0), (1054, 0.0), (1055, 0.019827942571354316), (1056, 0.0), (1057, 0.009764282554457701), (1058, 0.03159145516737699), (1059, 0.019418730227402304), (1060, 0.0), (1061, 0.0), (1062, 0.0), (1063, 0.042625798607035505), (1064, 0.007974237528988692), (1065, 0.0), (1066, 0.0), (1067, 0.0), (1068, 0.0), (1069, 0.0), (1070, 0.0), (1071, 0.0), (1072, 0.0), (1073, 0.009442185165766287), (1074, 0.0), (1075, 0.02686798480390578), (1076, 0.08654400181026667), (1077, 0.0), (1078, 0.023162760538769138), (1079, 0.0), (1080, 0.010237192809495782), (1081, 0.031609732263509153), (1082, 0.03634530925226301), (1083, 0.0), (1084, 0.008736449020893083), (1085, 0.08667142123832931), (1086, 0.02244131678893659), (1087, 0.05282236845765449), (1088, 0.0), (1089, 0.025449687089964156), (1090, 0.0), (1091, 0.027045995991434757), (1092, 0.03802774762678718), (1093, 0.0), (1094, 0.023648923932935956), (1095, 0.0089034831940077), (1096, 0.008901094377971168), (1097, 0.009408677095766283), (1098, 0.009358330993026236), (1099, 0.0), (1100, 0.008917961652909836), (1101, 0.0), (1102, 0.009441149186321898), (1103, 0.01793767935481594), (1104, 0.0), (1105, 0.009109387213797168), (1106, 0.0), (1107, 0.0), (1108, 0.024440493982945927), (1109, 0.0), (1110, 0.02243930346308753), (1111, 0.01675869404127505), (1112, 0.021951601415663262), (1113, 0.039225709803207644), (1114, 0.0), (1115, 0.011082296278975279), (1116, 0.0), (1117, 0.0), (1118, 0.010330031514550765), (1119, 0.008284401431336913), (1120, 0.04531499327913267), (1121, 0.008974139706591238), (1122, 0.023689701896692367), (1123, 0.0), (1124, 0.02165675717292651), (1125, 0.04050262769695982), (1126, 0.0), (1127, 0.020059987518188757), (1128, 0.0), (1129, 0.011062206590727264), (1130, 0.0), (1131, 0.023794618698424693), (1132, 0.026461351570005214), (1133, 0.00977768529516324), (1134, 0.009674310230761093), (1135, 0.009680843354859716), (1136, 0.0), (1137, 0.0), (1138, 0.0), (1139, 0.012966680555047063), (1140, 0.0), (1141, 0.09007705613712694), (1142, 0.0), (1143, 0.0), (1144, 0.012741701319516062), (1145, 0.0), (1146, 0.0), (1147, 0.02287235431759455), (1148, 0.0637577017735224), (1149, 0.0), (1150, 0.010173547541872968), (1151, 0.018295435797780167), (1152, 0.019060277158180563), (1153, 0.014800533607210505), (1154, 0.009723922956708368), (1155, 0.0), (1156, 0.019841571809759262), (1157, 0.0), (1158, 0.0), (1159, 0.029439565919428312), (1160, 0.009050034368457008), (1161, 0.0), (1162, 0.031762148887161834), (1163, 0.0423181416677942), (1164, 0.0), (1165, 0.02639011745176424), (1166, 0.01169800333763189), (1167, 0.0), (1168, 0.0), (1169, 0.0), (1170, 0.01920524172398607), (1171, 0.0), (1172, 0.02420012576320286), (1173, 0.0), (1174, 0.026283790027614627), (1175, 0.0), (1176, 0.014760926365103575), (1177, 0.024574900872225566), (1178, 0.0), (1179, 0.010915185885194474), (1180, 0.029735964393625143), (1181, 0.02189055950521587), (1182, 0.0), (1183, 0.04714928964157644), (1184, 0.03156954097217927), (1185, 0.0), (1186, 0.008948727461751139), (1187, 0.01854369408465516), (1188, 0.0), (1189, 0.0), (1190, 0.010936674459254132), (1191, 0.029036040353707295), (1192, 0.039516389391999904), (1193, 0.0), (1194, 0.024014197745130885), (1195, 0.0), (1196, 0.033971343104849824), (1197, 0.010255736965111902), (1198, 0.0), (1199, 0.0), (1200, 0.0), (1201, 0.0137722618462553), (1202, 0.03262618868496841), (1203, 0.009954273716831951), (1204, 0.018670086145449707), (1205, 0.0), (1206, 0.012432425531129958), (1207, 0.03136669695695138), (1208, 0.0), (1209, 0.01610403632299463), (1210, 0.0), (1211, 0.0), (1212, 0.008240480757966365), (1213, 0.028571847550406995), (1214, 0.03890255422340804), (1215, 0.03695131587603882), (1216, 0.038270638429298814), (1217, 0.035121439931759396), (1218, 0.0), (1219, 0.0), (1220, 0.027689189953537325), (1221, 0.0), (1222, 0.009758549409065042), (1223, 0.06049017681410449), (1224, 0.0), (1225, 0.01992876025846764), (1226, 0.007836517973259266), (1227, 0.03151942380871948), (1228, 0.010294732998359356), (1229, 0.0), (1230, 0.012461451484940185), (1231, 0.0), (1232, 0.0), (1233, 0.04310745604446585), (1234, 0.029820424967179918), (1235, 0.0), (1236, 0.0638759131355395), (1237, 0.025460307665363134), (1238, 0.01235887038312356), (1239, 0.010001113634803587), (1240, 0.009717855533705634), (1241, 0.043334647581920085), (1242, 0.0), (1243, 0.03724367801995611), (1244, 0.026782347224880362), (1245, 0.030722208042678646), (1246, 0.012085529749237652), (1247, 0.03800413884987316), (1248, 0.0), (1249, 0.0), (1250, 0.02653356169495622), (1251, 0.0), (1252, 0.0), (1253, 0.013177640405774672), (1254, 0.0), (1255, 0.00907236275997672), (1256, 0.022841165205828833), (1257, 0.02693529868912086), (1258, 0.0), (1259, 0.04949034082368291), (1260, 0.013778510533442055), (1261, 0.0), (1262, 0.0), (1263, 0.009305508354606369), (1264, 0.008975486507405003), (1265, 0.03342211178516192), (1266, 0.011747580663553575), (1267, 0.0), (1268, 0.0), (1269, 0.010706985281818905), (1270, 0.019758903194733668), (1271, 0.01832045690363073), (1272, 0.0103287563364865), (1273, 0.0), (1274, 0.01028709785122043), (1275, 0.019276077189875538), (1276, 0.009625415436454213), (1277, 0.015955668620970708), (1278, 0.035014770287090324), (1279, 0.01968607876477324), (1280, 0.030578428166710844), (1281, 0.008551031675909773), (1282, 0.018319700329543238), (1283, 0.0), (1284, 0.0), (1285, 0.0), (1286, 0.03341485594714209), (1287, 0.0), (1288, 0.0), (1289, 0.036845486964710315), (1290, 0.0), (1291, 0.0), (1292, 0.03722898062605473), (1293, 0.039046630567210375), (1294, 0.009882165416014142), (1295, 0.0), (1296, 0.10590045293837887), (1297, 0.0), (1298, 0.0), (1299, 0.018394570713590224), (1300, 0.009985402833546462), (1301, 0.02153770070795448), (1302, 0.0), (1303, 0.05250557350636327), (1304, 0.007106555149192476), (1305, 0.010105252157796462), (1306, 0.01524504082785422), (1307, 0.0), (1308, 0.0), (1309, 0.010561928022548078), (1310, 0.0), (1311, 0.031040438307903654), (1312, 0.009531950602031863), (1313, 0.013964224990365558), (1314, 0.0), (1315, 0.0), (1316, 0.043144047544193036), (1317, 0.0), (1318, 0.009655157801969298), (1319, 0.0), (1320, 0.010591370017434109), (1321, 0.0), (1322, 0.010477590393334762), (1323, 0.0), (1324, 0.020469730905497384), (1325, 0.0), (1326, 0.0), (1327, 0.0), (1328, 0.01867948328173684), (1329, 0.0), (1330, 0.0), (1331, 0.020969398290633285), (1332, 0.0), (1333, 0.0), (1334, 0.0189003301732217), (1335, 0.010961368994237776), (1336, 0.010152282313635554), (1337, 0.031973138330512726), (1338, 0.00921821583421879), (1339, 0.01444562519969981), (1340, 0.0), (1341, 0.008309495335351611), (1342, 0.03267618705595048), (1343, 0.06457572674567763), (1344, 0.0), (1345, 0.0), (1346, 0.00998277098412043), (1347, 0.0), (1348, 0.018646908473319873), (1349, 0.009356019798948158), (1350, 0.010117756603253127), (1351, 0.009625577302237263), (1352, 0.009755525967850887), (1353, 0.0), (1354, 0.0), (1355, 0.0), (1356, 0.0), (1357, 0.0), (1358, 0.04526476748884149), (1359, 1.0000000000000002), (1360, 0.0), (1361, 0.0), (1362, 0.009990009185139738), (1363, 0.013731772426786533), (1364, 0.0), (1365, 0.0), (1366, 0.0), (1367, 0.0), (1368, 0.012924168528501763), (1369, 0.04722148068469792), (1370, 0.016642716620649926), (1371, 0.0), (1372, 0.017809587277192517), (1373, 0.02530530563388695), (1374, 0.0330207521224848), (1375, 0.030530941814879566), (1376, 0.0), (1377, 0.02233475636319867), (1378, 0.0), (1379, 0.00990669298399495), (1380, 0.020484030734476993), (1381, 0.0), (1382, 0.010478297755648807), (1383, 0.0), (1384, 0.01935802406190131), (1385, 0.0), (1386, 0.0), (1387, 0.0), (1388, 0.0), (1389, 0.0), (1390, 0.034467293422072984), (1391, 0.0), (1392, 0.019693394551339834), (1393, 0.0), (1394, 0.03311476680619893), (1395, 0.0), (1396, 0.0), (1397, 0.00847495395503792), (1398, 0.0), (1399, 0.0), (1400, 0.017794878703360894), (1401, 0.0), (1402, 0.0), (1403, 0.02102274458686931), (1404, 0.007811882636799724), (1405, 0.0), (1406, 0.008789327418572355), (1407, 0.019526091174152525), (1408, 0.02637476561172214), (1409, 0.031348098855208645), (1410, 0.009956546523924657), (1411, 0.012080960930819009), (1412, 0.024965536535197695), (1413, 0.019314787818625348), (1414, 0.0), (1415, 0.0), (1416, 0.0), (1417, 0.041429751516310676), (1418, 0.035643861911901775), (1419, 0.019432536472990203), (1420, 0.012257360116924104), (1421, 0.049782829778013224), (1422, 0.02041846027471133), (1423, 0.013366998122568268), (1424, 0.0), (1425, 0.014899713701284876), (1426, 0.0), (1427, 0.022380094949892973), (1428, 0.008838706948310527), (1429, 0.010036021430088544), (1430, 0.018793218267038968), (1431, 0.03731235881605452), (1432, 0.03090048608523307), (1433, 0.01848722370772231), (1434, 0.031498780482502445), (1435, 0.028402664145343405), (1436, 0.0), (1437, 0.0), (1438, 0.011125700623383342), (1439, 0.035883754227736486), (1440, 0.0), (1441, 0.0), (1442, 0.009750851794235984), (1443, 0.02882975872274987), (1444, 0.0), (1445, 0.009774394644812993), (1446, 0.0), (1447, 0.0), (1448, 0.0), (1449, 0.011956701235343021), (1450, 0.0), (1451, 0.021002560534923942), (1452, 0.0), (1453, 0.020020549067654), (1454, 0.0), (1455, 0.0), (1456, 0.007233233635712512), (1457, 0.009276877912565519), (1458, 0.04836929972849721), (1459, 0.009360453905187137), (1460, 0.0), (1461, 0.031395924569014924), (1462, 0.0), (1463, 0.0), (1464, 0.0), (1465, 0.0), (1466, 0.028372649950261092), (1467, 0.018401337941775574), (1468, 0.025260915781815253), (1469, 0.0321231490305845), (1470, 0.018862749517611334), (1471, 0.0), (1472, 0.01847371291628557), (1473, 0.029471839849989884), (1474, 0.10383280844608961), (1475, 0.0), (1476, 0.0), (1477, 0.10408276656232934), (1478, 0.06567074050462335), (1479, 0.01053849326703329), (1480, 0.006470516773525388), (1481, 0.011430371743293087), (1482, 0.009601452075540712), (1483, 0.0), (1484, 0.01709939731974884), (1485, 0.0), (1486, 0.009399145969614319), (1487, 0.0), (1488, 0.03420589725844255), (1489, 0.0), (1490, 0.014475934446124376), (1491, 0.0), (1492, 0.027465288895540417), (1493, 0.0), (1494, 0.0), (1495, 0.03508008405501342), (1496, 0.0), (1497, 0.02897783698537027), (1498, 0.016805751618876576), (1499, 0.010130783405591596), (1500, 0.019959290285608427), (1501, 0.0), (1502, 0.010100375544800803), (1503, 0.038225733448119026), (1504, 0.029803965770628365), (1505, 0.010031916491829633), (1506, 0.06413831876772498), (1507, 0.01861346322929171), (1508, 0.012477070605821332), (1509, 0.0), (1510, 0.0), (1511, 0.0), (1512, 0.10458171679296291), (1513, 0.03643505537898793), (1514, 0.010541575156113365), (1515, 0.0408443828787777), (1516, 0.017451156773056115), (1517, 0.008201859779076597), (1518, 0.010938440917945522), (1519, 0.02542402033257253), (1520, 0.0), (1521, 0.0), (1522, 0.0), (1523, 0.022568738941398808), (1524, 0.025165988508373024), (1525, 0.01076167928043615), (1526, 0.0), (1527, 0.026046854431075687), (1528, 0.0), (1529, 0.021788520121638486), (1530, 0.0), (1531, 0.017414429971993006), (1532, 0.0), (1533, 0.021674954330381288), (1534, 0.0), (1535, 0.010058805457178013), (1536, 0.0), (1537, 0.0), (1538, 0.017550562042183103), (1539, 0.0), (1540, 0.0), (1541, 0.0), (1542, 0.0), (1543, 0.0), (1544, 0.0), (1545, 0.009411505737316792), (1546, 0.02156465499478266), (1547, 0.02027861356141213), (1548, 0.02655522177398398), (1549, 0.0), (1550, 0.008904936363315701), (1551, 0.009043345497408378), (1552, 0.0323881545718958), (1553, 0.009186041697854872), (1554, 0.0), (1555, 0.0), (1556, 0.008203021980665472), (1557, 0.0), (1558, 0.032241846319569535), (1559, 0.0), (1560, 0.009933480322800194), (1561, 0.020466932280746968), (1562, 0.010148040497124713), (1563, 0.015058723177121194), (1564, 0.028351563982288087), (1565, 0.01022001184507566), (1566, 0.049991075850992286), (1567, 0.0), (1568, 0.0), (1569, 0.01658367932137573), (1570, 0.010426576225066472), (1571, 0.01921002230370388), (1572, 0.010662589043843807), (1573, 0.0), (1574, 0.01942876134901382), (1575, 0.030659043743238974), (1576, 0.0106608999884881), (1577, 0.027426934534589713), (1578, 0.0374228354620503), (1579, 0.03946935754878891), (1580, 0.0), (1581, 0.008759782743087795), (1582, 0.0), (1583, 0.008294362916956835), (1584, 0.0), (1585, 0.009123585341072736), (1586, 0.0), (1587, 0.0), (1588, 0.013011348201502789), (1589, 0.03220784783474771), (1590, 0.0), (1591, 0.009229778109459309), (1592, 0.0205506439189839), (1593, 0.0), (1594, 0.04520748186836099), (1595, 0.019116472915966905), (1596, 0.009070853272511772), (1597, 0.012905249304819852), (1598, 0.008564710451474528), (1599, 0.012535899745425414), (1600, 0.0), (1601, 0.0), (1602, 0.0), (1603, 0.012761969836831965), (1604, 0.0), (1605, 0.025948083878884868), (1606, 0.01869311810322336), (1607, 0.00852042917577791), (1608, 0.016989047020177974), (1609, 0.009613781814182655), (1610, 0.0), (1611, 0.03253277463263557), (1612, 0.024794792942692157), (1613, 0.0), (1614, 0.0), (1615, 0.009252111274749071), (1616, 0.0), (1617, 0.0), (1618, 0.02360698668677215), (1619, 0.02395031288485006), (1620, 0.0), (1621, 0.0), (1622, 0.008726926155476768), (1623, 0.0), (1624, 0.011352011270049325), (1625, 0.00883648892694876), (1626, 0.010868976333759368), (1627, 0.009963297908603074), (1628, 0.0), (1629, 0.040118139051329355), (1630, 0.027290195240726813), (1631, 0.021428786057973628), (1632, 0.017995545814516078), (1633, 0.0), (1634, 0.0), (1635, 0.02922369032100637), (1636, 0.0), (1637, 0.022126940581934616), (1638, 0.0), (1639, 0.008303767616741349), (1640, 0.0), (1641, 0.0), (1642, 0.0), (1643, 0.011719286999233336), (1644, 0.030863648849902683), (1645, 0.0), (1646, 0.0), (1647, 0.015370762041157173), (1648, 0.0), (1649, 0.0), (1650, 0.0), (1651, 0.0), (1652, 0.027235319305339296), (1653, 0.018101658929608543), (1654, 0.0), (1655, 0.047048455763693056), (1656, 0.009356219240311886), (1657, 0.01348429793801992), (1658, 0.014365208746179352), (1659, 0.019405070638150543), (1660, 0.009172341291495089), (1661, 0.009016832484347311), (1662, 0.0), (1663, 0.0), (1664, 0.018302994805279908), (1665, 0.0), (1666, 0.007554944097668758), (1667, 0.0), (1668, 0.02199175598670928), (1669, 0.012253295248463936), (1670, 0.02909357784768267), (1671, 0.00946400532859302), (1672, 0.00932697843948045), (1673, 0.0), (1674, 0.05084919306023556), (1675, 0.011196823633050856), (1676, 0.009234756068868272), (1677, 0.0), (1678, 0.0), (1679, 0.0), (1680, 0.02819755081234727), (1681, 0.009545798802797314), (1682, 0.022351961163165072), (1683, 0.0), (1684, 0.0), (1685, 0.035254411265076224), (1686, 0.011171660171722698), (1687, 0.03008365819248335), (1688, 0.009632680049708001), (1689, 0.019291866792270206), (1690, 0.0), (1691, 0.0), (1692, 0.011830183772649985), (1693, 0.010503327173652714), (1694, 0.0), (1695, 0.0), (1696, 0.0), (1697, 0.0), (1698, 0.0), (1699, 0.030752504271510592), (1700, 0.0), (1701, 0.0), (1702, 0.0), (1703, 0.0), (1704, 0.0), (1705, 0.00979740233616384), (1706, 0.018575503790491676), (1707, 0.020359063796351475), (1708, 0.013012158595051743), (1709, 0.0), (1710, 0.0), (1711, 0.0), (1712, 0.022050231239128856), (1713, 0.0), (1714, 0.0), (1715, 0.0), (1716, 0.0), (1717, 0.009494294121255407), (1718, 0.0), (1719, 0.0), (1720, 0.024082844897394408), (1721, 0.01804662856019689), (1722, 0.009295548996788281), (1723, 0.0), (1724, 0.0), (1725, 0.0), (1726, 0.0), (1727, 0.0), (1728, 0.018074882946118222), (1729, 0.0), (1730, 0.0), (1731, 0.028555045886603094), (1732, 0.010746560222960739), (1733, 0.0), (1734, 0.0), (1735, 0.008258304151217652), (1736, 0.009243066573421334), (1737, 0.02207847717590613), (1738, 0.0), (1739, 0.00983437956662733), (1740, 0.024005347730488683), (1741, 0.0), (1742, 0.009594705182086171), (1743, 0.0), (1744, 0.010263589399947263), (1745, 0.022098999969146937), (1746, 0.017894245337202037), (1747, 0.03138161418827095), (1748, 0.01694902744443068), (1749, 0.009272238346202572), (1750, 0.0), (1751, 0.0), (1752, 0.0), (1753, 0.0), (1754, 0.0), (1755, 0.0), (1756, 0.0), (1757, 0.010095052749172842), (1758, 0.04396277720472898), (1759, 0.010793610256958673), (1760, 0.0), (1761, 0.01829935537330534), (1762, 0.010560964856100398), (1763, 0.009791159869764577), (1764, 0.00981777260960828), (1765, 0.025770044823253433), (1766, 0.0), (1767, 0.010998794636722315), (1768, 0.02492725867891502), (1769, 0.0), (1770, 0.021315060603837473), (1771, 0.009635496857065808), (1772, 0.0), (1773, 0.0), (1774, 0.0), (1775, 0.03674257417636005), (1776, 0.0), (1777, 0.0), (1778, 0.008075891659283786), (1779, 0.021085184592271607), (1780, 0.023250520038222935), (1781, 0.01847492123195885), (1782, 0.018825176975396315), (1783, 0.01018221593003799), (1784, 0.0), (1785, 0.042940705558275095), (1786, 0.0), (1787, 0.036939207700689716), (1788, 0.022527898506382055), (1789, 0.02096451075204325), (1790, 0.0), (1791, 0.0196507455720525), (1792, 0.01852717545452342), (1793, 0.036486656624323675), (1794, 0.030687453076888804), (1795, 0.01686379985040279), (1796, 0.027808680275146012), (1797, 0.0), (1798, 0.0), (1799, 0.020313263879906424), (1800, 0.017173206817775795), (1801, 0.0), (1802, 0.01887314495396536), (1803, 0.0935429496591326), (1804, 0.01118061093920566), (1805, 0.010796183665176439), (1806, 0.020618096832574317), (1807, 0.019041192374485684), (1808, 0.0), (1809, 0.0), (1810, 0.0), (1811, 0.007877438689683032), (1812, 0.019436968622739036), (1813, 0.02686190426704551), (1814, 0.015126142341167412), (1815, 0.0), (1816, 0.0), (1817, 0.00785115597044579), (1818, 0.02180117134191692), (1819, 0.01967916806179545), (1820, 0.009126843900097348), (1821, 0.011453694080590632), (1822, 0.009450670203540387), (1823, 0.0), (1824, 0.02090238217229903), (1825, 0.0), (1826, 0.021833361249519595), (1827, 0.008611885918138204), (1828, 0.018108705146452832), (1829, 0.008889871871171767), (1830, 0.018297654898867304), (1831, 0.0), (1832, 0.00998142120097115), (1833, 0.0), (1834, 0.022239838539906517), (1835, 0.0), (1836, 0.0), (1837, 0.015118703811494365), (1838, 0.03270638215630138), (1839, 0.019752166548056588), (1840, 0.0), (1841, 0.0), (1842, 0.010435988133906492), (1843, 0.02010761211981489), (1844, 0.0), (1845, 0.009942063030131046), (1846, 0.037917248135875624), (1847, 0.03615881511595418), (1848, 0.018663913105947564), (1849, 0.011668415909000274), (1850, 0.010137699226137914), (1851, 0.02851224593619997), (1852, 0.013693571648954092), (1853, 0.010011795674403122), (1854, 0.0), (1855, 0.0), (1856, 0.0), (1857, 0.0), (1858, 0.014603736592653868), (1859, 0.009444677485956487), (1860, 0.010334119189129768), (1861, 0.021176526770086503), (1862, 0.0), (1863, 0.020662925005103635), (1864, 0.0), (1865, 0.010153642884094007), (1866, 0.0), (1867, 0.0), (1868, 0.009837013457791572), (1869, 0.017127298871924594), (1870, 0.025689456305549342), (1871, 0.0), (1872, 0.0), (1873, 0.035476334098909906), (1874, 0.009005420358686851), (1875, 0.0), (1876, 0.0), (1877, 0.0), (1878, 0.01991619285065825), (1879, 0.030819821059044482), (1880, 0.0), (1881, 0.019254762712194097), (1882, 0.009033258889313228), (1883, 0.008707541618032761), (1884, 0.032105080704170716), (1885, 0.0), (1886, 0.027579645273770204), (1887, 0.0), (1888, 0.0), (1889, 0.019454757753450597), (1890, 0.03962738301807908), (1891, 0.0), (1892, 0.00840158270706902), (1893, 0.03334088076814165), (1894, 0.010968143000605907), (1895, 0.0), (1896, 0.018416279765791115), (1897, 0.03326590245228388), (1898, 0.0), (1899, 0.0), (1900, 0.008742154300500547), (1901, 0.0), (1902, 0.04222316417319747), (1903, 0.0), (1904, 0.009944015222386752), (1905, 0.009847531524041497), (1906, 0.0), (1907, 0.008945442348562016), (1908, 0.0), (1909, 0.009607175046043288), (1910, 0.02076739569193949), (1911, 0.0), (1912, 0.022239425955058276), (1913, 0.011246451317252045), (1914, 0.029763602606846094), (1915, 0.019966556860782265), (1916, 0.01799232129257387), (1917, 0.0), (1918, 0.026557552080697832), (1919, 0.0), (1920, 0.0), (1921, 0.0), (1922, 0.0), (1923, 0.0), (1924, 0.010532207166637218), (1925, 0.031117943915855643), (1926, 0.010499889685568845), (1927, 0.022876703447742144), (1928, 0.0), (1929, 0.05435915030358475), (1930, 0.008420987219294138), (1931, 0.010124549718795693), (1932, 0.01335384640636633), (1933, 0.0), (1934, 0.0), (1935, 0.01642962847004936), (1936, 0.010329451088431082), (1937, 0.0), (1938, 0.0), (1939, 0.03397246810690231), (1940, 0.0), (1941, 0.0), (1942, 0.011200694353864981), (1943, 0.0324187274409684), (1944, 0.03293643493589891), (1945, 0.016712386110359734), (1946, 0.008678716894110323), (1947, 0.0), (1948, 0.0), (1949, 0.0), (1950, 0.0), (1951, 0.0), (1952, 0.02993611783378411), (1953, 0.0), (1954, 0.023382958244159698), (1955, 0.008653752080210906), (1956, 0.0), (1957, 0.018735827906811962), (1958, 0.0), (1959, 0.03471336184159972), (1960, 0.013333202620166937), (1961, 0.0), (1962, 0.0), (1963, 0.029672056051359138), (1964, 0.05337724145633081), (1965, 0.0), (1966, 0.018007413984860967), (1967, 0.03159692158251053), (1968, 0.0), (1969, 0.025998038925986712), (1970, 0.02290796239251236), (1971, 0.008070837297923968), (1972, 0.0), (1973, 0.009484368240764261), (1974, 0.009044790580451281), (1975, 0.0), (1976, 0.03263703133347548), (1977, 0.05748315779617082), (1978, 0.011085757081716417), (1979, 0.0), (1980, 0.008979576161284971), (1981, 0.028210859497610846), (1982, 0.0189447738253165), (1983, 0.011760348563330504), (1984, 0.014333942452554928), (1985, 0.0), (1986, 0.011331254891286998), (1987, 0.011058979675366955), (1988, 0.0), (1989, 0.03154796939256976), (1990, 0.0), (1991, 0.009777985368793768), (1992, 0.028272252270555097), (1993, 0.008343164895669716), (1994, 0.0), (1995, 0.0378781435149018), (1996, 0.017437697419815653), (1997, 0.0), (1998, 0.0), (1999, 0.034703901986088415), (2000, 0.0), (2001, 0.0), (2002, 0.021560722873698316), (2003, 0.020024533679171733), (2004, 0.043035415704623756), (2005, 0.0), (2006, 0.0), (2007, 0.02487886594863648), (2008, 0.018395898512054212), (2009, 0.0), (2010, 0.0), (2011, 0.0), (2012, 0.0), (2013, 0.0), (2014, 0.018592503888668996), (2015, 0.028864870294899835), (2016, 0.007586307885997664), (2017, 0.011437536382025871), (2018, 0.0228361803171397), (2019, 0.010345808812789969), (2020, 0.02911287219656027), (2021, 0.017831198947166123), (2022, 0.01600555954082486), (2023, 0.0), (2024, 0.00959941487687865), (2025, 0.026893182420345992), (2026, 0.04923911877951669), (2027, 0.00996429013627965), (2028, 0.0), (2029, 0.056271727467507096), (2030, 0.0), (2031, 0.0), (2032, 0.0), (2033, 0.016463376254148974), (2034, 0.035796763279704005), (2035, 0.0448686228283839), (2036, 0.04397553602549794), (2037, 0.010815557105506248), (2038, 0.009202325274218772), (2039, 0.0), (2040, 0.0), (2041, 0.0), (2042, 0.03245772845042522), (2043, 0.009365500654237158), (2044, 0.0), (2045, 0.0), (2046, 0.01957140302634585), (2047, 0.06940755194207636), (2048, 0.030856083667385056), (2049, 0.02000588152516482), (2050, 0.0), (2051, 0.0), (2052, 0.02513579568819914), (2053, 0.0), (2054, 0.029627486953316826), (2055, 0.03668872710873275), (2056, 0.01061249496518483), (2057, 0.020840243211446178), (2058, 0.0), (2059, 0.0), (2060, 0.010118568534782019), (2061, 0.02035414939381437), (2062, 0.038967108085868396), (2063, 0.0), (2064, 0.0), (2065, 0.0), (2066, 0.05344580574319879), (2067, 0.0), (2068, 0.024237297302005145), (2069, 0.009961047683337035), (2070, 0.05343574011894735), (2071, 0.011400663017821257), (2072, 0.009653638239741953), (2073, 0.0), (2074, 0.008691836077368108), (2075, 0.0), (2076, 0.0), (2077, 0.0), (2078, 0.02916274214528481), (2079, 0.0), (2080, 0.009258139903608697), (2081, 0.01138054848160003), (2082, 0.016057160742178833), (2083, 0.0), (2084, 0.0), (2085, 0.02723767780025954), (2086, 0.018511380288560787), (2087, 0.0), (2088, 0.0), (2089, 0.0), (2090, 0.02384482292771182), (2091, 0.026308906831277356), (2092, 0.016346544379377242), (2093, 0.0), (2094, 0.027777007452888865), (2095, 0.0), (2096, 0.01811904211463827), (2097, 0.0), (2098, 0.020739625087545968), (2099, 0.043992831821438774), (2100, 0.019194589081305245), (2101, 0.0), (2102, 0.009664466071503668), (2103, 0.0), (2104, 0.038306562922917016), (2105, 0.020104203815274495), (2106, 0.0), (2107, 0.0), (2108, 0.06579119663623878), (2109, 0.0), (2110, 0.0), (2111, 0.01894663146990922), (2112, 0.0), (2113, 0.010586740626435314), (2114, 0.014011917963501418), (2115, 0.009608000151739921), (2116, 0.009809872789809099), (2117, 0.0), (2118, 0.0), (2119, 0.0), (2120, 0.00937142355754844), (2121, 0.0), (2122, 0.0), (2123, 0.07757579285691474), (2124, 0.008968511620479814), (2125, 0.0), (2126, 0.018248189139116168), (2127, 0.011359618061537277), (2128, 0.0), (2129, 0.0), (2130, 0.009236417886909806), (2131, 0.008261001090151081), (2132, 0.0), (2133, 0.008712252064127056), (2134, 0.0), (2135, 0.0), (2136, 0.019545011763335073), (2137, 0.0), (2138, 0.015325294462155952), (2139, 0.0), (2140, 0.009810169201507566), (2141, 0.010922808892699537), (2142, 0.018993442693268914), (2143, 0.0), (2144, 0.0), (2145, 0.03884894612601299), (2146, 0.0), (2147, 0.019510059920002674), (2148, 0.024658377339318638), (2149, 0.00879069954447513), (2150, 0.009679497290399717), (2151, 0.010475858726289842), (2152, 0.0), (2153, 0.009963660306044677), (2154, 0.010404300718012658), (2155, 0.009545333981755631), (2156, 0.00962298586900635), (2157, 0.01977017322964021), (2158, 0.009363653496689196), (2159, 0.043525012228605), (2160, 0.02553383807348992), (2161, 0.008905080262831972), (2162, 0.0), (2163, 0.02158007168686349), (2164, 0.0), (2165, 0.010717302119393547), (2166, 0.01220617812667122), (2167, 0.009903987171698192), (2168, 0.011233218410255284), (2169, 0.021019875171333857), (2170, 0.01725238071321363), (2171, 0.010516971318087745), (2172, 0.0), (2173, 0.0), (2174, 0.0), (2175, 0.02024723908065172), (2176, 0.022333608451317072), (2177, 0.020567835079711175), (2178, 0.02824880568506663), (2179, 0.020305597727596113), (2180, 0.0), (2181, 0.0), (2182, 0.021174847288764218), (2183, 0.0), (2184, 0.007580406681368647), (2185, 0.008884251485546227), (2186, 0.008453633970361628), (2187, 0.021199300743024018), (2188, 0.0), (2189, 0.011666008386153075), (2190, 0.0), (2191, 0.03491424354904352), (2192, 0.0238556059713504), (2193, 0.030532074072813917), (2194, 0.0), (2195, 0.01799160859925738), (2196, 0.008645814478659404), (2197, 0.02467581526695603), (2198, 0.0), (2199, 0.019397828054141517), (2200, 0.0), (2201, 0.0), (2202, 0.010593034750631674), (2203, 0.0), (2204, 0.019188463573309375), (2205, 0.04675686371795344), (2206, 0.01118030617259518), (2207, 0.0), (2208, 0.0), (2209, 0.007989077965671757), (2210, 0.01861799873872719), (2211, 0.0), (2212, 0.010544807540137705), (2213, 0.0), (2214, 0.020983235098102085), (2215, 0.020281695216570503), (2216, 0.02703823283292913), (2217, 0.0), (2218, 0.009890953568536965), (2219, 0.0), (2220, 0.00976861612846643), (2221, 0.045578323769462595), (2222, 0.012394449246568016), (2223, 0.0188730663356788), (2224, 0.0), (2225, 0.02732762657704767), (2226, 0.0), (2227, 0.0), (2228, 0.009971628119784156), (2229, 0.008523687510646846), (2230, 0.018821120196899806), (2231, 0.011003569564371363), (2232, 0.0), (2233, 0.0335411011418501), (2234, 0.04013495345403313), (2235, 0.0), (2236, 0.0), (2237, 0.020454027881310205), (2238, 0.009791186056510507), (2239, 0.010181771245277188), (2240, 0.03643718050192202), (2241, 0.0), (2242, 0.010002168002975568), (2243, 0.0), (2244, 0.010034028779698105), (2245, 0.010723425501717593), (2246, 0.0), (2247, 0.026696185079465064), (2248, 0.0), (2249, 0.009875146398098252), (2250, 0.009893437545899646), (2251, 0.022655900858650553), (2252, 0.0), (2253, 0.0), (2254, 0.0), (2255, 0.030152426047691715), (2256, 0.0), (2257, 0.0), (2258, 0.02006247677694464), (2259, 0.0), (2260, 0.02475669081218091), (2261, 0.01949212128487513), (2262, 0.01108543415599556), (2263, 0.008868984787979083), (2264, 0.0), (2265, 0.06989617989794641), (2266, 0.0), (2267, 0.0), (2268, 0.012041553217954245), (2269, 0.01007721915664496), (2270, 0.0), (2271, 0.0), (2272, 0.0), (2273, 0.0), (2274, 0.0), (2275, 0.010244120043259832), (2276, 0.0175273479892899), (2277, 0.009776308194189726), (2278, 0.0), (2279, 0.0), (2280, 0.03241804099029179), (2281, 0.020058630110114533), (2282, 0.008784934328643275), (2283, 0.008186368406948271), (2284, 0.05626721512503639), (2285, 0.05275361623539351), (2286, 0.0), (2287, 0.0), (2288, 0.009632037834104813), (2289, 0.0275684730054307), (2290, 0.010939005207978537), (2291, 0.026022842919356515), (2292, 0.0), (2293, 0.0), (2294, 0.01034533591657186), (2295, 0.0), (2296, 0.019472191125595496), (2297, 0.0), (2298, 0.0), (2299, 0.0), (2300, 0.008326002300500112), (2301, 0.02716730042062613), (2302, 0.021242545929706556), (2303, 0.028547112176478266), (2304, 0.018371117213948147), (2305, 0.023814860200426353), (2306, 0.00905399671923683), (2307, 0.030921908361315403), (2308, 0.009780526416776299), (2309, 0.0), (2310, 0.040884919201271325), (2311, 0.009896703669590267), (2312, 0.0), (2313, 0.0367972418719808), (2314, 0.010941872431332954), (2315, 0.0), (2316, 0.0), (2317, 0.016071666034648928), (2318, 0.010137455923539582), (2319, 0.0), (2320, 0.03215433091821407), (2321, 0.049381860479745354), (2322, 0.03655143956237712), (2323, 0.009360371438727666), (2324, 0.019023801579399605), (2325, 0.0), (2326, 0.011449269982271257), (2327, 0.0), (2328, 0.009519879063536206), (2329, 0.009584108413282475), (2330, 0.0), (2331, 0.018165796930471056), (2332, 0.0), (2333, 0.03210220594513652), (2334, 0.05731213942597005), (2335, 0.009113826059579583), (2336, 0.02186059789392644), (2337, 0.0), (2338, 0.02886766031187347), (2339, 0.017993007160564727), (2340, 0.057535258979569515), (2341, 0.022186687083213554), (2342, 0.04232660165283865), (2343, 0.021534352661800857), (2344, 0.0), (2345, 0.010362955110773696), (2346, 0.017142231559958775), (2347, 0.0), (2348, 0.00910807197311284), (2349, 0.01994176906275357), (2350, 0.0), (2351, 0.03194100849162622), (2352, 0.0), (2353, 0.0), (2354, 0.020406543804227913), (2355, 0.019775292903054527), (2356, 0.0), (2357, 0.03880277223253169), (2358, 0.0), (2359, 0.0), (2360, 0.012524268504395473), (2361, 0.009782707227121325), (2362, 0.032267759427407436), (2363, 0.01914301190355256), (2364, 0.03193450731163272), (2365, 0.08797918041707155), (2366, 0.027590650484984134), (2367, 0.0), (2368, 0.04000710529730577), (2369, 0.0), (2370, 0.0), (2371, 0.009135030115222964), (2372, 0.0203767743213848), (2373, 0.0), (2374, 0.0), (2375, 0.02186122291044955), (2376, 0.009288206341123898), (2377, 0.019745192251325757), (2378, 0.009048687965467641), (2379, 0.0), (2380, 0.0), (2381, 0.07892096184873248), (2382, 0.0), (2383, 0.08020409948777277), (2384, 0.015652371505857396), (2385, 0.0), (2386, 0.0), (2387, 0.03190080082520253), (2388, 0.008883663720706777), (2389, 0.024040741661877953), (2390, 0.01190548408330183), (2391, 0.010789272287061032), (2392, 0.022033478112535733), (2393, 0.010904128005932446), (2394, 0.010924604912752593), (2395, 0.017937489638120863), (2396, 0.0), (2397, 0.008536914978498506), (2398, 0.03578146084283894), (2399, 0.01863999743152891), (2400, 0.010190670623174249), (2401, 0.0), (2402, 0.0), (2403, 0.022062345130575037), (2404, 0.0), (2405, 0.017971140010810075), (2406, 0.0), (2407, 0.015341262999329672), (2408, 0.009669657986743012), (2409, 0.0), (2410, 0.0), (2411, 0.0), (2412, 0.00957366635961134), (2413, 0.0), (2414, 0.0), (2415, 0.03559733817410941), (2416, 0.012517966120242387), (2417, 0.01855649976648871), (2418, 0.0), (2419, 0.0), (2420, 0.010609513507656996), (2421, 0.0), (2422, 0.0), (2423, 0.011202263036742148), (2424, 0.009088654719433755), (2425, 0.028944713324854064), (2426, 0.011357051638870226), (2427, 0.022217014656245496), (2428, 0.009591442897607348), (2429, 0.008337027099521787), (2430, 0.03656367291797311), (2431, 0.008640078037125439), (2432, 0.0), (2433, 0.08594716583783404), (2434, 0.0), (2435, 0.026433017280813223), (2436, 0.0), (2437, 0.012200897119885716), (2438, 0.012806897588130738), (2439, 0.023124934029661065), (2440, 0.008444642356550026), (2441, 0.009546542794390992), (2442, 0.0), (2443, 0.0), (2444, 0.022433256832436608), (2445, 0.02053243412019417), (2446, 0.013956446275977353), (2447, 0.0), (2448, 0.032471936497425066), (2449, 0.014978680298939067), (2450, 0.015054901958968843), (2451, 0.0), (2452, 0.026377060985723375), (2453, 0.0), (2454, 0.019851741556030977), (2455, 0.01819499464854922), (2456, 0.022596430469960217), (2457, 0.0), (2458, 0.0), (2459, 0.0), (2460, 0.0), (2461, 0.01598950788807652), (2462, 0.008970080536064082), (2463, 0.009146434940948422), (2464, 0.0), (2465, 0.01060048822250429), (2466, 0.022815816300283433), (2467, 0.009364660631343908), (2468, 0.008907488932990044), (2469, 0.0), (2470, 0.02403970776441546), (2471, 0.009230111178032942), (2472, 0.0), (2473, 0.009891333353168868), (2474, 0.05218182224517989), (2475, 0.0), (2476, 0.0), (2477, 0.0), (2478, 0.008354411526920878), (2479, 0.0), (2480, 0.02051536033610301), (2481, 0.0), (2482, 0.06901664094327159), (2483, 0.008911421408808556), (2484, 0.008258167623981493), (2485, 0.0), (2486, 0.0), (2487, 0.010555883959657102), (2488, 0.0199525445102217), (2489, 0.010015390388697715), (2490, 0.0), (2491, 0.01963161221389834), (2492, 0.03297448674908759), (2493, 0.0), (2494, 0.0), (2495, 0.010014906578840882), (2496, 0.038148461505156266), (2497, 0.0), (2498, 0.0), (2499, 0.012499875940615489), (2500, 0.0), (2501, 0.0), (2502, 0.009783547593254028), (2503, 0.0), (2504, 0.010403364029707577), (2505, 0.0), (2506, 0.02272808257353615), (2507, 0.01038477267302512), (2508, 0.0), (2509, 0.0), (2510, 0.0), (2511, 0.010219290082473421), (2512, 0.0), (2513, 0.036638371398346935), (2514, 0.038772996055086065), (2515, 0.0), (2516, 0.0), (2517, 0.0), (2518, 0.0), (2519, 0.0), (2520, 0.01321551986850324), (2521, 0.0), (2522, 0.018471584825317824), (2523, 0.0), (2524, 0.013524690239617335), (2525, 0.009631117760522428), (2526, 0.0), (2527, 0.016456200051620632), (2528, 0.0), (2529, 0.020271362395485253), (2530, 0.11737306691653826), (2531, 0.022441289111751604), (2532, 0.025284764401990754), (2533, 0.0), (2534, 0.019677750938115704), (2535, 0.0), (2536, 0.009649298660213851), (2537, 0.0), (2538, 0.010075445104237152), (2539, 0.030742829410341246), (2540, 0.0), (2541, 0.0), (2542, 0.01117360608825957), (2543, 0.04305641254140852), (2544, 0.016541299227812653), (2545, 0.0398665104553931), (2546, 0.019340120279216562), (2547, 0.0), (2548, 0.0), (2549, 0.00881369594428913), (2550, 0.02322553034729963), (2551, 0.0), (2552, 0.0), (2553, 0.04203500115248618), (2554, 0.02010011837960579), (2555, 0.019895400728816338), (2556, 0.03500728281686267), (2557, 0.019260925897699135), (2558, 0.0), (2559, 0.0), (2560, 0.03794388490474215), (2561, 0.008984554868955668), (2562, 0.03715228718585778), (2563, 0.01785294899618708), (2564, 0.009060978813870822), (2565, 0.0), (2566, 0.0), (2567, 0.026387293127276022), (2568, 0.02228708032390614), (2569, 0.009547454903464887), (2570, 0.0), (2571, 0.02318283179763578), (2572, 0.04030137105435078), (2573, 0.026852068053739752), (2574, 0.0), (2575, 0.021895389273117887), (2576, 0.0), (2577, 0.03655945728717357), (2578, 0.009942994095104029), (2579, 0.019134956134330066), (2580, 0.017783054715039947), (2581, 0.019049139651870765), (2582, 0.017884730173000393), (2583, 0.02033200010441196), (2584, 0.029754854413659222), (2585, 0.02104364180491429), (2586, 0.024331415872957465), (2587, 0.02030853892034651), (2588, 0.0), (2589, 0.0), (2590, 0.0), (2591, 0.013180931190273606), (2592, 0.03533616174256468), (2593, 0.009232818534552815), (2594, 0.0), (2595, 0.0), (2596, 0.01645046096656476), (2597, 0.01639857411323312), (2598, 0.013234307727779091), (2599, 0.0), (2600, 0.0), (2601, 0.0), (2602, 0.0), (2603, 0.009817286740949976), (2604, 0.024949578836897544), (2605, 0.0), (2606, 0.014201292275148485), (2607, 0.0), (2608, 0.0), (2609, 0.03771242539525805), (2610, 0.0), (2611, 0.010049046881950088), (2612, 0.01914868117291826), (2613, 0.02163659237418695), (2614, 0.02591511595712616), (2615, 0.00956223464217302), (2616, 0.0), (2617, 0.0), (2618, 0.0), (2619, 0.014384545023145819), (2620, 0.0), (2621, 0.021778720894839454), (2622, 0.022095017826739987), (2623, 0.008150191993664211), (2624, 0.012095194492149698), (2625, 0.019544123037376522), (2626, 0.0), (2627, 0.019732505929228546), (2628, 0.01092578498132443), (2629, 0.0), (2630, 0.0), (2631, 0.06983462174386704), (2632, 0.009534942510293201), (2633, 0.017550658068028243), (2634, 0.0), (2635, 0.03231311387496552), (2636, 0.0), (2637, 0.0), (2638, 0.022078741662113443), (2639, 0.008743220060357198), (2640, 0.014526817609079099), (2641, 0.0), (2642, 0.009784308457719057), (2643, 0.0), (2644, 0.0), (2645, 0.009714947488489058), (2646, 0.0), (2647, 0.041075702154678026), (2648, 0.0), (2649, 0.0), (2650, 0.0), (2651, 0.012475306891661018), (2652, 0.0), (2653, 0.0), (2654, 0.0), (2655, 0.03599654919315064), (2656, 0.0), (2657, 0.01175531461064762), (2658, 0.0), (2659, 0.03124342577904924), (2660, 0.009083006817745418), (2661, 0.008703462166012229), (2662, 0.0), (2663, 0.0), (2664, 0.0), (2665, 0.0), (2666, 0.0), (2667, 0.03711411434679489), (2668, 0.0), (2669, 0.0), (2670, 0.0), (2671, 0.0), (2672, 0.0), (2673, 0.0), (2674, 0.011760316750151541), (2675, 0.01884186561632746), (2676, 0.03667352788653988), (2677, 0.007614772923746273), (2678, 0.0), (2679, 0.0), (2680, 0.0), (2681, 0.0), (2682, 0.0), (2683, 0.0), (2684, 0.0), (2685, 0.09764791552421025), (2686, 0.0), (2687, 0.02854280181425902), (2688, 0.0), (2689, 0.0), (2690, 0.0), (2691, 0.0), (2692, 0.04623525328928317), (2693, 0.010850225242231396), (2694, 0.0), (2695, 0.011668570411556129), (2696, 0.0), (2697, 0.0), (2698, 0.0), (2699, 0.0), (2700, 0.01795865137198146), (2701, 0.0), (2702, 0.01852499777288467), (2703, 0.017159954149918853), (2704, 0.0), (2705, 0.0), (2706, 0.0), (2707, 0.0), (2708, 0.029557139361319627), (2709, 0.0), (2710, 0.0), (2711, 0.0), (2712, 0.0), (2713, 0.02324943862716454), (2714, 0.0), (2715, 0.009421669521988375), (2716, 0.0), (2717, 0.0), (2718, 0.0), (2719, 0.009751287175286305), (2720, 0.0), (2721, 0.01892426156446093), (2722, 0.0), (2723, 0.0), (2724, 0.0), (2725, 0.0), (2726, 0.02584769644893048), (2727, 0.017436194300202976), (2728, 0.0), (2729, 0.009460734584563604), (2730, 0.03320628178258124), (2731, 0.028621447693145383), (2732, 0.010462405456033866), (2733, 0.0), (2734, 0.00995492684514185), (2735, 0.0), (2736, 0.025362632722699122), (2737, 0.0), (2738, 0.02114909161372861), (2739, 0.008834788708981824), (2740, 0.09186645490638093), (2741, 0.01039914104357766), (2742, 0.03182406586375103), (2743, 0.0), (2744, 0.0), (2745, 0.0), (2746, 0.02287609356821219), (2747, 0.016612570084634234), (2748, 0.0), (2749, 0.019659827962233777), (2750, 0.00794249931157474), (2751, 0.0), (2752, 0.009263641244196782), (2753, 0.047945167438728994), (2754, 0.0), (2755, 0.026359132854053523), (2756, 0.03039549092480076), (2757, 0.015004558637617193), (2758, 0.0), (2759, 0.028403660309916243), (2760, 0.0), (2761, 0.022079158082682567), (2762, 0.008651876482445446), (2763, 0.021856974500597596), (2764, 0.0), (2765, 0.009362092614695328), (2766, 0.0), (2767, 0.009911472400804583), (2768, 0.0), (2769, 0.02912479964214588), (2770, 0.0), (2771, 0.03599036816770726), (2772, 0.0), (2773, 0.04309238953352727), (2774, 0.008225266318494068), (2775, 0.0), (2776, 0.0), (2777, 0.008383002934508717), (2778, 0.02027239164328789), (2779, 0.0), (2780, 0.025986599220871105), (2781, 0.0), (2782, 0.0), (2783, 0.026865632095415586), (2784, 0.0), (2785, 0.0), (2786, 0.0), (2787, 0.0), (2788, 0.02026083387378326), (2789, 0.02650846310198409), (2790, 0.028527941186766187), (2791, 0.009886161869689537), (2792, 0.03904834717735066), (2793, 0.02244753263868265), (2794, 0.009695246669708783), (2795, 0.0), (2796, 0.03179798765362721), (2797, 0.009591931347709883), (2798, 0.01731731238180195), (2799, 0.009174624921166363), (2800, 0.00965504793028299), (2801, 0.009006675606426835), (2802, 0.0), (2803, 0.0), (2804, 0.009472057203793979), (2805, 0.04050221287497118), (2806, 0.0), (2807, 0.009623143014337322), (2808, 0.01441059756136191), (2809, 0.020586445509904433), (2810, 0.0), (2811, 0.0), (2812, 0.010067236754190976), (2813, 0.03320147025220006), (2814, 0.010746835218189746), (2815, 0.026552735800790025), (2816, 0.01886625812476968), (2817, 0.0), (2818, 0.016981337815128617), (2819, 0.0), (2820, 0.01876883137940418), (2821, 0.0), (2822, 0.04238316745120899), (2823, 0.0320415217690485), (2824, 0.056078069861264776), (2825, 0.0), (2826, 0.08483149519078893), (2827, 0.0), (2828, 0.0), (2829, 0.022068890706859162), (2830, 0.02774149159140004), (2831, 0.009984086793405358), (2832, 0.008394112628877633), (2833, 0.023790711313283575), (2834, 0.0), (2835, 0.012640660805364329), (2836, 0.01433421090664225), (2837, 0.010979222061754385), (2838, 0.0), (2839, 0.009662827984102729), (2840, 0.0), (2841, 0.0), (2842, 0.0), (2843, 0.0), (2844, 0.0), (2845, 0.0), (2846, 0.011930615997630978), (2847, 0.0), (2848, 0.022005954273875028), (2849, 0.026352041238689082), (2850, 0.0), (2851, 0.014411129892506681), (2852, 0.0), (2853, 0.0), (2854, 0.0), (2855, 0.0), (2856, 0.0), (2857, 0.0), (2858, 0.08034823755446865), (2859, 0.022464846102525273), (2860, 0.01697101191393741), (2861, 0.022063014233270128), (2862, 0.044442100133973275), (2863, 0.0), (2864, 0.010790141626398854), (2865, 0.009397294608476206), (2866, 0.0), (2867, 0.0), (2868, 0.0), (2869, 0.02765227872703282), (2870, 0.0), (2871, 0.0), (2872, 0.0), (2873, 0.0), (2874, 0.010826732163470585), (2875, 0.01754309625294181), (2876, 0.0), (2877, 0.0), (2878, 0.05624953444506535), (2879, 0.01082876613248575), (2880, 0.0), (2881, 0.0), (2882, 0.0), (2883, 0.0), (2884, 0.03498246959865168), (2885, 0.010887179967381541), (2886, 0.0), (2887, 0.01697471032319707), (2888, 0.01721457092216031), (2889, 0.020978305672094646), (2890, 0.0), (2891, 0.022089157826226394), (2892, 0.04529910480267838), (2893, 0.0), (2894, 0.01547386263683365), (2895, 0.0), (2896, 0.0), (2897, 0.02538694362201251), (2898, 0.0), (2899, 0.025792837637927946), (2900, 0.0), (2901, 0.009878148304758574), (2902, 0.02262127422920567), (2903, 0.0), (2904, 0.010826745618016685), (2905, 0.0), (2906, 0.009161006648411962), (2907, 0.020656776423026376), (2908, 0.0), (2909, 0.02183033230505624), (2910, 0.0), (2911, 0.00908113834674048), (2912, 0.008929881301347047), (2913, 0.0), (2914, 0.02349447258213725), (2915, 0.019921912064576906), (2916, 0.0), (2917, 0.0), (2918, 0.0), (2919, 0.01013217500692722), (2920, 0.0), (2921, 0.0), (2922, 0.01947348998256762), (2923, 0.0), (2924, 0.0), (2925, 0.0), (2926, 0.0), (2927, 0.018674502225759934), (2928, 0.0), (2929, 0.04011187960361469), (2930, 0.0), (2931, 0.011811664264148642), (2932, 0.0), (2933, 0.0), (2934, 0.0), (2935, 0.0), (2936, 0.0), (2937, 0.0), (2938, 0.0), (2939, 0.023340588922952956), (2940, 0.009136125211054674), (2941, 0.0), (2942, 0.0), (2943, 0.0), (2944, 0.021491397337354286), (2945, 0.0), (2946, 0.04536656789899261), (2947, 0.009245487130551703), (2948, 0.009774754600404223), (2949, 0.018907325439681787), (2950, 0.009358370804352636), (2951, 0.0), (2952, 0.0), (2953, 0.01801378248573577), (2954, 0.0), (2955, 0.0), (2956, 0.0), (2957, 0.0), (2958, 0.0), (2959, 0.02010071580858907), (2960, 0.0), (2961, 0.03217223598005499), (2962, 0.0), (2963, 0.0), (2964, 0.015267817250691098), (2965, 0.008583859908164473), (2966, 0.0), (2967, 0.0), (2968, 0.0), (2969, 0.0), (2970, 0.0), (2971, 0.017849123883063405), (2972, 0.0), (2973, 0.0), (2974, 0.0), (2975, 0.018883227031895333), (2976, 0.0), (2977, 0.008786017528983755), (2978, 0.009150973467612067), (2979, 0.010069863298171848), (2980, 0.0), (2981, 0.0), (2982, 0.009005866214089393), (2983, 0.06441903061543784), (2984, 0.0), (2985, 0.008428318634424798), (2986, 0.01683879700813445), (2987, 0.0), (2988, 0.0), (2989, 0.0), (2990, 0.010808111349469204), (2991, 0.017160075192009468), (2992, 0.0), (2993, 0.020164719306586778), (2994, 0.009260682924170158), (2995, 0.0), (2996, 0.0), (2997, 0.0), (2998, 0.009404748294183241), (2999, 0.02102038922032326), (3000, 0.010530158387382546), (3001, 0.008088358905900699), (3002, 0.0), (3003, 0.019593721462373963), (3004, 0.012120427176693354), (3005, 0.0), (3006, 0.014780600921412524), (3007, 0.0), (3008, 0.007982612396129355), (3009, 0.03139700873955708), (3010, 0.03282102156059183), (3011, 0.01949522697634692), (3012, 0.01495688734105926), (3013, 0.0), (3014, 0.0337083527368857), (3015, 0.0), (3016, 0.010640181197400277), (3017, 0.008736190280772747), (3018, 0.008219495041225341), (3019, 0.009263537520124073), (3020, 0.021281960657482574), (3021, 0.0), (3022, 0.0), (3023, 0.0), (3024, 0.0), (3025, 0.0), (3026, 0.0), (3027, 0.0), (3028, 0.0), (3029, 0.0), (3030, 0.01967324711162533), (3031, 0.04312743851684596), (3032, 0.007607838794526037), (3033, 0.05478221292730628), (3034, 0.0), (3035, 0.0), (3036, 0.0), (3037, 0.0), (3038, 0.0), (3039, 0.0), (3040, 0.009010226734973554), (3041, 0.0), (3042, 0.0), (3043, 0.026958337149697555), (3044, 0.01010800200904472), (3045, 0.0), (3046, 0.025716937473273957), (3047, 0.03095634304353992), (3048, 0.009326696712122093), (3049, 0.009123874350206288), (3050, 0.01902262167323993), (3051, 0.011470381679616018), (3052, 0.009053265396938043), (3053, 0.054321281856461415), (3054, 0.0), (3055, 0.021021132283701748), (3056, 0.019657545722179457), (3057, 0.0), (3058, 0.0), (3059, 0.0), (3060, 0.0), (3061, 0.0), (3062, 0.009210360658400776), (3063, 0.008859033682311652), (3064, 0.0), (3065, 0.0), (3066, 0.010395487446808124), (3067, 0.0), (3068, 0.039639018607464244), (3069, 0.0), (3070, 0.0), (3071, 0.0), (3072, 0.028179647290616894), (3073, 0.008465928561846327), (3074, 0.008796503246881913), (3075, 0.0483125777519123), (3076, 0.009272868058585456), (3077, 0.0), (3078, 0.0), (3079, 0.0), (3080, 0.028461771426894353), (3081, 0.0), (3082, 0.0), (3083, 0.010277417717589681), (3084, 0.0), (3085, 0.0), (3086, 0.019239737640251508), (3087, 0.0), (3088, 0.031237519485979953), (3089, 0.0), (3090, 0.0), (3091, 0.0077396889180238945), (3092, 0.010169895146795047), (3093, 0.016328946451506298), (3094, 0.019503604345134283), (3095, 0.018193645467746405), (3096, 0.0), (3097, 0.03541718178541996), (3098, 0.0), (3099, 0.0), (3100, 0.0), (3101, 0.010336201334243567), (3102, 0.0), (3103, 0.0), (3104, 0.0), (3105, 0.0), (3106, 0.02850190813425897), (3107, 0.0), (3108, 0.008749259538170089), (3109, 0.0), (3110, 0.0), (3111, 0.02533399522658655), (3112, 0.028843998901525322), (3113, 0.0), (3114, 0.0), (3115, 0.0), (3116, 0.0), (3117, 0.0), (3118, 0.0), (3119, 0.0), (3120, 0.008997462918972758), (3121, 0.0), (3122, 0.0), (3123, 0.00855565814120977), (3124, 0.008535604733450414), (3125, 0.010685131824828291), (3126, 0.0), (3127, 0.021500888097495587), (3128, 0.0), (3129, 0.0), (3130, 0.0), (3131, 0.0), (3132, 0.009441051625817619), (3133, 0.0), (3134, 0.0), (3135, 0.0), (3136, 0.0), (3137, 0.0), (3138, 0.018251982080147097), (3139, 0.0), (3140, 0.0), (3141, 0.009950524421725665), (3142, 0.02708603457957895), (3143, 0.0077259186771028955), (3144, 0.0), (3145, 0.0), (3146, 0.045238865169976085), (3147, 0.009558980367880594), (3148, 0.04980352639055036), (3149, 0.0), (3150, 0.0), (3151, 0.020021862785381796), (3152, 0.0), (3153, 0.0), (3154, 0.0), (3155, 0.0), (3156, 0.0), (3157, 0.010688384319316983), (3158, 0.009092830006954862), (3159, 0.0), (3160, 0.019966556640990635), (3161, 0.014586128354223998), (3162, 0.0), (3163, 0.0), (3164, 0.0), (3165, 0.008168841421205157), (3166, 0.0), (3167, 0.0), (3168, 0.020437312345094175), (3169, 0.00826493495464727), (3170, 0.01279242620509483), (3171, 0.0), (3172, 0.010875848773379765), (3173, 0.020064904415785727), (3174, 0.0), (3175, 0.008014846460785558), (3176, 0.010031910365191823), (3177, 0.008704732670684496), (3178, 0.0), (3179, 0.008886790535704455), (3180, 0.010386243730363018), (3181, 0.010720422078758708), (3182, 0.0), (3183, 0.0), (3184, 0.02915153861609308), (3185, 0.0), (3186, 0.02273729066525437), (3187, 0.0), (3188, 0.0), (3189, 0.02230744224522407), (3190, 0.0), (3191, 0.0), (3192, 0.020078110330063518), (3193, 0.0), (3194, 0.0), (3195, 0.009277969888699744), (3196, 0.0), (3197, 0.009199292216358046), (3198, 0.0), (3199, 0.010424896022350413), (3200, 0.0), (3201, 0.014343850050230441), (3202, 0.03148363842007118), (3203, 0.020890565997381347), (3204, 0.0), (3205, 0.007652618746495612), (3206, 0.0), (3207, 0.02024185491842044), (3208, 0.04876906381212854), (3209, 0.018067004853317505), (3210, 0.0), (3211, 0.04471464534429038), (3212, 0.0), (3213, 0.0), (3214, 0.011069897079899674), (3215, 0.0), (3216, 0.0), (3217, 0.0), (3218, 0.01672085346186149), (3219, 0.0), (3220, 0.02287534651853723), (3221, 0.0), (3222, 0.0), (3223, 0.0), (3224, 0.017887045743931285), (3225, 0.0), (3226, 0.0), (3227, 0.01657301399336168), (3228, 0.0), (3229, 0.03206231688751041), (3230, 0.0), (3231, 0.0), (3232, 0.01864313217955736), (3233, 0.0), (3234, 0.008946338235155551), (3235, 0.0), (3236, 0.0191372387966955), (3237, 0.021851191263325194), (3238, 0.0236286545516472), (3239, 0.04438360921416738), (3240, 0.0), (3241, 0.017313682194835166), (3242, 0.07513494657167406), (3243, 0.04114752942373702), (3244, 0.030841522433880848), (3245, 0.009535871207760723), (3246, 0.008946106539300532), (3247, 0.02878924862652786), (3248, 0.0), (3249, 0.0), (3250, 0.04960433349310567), (3251, 0.0), (3252, 0.009934543408237975), (3253, 0.009069719435171219), (3254, 0.009822736959623731), (3255, 0.0), (3256, 0.00807726561488014), (3257, 0.0), (3258, 0.0), (3259, 0.0), (3260, 0.0), (3261, 0.0), (3262, 0.0), (3263, 0.0), (3264, 0.0), (3265, 0.0), (3266, 0.008659331701982563), (3267, 0.04243615054078053), (3268, 0.0), (3269, 0.0), (3270, 0.00986512545333629), (3271, 0.0), (3272, 0.0), (3273, 0.016846949645637856), (3274, 0.0), (3275, 0.007468950421753616), (3276, 0.017998704936042415), (3277, 0.00860237602444971), (3278, 0.0), (3279, 0.01039067205483259), (3280, 0.0), (3281, 0.009526957972209964), (3282, 0.0), (3283, 0.0), (3284, 0.0), (3285, 0.02388122501693462), (3286, 0.009892815190131342), (3287, 0.036506538757386194), (3288, 0.0), (3289, 0.0), (3290, 0.009531942365236867), (3291, 0.027738382012334722), (3292, 0.0), (3293, 0.017969725657851862), (3294, 0.031205252968407787), (3295, 0.0), (3296, 0.008563363938873119), (3297, 0.054483523507192495), (3298, 0.0), (3299, 0.0), (3300, 0.0), (3301, 0.009953673563859745), (3302, 0.010478823956980026), (3303, 0.00939865942284406), (3304, 0.0), (3305, 0.008695898394347304), (3306, 0.02157782589565221), (3307, 0.0), (3308, 0.02295988714862539), (3309, 0.00844452938535241), (3310, 0.0), (3311, 0.0), (3312, 0.0), (3313, 0.009278160916974398), (3314, 0.0), (3315, 0.03401832945722156), (3316, 0.009644640021234328), (3317, 0.0), (3318, 0.010057859063077546), (3319, 0.0), (3320, 0.010335608228587853), (3321, 0.03583991619585317), (3322, 0.009438845688773513), (3323, 0.04225274401765692), (3324, 0.0), (3325, 0.041059560116965585), (3326, 0.07934216498572898), (3327, 0.0), (3328, 0.0), (3329, 0.010774272296391692), (3330, 0.009546851620575248), (3331, 0.0), (3332, 0.032899294246759296), (3333, 0.04130700099473343), (3334, 0.0382472414059202), (3335, 0.0), (3336, 0.0), (3337, 0.00976293160103851), (3338, 0.038334841967431255), (3339, 0.009829962168582826), (3340, 0.0), (3341, 0.0), (3342, 0.0), (3343, 0.0), (3344, 0.0), (3345, 0.014508708015171122), (3346, 0.009094267441302557), (3347, 0.03702138246613067), (3348, 0.009147847271260612), (3349, 0.009012863920234992), (3350, 0.042744255813841406), (3351, 0.026798331655854282), (3352, 0.009626171284909706), (3353, 0.0), (3354, 0.02459024208476566), (3355, 0.050949849380164725), (3356, 0.0), (3357, 0.0), (3358, 0.0077528474985428825), (3359, 0.0), (3360, 0.0), (3361, 0.021886703561388398), (3362, 0.02110094254920629), (3363, 0.0), (3364, 0.013028605095914879), (3365, 0.0), (3366, 0.0), (3367, 0.0), (3368, 0.0), (3369, 0.0), (3370, 0.008688944543192821), (3371, 0.02684455673646888), (3372, 0.054287213600473755), (3373, 0.0), (3374, 0.013661153699994972), (3375, 0.009098049496849472), (3376, 0.010563382285910231), (3377, 0.0), (3378, 0.0), (3379, 0.014343093417812414), (3380, 0.0), (3381, 0.010627018823354357), (3382, 0.0), (3383, 0.009793217724131534), (3384, 0.0), (3385, 0.02251712297180676), (3386, 0.010132470718214262), (3387, 0.010337209938660628), (3388, 0.0), (3389, 0.021354484100220946), (3390, 0.0364008004549925), (3391, 0.017540039555383677), (3392, 0.0), (3393, 0.0), (3394, 0.022229815690961784), (3395, 0.0), (3396, 0.0), (3397, 0.01102138639732124), (3398, 0.0), (3399, 0.0), (3400, 0.032755203019217125), (3401, 0.01894253858201778), (3402, 0.009590970421455682), (3403, 0.0), (3404, 0.04188434227311049), (3405, 0.0259597833205933), (3406, 0.020110653824672066), (3407, 0.0), (3408, 0.0), (3409, 0.054184939699810766), (3410, 0.0), (3411, 0.0), (3412, 0.0), (3413, 0.008612170514444599), (3414, 0.008473325713461703), (3415, 0.0), (3416, 0.00852981514346638), (3417, 0.01550125479520578), (3418, 0.008160240640108181), (3419, 0.0), (3420, 0.01727735038632272), (3421, 0.008259858402307228), (3422, 0.0), (3423, 0.010214626015587548), (3424, 0.031011359305318308), (3425, 0.007697332413186827), (3426, 0.0), (3427, 0.03077110988151058), (3428, 0.009057337394936046), (3429, 0.0), (3430, 0.0), (3431, 0.0), (3432, 0.0), (3433, 0.009174352575188142), (3434, 0.01027048649690386), (3435, 0.0), (3436, 0.0), (3437, 0.0), (3438, 0.0), (3439, 0.043408132461705246), (3440, 0.008070961165403677), (3441, 0.01795010470941349), (3442, 0.009168208705050598), (3443, 0.0), (3444, 0.010233910589334818), (3445, 0.0), (3446, 0.021080229520376945), (3447, 0.0), (3448, 0.0), (3449, 0.01791616770155885), (3450, 0.03334655467712516), (3451, 0.029873418522833303), (3452, 0.0), (3453, 0.0), (3454, 0.008735120431078224), (3455, 0.020892040724514123), (3456, 0.0), (3457, 0.0), (3458, 0.00971415270697409), (3459, 0.019042811566146126), (3460, 0.008031287008647482), (3461, 0.0), (3462, 0.009338394382832), (3463, 0.009691373541412925), (3464, 0.03144797577267558), (3465, 0.031068322301468533), (3466, 0.05477754452813167), (3467, 0.008642462361223251), (3468, 0.0), (3469, 0.0), (3470, 0.026855912844892162), (3471, 0.0), (3472, 0.014374383657991764), (3473, 0.008215492579801517), (3474, 0.014003014517620115), (3475, 0.0417219519371896), (3476, 0.0), (3477, 0.017474603154940257), (3478, 0.0), (3479, 0.03422315579645617), (3480, 0.020076874097502855), (3481, 0.022390279431657258), (3482, 0.0), (3483, 0.009067351328371281), (3484, 0.0), (3485, 0.0), (3486, 0.011059617781587035), (3487, 0.0), (3488, 0.011233684264210262), (3489, 0.022769796731232597), (3490, 0.023950603409483823), (3491, 0.0), (3492, 0.0), (3493, 0.0), (3494, 0.012946236623008662), (3495, 0.021316393507060487), (3496, 0.0), (3497, 0.0), (3498, 0.0), (3499, 0.029022940966264912), (3500, 0.0), (3501, 0.01392964310501754), (3502, 0.0), (3503, 0.024241915737116895), (3504, 0.02062547608557396), (3505, 0.0), (3506, 0.009940297457609605), (3507, 0.020222420384297418), (3508, 0.00959419387179102), (3509, 0.0), (3510, 0.027604185340124265), (3511, 0.01757109314906882), (3512, 0.007796308452976017), (3513, 0.0), (3514, 0.0), (3515, 0.020636309601846408), (3516, 0.0), (3517, 0.0), (3518, 0.008755787875395974), (3519, 0.0), (3520, 0.0168889364449223), (3521, 0.0), (3522, 0.0), (3523, 0.0), (3524, 0.0), (3525, 0.0), (3526, 0.009554622298647755), (3527, 0.014368342811057125), (3528, 0.019856500815636148), (3529, 0.01827164020136152), (3530, 0.0), (3531, 0.02330107057716491), (3532, 0.009511771110407482), (3533, 0.01630009889690496), (3534, 0.0), (3535, 0.0), (3536, 0.0), (3537, 0.009818839318237465), (3538, 0.040139460199125225), (3539, 0.0), (3540, 0.0), (3541, 0.009639960900555859), (3542, 0.0), (3543, 0.0), (3544, 0.03332785339538881), (3545, 0.0), (3546, 0.016865132364733665), (3547, 0.0), (3548, 0.0), (3549, 0.009429490177490021), (3550, 0.02178146199930294), (3551, 0.0), (3552, 0.022804618708862887), (3553, 0.007637041822814127), (3554, 0.01056364860975121), (3555, 0.0), (3556, 0.010088917735557744), (3557, 0.0), (3558, 0.010230890673767905), (3559, 0.01936583559463933), (3560, 0.0), (3561, 0.018585674399177663), (3562, 0.00977898504737453), (3563, 0.00959554605702308), (3564, 0.059486796802057526), (3565, 0.0), (3566, 0.00895512247331253), (3567, 0.009620996885236674), (3568, 0.0), (3569, 0.0), (3570, 0.0), (3571, 0.009607323160011099), (3572, 0.0), (3573, 0.0), (3574, 0.009638893339571292), (3575, 0.0), (3576, 0.008198897325900479), (3577, 0.0), (3578, 0.0), (3579, 0.032086926172328514), (3580, 0.0), (3581, 0.0), (3582, 0.0), (3583, 0.0), (3584, 0.0), (3585, 0.0), (3586, 0.009203743726188809), (3587, 0.0), (3588, 0.0), (3589, 0.0), (3590, 0.0), (3591, 0.017979610036896604), (3592, 0.009404812683069724), (3593, 0.01950174567902757), (3594, 0.0), (3595, 0.04191459065852242), (3596, 0.030636926630607887), (3597, 0.019665158623799604), (3598, 0.0), (3599, 0.035069505799285104), (3600, 0.02124559062551633), (3601, 0.0), (3602, 0.01245520494144823), (3603, 0.024771221045709346), (3604, 0.027081544436791408), (3605, 0.0), (3606, 0.0), (3607, 0.04518800988241456), (3608, 0.00948351781459921), (3609, 0.0), (3610, 0.0), (3611, 0.019620819363851183), (3612, 0.0), (3613, 0.012558834304962185), (3614, 0.0), (3615, 0.00702022401086772), (3616, 0.010657023383352796), (3617, 0.0), (3618, 0.0), (3619, 0.0150420172678559), (3620, 0.008625004217365874), (3621, 0.0), (3622, 0.018037952700573012), (3623, 0.010875554972313758), (3624, 0.034764303993862475), (3625, 0.007865781333527617), (3626, 0.009045234139906185), (3627, 0.009434103290160971), (3628, 0.02867236174102695), (3629, 0.0), (3630, 0.03212910130563272), (3631, 0.008612075073952228), (3632, 0.0), (3633, 0.0), (3634, 0.03963330864477137), (3635, 0.01867498043253311), (3636, 0.00909950058335151), (3637, 0.04901161499641812), (3638, 0.0), (3639, 0.0), (3640, 0.018778885260378318), (3641, 0.0), (3642, 0.0), (3643, 0.008328559559641586), (3644, 0.026991516582114572), (3645, 0.007750713152447218), (3646, 0.0), (3647, 0.008953932252667381), (3648, 0.035377702211239176), (3649, 0.0), (3650, 0.0), (3651, 0.020207104508252853), (3652, 0.03357608424033489), (3653, 0.009468675007339269), (3654, 0.0), (3655, 0.0), (3656, 0.0), (3657, 0.0), (3658, 0.009324848126530502), (3659, 0.029833885709626688), (3660, 0.02080918503944745), (3661, 0.012188487726728335), (3662, 0.01876875102859873), (3663, 0.0), (3664, 0.009850200601515103), (3665, 0.011441161471729652), (3666, 0.0), (3667, 0.021665725498162362), (3668, 0.009672911567232819), (3669, 0.023675578713974254), (3670, 0.0), (3671, 0.012228610463277424), (3672, 0.021799546923423688), (3673, 0.0), (3674, 0.0), (3675, 0.0), (3676, 0.0), (3677, 0.0), (3678, 0.00989664458717578), (3679, 0.011221405783767967), (3680, 0.03382988976634544), (3681, 0.0), (3682, 0.009899050165709704), (3683, 0.009726476210405996), (3684, 0.009319833950171453), (3685, 0.009449798009701024), (3686, 0.0), (3687, 0.0), (3688, 0.02133581513270746), (3689, 0.0), (3690, 0.0), (3691, 0.020309786563807705), (3692, 0.0), (3693, 0.0), (3694, 0.027614900844143007), (3695, 0.024331636130921847), (3696, 0.0), (3697, 0.0), (3698, 0.017828469224355648), (3699, 0.025012511117193235), (3700, 0.028326099246387217), (3701, 0.01049390662438149), (3702, 0.0), (3703, 0.024257022709897613), (3704, 0.02378765707540353), (3705, 0.0), (3706, 0.011610693097014534), (3707, 0.0), (3708, 0.0), (3709, 0.007820563893989886), (3710, 0.02451955876850819), (3711, 0.033860211936912826), (3712, 0.0), (3713, 0.0), (3714, 0.012270830623143285), (3715, 0.0), (3716, 0.0094103649830732), (3717, 0.01930364800401799), (3718, 0.0), (3719, 0.06172303458515732), (3720, 0.0), (3721, 0.0), (3722, 0.0), (3723, 0.0), (3724, 0.0), (3725, 0.0), (3726, 0.030228471830639755), (3727, 0.0), (3728, 0.0), (3729, 0.0), (3730, 0.01949689558481688), (3731, 0.0), (3732, 0.0), (3733, 0.019189625249388137), (3734, 0.024006945806454554), (3735, 0.03204650707932645), (3736, 0.0), (3737, 0.018174927095820723), (3738, 0.0), (3739, 0.03319737627145634), (3740, 0.0), (3741, 0.009126933116800268), (3742, 0.0), (3743, 0.031073150635782643), (3744, 0.022535307409670566), (3745, 0.0), (3746, 0.0), (3747, 0.025912755105978152), (3748, 0.017823588999333524), (3749, 0.0), (3750, 0.008937969211427779), (3751, 0.0), (3752, 0.0), (3753, 0.05855361322532456), (3754, 0.01816181338123762), (3755, 0.01755618256809987), (3756, 0.022024406966841836), (3757, 0.032587649550743045), (3758, 0.055906348087275626), (3759, 0.0), (3760, 0.0), (3761, 0.0), (3762, 0.021513256705472147), (3763, 0.0), (3764, 0.032713988141931716), (3765, 0.009892921869711151), (3766, 0.04597073490038938), (3767, 0.01039835428782365), (3768, 0.0), (3769, 0.009939097505877357), (3770, 0.036657246809666026), (3771, 0.010114869536883559), (3772, 0.021839434281495977), (3773, 0.0), (3774, 0.046318636067832326), (3775, 0.015311803116434484), (3776, 0.008627542303389007), (3777, 0.014301606646374502), (3778, 0.021294376690046423), (3779, 0.012462619279889583), (3780, 0.02218913108885441), (3781, 0.0), (3782, 0.026120092280997726), (3783, 0.0), (3784, 0.01842092567632993), (3785, 0.009751371165748635), (3786, 0.01046037292348057), (3787, 0.0), (3788, 0.0), (3789, 0.017904344269049854), (3790, 0.0), (3791, 0.020836125472532746), (3792, 0.0), (3793, 0.0), (3794, 0.0), (3795, 0.0), (3796, 0.010658798774708107), (3797, 0.008883551738829048), (3798, 0.0114684485327656), (3799, 0.0), (3800, 0.013499083636537984), (3801, 0.0), (3802, 0.009712320839503432), (3803, 0.0), (3804, 0.0), (3805, 0.0), (3806, 0.0), (3807, 0.0), (3808, 0.011560032039316836), (3809, 0.0), (3810, 0.0), (3811, 0.0), (3812, 0.009347356341086736), (3813, 0.0), (3814, 0.0), (3815, 0.02328835099902794), (3816, 0.0), (3817, 0.009381013741513308), (3818, 0.0), (3819, 0.0), (3820, 0.0), (3821, 0.009239726661740765), (3822, 0.0), (3823, 0.011168871446282213), (3824, 0.0), (3825, 0.0), (3826, 0.0), (3827, 0.0), (3828, 0.009721355840938733), (3829, 0.01902320652174499), (3830, 0.0), (3831, 0.02518875240894552), (3832, 0.017336144174811826), (3833, 0.019642884115314604), (3834, 0.026741259864152385), (3835, 0.0), (3836, 0.022838136606982407), (3837, 0.041093051174502786), (3838, 0.0), (3839, 0.008978796266968717), (3840, 0.010615959747906207), (3841, 0.018178041772684974), (3842, 0.0), (3843, 0.0), (3844, 0.0), (3845, 0.01909048216461491), (3846, 0.0), (3847, 0.030008566468013906), (3848, 0.019130011443064324), (3849, 0.010257881692583034), (3850, 0.009242746555305176), (3851, 0.040936601997116004), (3852, 0.0), (3853, 0.0), (3854, 0.04630327123843198), (3855, 0.021606170007578186), (3856, 0.0), (3857, 0.0), (3858, 0.03017799212291379), (3859, 0.018439195763928128), (3860, 0.008930100254051457), (3861, 0.009216748648627851), (3862, 0.0), (3863, 0.0), (3864, 0.010271075744782279), (3865, 0.018604361205710622), (3866, 0.03165306453287354), (3867, 0.0), (3868, 0.03095289936155709), (3869, 0.024282355284095756), (3870, 0.0), (3871, 0.0), (3872, 0.013240717948766436), (3873, 0.039922705245347016), (3874, 0.02912101023944743), (3875, 0.0), (3876, 0.0), (3877, 0.0), (3878, 0.024204251109200867), (3879, 0.008259184885449092), (3880, 0.0), (3881, 0.0), (3882, 0.0), (3883, 0.027397504529505855), (3884, 0.0), (3885, 0.009300431260191965), (3886, 0.0), (3887, 0.016016982279387373), (3888, 0.013873872382043516), (3889, 0.01716304507867377), (3890, 0.03410788819598589), (3891, 0.0285674886107299), (3892, 0.0), (3893, 0.025750183130021306), (3894, 0.0), (3895, 0.00844419243462989), (3896, 0.018439206429142197), (3897, 0.022831559836883994), (3898, 0.027957085835650358), (3899, 0.03214461581583664), (3900, 0.018256849095922626), (3901, 0.02337340576556854), (3902, 0.0), (3903, 0.019411874803753382), (3904, 0.0), (3905, 0.05422791551894298), (3906, 0.028288078523360596), (3907, 0.011717085549605516), (3908, 0.029000635194710425), (3909, 0.0), (3910, 0.0), (3911, 0.0), (3912, 0.0), (3913, 0.0), (3914, 0.009192439500143023), (3915, 0.010558860230309716), (3916, 0.015772431130887183), (3917, 0.0), (3918, 0.01897089215080609), (3919, 0.03800787283208834), (3920, 0.0), (3921, 0.026171348768259363), (3922, 0.0), (3923, 0.0), (3924, 0.0), (3925, 0.010208739281901235), (3926, 0.0), (3927, 0.0), (3928, 0.019719662737969965), (3929, 0.015253709870311778), (3930, 0.0), (3931, 0.0), (3932, 0.011184664510910497), (3933, 0.0), (3934, 0.014925374681666697), (3935, 0.04348544237805782), (3936, 0.00892175797901032), (3937, 0.0), (3938, 0.0), (3939, 0.031098025359228183), (3940, 0.019730036799392094), (3941, 0.0), (3942, 0.0), (3943, 0.0), (3944, 0.014710078076627936), (3945, 0.0), (3946, 0.030510927260585633), (3947, 0.017401867356167788), (3948, 0.06690801179692908), (3949, 0.0), (3950, 0.0), (3951, 0.0), (3952, 0.0), (3953, 0.0), (3954, 0.020211523210295495), (3955, 0.0), (3956, 0.045918485382248575), (3957, 0.015208968103910534), (3958, 0.0), (3959, 0.010463127641707039), (3960, 0.0), (3961, 0.0), (3962, 0.0), (3963, 0.0), (3964, 0.0), (3965, 0.0), (3966, 0.023222367083454022), (3967, 0.0), (3968, 0.0), (3969, 0.0), (3970, 0.009130601656683262), (3971, 0.06088841923851187), (3972, 0.01036751035523184), (3973, 0.009432060092872688), (3974, 0.007161196170579993), (3975, 0.0), (3976, 0.010131401350336352), (3977, 0.0), (3978, 0.0), (3979, 0.017615758152603432), (3980, 0.0), (3981, 0.02058625330806011), (3982, 0.0), (3983, 0.008206850745206046), (3984, 0.06299743607252278), (3985, 0.0), (3986, 0.05529864156111411), (3987, 0.0), (3988, 0.022326440630333788), (3989, 0.0), (3990, 0.0), (3991, 0.03429174621257224), (3992, 0.0), (3993, 0.0), (3994, 0.0), (3995, 0.0), (3996, 0.0), (3997, 0.0), (3998, 0.018527611601850274), (3999, 0.0), (4000, 0.0), (4001, 0.0), (4002, 0.0), (4003, 0.016586657099295472), (4004, 0.0), (4005, 0.0), (4006, 0.0), (4007, 0.0), (4008, 0.01041594539913871), (4009, 0.015563724391551553), (4010, 0.0283992808684516), (4011, 0.0469530501246877), (4012, 0.02459861101541464), (4013, 0.027399982426342347), (4014, 0.00940439562199328), (4015, 0.01994173867612853), (4016, 0.0), (4017, 0.023214347350985234), (4018, 0.0), (4019, 0.022498956253803163), (4020, 0.009740452584314314), (4021, 0.0), (4022, 0.0), (4023, 0.0), (4024, 0.008419900323800977), (4025, 0.0), (4026, 0.0), (4027, 0.022454234525990626), (4028, 0.01868103706551849), (4029, 0.0), (4030, 0.021493245873949764), (4031, 0.0), (4032, 0.017502838679362285), (4033, 0.010138653643236899), (4034, 0.0), (4035, 0.0), (4036, 0.0), (4037, 0.028657491587071128), (4038, 0.0260323821661996), (4039, 0.009663524502585227), (4040, 0.0), (4041, 0.03758699333087884), (4042, 0.0), (4043, 0.0), (4044, 0.0), (4045, 0.010450383293833621), (4046, 0.0), (4047, 0.0), (4048, 0.01179863798165286), (4049, 0.010519385939906182), (4050, 0.03422867434661614), (4051, 0.026904291871320377), (4052, 0.009338521396657647), (4053, 0.01919163068610745), (4054, 0.0), (4055, 0.01598833555951535), (4056, 0.0), (4057, 0.0), (4058, 0.0), (4059, 0.0), (4060, 0.0), (4061, 0.0), (4062, 0.025549970632247412), (4063, 0.04070654070853042), (4064, 0.0), (4065, 0.04369850227844712), (4066, 0.0), (4067, 0.02220571199921244), (4068, 0.0), (4069, 0.0), (4070, 0.0), (4071, 0.008243216408210172), (4072, 0.0), (4073, 0.039626697548762434), (4074, 0.0), (4075, 0.0), (4076, 0.010101145251472444), (4077, 0.018149143902924384), (4078, 0.01639663690573287), (4079, 0.04279505728081946), (4080, 0.008141693163236867), (4081, 0.013892175423909097), (4082, 0.0), (4083, 0.0), (4084, 0.007370796931527163), (4085, 0.0), (4086, 0.0), (4087, 0.013666255248340094), (4088, 0.03483206571794732), (4089, 0.0), (4090, 0.008634097327216431), (4091, 0.0), (4092, 0.0), (4093, 0.0), (4094, 0.021003458167484668), (4095, 0.0), (4096, 0.0), (4097, 0.0), (4098, 0.02618874672306547), (4099, 0.01885908460070707), (4100, 0.03190125807778002), (4101, 0.0), (4102, 0.0), (4103, 0.0), (4104, 0.0), (4105, 0.033197041891450646), (4106, 0.018406958811499268), (4107, 0.0), (4108, 0.022151163434882562), (4109, 0.0), (4110, 0.03757443175837639), (4111, 0.0), (4112, 0.0), (4113, 0.0), (4114, 0.0), (4115, 0.0), (4116, 0.0), (4117, 0.027057985492114765), (4118, 0.0), (4119, 0.0), (4120, 0.0), (4121, 0.0), (4122, 0.0), (4123, 0.0), (4124, 0.0), (4125, 0.011989507998190459), (4126, 0.0), (4127, 0.039302016952361046), (4128, 0.0), (4129, 0.0), (4130, 0.0), (4131, 0.009902024657071296), (4132, 0.06631922579415304), (4133, 0.0), (4134, 0.008967865127392838), (4135, 0.01831271338447424), (4136, 0.0), (4137, 0.0), (4138, 0.0), (4139, 0.009669146767667081), (4140, 0.0), (4141, 0.0), (4142, 0.025809374561084814), (4143, 0.0), (4144, 0.025371256598413067), (4145, 0.021562242702107305), (4146, 0.009867205230454824), (4147, 0.0), (4148, 0.0), (4149, 0.011051322462884495), (4150, 0.01785701362496204), (4151, 0.02616045315723168), (4152, 0.011890852974362298), (4153, 0.0731671465921351), (4154, 0.0), (4155, 0.01001268221651688), (4156, 0.0), (4157, 0.0), (4158, 0.02996474529467432), (4159, 0.020169083768608084), (4160, 0.016706735050961416), (4161, 0.0), (4162, 0.0), (4163, 0.0185158003498945), (4164, 0.03131033968569945), (4165, 0.0), (4166, 0.0), (4167, 0.03153361173349138), (4168, 0.0), (4169, 0.0), (4170, 0.009731059990995296), (4171, 0.0), (4172, 0.03111306950597216), (4173, 0.0), (4174, 0.007216126336691329), (4175, 0.010858358582831181), (4176, 0.056085530343590526), (4177, 0.04553561645339844), (4178, 0.0), (4179, 0.0), (4180, 0.010051717006822657), (4181, 0.01846265877474946), (4182, 0.016056247881017692), (4183, 0.06359608616445354), (4184, 0.04722977057692475), (4185, 0.0), (4186, 0.0), (4187, 0.0), (4188, 0.0), (4189, 0.03688317229623907), (4190, 0.0), (4191, 0.022499866302540486), (4192, 0.0), (4193, 0.0407768553218687), (4194, 0.0), (4195, 0.009602346730646385), (4196, 0.0), (4197, 0.0), (4198, 0.0), (4199, 0.0), (4200, 0.05288272784378852), (4201, 0.00818574870248771), (4202, 0.009192812750131332), (4203, 0.05352352507436181), (4204, 0.00914115436907649), (4205, 0.011290046686698045), (4206, 0.0), (4207, 0.0), (4208, 0.0), (4209, 0.03414480952060571), (4210, 0.0), (4211, 0.03625353783009744), (4212, 0.0), (4213, 0.0), (4214, 0.013841779105748821), (4215, 0.0), (4216, 0.00900382318700999), (4217, 0.0), (4218, 0.0), (4219, 0.0), (4220, 0.0), (4221, 0.046423516438305557), (4222, 0.00955178818666597), (4223, 0.007731036278397023), (4224, 0.009918715440761502), (4225, 0.018746648274616973), (4226, 0.008152720402575867), (4227, 0.0), (4228, 0.0366369992536459), (4229, 0.0), (4230, 0.009997813348511617), (4231, 0.016481355271806223), (4232, 0.02116779749385304), (4233, 0.0), (4234, 0.0), (4235, 0.0), (4236, 0.0), (4237, 0.009525207610579466), (4238, 0.01849777741191447), (4239, 0.02132327292879775), (4240, 0.0), (4241, 0.010450370672661413), (4242, 0.0), (4243, 0.0), (4244, 0.0), (4245, 0.0), (4246, 0.034485797262810924), (4247, 0.0), (4248, 0.0), (4249, 0.008946832741296692), (4250, 0.0), (4251, 0.024128189918672268), (4252, 0.0310821958529883), (4253, 0.0), (4254, 0.0), (4255, 0.010152870211302898), (4256, 0.02666338989708606), (4257, 0.0), (4258, 0.0), (4259, 0.018571136976417886), (4260, 0.0), (4261, 0.015681104743319213), (4262, 0.0), (4263, 0.00856856572595246), (4264, 0.01058875788536292), (4265, 0.008982010034716237), (4266, 0.0), (4267, 0.0876293090953834), (4268, 0.0), (4269, 0.0), (4270, 0.0), (4271, 0.0), (4272, 0.010170927045612847), (4273, 0.027888274623658577), (4274, 0.0), (4275, 0.0), (4276, 0.03702534558103227), (4277, 0.0), (4278, 0.0), (4279, 0.024355350468639656), (4280, 0.0), (4281, 0.0), (4282, 0.0), (4283, 0.008225536094659428), (4284, 0.024699900010773962), (4285, 0.016223977253161017), (4286, 0.02948506419614942), (4287, 0.008031122544265946), (4288, 0.0), (4289, 0.0), (4290, 0.0), (4291, 0.0203795676842341), (4292, 0.009612786212491757), (4293, 0.0), (4294, 0.0), (4295, 0.03209873896278873), (4296, 0.0), (4297, 0.018522987938118612), (4298, 0.0), (4299, 0.0), (4300, 0.0332623656972955), (4301, 0.0), (4302, 0.00835022944836218), (4303, 0.0), (4304, 0.0), (4305, 0.0), (4306, 0.0), (4307, 0.0), (4308, 0.0), (4309, 0.0), (4310, 0.008855426730527288), (4311, 0.04431656722531081), (4312, 0.019395721918958386), (4313, 0.04356498497995364), (4314, 0.0), (4315, 0.0), (4316, 0.0), (4317, 0.009679524386952637), (4318, 0.0), (4319, 0.027500836764163837), (4320, 0.009708162138772836), (4321, 0.009052450048972309), (4322, 0.0), (4323, 0.0), (4324, 0.02275057583323375), (4325, 0.02964823652275081), (4326, 0.007448857405676845), (4327, 0.009248900887964494), (4328, 0.0), (4329, 0.027721367403565324), (4330, 0.010440578034081872), (4331, 0.008594822815755345), (4332, 0.0), (4333, 0.013672602325727961), (4334, 0.0), (4335, 0.0), (4336, 0.0), (4337, 0.016997332076706492), (4338, 0.0), (4339, 0.03700095977669254), (4340, 0.008556263445609651), (4341, 0.0), (4342, 0.0), (4343, 0.008968359395249552), (4344, 0.0), (4345, 0.010661084685697786), (4346, 0.0), (4347, 0.0), (4348, 0.020687003255919604), (4349, 0.0), (4350, 0.04184232593868132), (4351, 0.0), (4352, 0.017235199148137616), (4353, 0.009353122673205068), (4354, 0.0), (4355, 0.010025643036692058), (4356, 0.026792335968524573), (4357, 0.018246663268958498), (4358, 0.0), (4359, 0.0), (4360, 0.009618575320813677), (4361, 0.0), (4362, 0.0), (4363, 0.0), (4364, 0.0), (4365, 0.009624904883351963), (4366, 0.0), (4367, 0.010508724812745753), (4368, 0.019249953344509893), (4369, 0.0), (4370, 0.01216806325953422), (4371, 0.0), (4372, 0.031025920956411913), (4373, 0.00952528771219711), (4374, 0.0), (4375, 0.02186874351650522), (4376, 0.02188269260479205), (4377, 0.010377585139817586), (4378, 0.01863008907240734), (4379, 0.0), (4380, 0.010088788251227465), (4381, 0.008905021271850982), (4382, 0.007711745531370437), (4383, 0.008273237389937535), (4384, 0.0), (4385, 0.0), (4386, 0.0345214162325668), (4387, 0.0), (4388, 0.04350850017034759), (4389, 0.0), (4390, 0.008878825384457162), (4391, 0.016962091577222088), (4392, 0.02948742495139519), (4393, 0.009408553352767803), (4394, 0.0), (4395, 0.0), (4396, 0.0), (4397, 0.008477149749727146), (4398, 0.0), (4399, 0.03956675033058822), (4400, 0.0), (4401, 0.0), (4402, 0.0), (4403, 0.0), (4404, 0.008148553366734602), (4405, 0.0), (4406, 0.0), (4407, 0.0), (4408, 0.024465418427978544), (4409, 0.0), (4410, 0.0), (4411, 0.08315683412277591), (4412, 0.0), (4413, 0.0), (4414, 0.011165578029577374), (4415, 0.0), (4416, 0.0), (4417, 0.0), (4418, 0.0), (4419, 0.0), (4420, 0.0), (4421, 0.025081865965337544), (4422, 0.0), (4423, 0.0), (4424, 0.0), (4425, 0.0), (4426, 0.0), (4427, 0.0186471945749609), (4428, 0.02732227517869188), (4429, 0.0), (4430, 0.026922817749232063), (4431, 0.0), (4432, 0.06804805584837058), (4433, 0.0), (4434, 0.0), (4435, 0.0), (4436, 0.0), (4437, 0.0), (4438, 0.023896092215158326), (4439, 0.02771781467478142), (4440, 0.031007178417215023), (4441, 0.0), (4442, 0.018367128968315705), (4443, 0.0), (4444, 0.0), (4445, 0.0), (4446, 0.0), (4447, 0.010075006548908723), (4448, 0.01806538315521844), (4449, 0.011009369973201424), (4450, 0.0), (4451, 0.0), (4452, 0.0), (4453, 0.0), (4454, 0.016866677558058783), (4455, 0.0), (4456, 0.0), (4457, 0.0), (4458, 0.0), (4459, 0.0), (4460, 0.0), (4461, 0.0), (4462, 0.0), (4463, 0.0), (4464, 0.0), (4465, 0.0), (4466, 0.0), (4467, 0.019961121499161412), (4468, 0.0), (4469, 0.0), (4470, 0.010608524262638698), (4471, 0.0), (4472, 0.021603149695238258), (4473, 0.041254092772034706), (4474, 0.0), (4475, 0.009989549994880768), (4476, 0.0), (4477, 0.03648227645228244), (4478, 0.0), (4479, 0.0), (4480, 0.0), (4481, 0.010334170758160406), (4482, 0.007317965017202549), (4483, 0.0), (4484, 0.009407236192746917), (4485, 0.0), (4486, 0.016338295198593426), (4487, 0.0), (4488, 0.010642318700405586), (4489, 0.0), (4490, 0.0), (4491, 0.0), (4492, 0.0), (4493, 0.025726757126405587), (4494, 0.011192931953844394), (4495, 0.0), (4496, 0.021111748164581567), (4497, 0.0), (4498, 0.031460857385487755), (4499, 0.0), (4500, 0.0), (4501, 0.011387871338155458), (4502, 0.011598064151296533), (4503, 0.0), (4504, 0.0), (4505, 0.0), (4506, 0.010590457134894801), (4507, 0.01617509613007166), (4508, 0.0), (4509, 0.010584374343329503), (4510, 0.0), (4511, 0.0), (4512, 0.0), (4513, 0.0), (4514, 0.03212485546560781), (4515, 0.04061108431742511), (4516, 0.0), (4517, 0.0), (4518, 0.027368337131299054), (4519, 0.026688153175298223), (4520, 0.0), (4521, 0.0), (4522, 0.021360838660970636), (4523, 0.0), (4524, 0.009356385074435569), (4525, 0.01064034302343472), (4526, 0.0395654886023108), (4527, 0.020398814634586208), (4528, 0.019920970512123964), (4529, 0.02245542185511067), (4530, 0.0), (4531, 0.01106662643982511), (4532, 0.0), (4533, 0.0), (4534, 0.0), (4535, 0.007900676524484366), (4536, 0.0), (4537, 0.0), (4538, 0.0), (4539, 0.053768829979605706), (4540, 0.0), (4541, 0.0), (4542, 0.0), (4543, 0.011303619424075633), (4544, 0.0), (4545, 0.01771754065356665), (4546, 0.0), (4547, 0.0), (4548, 0.0), (4549, 0.0), (4550, 0.0), (4551, 0.0), (4552, 0.0), (4553, 0.0), (4554, 0.0), (4555, 0.019411860349052457), (4556, 0.01043793044766307), (4557, 0.0), (4558, 0.043785376851374506), (4559, 0.012191706969248485), (4560, 0.0), (4561, 0.0), (4562, 0.0), (4563, 0.0), (4564, 0.0), (4565, 0.0), (4566, 0.0), (4567, 0.0), (4568, 0.0), (4569, 0.023053755583328433), (4570, 0.0), (4571, 0.0), (4572, 0.00935703049931646), (4573, 0.0), (4574, 0.014259497123822008), (4575, 0.0), (4576, 0.008937247259330424), (4577, 0.009377909853484597), (4578, 0.0), (4579, 0.014563610538674273), (4580, 0.0222633323076738), (4581, 0.0), (4582, 0.0), (4583, 0.027335239422007006), (4584, 0.027668779566405344), (4585, 0.032606417088356085), (4586, 0.0), (4587, 0.0), (4588, 0.0), (4589, 0.0), (4590, 0.0), (4591, 0.0), (4592, 0.0), (4593, 0.0), (4594, 0.0148091238262499), (4595, 0.00886176387035242), (4596, 0.009505692415266897), (4597, 0.0), (4598, 0.0), (4599, 0.0), (4600, 0.010390474383043122), (4601, 0.042373434358534925), (4602, 0.009337751400171321), (4603, 0.0), (4604, 0.01936104487825892), (4605, 0.008616632714634358), (4606, 0.0), (4607, 0.0), (4608, 0.03695687368998475), (4609, 0.0), (4610, 0.021632452471395384), (4611, 0.0), (4612, 0.0), (4613, 0.011036832845623925), (4614, 0.0), (4615, 0.0), (4616, 0.0), (4617, 0.0), (4618, 0.0), (4619, 0.0), (4620, 0.0), (4621, 0.02925833433945391), (4622, 0.0), (4623, 0.0), (4624, 0.0), (4625, 0.020893708120228893), (4626, 0.015910436309435342), (4627, 0.0), (4628, 0.0), (4629, 0.0), (4630, 0.047776585978445744), (4631, 0.024286718022215395), (4632, 0.0), (4633, 0.0), (4634, 0.010174132642468543), (4635, 0.0), (4636, 0.0), (4637, 0.0), (4638, 0.0), (4639, 0.0), (4640, 0.0), (4641, 0.0), (4642, 0.021448453812921833), (4643, 0.0369370202667524), (4644, 0.0), (4645, 0.025729728251193795), (4646, 0.020715093854441452), (4647, 0.010212028528372849), (4648, 0.0082939510746627), (4649, 0.02012012667480313), (4650, 0.0190170295584437), (4651, 0.0), (4652, 0.0), (4653, 0.0), (4654, 0.0), (4655, 0.0), (4656, 0.009642268171721126), (4657, 0.0), (4658, 0.0), (4659, 0.0), (4660, 0.0), (4661, 0.0), (4662, 0.0), (4663, 0.0), (4664, 0.02241472199585594), (4665, 0.009833694979349168), (4666, 0.018613069140286403), (4667, 0.0), (4668, 0.0), (4669, 0.0), (4670, 0.009958314920912793), (4671, 0.0), (4672, 0.028552355721841373), (4673, 0.009896177959547834), (4674, 0.0), (4675, 0.06532240172624218), (4676, 0.0), (4677, 0.010063387950809705), (4678, 0.010384526465872517), (4679, 0.015021061579062512), (4680, 0.01102795198784979), (4681, 0.0), (4682, 0.0), (4683, 0.0), (4684, 0.0), (4685, 0.0), (4686, 0.0), (4687, 0.0), (4688, 0.016232836975599657), (4689, 0.0), (4690, 0.0), (4691, 0.0), (4692, 0.0), (4693, 0.0), (4694, 0.0), (4695, 0.0), (4696, 0.00911489553760762), (4697, 0.0), (4698, 0.0), (4699, 0.0), (4700, 0.0), (4701, 0.015126050586821881), (4702, 0.0), (4703, 0.0), (4704, 0.016741983231556744), (4705, 0.0), (4706, 0.0), (4707, 0.009663171779844631), (4708, 0.0), (4709, 0.0), (4710, 0.0), (4711, 0.0), (4712, 0.0), (4713, 0.0), (4714, 0.0), (4715, 0.0), (4716, 0.0), (4717, 0.038392947045566436), (4718, 0.009193291263125517), (4719, 0.0), (4720, 0.0), (4721, 0.0), (4722, 0.0), (4723, 0.0), (4724, 0.04345756703903403), (4725, 0.0), (4726, 0.00855726546641365), (4727, 0.01685910263639592), (4728, 0.01352646999633267), (4729, 0.0), (4730, 0.011076450919713746), (4731, 0.0), (4732, 0.02121169147491495), (4733, 0.008744575444145437), (4734, 0.0), (4735, 0.024476667191590668), (4736, 0.0), (4737, 0.0), (4738, 0.0), (4739, 0.035907407391532545), (4740, 0.009043772867654811), (4741, 0.0), (4742, 0.028299308201992564), (4743, 0.0), (4744, 0.01018502345848653), (4745, 0.0), (4746, 0.009901735028309697), (4747, 0.0), (4748, 0.0), (4749, 0.038101302137638196), (4750, 0.0), (4751, 0.0), (4752, 0.007165435783970404), (4753, 0.0), (4754, 0.0), (4755, 0.0), (4756, 0.0), (4757, 0.016931058459588685), (4758, 0.0), (4759, 0.030183546080018633), (4760, 0.03580243635787221), (4761, 0.0), (4762, 0.0), (4763, 0.01200865071666708), (4764, 0.0), (4765, 0.0), (4766, 0.0), (4767, 0.018960013997940183), (4768, 0.0), (4769, 0.0), (4770, 0.0), (4771, 0.0), (4772, 0.02918728375858673), (4773, 0.020527923984577746), (4774, 0.026051791098355488), (4775, 0.0), (4776, 0.02114632043422029), (4777, 0.0), (4778, 0.031492814280022874), (4779, 0.0), (4780, 0.010900244898668324), (4781, 0.0), (4782, 0.013371591475196322), (4783, 0.0), (4784, 0.0), (4785, 0.0), (4786, 0.0), (4787, 0.010770929903421014), (4788, 0.009232662571561589), (4789, 0.018563255645751415), (4790, 0.0), (4791, 0.011229348898826732), (4792, 0.008952670651720463), (4793, 0.01886232030839833), (4794, 0.0), (4795, 0.05893923359410867), (4796, 0.020815966738298775), (4797, 0.0), (4798, 0.006910243304119014), (4799, 0.008691335920688381), (4800, 0.0), (4801, 0.011708346563290319), (4802, 0.0)]\n"
          ]
        }
      ]
    },
    {
      "cell_type": "code",
      "source": [
        "len(similarity_score)"
      ],
      "metadata": {
        "colab": {
          "base_uri": "https://localhost:8080/"
        },
        "id": "WWpyKRLj-d3Q",
        "outputId": "2899fc57-9143-4bc2-9341-bfc2be72e0e6"
      },
      "execution_count": 47,
      "outputs": [
        {
          "output_type": "execute_result",
          "data": {
            "text/plain": [
              "4803"
            ]
          },
          "metadata": {},
          "execution_count": 47
        }
      ]
    },
    {
      "cell_type": "code",
      "source": [
        "# sorting the movies based on their similarity score\n",
        "\n",
        "sorted_similar_movies = sorted(similarity_score, key = lambda x:x[1], reverse = True)\n",
        "print(sorted_similar_movies)"
      ],
      "metadata": {
        "colab": {
          "base_uri": "https://localhost:8080/"
        },
        "id": "KiHxmZYh-iCw",
        "outputId": "e3fed630-76d2-40bd-ccc4-2de882c4aa59"
      },
      "execution_count": 48,
      "outputs": [
        {
          "output_type": "stream",
          "name": "stdout",
          "text": [
            "[(1359, 1.0000000000000002), (428, 0.23511456646392073), (210, 0.1766600851752957), (119, 0.12776123800525568), (14, 0.11913438408092053), (2530, 0.11737306691653826), (473, 0.11114401567413634), (10, 0.11109698567521185), (1035, 0.11093877169421315), (3, 0.10838373968111226), (1296, 0.10590045293837887), (1017, 0.10562994219433144), (1512, 0.10458171679296291), (1477, 0.10408276656232934), (1474, 0.10383280844608961), (65, 0.10239698980890886), (813, 0.10123832077817581), (438, 0.09880550579305722), (2685, 0.09764791552421025), (870, 0.09374374282187639), (1803, 0.0935429496591326), (2740, 0.09186645490638093), (303, 0.09110195855422171), (1141, 0.09007705613712694), (2365, 0.08797918041707155), (4267, 0.0876293090953834), (299, 0.08717682043081576), (1085, 0.08667142123832931), (1076, 0.08654400181026667), (2433, 0.08594716583783404), (2826, 0.08483149519078893), (4411, 0.08315683412277591), (278, 0.08186116819189636), (2858, 0.08034823755446865), (2383, 0.08020409948777277), (3326, 0.07934216498572898), (2381, 0.07892096184873248), (2123, 0.07757579285691474), (226, 0.07611681978677547), (3242, 0.07513494657167406), (904, 0.07400589822308704), (4153, 0.0731671465921351), (422, 0.07223143106530092), (681, 0.07206474309798566), (351, 0.07070958213802363), (2265, 0.06989617989794641), (662, 0.06985449382753928), (2631, 0.06983462174386704), (2047, 0.06940755194207636), (2482, 0.06901664094327159), (4432, 0.06804805584837058), (935, 0.06761431436834758), (1048, 0.06760801959500656), (753, 0.06695306533745868), (3948, 0.06690801179692908), (584, 0.06682730997127058), (4132, 0.06631922579415304), (2108, 0.06579119663623878), (1478, 0.06567074050462335), (4675, 0.06532240172624218), (1343, 0.06457572674567763), (2983, 0.06441903061543784), (1506, 0.06413831876772498), (1236, 0.0638759131355395), (1148, 0.0637577017735224), (4183, 0.06359608616445354), (3984, 0.06299743607252278), (32, 0.06265766221664047), (3719, 0.06172303458515732), (827, 0.06120439432912382), (3971, 0.06088841923851187), (224, 0.06074038789618559), (1223, 0.06049017681410449), (3564, 0.059486796802057526), (4795, 0.05893923359410867), (3753, 0.05855361322532456), (1043, 0.058384672736713265), (587, 0.05817364025326034), (2340, 0.057535258979569515), (1977, 0.05748315779617082), (358, 0.05732999715216538), (2334, 0.05731213942597005), (583, 0.05716259445298032), (217, 0.05675227833518347), (215, 0.05674760511016427), (2029, 0.056271727467507096), (2284, 0.05626721512503639), (2878, 0.05624953444506535), (4176, 0.056085530343590526), (2824, 0.056078069861264776), (3758, 0.055906348087275626), (3986, 0.05529864156111411), (72, 0.055025476155765675), (3033, 0.05478221292730628), (3466, 0.05477754452813167), (3297, 0.054483523507192495), (1929, 0.05435915030358475), (3053, 0.054321281856461415), (3372, 0.054287213600473755), (3905, 0.05422791551894298), (3409, 0.054184939699810766), (4539, 0.053768829979605706), (755, 0.053746258084306664), (305, 0.05371679199170137), (4203, 0.05352352507436181), (163, 0.05349212446978034), (2066, 0.05344580574319879), (2070, 0.05343574011894735), (1964, 0.05337724145633081), (5, 0.05317631129839719), (1034, 0.05289331224406982), (4200, 0.05288272784378852), (1087, 0.05282236845765449), (2285, 0.05275361623539351), (1303, 0.05250557350636327), (2474, 0.05218182224517989), (963, 0.0515551938941923), (342, 0.05120069927978245), (946, 0.050970508714280494), (3355, 0.050949849380164725), (1674, 0.05084919306023556), (546, 0.05045713658936722), (46, 0.05028360865169049), (1566, 0.049991075850992286), (3148, 0.04980352639055036), (1421, 0.049782829778013224), (3250, 0.04960433349310567), (30, 0.0495993846004657), (969, 0.04952408631125282), (1259, 0.04949034082368291), (366, 0.04948370544447902), (2321, 0.049381860479745354), (103, 0.04925284807813812), (2026, 0.04923911877951669), (3637, 0.04901161499641812), (447, 0.0487997999961728), (3208, 0.04876906381212854), (581, 0.04856505650408623), (867, 0.04854346415795774), (1458, 0.04836929972849721), (3075, 0.0483125777519123), (73, 0.048204314636356056), (2753, 0.047945167438728994), (4630, 0.047776585978445744), (4184, 0.04722977057692475), (1369, 0.04722148068469792), (1183, 0.04714928964157644), (1655, 0.047048455763693056), (4011, 0.0469530501246877), (2205, 0.04675686371795344), (196, 0.04648408464869908), (4221, 0.046423516438305557), (3774, 0.046318636067832326), (3854, 0.04630327123843198), (2692, 0.04623525328928317), (372, 0.04619645704043869), (3766, 0.04597073490038938), (3956, 0.045918485382248575), (444, 0.04573733916595929), (1009, 0.04559540615008836), (2221, 0.045578323769462595), (4177, 0.04553561645339844), (2946, 0.04536656789899261), (1120, 0.04531499327913267), (2892, 0.04529910480267838), (1358, 0.04526476748884149), (3146, 0.045238865169976085), (1594, 0.04520748186836099), (3607, 0.04518800988241456), (2035, 0.0448686228283839), (426, 0.044778108570074644), (3211, 0.04471464534429038), (470, 0.04445122554390595), (2862, 0.044442100133973275), (3239, 0.04438360921416738), (4311, 0.04431656722531081), (2099, 0.043992831821438774), (2036, 0.04397553602549794), (1758, 0.04396277720472898), (4558, 0.043785376851374506), (113, 0.04376112570163569), (4065, 0.04369850227844712), (4313, 0.04356498497995364), (2159, 0.043525012228605), (4388, 0.04350850017034759), (3935, 0.04348544237805782), (4724, 0.04345756703903403), (3439, 0.043408132461705246), (1241, 0.043334647581920085), (1316, 0.043144047544193036), (3031, 0.04312743851684596), (1233, 0.04310745604446585), (2773, 0.04309238953352727), (2543, 0.04305641254140852), (2004, 0.043035415704623756), (1785, 0.042940705558275095), (4079, 0.04279505728081946), (3350, 0.042744255813841406), (1063, 0.042625798607035505), (832, 0.042581317810811356), (638, 0.042580782224227245), (3267, 0.04243615054078053), (782, 0.04240722174663501), (2822, 0.04238316745120899), (4601, 0.042373434358534925), (2342, 0.04232660165283865), (1163, 0.0423181416677942), (3323, 0.04225274401765692), (994, 0.04225158470054262), (1902, 0.04222316417319747), (2553, 0.04203500115248618), (3595, 0.04191459065852242), (3404, 0.04188434227311049), (4350, 0.04184232593868132), (968, 0.041838749931019714), (1016, 0.0418015052451596), (3475, 0.0417219519371896), (265, 0.04152376781718313), (1417, 0.041429751516310676), (3333, 0.04130700099473343), (4473, 0.041254092772034706), (3243, 0.04114752942373702), (3837, 0.041093051174502786), (2647, 0.041075702154678026), (3325, 0.041059560116965585), (1018, 0.04102879999743348), (164, 0.04102777245564078), (3851, 0.040936601997116004), (2310, 0.040884919201271325), (869, 0.04086403050371532), (1515, 0.0408443828787777), (836, 0.04082008431509085), (4193, 0.0407768553218687), (223, 0.040735496683667154), (4063, 0.04070654070853042), (4515, 0.04061108431742511), (1125, 0.04050262769695982), (2805, 0.04050221287497118), (314, 0.040500370032107956), (2572, 0.04030137105435078), (3538, 0.040139460199125225), (2234, 0.04013495345403313), (1629, 0.040118139051329355), (2929, 0.04011187960361469), (18, 0.0400618813386922), (2368, 0.04000710529730577), (3873, 0.039922705245347016), (2545, 0.0398665104553931), (324, 0.03980935264904019), (3068, 0.039639018607464244), (3634, 0.03963330864477137), (1890, 0.03962738301807908), (4073, 0.039626697548762434), (896, 0.03961173680080877), (4399, 0.03956675033058822), (4526, 0.0395654886023108), (1192, 0.039516389391999904), (1579, 0.03946935754878891), (715, 0.03941683935633206), (199, 0.03941315415639358), (4127, 0.039302016952361046), (1113, 0.039225709803207644), (2792, 0.03904834717735066), (1293, 0.039046630567210375), (2062, 0.038967108085868396), (1050, 0.03894993827993337), (1214, 0.03890255422340804), (2145, 0.03884894612601299), (2357, 0.03880277223253169), (2514, 0.038772996055086065), (774, 0.03842204373009633), (4717, 0.038392947045566436), (3338, 0.038334841967431255), (2104, 0.038306562922917016), (1216, 0.038270638429298814), (3334, 0.0382472414059202), (1503, 0.038225733448119026), (2496, 0.038148461505156266), (4749, 0.038101302137638196), (219, 0.03808627098968786), (825, 0.03807287939057175), (1092, 0.03802774762678718), (3919, 0.03800787283208834), (1247, 0.03800413884987316), (2560, 0.03794388490474215), (1846, 0.037917248135875624), (1995, 0.0378781435149018), (2609, 0.03771242539525805), (54, 0.03764554627493949), (4041, 0.03758699333087884), (4110, 0.03757443175837639), (1029, 0.03757218354700365), (762, 0.03756415507254084), (1578, 0.0374228354620503), (1431, 0.03731235881605452), (1243, 0.03724367801995611), (1292, 0.03722898062605473), (2562, 0.03715228718585778), (1, 0.03713141379401656), (2667, 0.03711411434679489), (419, 0.037032834189148094), (4276, 0.03702534558103227), (3347, 0.03702138246613067), (4339, 0.03700095977669254), (4608, 0.03695687368998475), (1215, 0.03695131587603882), (1787, 0.036939207700689716), (4643, 0.0369370202667524), (4189, 0.03688317229623907), (1289, 0.036845486964710315), (2313, 0.0367972418719808), (830, 0.03676863611839655), (1775, 0.03674257417636005), (2055, 0.03668872710873275), (2676, 0.03667352788653988), (3770, 0.036657246809666026), (2513, 0.036638371398346935), (4228, 0.0366369992536459), (480, 0.03659858163097993), (2430, 0.03656367291797311), (2577, 0.03655945728717357), (2322, 0.03655143956237712), (3287, 0.036506538757386194), (1793, 0.036486656624323675), (4477, 0.03648227645228244), (2240, 0.03643718050192202), (1513, 0.03643505537898793), (3390, 0.0364008004549925), (1082, 0.03634530925226301), (269, 0.03628693861335637), (4211, 0.03625353783009744), (731, 0.036161474726832885), (1847, 0.03615881511595418), (2655, 0.03599654919315064), (2771, 0.03599036816770726), (4739, 0.035907407391532545), (549, 0.03590510912144959), (1439, 0.035883754227736486), (3321, 0.03583991619585317), (4760, 0.03580243635787221), (2034, 0.035796763279704005), (2398, 0.03578146084283894), (484, 0.03576644542103051), (1418, 0.035643861911901775), (2415, 0.03559733817410941), (1873, 0.035476334098909906), (3097, 0.03541718178541996), (3648, 0.035377702211239176), (2592, 0.03533616174256468), (1685, 0.035254411265076224), (1006, 0.03524394485665225), (8, 0.035160513892531414), (1217, 0.035121439931759396), (1495, 0.03508008405501342), (3599, 0.035069505799285104), (1278, 0.035014770287090324), (2556, 0.03500728281686267), (690, 0.03499963320776361), (2884, 0.03498246959865168), (791, 0.03492460554719645), (2191, 0.03491424354904352), (1031, 0.03489245177948799), (4088, 0.03483206571794732), (597, 0.03479763835613799), (3624, 0.034764303993862475), (1959, 0.03471336184159972), (1999, 0.034703901986088415), (9, 0.03454811132330651), (4386, 0.0345214162325668), (4246, 0.034485797262810924), (1390, 0.034467293422072984), (150, 0.034459583496868236), (918, 0.03430813323682281), (3991, 0.03429174621257224), (267, 0.03426633537714501), (4050, 0.03422867434661614), (3479, 0.03422315579645617), (1488, 0.03420589725844255), (4209, 0.03414480952060571), (3890, 0.03410788819598589), (612, 0.03408498577530092), (3315, 0.03401832945722156), (978, 0.03399964518057721), (1939, 0.03397246810690231), (1196, 0.033971343104849824), (1026, 0.03393157381957151), (323, 0.033869152387607696), (3711, 0.033860211936912826), (3680, 0.03382988976634544), (3014, 0.0337083527368857), (156, 0.03362942397247913), (1027, 0.03359569015089318), (3652, 0.03357608424033489), (2233, 0.0335411011418501), (826, 0.033512977863525195), (1265, 0.03342211178516192), (1286, 0.03341485594714209), (434, 0.03337037745262923), (646, 0.0333480957615378), (3450, 0.03334655467712516), (1893, 0.03334088076814165), (3544, 0.03332785339538881), (1897, 0.03326590245228388), (4300, 0.0332623656972955), (276, 0.03325305552123907), (947, 0.03321070326021023), (2730, 0.03320628178258124), (2813, 0.03320147025220006), (3739, 0.03319737627145634), (4105, 0.033197041891450646), (197, 0.033156844062853644), (1394, 0.03311476680619893), (417, 0.03308926876376596), (1374, 0.0330207521224848), (2492, 0.03297448674908759), (101, 0.032952580400956825), (1944, 0.03293643493589891), (3332, 0.032899294246759296), (3010, 0.03282102156059183), (40, 0.03280352047010059), (3400, 0.032755203019217125), (3764, 0.032713988141931716), (1838, 0.03270638215630138), (1342, 0.03267618705595048), (1976, 0.03263703133347548), (1202, 0.03262618868496841), (4585, 0.032606417088356085), (331, 0.03260582341899649), (3757, 0.032587649550743045), (1611, 0.03253277463263557), (41, 0.03250126184898705), (846, 0.03248836662523419), (2448, 0.032471936497425066), (2042, 0.03245772845042522), (1943, 0.0324187274409684), (2280, 0.03241804099029179), (133, 0.03241446892707571), (1552, 0.0323881545718958), (2635, 0.03231311387496552), (858, 0.032287385176937904), (2362, 0.032267759427407436), (1558, 0.032241846319569535), (1589, 0.03220784783474771), (2961, 0.03217223598005499), (2320, 0.03215433091821407), (3899, 0.03214461581583664), (3630, 0.03212910130563272), (4514, 0.03212485546560781), (1469, 0.0321231490305845), (1884, 0.032105080704170716), (2333, 0.03210220594513652), (4295, 0.03209873896278873), (3579, 0.032086926172328514), (3229, 0.03206231688751041), (3735, 0.03204650707932645), (2823, 0.0320415217690485), (1337, 0.031973138330512726), (2351, 0.03194100849162622), (2364, 0.03193450731163272), (4100, 0.03190125807778002), (2387, 0.03190080082520253), (2742, 0.03182406586375103), (2796, 0.03179798765362721), (1162, 0.031762148887161834), (513, 0.03166656955665527), (3866, 0.03165306453287354), (672, 0.03160983916211225), (1081, 0.031609732263509153), (1967, 0.03159692158251053), (1058, 0.03159145516737699), (1184, 0.03156954097217927), (1989, 0.03154796939256976), (4167, 0.03153361173349138), (1227, 0.03151942380871948), (1434, 0.031498780482502445), (4778, 0.031492814280022874), (3202, 0.03148363842007118), (4498, 0.031460857385487755), (3464, 0.03144797577267558), (3009, 0.03139700873955708), (1461, 0.031395924569014924), (1747, 0.03138161418827095), (1207, 0.03136669695695138), (1409, 0.031348098855208645), (4164, 0.03131033968569945), (1015, 0.031300339829618495), (2659, 0.03124342577904924), (3088, 0.031237519485979953), (3294, 0.031205252968407787), (64, 0.031159421690442557), (137, 0.031151642300106967), (1925, 0.031117943915855643), (4172, 0.03111306950597216), (3939, 0.031098025359228183), (4252, 0.0310821958529883), (3743, 0.031073150635782643), (3465, 0.031068322301468533), (494, 0.031064111576508922), (1311, 0.031040438307903654), (4372, 0.031025920956411913), (3424, 0.031011359305318308), (4440, 0.031007178417215023), (510, 0.03098432762422159), (3047, 0.03095634304353992), (3868, 0.03095289936155709), (2307, 0.030921908361315403), (1432, 0.03090048608523307), (114, 0.03089695018280408), (476, 0.030868137669260227), (1644, 0.030863648849902683), (2048, 0.030856083667385056), (3244, 0.030841522433880848), (1879, 0.030819821059044482), (3427, 0.03077110988151058), (1699, 0.030752504271510592), (981, 0.030745755535707468), (2539, 0.030742829410341246), (1245, 0.030722208042678646), (673, 0.03069720418578427), (1794, 0.030687453076888804), (121, 0.03066168936424828), (1575, 0.030659043743238974), (3596, 0.030636926630607887), (100, 0.03062233809721153), (518, 0.030594001588743622), (1280, 0.030578428166710844), (2193, 0.030532074072813917), (1375, 0.030530941814879566), (3946, 0.030510927260585633), (98, 0.030477258970799954), (970, 0.03046263327364188), (2756, 0.03039549092480076), (272, 0.030370942217242285), (3726, 0.030228471830639755), (4759, 0.030183546080018633), (3858, 0.03017799212291379), (2255, 0.030152426047691715), (117, 0.030148495215724228), (1687, 0.03008365819248335), (3847, 0.030008566468013906), (666, 0.030006925384464006), (403, 0.03000616019699002), (4158, 0.02996474529467432), (1952, 0.02993611783378411), (3451, 0.029873418522833303), (3659, 0.029833885709626688), (1234, 0.029820424967179918), (1504, 0.029803965770628365), (1914, 0.029763602606846094), (2584, 0.029754854413659222), (1180, 0.029735964393625143), (1963, 0.029672056051359138), (4325, 0.02964823652275081), (2054, 0.029627486953316826), (81, 0.02958927407423937), (721, 0.029584141308441583), (2708, 0.029557139361319627), (4392, 0.02948742495139519), (4286, 0.02948506419614942), (152, 0.02947506117074221), (1473, 0.029471839849989884), (1159, 0.029439565919428312), (96, 0.029291298646836158), (4621, 0.02925833433945391), (571, 0.02924014206398944), (1635, 0.02922369032100637), (4772, 0.02918728375858673), (2078, 0.02916274214528481), (3184, 0.02915153861609308), (2769, 0.02912479964214588), (3874, 0.02912101023944743), (2020, 0.02911287219656027), (1670, 0.02909357784768267), (1191, 0.029036040353707295), (3499, 0.029022940966264912), (95, 0.029009163815098195), (354, 0.029008101840228145), (3908, 0.029000635194710425), (1497, 0.02897783698537027), (2425, 0.028944713324854064), (2338, 0.02886766031187347), (2015, 0.028864870294899835), (3112, 0.028843998901525322), (1443, 0.02882975872274987), (3247, 0.02878924862652786), (292, 0.028782821273160286), (743, 0.028741579647694658), (24, 0.028733215611761623), (364, 0.028716435897120467), (3628, 0.02867236174102695), (4037, 0.028657491587071128), (171, 0.028623517887526283), (2731, 0.028621447693145383), (1213, 0.028571847550406995), (3891, 0.0285674886107299), (1731, 0.028555045886603094), (4672, 0.028552355721841373), (2303, 0.028547112176478266), (2687, 0.02854280181425902), (2790, 0.028527941186766187), (1851, 0.02851224593619997), (3106, 0.02850190813425897), (3080, 0.028461771426894353), (2759, 0.028403660309916243), (1435, 0.028402664145343405), (4010, 0.0283992808684516), (516, 0.028398823845824983), (1466, 0.028372649950261092), (1564, 0.028351563982288087), (3700, 0.028326099246387217), (4742, 0.028299308201992564), (3906, 0.028288078523360596), (1992, 0.028272252270555097), (2178, 0.02824880568506663), (1981, 0.028210859497610846), (1680, 0.02819755081234727), (3072, 0.028179647290616894), (617, 0.028121818244114877), (250, 0.028115276804844623), (3898, 0.027957085835650358), (4273, 0.027888274623658577), (327, 0.02782892606031033), (1796, 0.027808680275146012), (2094, 0.027777007452888865), (665, 0.027770297436034083), (2830, 0.02774149159140004), (3291, 0.027738382012334722), (4329, 0.027721367403565324), (4439, 0.02771781467478142), (608, 0.027713861715228123), (1220, 0.027689189953537325), (4584, 0.027668779566405344), (2869, 0.02765227872703282), (285, 0.027619949157269015), (369, 0.027615321811039838), (3694, 0.027614900844143007), (3510, 0.027604185340124265), (2366, 0.027590650484984134), (1886, 0.027579645273770204), (2289, 0.0275684730054307), (293, 0.02755575959420719), (4319, 0.027500836764163837), (1492, 0.027465288895540417), (1038, 0.027441514855176107), (1577, 0.027426934534589713), (4013, 0.027399982426342347), (3883, 0.027397504529505855), (339, 0.027392518875394383), (4518, 0.027368337131299054), (4583, 0.027335239422007006), (2225, 0.02732762657704767), (4428, 0.02732227517869188), (959, 0.027318859658972044), (822, 0.02731223198678303), (1025, 0.02730076112627962), (1630, 0.027290195240726813), (556, 0.027256142869623884), (2085, 0.02723767780025954), (1652, 0.027235319305339296), (2301, 0.02716730042062613), (79, 0.027132185209419214), (3142, 0.02708603457957895), (3604, 0.027081544436791408), (4117, 0.027057985492114765), (1091, 0.027045995991434757), (2216, 0.02703823283292913), (3644, 0.026991516582114572), (503, 0.02695893049098051), (3043, 0.026958337149697555), (1257, 0.02693529868912086), (4430, 0.026922817749232063), (115, 0.02691126059906336), (4051, 0.026904291871320377), (2025, 0.026893182420345992), (1075, 0.02686798480390578), (2783, 0.026865632095415586), (1813, 0.02686190426704551), (3470, 0.026855912844892162), (2573, 0.026852068053739752), (3371, 0.02684455673646888), (3351, 0.026798331655854282), (4356, 0.026792335968524573), (1244, 0.026782347224880362), (3834, 0.026741259864152385), (934, 0.02673698316536067), (588, 0.026710393031226548), (2247, 0.026696185079465064), (4519, 0.026688153175298223), (761, 0.026665188977091428), (4256, 0.02666338989708606), (929, 0.026574461408641885), (1918, 0.026557552080697832), (1548, 0.02655522177398398), (2815, 0.026552735800790025), (1250, 0.02653356169495622), (2789, 0.02650846310198409), (248, 0.026472309181708602), (1132, 0.026461351570005214), (2435, 0.026433017280813223), (1165, 0.02639011745176424), (2567, 0.026387293127276022), (2452, 0.026377060985723375), (1408, 0.02637476561172214), (2755, 0.026359132854053523), (2849, 0.026352041238689082), (2091, 0.026308906831277356), (1174, 0.026283790027614627), (4098, 0.02618874672306547), (3921, 0.026171348768259363), (4151, 0.02616045315723168), (923, 0.02612595059985693), (3782, 0.026120092280997726), (4774, 0.026051791098355488), (1527, 0.026046854431075687), (736, 0.026037592004176033), (4038, 0.0260323821661996), (2291, 0.026022842919356515), (1969, 0.025998038925986712), (2780, 0.025986599220871105), (3405, 0.0259597833205933), (547, 0.025958803075874618), (1605, 0.025948083878884868), (2614, 0.02591511595712616), (3747, 0.025912755105978152), (2726, 0.02584769644893048), (4142, 0.025809374561084814), (2899, 0.025792837637927946), (1765, 0.025770044823253433), (3893, 0.025750183130021306), (4645, 0.025729728251193795), (4493, 0.025726757126405587), (3046, 0.025716937473273957), (1870, 0.025689456305549342), (4062, 0.025549970632247412), (2160, 0.02553383807348992), (343, 0.025504245421354044), (1237, 0.025460307665363134), (1089, 0.025449687089964156), (1519, 0.02542402033257253), (170, 0.02538813983863699), (2897, 0.02538694362201251), (901, 0.02538123260461977), (4144, 0.025371256598413067), (2736, 0.025362632722699122), (3111, 0.02533399522658655), (1373, 0.02530530563388695), (2532, 0.025284764401990754), (572, 0.02526185066168161), (1468, 0.025260915781815253), (809, 0.025255851414996384), (1052, 0.025215200668421773), (3831, 0.02518875240894552), (1524, 0.025165988508373024), (2052, 0.02513579568819914), (4421, 0.025081865965337544), (862, 0.025031587801303656), (3699, 0.025012511117193235), (1412, 0.024965536535197695), (2604, 0.024949578836897544), (1768, 0.02492725867891502), (2007, 0.02487886594863648), (1612, 0.024794792942692157), (3603, 0.024771221045709346), (2260, 0.02475669081218091), (781, 0.024749271391797795), (39, 0.024705322919237677), (4284, 0.024699900010773962), (2197, 0.02467581526695603), (2148, 0.024658377339318638), (4012, 0.02459861101541464), (3354, 0.02459024208476566), (1177, 0.024574900872225566), (3710, 0.02451955876850819), (448, 0.024486648492490617), (4735, 0.024476667191590668), (4408, 0.024465418427978544), (1108, 0.024440493982945927), (291, 0.024361538552001995), (4279, 0.024355350468639656), (3695, 0.024331636130921847), (2586, 0.024331415872957465), (4631, 0.024286718022215395), (3869, 0.024282355284095756), (3703, 0.024257022709897613), (411, 0.024250352470070777), (3503, 0.024241915737116895), (2068, 0.024237297302005145), (3878, 0.024204251109200867), (1172, 0.02420012576320286), (4251, 0.024128189918672268), (421, 0.024102437767224573), (1720, 0.024082844897394408), (2389, 0.024040741661877953), (2470, 0.02403970776441546), (1194, 0.024014197745130885), (905, 0.02401403180569985), (3734, 0.024006945806454554), (1740, 0.024005347730488683), (3490, 0.023950603409483823), (1619, 0.02395031288485006), (4438, 0.023896092215158326), (3285, 0.02388122501693462), (2192, 0.0238556059713504), (2090, 0.02384482292771182), (2305, 0.023814860200426353), (1131, 0.023794618698424693), (2833, 0.023790711313283575), (3704, 0.02378765707540353), (1122, 0.023689701896692367), (3669, 0.023675578713974254), (1094, 0.023648923932935956), (3238, 0.0236286545516472), (295, 0.023625324210669468), (1618, 0.02360698668677215), (296, 0.023594640681128883), (799, 0.023592039172020324), (917, 0.023585040936822267), (2914, 0.02349447258213725), (148, 0.023474108063262427), (1954, 0.023382958244159698), (3901, 0.02337340576556854), (2939, 0.023340588922952956), (560, 0.023340324964254058), (3531, 0.02330107057716491), (3815, 0.02328835099902794), (99, 0.023260954667415942), (1780, 0.023250520038222935), (2713, 0.02324943862716454), (2550, 0.02322553034729963), (3966, 0.023222367083454022), (4017, 0.023214347350985234), (591, 0.023203927306106424), (2571, 0.02318283179763578), (1078, 0.023162760538769138), (2439, 0.023124934029661065), (393, 0.023060389036391057), (748, 0.023055899006562523), (4569, 0.023053755583328433), (326, 0.023020841554247155), (678, 0.022961961596508283), (3308, 0.02295988714862539), (1970, 0.02290796239251236), (1927, 0.022876703447742144), (2746, 0.02287609356821219), (3220, 0.02287534651853723), (1147, 0.02287235431759455), (270, 0.0228430819463364), (1256, 0.022841165205828833), (3836, 0.022838136606982407), (2018, 0.0228361803171397), (50, 0.022833831513894745), (3897, 0.022831559836883994), (2466, 0.022815816300283433), (3552, 0.022804618708862887), (3489, 0.022769796731232597), (4324, 0.02275057583323375), (3186, 0.02273729066525437), (2506, 0.02272808257353615), (528, 0.0227170235925325), (842, 0.022666217093419948), (2251, 0.022655900858650553), (2902, 0.02262127422920567), (2456, 0.022596430469960217), (279, 0.022574415705566883), (1523, 0.022568738941398808), (3744, 0.022535307409670566), (1788, 0.022527898506382055), (3385, 0.02251712297180676), (4191, 0.022499866302540486), (4019, 0.022498956253803163), (2859, 0.022464846102525273), (4529, 0.02245542185511067), (4027, 0.022454234525990626), (2793, 0.02244753263868265), (1086, 0.02244131678893659), (2531, 0.022441289111751604), (1110, 0.02243930346308753), (2444, 0.022433256832436608), (198, 0.022426210512177552), (4664, 0.02241472199585594), (0, 0.02240375535667525), (177, 0.022401253727517924), (242, 0.022394098715113126), (189, 0.022393762886417812), (3481, 0.022390279431657258), (116, 0.02238287187708494), (1427, 0.022380094949892973), (1682, 0.022351961163165072), (1377, 0.02233475636319867), (2176, 0.022333608451317072), (3988, 0.022326440630333788), (420, 0.022313705195196078), (3189, 0.02230744224522407), (2568, 0.02228708032390614), (497, 0.022268306498233796), (4580, 0.0222633323076738), (1834, 0.022239838539906517), (1912, 0.022239425955058276), (3394, 0.022229815690961784), (2427, 0.022217014656245496), (4067, 0.02220571199921244), (998, 0.022194881085840723), (3780, 0.02218913108885441), (2341, 0.022186687083213554), (329, 0.022180044006723472), (695, 0.02215414485413125), (4108, 0.022151163434882562), (578, 0.022137958676382526), (1637, 0.022126940581934616), (1745, 0.022098999969146937), (2622, 0.022095017826739987), (2891, 0.022089157826226394), (2761, 0.022079158082682567), (2638, 0.022078741662113443), (1737, 0.02207847717590613), (2829, 0.022068890706859162), (2861, 0.022063014233270128), (2403, 0.022062345130575037), (1712, 0.022050231239128856), (2392, 0.022033478112535733), (3756, 0.022024406966841836), (2848, 0.022005954273875028), (936, 0.02199300971912515), (1668, 0.02199175598670928), (191, 0.02195782409001988), (1112, 0.021951601415663262), (2575, 0.021895389273117887), (1181, 0.02189055950521587), (3361, 0.021886703561388398), (4376, 0.02188269260479205), (195, 0.02187523604175549), (4375, 0.02186874351650522), (2375, 0.02186122291044955), (2336, 0.02186059789392644), (251, 0.021857853184800602), (2763, 0.021856974500597596), (3237, 0.021851191263325194), (3772, 0.021839434281495977), (1826, 0.021833361249519595), (2909, 0.02183033230505624), (1818, 0.02180117134191692), (3672, 0.021799546923423688), (208, 0.021796330656086035), (1529, 0.021788520121638486), (3550, 0.02178146199930294), (2621, 0.021778720894839454), (1040, 0.02176169643065292), (1002, 0.021677249926958107), (1533, 0.021674954330381288), (3667, 0.021665725498162362), (1124, 0.02165675717292651), (993, 0.02163953361731611), (2613, 0.02163659237418695), (4610, 0.021632452471395384), (3855, 0.021606170007578186), (4472, 0.021603149695238258), (2163, 0.02158007168686349), (3306, 0.02157782589565221), (1546, 0.02156465499478266), (4145, 0.021562242702107305), (2002, 0.021560722873698316), (357, 0.02154733871006815), (1301, 0.02153770070795448), (2343, 0.021534352661800857), (3762, 0.021513256705472147), (3127, 0.021500888097495587), (4030, 0.021493245873949764), (2944, 0.021491397337354286), (463, 0.02146411637635043), (4642, 0.021448453812921833), (505, 0.021439256486149548), (1631, 0.021428786057973628), (763, 0.021362094508383146), (4522, 0.021360838660970636), (740, 0.021355634542667704), (3389, 0.021354484100220946), (3688, 0.02133581513270746), (4239, 0.02132327292879775), (644, 0.021317409300270474), (3495, 0.021316393507060487), (1770, 0.021315060603837473), (3778, 0.021294376690046423), (3020, 0.021281960657482574), (181, 0.021271556721688175), (534, 0.021268296311908248), (3600, 0.02124559062551633), (2302, 0.021242545929706556), (696, 0.021214625523434685), (4732, 0.02121169147491495), (2187, 0.021199300743024018), (1861, 0.021176526770086503), (2182, 0.021174847288764218), (4232, 0.02116779749385304), (2738, 0.02114909161372861), (4776, 0.02114632043422029), (416, 0.0211251404684053), (4496, 0.021111748164581567), (3362, 0.02110094254920629), (1779, 0.021085184592271607), (3446, 0.021080229520376945), (2585, 0.02104364180491429), (1403, 0.02102274458686931), (3055, 0.021021132283701748), (2999, 0.02102038922032326), (2169, 0.021019875171333857), (4094, 0.021003458167484668), (1451, 0.021002560534923942), (2214, 0.020983235098102085), (2889, 0.020978305672094646), (1331, 0.020969398290633285), (1789, 0.02096451075204325), (710, 0.020938484305012366), (1824, 0.02090238217229903), (4625, 0.020893708120228893), (3455, 0.020892040724514123), (3203, 0.020890565997381347), (2057, 0.020840243211446178), (3791, 0.020836125472532746), (4796, 0.020815966738298775), (3660, 0.02080918503944745), (388, 0.02080717883734877), (316, 0.02079260901342736), (1910, 0.02076739569193949), (200, 0.02076538756663958), (183, 0.02075698310316922), (2098, 0.020739625087545968), (4646, 0.020715093854441452), (642, 0.020712594138099928), (4348, 0.020687003255919604), (980, 0.02068694962138997), (42, 0.020671521047326318), (1863, 0.020662925005103635), (2907, 0.020656776423026376), (3515, 0.020636309601846408), (3504, 0.02062547608557396), (1806, 0.020618096832574317), (238, 0.020608488182034045), (2809, 0.020586445509904433), (3981, 0.02058625330806011), (2177, 0.020567835079711175), (728, 0.020555494578683615), (1592, 0.0205506439189839), (2445, 0.02053243412019417), (4773, 0.020527923984577746), (2480, 0.02051536033610301), (1380, 0.020484030734476993), (108, 0.02048000619536641), (1324, 0.020469730905497384), (1561, 0.020466932280746968), (2237, 0.020454027881310205), (90, 0.02044601045374992), (3168, 0.020437312345094175), (741, 0.020423629131674913), (1422, 0.02041846027471133), (2354, 0.020406543804227913), (4527, 0.020398814634586208), (4291, 0.0203795676842341), (2372, 0.0203767743213848), (1707, 0.020359063796351475), (2061, 0.02035414939381437), (758, 0.020338525997158026), (2583, 0.02033200010441196), (408, 0.020321466734946416), (1799, 0.020313263879906424), (3691, 0.020309786563807705), (2587, 0.02030853892034651), (2179, 0.020305597727596113), (2215, 0.020281695216570503), (1547, 0.02027861356141213), (2778, 0.02027239164328789), (2529, 0.020271362395485253), (2788, 0.02026083387378326), (2175, 0.02024723908065172), (3207, 0.02024185491842044), (992, 0.02022686686160363), (3507, 0.020222420384297418), (36, 0.020216206166662323), (3954, 0.020211523210295495), (618, 0.02021141005311438), (488, 0.02020903907839601), (3651, 0.020207104508252853), (920, 0.020197140496395358), (939, 0.020172752383077797), (4159, 0.020169083768608084), (2993, 0.020164719306586778), (211, 0.02012934700563767), (767, 0.020128862827381883), (4649, 0.02012012667480313), (252, 0.020113947831758856), (3406, 0.020110653824672066), (1843, 0.02010761211981489), (2105, 0.020104203815274495), (2959, 0.02010071580858907), (2554, 0.02010011837960579), (3192, 0.020078110330063518), (3480, 0.020076874097502855), (624, 0.020073490635601265), (3173, 0.020064904415785727), (2258, 0.02006247677694464), (182, 0.020060090810409867), (1127, 0.020059987518188757), (2281, 0.020058630110114533), (2003, 0.020024533679171733), (3151, 0.020021862785381796), (1453, 0.020020549067654), (2049, 0.02000588152516482), (1915, 0.019966556860782265), (3160, 0.019966556640990635), (4467, 0.019961121499161412), (1500, 0.019959290285608427), (31, 0.019952864845240073), (2488, 0.0199525445102217), (4, 0.019944737887898405), (2349, 0.01994176906275357), (4015, 0.01994173867612853), (1225, 0.01992876025846764), (2915, 0.019921912064576906), (4528, 0.019920970512123964), (886, 0.01991759179304846), (1878, 0.01991619285065825), (2555, 0.019895400728816338), (982, 0.019885557637215456), (3528, 0.019856500815636148), (2454, 0.019851741556030977), (1156, 0.019841571809759262), (1055, 0.019827942571354316), (779, 0.01980330962180459), (873, 0.019779412536052643), (2355, 0.019775292903054527), (2157, 0.01977017322964021), (1022, 0.019765461508575537), (1270, 0.019758903194733668), (1839, 0.019752166548056588), (554, 0.01974924392452754), (2377, 0.019745192251325757), (865, 0.019744954087318873), (2627, 0.019732505929228546), (3940, 0.019730036799392094), (3928, 0.019719662737969965), (456, 0.019707932612610862), (1392, 0.019693394551339834), (943, 0.019686837833134584), (1279, 0.01968607876477324), (634, 0.019685531859581596), (1819, 0.01967916806179545), (2534, 0.019677750938115704), (3030, 0.01967324711162533), (3597, 0.019665158623799604), (2749, 0.019659827962233777), (3056, 0.019657545722179457), (1791, 0.0196507455720525), (3833, 0.019642884115314604), (2491, 0.01963161221389834), (3611, 0.019620819363851183), (75, 0.01960615440842188), (3003, 0.019593721462373963), (500, 0.019577610704987924), (2046, 0.01957140302634585), (620, 0.01955825594904554), (212, 0.0195572727947943), (2136, 0.019545011763335073), (2625, 0.019544123037376522), (495, 0.01953429703414176), (1407, 0.019526091174152525), (2147, 0.019510059920002674), (3094, 0.019503604345134283), (3593, 0.01950174567902757), (3730, 0.01949689558481688), (3011, 0.01949522697634692), (2261, 0.01949212128487513), (675, 0.019486586362591173), (2922, 0.01947348998256762), (2296, 0.019472191125595496), (821, 0.01946283951788934), (1889, 0.019454757753450597), (1812, 0.019436968622739036), (1419, 0.019432536472990203), (1574, 0.01942876134901382), (398, 0.019422821773212536), (1059, 0.019418730227402304), (3903, 0.019411874803753382), (4555, 0.019411860349052457), (1659, 0.019405070638150543), (2199, 0.019397828054141517), (4312, 0.019395721918958386), (207, 0.019378669975534016), (3559, 0.01936583559463933), (4604, 0.01936104487825892), (1384, 0.01935802406190131), (2546, 0.019340120279216562), (1030, 0.019317935605692945), (933, 0.019317547775221114), (468, 0.019316319614047995), (1413, 0.019314787818625348), (3717, 0.01930364800401799), (852, 0.019293863109539004), (1689, 0.019291866792270206), (1275, 0.019276077189875538), (66, 0.019262039047220004), (2557, 0.019260925897699135), (334, 0.01925951992392881), (1881, 0.019254762712194097), (656, 0.01925331204762139), (4368, 0.019249953344509893), (3086, 0.019239737640251508), (352, 0.019229978170321453), (1001, 0.019215225880643696), (1571, 0.01921002230370388), (1170, 0.01920524172398607), (384, 0.01920357881817587), (2100, 0.019194589081305245), (4053, 0.01919163068610745), (3733, 0.019189625249388137), (2204, 0.019188463573309375), (2612, 0.01914868117291826), (2363, 0.01914301190355256), (847, 0.019139996869902334), (3236, 0.0191372387966955), (2579, 0.019134956134330066), (3848, 0.019130011443064324), (1595, 0.019116472915966905), (3845, 0.01909048216461491), (694, 0.019078451257139056), (1152, 0.019060277158180563), (606, 0.01905350350352089), (2581, 0.019049139651870765), (3459, 0.019042811566146126), (1807, 0.019041192374485684), (964, 0.01904053579216471), (2324, 0.019023801579399605), (3829, 0.01902320652174499), (3050, 0.01902262167323993), (4650, 0.0190170295584437), (2142, 0.018993442693268914), (1049, 0.01898526669937998), (3918, 0.01897089215080609), (4767, 0.018960013997940183), (2111, 0.01894663146990922), (1982, 0.0189447738253165), (3401, 0.01894253858201778), (2721, 0.01892426156446093), (220, 0.018915504992778408), (2949, 0.018907325439681787), (1334, 0.0189003301732217), (880, 0.018892809119306946), (2975, 0.018883227031895333), (856, 0.01887466987436795), (1802, 0.01887314495396536), (2223, 0.0188730663356788), (2816, 0.01886625812476968), (1470, 0.018862749517611334), (4793, 0.01886232030839833), (4099, 0.01885908460070707), (2675, 0.01884186561632746), (1782, 0.018825176975396315), (2230, 0.018821120196899806), (1036, 0.01880382386691358), (1430, 0.018793218267038968), (613, 0.018791644480116044), (3640, 0.018778885260378318), (2820, 0.01876883137940418), (3662, 0.01876875102859873), (647, 0.018754675912872353), (4225, 0.018746648274616973), (631, 0.01874575406162367), (772, 0.018740583084504214), (1957, 0.018735827906811962), (938, 0.018717329674857612), (1013, 0.018701445453954017), (1606, 0.01869311810322336), (4028, 0.01868103706551849), (948, 0.018679906778214614), (1328, 0.01867948328173684), (3635, 0.01867498043253311), (2927, 0.018674502225759934), (1204, 0.018670086145449707), (1848, 0.018663913105947564), (4427, 0.0186471945749609), (1348, 0.018646908473319873), (3232, 0.01864313217955736), (2399, 0.01863999743152891), (4378, 0.01863008907240734), (2210, 0.01861799873872719), (874, 0.0186142663079455), (1507, 0.01861346322929171), (4666, 0.018613069140286403), (3865, 0.018604361205710622), (2014, 0.018592503888668996), (3561, 0.018585674399177663), (1706, 0.018575503790491676), (4259, 0.018571136976417886), (4789, 0.018563255645751415), (955, 0.018562394328055443), (2417, 0.01855649976648871), (542, 0.018546310544146086), (1187, 0.01854369408465516), (3998, 0.018527611601850274), (1792, 0.01852717545452342), (2702, 0.01852499777288467), (4297, 0.018522987938118612), (4163, 0.0185158003498945), (2086, 0.018511380288560787), (332, 0.01850920035162183), (4238, 0.01849777741191447), (1433, 0.01848722370772231), (525, 0.01848566768469463), (1781, 0.01847492123195885), (1472, 0.01847371291628557), (2522, 0.018471584825317824), (4181, 0.01846265877474946), (746, 0.018454620647385837), (259, 0.01845418801969359), (3896, 0.018439206429142197), (3859, 0.018439195763928128), (3784, 0.01842092567632993), (1896, 0.018416279765791115), (4106, 0.018406958811499268), (1467, 0.018401337941775574), (2008, 0.018395898512054212), (1299, 0.018394570713590224), (2304, 0.018371117213948147), (4442, 0.018367128968315705), (454, 0.018363458306527324), (1271, 0.01832045690363073), (1282, 0.018319700329543238), (4135, 0.01831271338447424), (1664, 0.018302994805279908), (1761, 0.01829935537330534), (1830, 0.018297654898867304), (652, 0.01829729875084552), (1151, 0.018295435797780167), (318, 0.01829356896053651), (89, 0.018289843107424354), (3529, 0.01827164020136152), (135, 0.01827072465468556), (3900, 0.018256849095922626), (3138, 0.018251982080147097), (2126, 0.018248189139116168), (4357, 0.018246663268958498), (1033, 0.01822580389754454), (2455, 0.01819499464854922), (3095, 0.018193645467746405), (186, 0.018188919031877207), (400, 0.018184771041987177), (3841, 0.018178041772684974), (3737, 0.018174927095820723), (2331, 0.018165796930471056), (3754, 0.01816181338123762), (4077, 0.018149143902924384), (718, 0.018141179968091236), (2096, 0.01811904211463827), (1828, 0.018108705146452832), (1653, 0.018101658929608543), (974, 0.018080222513400343), (1728, 0.018074882946118222), (3209, 0.018067004853317505), (4448, 0.01806538315521844), (1721, 0.01804662856019689), (3622, 0.018037952700573012), (2953, 0.01801378248573577), (1966, 0.018007413984860967), (3276, 0.017998704936042415), (1632, 0.017995545814516078), (2339, 0.017993007160564727), (1916, 0.01799232129257387), (2195, 0.01799160859925738), (3591, 0.017979610036896604), (2405, 0.017971140010810075), (3293, 0.017969725657851862), (2700, 0.01795865137198146), (3441, 0.01795010470941349), (1103, 0.01793767935481594), (2395, 0.017937489638120863), (592, 0.017919406769403068), (3449, 0.01791616770155885), (3789, 0.017904344269049854), (245, 0.017898535151997696), (1746, 0.017894245337202037), (586, 0.017888565785552465), (3224, 0.017887045743931285), (2582, 0.017884730173000393), (4150, 0.01785701362496204), (2563, 0.01785294899618708), (2971, 0.017849123883063405), (483, 0.017833925585344614), (2021, 0.017831198947166123), (3698, 0.017828469224355648), (3748, 0.017823588999333524), (1372, 0.017809587277192517), (1400, 0.017794878703360894), (2580, 0.017783054715039947), (4545, 0.01771754065356665), (452, 0.017687367958080413), (3979, 0.017615758152603432), (19, 0.017602372926109135), (3511, 0.01757109314906882), (3755, 0.01755618256809987), (2633, 0.017550658068028243), (1538, 0.017550562042183103), (2875, 0.01754309625294181), (3391, 0.017540039555383677), (2276, 0.0175273479892899), (4032, 0.017502838679362285), (3477, 0.017474603154940257), (1516, 0.017451156773056115), (1996, 0.017437697419815653), (2727, 0.017436194300202976), (1531, 0.017414429971993006), (3947, 0.017401867356167788), (69, 0.017363459719421617), (3832, 0.017336144174811826), (2798, 0.01731731238180195), (23, 0.017315613279587763), (3241, 0.017313682194835166), (831, 0.017309169170529864), (3420, 0.01727735038632272), (2170, 0.01725238071321363), (4352, 0.017235199148137616), (2888, 0.01721457092216031), (395, 0.017201873701048708), (1800, 0.017173206817775795), (3889, 0.01716304507867377), (2991, 0.017160075192009468), (2703, 0.017159954149918853), (2346, 0.017142231559958775), (1869, 0.017127298871924594), (627, 0.017099578286337395), (1484, 0.01709939731974884), (603, 0.017029973974291387), (4337, 0.016997332076706492), (1608, 0.016989047020177974), (2818, 0.016981337815128617), (2887, 0.01697471032319707), (2860, 0.01697101191393741), (4391, 0.016962091577222088), (1748, 0.01694902744443068), (328, 0.016936958741942683), (4757, 0.016931058459588685), (3520, 0.0168889364449223), (4454, 0.016866677558058783), (3546, 0.016865132364733665), (1795, 0.01686379985040279), (4727, 0.01685910263639592), (3273, 0.016846949645637856), (2986, 0.01683879700813445), (1498, 0.016805751618876576), (353, 0.016790795055477387), (1111, 0.01675869404127505), (4704, 0.016741983231556744), (3218, 0.01672085346186149), (1945, 0.016712386110359734), (4160, 0.016706735050961416), (1370, 0.016642716620649926), (2747, 0.016612570084634234), (881, 0.016598391294229704), (4003, 0.016586657099295472), (1569, 0.01658367932137573), (3227, 0.01657301399336168), (527, 0.016556265503721638), (2544, 0.016541299227812653), (4231, 0.016481355271806223), (2033, 0.016463376254148974), (2527, 0.016456200051620632), (2596, 0.01645046096656476), (1935, 0.01642962847004936), (2597, 0.01639857411323312), (4078, 0.01639663690573287), (2092, 0.016346544379377242), (4486, 0.016338295198593426), (3093, 0.016328946451506298), (3533, 0.01630009889690496), (405, 0.016245087674765894), (4688, 0.016232836975599657), (4285, 0.016223977253161017), (915, 0.01620616021462147), (4507, 0.01617509613007166), (633, 0.016127441412384654), (1209, 0.01610403632299463), (990, 0.0160977233131341), (2317, 0.016071666034648928), (2082, 0.016057160742178833), (4182, 0.016056247881017692), (3887, 0.016016982279387373), (2022, 0.01600555954082486), (2461, 0.01598950788807652), (4055, 0.01598833555951535), (1277, 0.015955668620970708), (4626, 0.015910436309435342), (381, 0.015815301141894774), (614, 0.0157986511445955), (3916, 0.015772431130887183), (4261, 0.015681104743319213), (2384, 0.015652371505857396), (271, 0.015634220074933786), (373, 0.015579475652904436), (882, 0.015577980691722728), (4009, 0.015563724391551553), (971, 0.01554170393363433), (83, 0.015531757773516954), (3417, 0.01550125479520578), (2894, 0.01547386263683365), (1647, 0.015370762041157173), (489, 0.01535858252463237), (2407, 0.015341262999329672), (2138, 0.015325294462155952), (3775, 0.015311803116434484), (757, 0.015300558802198343), (2964, 0.015267817250691098), (3929, 0.015253709870311778), (1306, 0.01524504082785422), (3957, 0.015208968103910534), (1814, 0.015126142341167412), (4701, 0.015126050586821881), (1837, 0.015118703811494365), (1563, 0.015058723177121194), (2450, 0.015054901958968843), (3619, 0.0150420172678559), (4679, 0.015021061579062512), (2757, 0.015004558637617193), (2449, 0.014978680298939067), (3012, 0.01495688734105926), (3934, 0.014925374681666697), (1425, 0.014899713701284876), (306, 0.014887632507166293), (967, 0.014862042020656899), (4594, 0.0148091238262499), (1153, 0.014800533607210505), (3006, 0.014780600921412524), (1176, 0.014760926365103575), (3944, 0.014710078076627936), (785, 0.014674941543847771), (377, 0.014655491078085064), (1858, 0.014603736592653868), (3161, 0.014586128354223998), (4579, 0.014563610538674273), (2640, 0.014526817609079099), (3345, 0.014508708015171122), (1490, 0.014475934446124376), (1339, 0.01444562519969981), (493, 0.014427383851741884), (2851, 0.014411129892506681), (2808, 0.01441059756136191), (481, 0.014403244114144132), (2619, 0.014384545023145819), (3472, 0.014374383657991764), (3527, 0.014368342811057125), (1658, 0.014365208746179352), (3201, 0.014343850050230441), (3379, 0.014343093417812414), (2836, 0.01433421090664225), (1984, 0.014333942452554928), (3777, 0.014301606646374502), (4574, 0.014259497123822008), (2606, 0.014201292275148485), (962, 0.014158194997717765), (2114, 0.014011917963501418), (3474, 0.014003014517620115), (812, 0.013981233742622654), (1313, 0.013964224990365558), (2446, 0.013956446275977353), (3501, 0.01392964310501754), (4081, 0.013892175423909097), (3888, 0.013873872382043516), (658, 0.01386989222149835), (309, 0.013864836295683499), (4214, 0.013841779105748821), (1260, 0.013778510533442055), (1201, 0.0137722618462553), (1363, 0.013731772426786533), (1852, 0.013693571648954092), (4333, 0.013672602325727961), (4087, 0.013666255248340094), (3374, 0.013661153699994972), (131, 0.013528940185735224), (4728, 0.01352646999633267), (2524, 0.013524690239617335), (86, 0.013520122347505449), (3800, 0.013499083636537984), (1657, 0.01348429793801992), (903, 0.013471265685753206), (184, 0.013455261482547895), (4782, 0.013371591475196322), (1423, 0.013366998122568268), (776, 0.013365020793374567), (820, 0.013362923206077713), (1932, 0.01335384640636633), (1960, 0.013333202620166937), (3872, 0.013240717948766436), (2598, 0.013234307727779091), (2520, 0.01321551986850324), (322, 0.013212629928814253), (2591, 0.013180931190273606), (1253, 0.013177640405774672), (768, 0.013177579155409753), (764, 0.01315673543563687), (37, 0.013135677301594614), (80, 0.013046272145414307), (3364, 0.013028605095914879), (1708, 0.013012158595051743), (1588, 0.013011348201502789), (1139, 0.012966680555047063), (810, 0.012954033885247579), (3494, 0.012946236623008662), (784, 0.012936272909705959), (1368, 0.012924168528501763), (258, 0.012912472556528786), (1597, 0.012905249304819852), (559, 0.012844011400108886), (2438, 0.012806897588130738), (3170, 0.01279242620509483), (413, 0.012791988553452288), (106, 0.012783799771503951), (661, 0.012765792759873338), (1603, 0.012761969836831965), (1144, 0.012741701319516062), (241, 0.012704565306017464), (61, 0.012700373484944955), (585, 0.01265323884102121), (2835, 0.012640660805364329), (12, 0.012619314884576243), (423, 0.012604173190926802), (898, 0.012598893159739508), (754, 0.012594831501251194), (92, 0.012567725772953824), (3613, 0.012558834304962185), (1599, 0.012535899745425414), (129, 0.012524535895791007), (2360, 0.012524268504395473), (2416, 0.012517966120242387), (472, 0.012515687692867577), (2499, 0.012499875940615489), (1508, 0.012477070605821332), (2651, 0.012475306891661018), (931, 0.012469218687727962), (3779, 0.012462619279889583), (1230, 0.012461451484940185), (3602, 0.01245520494144823), (1206, 0.012432425531129958), (2222, 0.012394449246568016), (435, 0.012367717867941459), (1238, 0.01235887038312356), (268, 0.012353931626794101), (3714, 0.012270830623143285), (1420, 0.012257360116924104), (1669, 0.012253295248463936), (3671, 0.012228610463277424), (162, 0.012212705249354241), (451, 0.012206262158113067), (2166, 0.01220617812667122), (2437, 0.012200897119885716), (600, 0.012195295754345387), (4559, 0.012191706969248485), (3661, 0.012188487726728335), (206, 0.012181499131207509), (330, 0.01217886213064027), (262, 0.012171326811528596), (4370, 0.01216806325953422), (160, 0.012164401890336508), (154, 0.012160286698455978), (168, 0.012156438170569252), (537, 0.012149963580543417), (341, 0.012138585742271042), (589, 0.012128085682494103), (3004, 0.012120427176693354), (2624, 0.012095194492149698), (1246, 0.012085529749237652), (1411, 0.012080960930819009), (235, 0.012076803551916976), (605, 0.01205321209069943), (2268, 0.012041553217954245), (750, 0.012022899363607857), (814, 0.012010551876430516), (4763, 0.01200865071666708), (172, 0.011990894182334821), (4125, 0.011989507998190459), (1000, 0.011988324762455208), (1449, 0.011956701235343021), (2846, 0.011930615997630978), (2390, 0.01190548408330183), (410, 0.01189820017560762), (4152, 0.011890852974362298), (864, 0.011870699867842095), (1692, 0.011830183772649985), (391, 0.01181527122228535), (2931, 0.011811664264148642), (4048, 0.01179863798165286), (937, 0.011764668598747034), (1983, 0.011760348563330504), (2674, 0.011760316750151541), (2657, 0.01175531461064762), (1266, 0.011747580663553575), (792, 0.011733790456409873), (1643, 0.011719286999233336), (3907, 0.011717085549605516), (4801, 0.011708346563290319), (1166, 0.01169800333763189), (2695, 0.011668570411556129), (1849, 0.011668415909000274), (2189, 0.011666008386153075), (486, 0.011655563565427894), (443, 0.01162368679214702), (995, 0.011619841654046361), (159, 0.011617455202332748), (3706, 0.011610693097014534), (4502, 0.011598064151296533), (3808, 0.011560032039316836), (636, 0.011540519548213878), (689, 0.011496633187146289), (999, 0.011483544205566677), (3051, 0.011470381679616018), (3798, 0.0114684485327656), (1821, 0.011453694080590632), (2326, 0.011449269982271257), (3665, 0.011441161471729652), (2017, 0.011437536382025871), (1481, 0.011430371743293087), (805, 0.0114163128299035), (379, 0.011413912684510034), (2071, 0.011400663017821257), (4501, 0.011387871338155458), (2081, 0.01138054848160003), (2127, 0.011359618061537277), (2426, 0.011357051638870226), (1624, 0.011352011270049325), (760, 0.011347353504314633), (1986, 0.011331254891286998), (4543, 0.011303619424075633), (4205, 0.011290046686698045), (977, 0.011286206531630394), (732, 0.01127147013785341), (1913, 0.011246451317252045), (165, 0.01124442779478855), (3488, 0.011233684264210262), (2168, 0.011233218410255284), (4791, 0.011229348898826732), (3679, 0.011221405783767967), (58, 0.01121443026136493), (2423, 0.011202263036742148), (1942, 0.011200694353864981), (1675, 0.011196823633050856), (4494, 0.011192931953844394), (3932, 0.011184664510910497), (1804, 0.01118061093920566), (2206, 0.01118030617259518), (2542, 0.01117360608825957), (1686, 0.011171660171722698), (3823, 0.011168871446282213), (4414, 0.011165578029577374), (841, 0.011135621220040335), (1438, 0.011125700623383342), (797, 0.011097355738579057), (1978, 0.011085757081716417), (2262, 0.01108543415599556), (1115, 0.011082296278975279), (4730, 0.011076450919713746), (3214, 0.011069897079899674), (4531, 0.01106662643982511), (1129, 0.011062206590727264), (3486, 0.011059617781587035), (1987, 0.011058979675366955), (4149, 0.011051322462884495), (57, 0.011048339350951132), (407, 0.011046187205335203), (4613, 0.011036832845623925), (928, 0.01103619689135424), (213, 0.01102905171410361), (4680, 0.01102795198784979), (3397, 0.01102138639732124), (4449, 0.011009369973201424), (425, 0.011004753970892008), (884, 0.011003621169408494), (2231, 0.011003569564371363), (663, 0.01100266195825475), (1767, 0.010998794636722315), (2837, 0.010979222061754385), (1894, 0.010968143000605907), (479, 0.010967203928464923), (1335, 0.010961368994237776), (290, 0.010946870246653478), (2314, 0.010941872431332954), (2290, 0.010939005207978537), (1518, 0.010938440917945522), (1190, 0.010936674459254132), (2628, 0.01092578498132443), (2394, 0.010924604912752593), (2141, 0.010922808892699537), (1179, 0.010915185885194474), (626, 0.010913470410531607), (2393, 0.010904128005932446), (4780, 0.010900244898668324), (350, 0.010889310435251095), (2885, 0.010887179967381541), (3172, 0.010875848773379765), (3623, 0.010875554972313758), (815, 0.010875329508949365), (437, 0.010875091937650374), (1626, 0.010868976333759368), (4175, 0.010858358582831181), (2693, 0.010850225242231396), (1042, 0.010839671644367103), (2879, 0.01082876613248575), (2904, 0.010826745618016685), (2874, 0.010826732163470585), (2037, 0.010815557105506248), (866, 0.010815130762317668), (2990, 0.010808111349469204), (1805, 0.010796183665176439), (1759, 0.010793610256958673), (2864, 0.010790141626398854), (2391, 0.010789272287061032), (567, 0.0107749632617939), (3329, 0.010774272296391692), (122, 0.010773838881822125), (4787, 0.010770929903421014), (1525, 0.01076167928043615), (2814, 0.010746835218189746), (1732, 0.010746560222960739), (2245, 0.010723425501717593), (3181, 0.010720422078758708), (942, 0.010719242132012129), (2165, 0.010717302119393547), (201, 0.010711388757040936), (1269, 0.010706985281818905), (539, 0.010699092857654439), (3157, 0.010688384319316983), (3125, 0.010685131824828291), (643, 0.010677781567924068), (1020, 0.010664333000370018), (1572, 0.010662589043843807), (4345, 0.010661084685697786), (1576, 0.0106608999884881), (3796, 0.010658798774708107), (471, 0.01065854147487534), (3616, 0.010657023383352796), (499, 0.010642494329598193), (4488, 0.010642318700405586), (4525, 0.01064034302343472), (3016, 0.010640181197400277), (1010, 0.010633750427540133), (3381, 0.010627018823354357), (565, 0.010624696546920363), (3840, 0.010615959747906207), (2056, 0.01061249496518483), (2420, 0.010609513507656996), (4470, 0.010608524262638698), (2465, 0.01060048822250429), (2202, 0.010593034750631674), (1320, 0.010591370017434109), (4506, 0.010590457134894801), (4264, 0.01058875788536292), (2113, 0.010586740626435314), (4509, 0.010584374343329503), (576, 0.010577838492267115), (3554, 0.01056364860975121), (3376, 0.010563382285910231), (1309, 0.010561928022548078), (1762, 0.010560964856100398), (706, 0.010560894033426643), (3915, 0.010558860230309716), (415, 0.010558110249771793), (2487, 0.010555883959657102), (2212, 0.010544807540137705), (702, 0.01054178400405139), (1514, 0.010541575156113365), (1479, 0.01053849326703329), (1924, 0.010532207166637218), (3000, 0.010530158387382546), (828, 0.010523137620138128), (120, 0.01052159098700765), (396, 0.010519515783183808), (4049, 0.010519385939906182), (2171, 0.010516971318087745), (4367, 0.010508724812745753), (1693, 0.010503327173652714), (345, 0.010501752595585983), (1926, 0.010499889685568845), (726, 0.01049663646121656), (3701, 0.01049390662438149), (897, 0.010489355792423665), (543, 0.010487428775208248), (3302, 0.010478823956980026), (1382, 0.010478297755648807), (1322, 0.010477590393334762), (2151, 0.010475858726289842), (3959, 0.010463127641707039), (2732, 0.010462405456033866), (3786, 0.01046037292348057), (857, 0.010459871048259425), (807, 0.01045529444148914), (4045, 0.010450383293833621), (4241, 0.010450370672661413), (297, 0.010449565829685563), (284, 0.01044127305931057), (4330, 0.010440578034081872), (4556, 0.01043793044766307), (1842, 0.010435988133906492), (1570, 0.010426576225066472), (3199, 0.010424896022350413), (4008, 0.01041594539913871), (716, 0.010407725732087958), (2154, 0.010404300718012658), (2504, 0.010403364029707577), (2741, 0.01039914104357766), (3767, 0.01039835428782365), (3066, 0.010395487446808124), (3279, 0.01039067205483259), (4600, 0.010390474383043122), (234, 0.010390363432992046), (506, 0.010387650735441574), (3180, 0.010386243730363018), (2507, 0.01038477267302512), (4678, 0.010384526465872517), (944, 0.01037917452023047), (4377, 0.010377585139817586), (575, 0.0103715684180882), (3972, 0.01036751035523184), (2345, 0.010362955110773696), (433, 0.010358649688636533), (53, 0.010351437583500732), (2019, 0.010345808812789969), (2294, 0.01034533591657186), (3387, 0.010337209938660628), (877, 0.01033646249373172), (3101, 0.010336201334243567), (3320, 0.010335608228587853), (4481, 0.010334170758160406), (1860, 0.010334119189129768), (1118, 0.010330031514550765), (1936, 0.010329451088431082), (1272, 0.0103287563364865), (140, 0.010316036268870296), (453, 0.010298972595694572), (1228, 0.010294732998359356), (766, 0.010293488636053972), (501, 0.010292046119893398), (1274, 0.01028709785122043), (257, 0.010286215466113705), (979, 0.010283760870469474), (3083, 0.010277417717589681), (105, 0.01027358197328786), (3864, 0.010271075744782279), (3434, 0.01027048649690386), (1744, 0.010263589399947263), (3849, 0.010257881692583034), (1197, 0.010255736965111902), (2275, 0.010244120043259832), (1080, 0.010237192809495782), (3444, 0.010233910589334818), (3558, 0.010230890673767905), (402, 0.010229213815181368), (1565, 0.01022001184507566), (2511, 0.010219290082473421), (3423, 0.010214626015587548), (4647, 0.010212028528372849), (563, 0.01021174385501247), (441, 0.010210383300090655), (3925, 0.010208739281901235), (450, 0.010207657971341244), (922, 0.010200180211987715), (2400, 0.010190670623174249), (4744, 0.01018502345848653), (1783, 0.01018221593003799), (2239, 0.010181771245277188), (4634, 0.010174132642468543), (1150, 0.010173547541872968), (4272, 0.010170927045612847), (3092, 0.010169895146795047), (553, 0.010167465536458083), (557, 0.01015934967636056), (1865, 0.010153642884094007), (4255, 0.010152870211302898), (1336, 0.010152282313635554), (720, 0.010152250230516432), (1562, 0.010148040497124713), (4033, 0.010138653643236899), (1850, 0.010137699226137914), (2318, 0.010137455923539582), (3386, 0.010132470718214262), (2919, 0.01013217500692722), (3976, 0.010131401350336352), (1499, 0.010130783405591596), (204, 0.010130020696885166), (1931, 0.010124549718795693), (2060, 0.010118568534782019), (1350, 0.010117756603253127), (3771, 0.010114869536883559), (892, 0.010114008033610605), (3044, 0.01010800200904472), (43, 0.01010530935325807), (1305, 0.010105252157796462), (4076, 0.010101145251472444), (1502, 0.010100375544800803), (1757, 0.010095052749172842), (3556, 0.010088917735557744), (4380, 0.010088788251227465), (298, 0.010087832781190445), (669, 0.010082102008656047), (2269, 0.01007721915664496), (2538, 0.010075445104237152), (4447, 0.010075006548908723), (2979, 0.010069863298171848), (2812, 0.010067236754190976), (4677, 0.010063387950809705), (287, 0.010061992260550578), (1535, 0.010058805457178013), (3318, 0.010057859063077546), (457, 0.010055734666512406), (4180, 0.010051717006822657), (2611, 0.010049046881950088), (949, 0.010040193300262396), (1429, 0.010036021430088544), (2244, 0.010034028779698105), (1505, 0.010031916491829633), (3176, 0.010031910365191823), (4355, 0.010025643036692058), (2489, 0.010015390388697715), (2495, 0.010014906578840882), (4155, 0.01001268221651688), (1853, 0.010011795674403122), (2242, 0.010002168002975568), (1239, 0.010001113634803587), (387, 0.009999795955900958), (4230, 0.009997813348511617), (871, 0.009997725816055845), (790, 0.009990655068291315), (1362, 0.009990009185139738), (4475, 0.009989549994880768), (1300, 0.009985402833546462), (2831, 0.009984086793405358), (1346, 0.00998277098412043), (1832, 0.00998142120097115), (2228, 0.009971628119784156), (2027, 0.00996429013627965), (2153, 0.009963660306044677), (1627, 0.009963297908603074), (2069, 0.009961047683337035), (361, 0.009958765941688777), (356, 0.009958753624552731), (4670, 0.009958314920912793), (1410, 0.009956546523924657), (2734, 0.00995492684514185), (1203, 0.009954273716831951), (747, 0.009954221067663058), (3301, 0.009953673563859745), (3141, 0.009950524421725665), (1904, 0.009944015222386752), (2578, 0.009942994095104029), (1845, 0.009942063030131046), (88, 0.009941287358253288), (3506, 0.009940297457609605), (3769, 0.009939097505877357), (3252, 0.009934543408237975), (1560, 0.009933480322800194), (4224, 0.009918715440761502), (256, 0.009912644051391157), (2767, 0.009911472400804583), (446, 0.009910864993784234), (216, 0.009907615851439466), (1379, 0.00990669298399495), (2167, 0.009903987171698192), (4131, 0.009902024657071296), (4746, 0.009901735028309697), (431, 0.009901614491545249), (697, 0.009901290466705372), (3682, 0.009899050165709704), (2311, 0.009896703669590267), (3678, 0.00989664458717578), (4673, 0.009896177959547834), (2250, 0.009893437545899646), (3765, 0.009892921869711151), (3286, 0.009892815190131342), (2473, 0.009891333353168868), (2218, 0.009890953568536965), (2791, 0.009886161869689537), (524, 0.00988313242719885), (1294, 0.009882165416014142), (811, 0.009878177518899972), (2901, 0.009878148304758574), (2249, 0.009875146398098252), (4146, 0.009867205230454824), (667, 0.009865994413777595), (3270, 0.00986512545333629), (3664, 0.009850200601515103), (321, 0.00984787698901222), (1905, 0.009847531524041497), (389, 0.009844997376840964), (1868, 0.009837013457791572), (1739, 0.00983437956662733), (205, 0.00983416308479351), (4665, 0.009833694979349168), (3339, 0.009829962168582826), (3254, 0.009822736959623731), (958, 0.009819110872906812), (3537, 0.009818839318237465), (1764, 0.00981777260960828), (2603, 0.009817286740949976), (2140, 0.009810169201507566), (2116, 0.009809872789809099), (582, 0.009803199560028916), (239, 0.009799392720273423), (1705, 0.00979740233616384), (77, 0.009795475476886592), (3383, 0.009793217724131534), (910, 0.009791302131446031), (2238, 0.009791186056510507), (1763, 0.009791159869764577), (2642, 0.009784308457719057), (2502, 0.009783547593254028), (2361, 0.009782707227121325), (2308, 0.009780526416776299), (3562, 0.00977898504737453), (1991, 0.009777985368793768), (1133, 0.00977768529516324), (2277, 0.009776308194189726), (2948, 0.009774754600404223), (1445, 0.009774394644812993), (2220, 0.00976861612846643), (574, 0.00976533071072874), (1057, 0.009764282554457701), (722, 0.00976365605061386), (3337, 0.00976293160103851), (1222, 0.009758549409065042), (1352, 0.009755525967850887), (3785, 0.009751371165748635), (2719, 0.009751287175286305), (555, 0.009750924314604415), (1442, 0.009750851794235984), (759, 0.009750694505958831), (59, 0.009747041528534546), (414, 0.009743816432603847), (310, 0.009742416661732147), (4020, 0.009740452584314314), (4170, 0.009731059990995296), (804, 0.0097275113810037), (3683, 0.009726476210405996), (1154, 0.009723922956708368), (13, 0.009721477854320879), (3828, 0.009721355840938733), (1240, 0.009717855533705634), (544, 0.00971684769157105), (2645, 0.009714947488489058), (3458, 0.00971415270697409), (3802, 0.009712320839503432), (4320, 0.009708162138772836), (281, 0.009704750455790605), (2794, 0.009695246669708783), (178, 0.009692180566485107), (93, 0.009691599170659088), (3463, 0.009691373541412925), (1135, 0.009680843354859716), (4317, 0.009679524386952637), (2150, 0.009679497290399717), (1134, 0.009674310230761093), (3668, 0.009672911567232819), (2408, 0.009669657986743012), (4139, 0.009669146767667081), (517, 0.009668320797452829), (2102, 0.009664466071503668), (4039, 0.009663524502585227), (4707, 0.009663171779844631), (2839, 0.009662827984102729), (412, 0.009655428500811393), (125, 0.009655288421852856), (1318, 0.009655157801969298), (2800, 0.00965504793028299), (2072, 0.009653638239741953), (911, 0.00965060724566677), (2536, 0.009649298660213851), (676, 0.009648106831979638), (3316, 0.009644640021234328), (4656, 0.009642268171721126), (717, 0.009641186750819463), (3541, 0.009639960900555859), (3574, 0.009638893339571292), (1771, 0.009635496857065808), (1688, 0.009632680049708001), (2288, 0.009632037834104813), (440, 0.009631183639287487), (2525, 0.009631117760522428), (3352, 0.009626171284909706), (1351, 0.009625577302237263), (1276, 0.009625415436454213), (4365, 0.009624904883351963), (2807, 0.009623143014337322), (2156, 0.00962298586900635), (3567, 0.009620996885236674), (4360, 0.009618575320813677), (1609, 0.009613781814182655), (4292, 0.009612786212491757), (2115, 0.009608000151739921), (3571, 0.009607323160011099), (1909, 0.009607175046043288), (370, 0.00960679176757831), (22, 0.009602492201906355), (4195, 0.009602346730646385), (1482, 0.009601452075540712), (2024, 0.00959941487687865), (677, 0.009598554358004979), (3563, 0.00959554605702308), (1742, 0.009594705182086171), (3508, 0.00959419387179102), (2797, 0.009591931347709883), (2428, 0.009591442897607348), (3402, 0.009590970421455682), (132, 0.009590407896318279), (875, 0.009588269403755909), (2329, 0.009584108413282475), (126, 0.009579123181116103), (2412, 0.00957366635961134), (175, 0.009571212201126616), (771, 0.009569921283056466), (988, 0.009569641952207957), (2615, 0.00956223464217302), (3147, 0.009558980367880594), (577, 0.009556147569798145), (3526, 0.009554622298647755), (535, 0.009554368586001935), (123, 0.009552854061704877), (4222, 0.00955178818666597), (2569, 0.009547454903464887), (3330, 0.009546851620575248), (2441, 0.009546542794390992), (1681, 0.009545798802797314), (2155, 0.009545333981755631), (3245, 0.009535871207760723), (2632, 0.009534942510293201), (1312, 0.009531950602031863), (3290, 0.009531942365236867), (149, 0.009529425759268299), (659, 0.009527615387896782), (3281, 0.009526957972209964), (4373, 0.00952528771219711), (4237, 0.009525207610579466), (2328, 0.009519879063536206), (3532, 0.009511771110407482), (4596, 0.009505692415266897), (247, 0.00950019053331062), (190, 0.009498352329180986), (275, 0.009495500056012048), (1717, 0.009494294121255407), (1973, 0.009484368240764261), (3608, 0.00948351781459921), (795, 0.00947492822069505), (2804, 0.009472057203793979), (3653, 0.009468675007339269), (1671, 0.00946400532859302), (2729, 0.009460734584563604), (1822, 0.009450670203540387), (3685, 0.009449798009701024), (833, 0.009448122964427388), (1859, 0.009444677485956487), (1045, 0.009444343896221284), (1073, 0.009442185165766287), (1102, 0.009441149186321898), (3132, 0.009441051625817619), (3322, 0.009438845688773513), (3627, 0.009434103290160971), (693, 0.00943217121249538), (3973, 0.009432060092872688), (3549, 0.009429490177490021), (930, 0.009428046375891543), (2715, 0.009421669521988375), (914, 0.009419296576491392), (1545, 0.009411505737316792), (3716, 0.0094103649830732), (1097, 0.009408677095766283), (4393, 0.009408553352767803), (4484, 0.009407236192746917), (3592, 0.009404812683069724), (2998, 0.009404748294183241), (4014, 0.00940439562199328), (1486, 0.009399145969614319), (3303, 0.00939865942284406), (2865, 0.009397294608476206), (788, 0.009384573675678657), (3817, 0.009381013741513308), (996, 0.009379718329950463), (4577, 0.009377909853484597), (2120, 0.00937142355754844), (714, 0.009371111200781575), (2043, 0.009365500654237158), (2467, 0.009364660631343908), (2158, 0.009363653496689196), (2765, 0.009362092614695328), (1459, 0.009360453905187137), (2323, 0.009360371438727666), (2950, 0.009358370804352636), (1098, 0.009358330993026236), (4572, 0.00935703049931646), (4524, 0.009356385074435569), (1656, 0.009356219240311886), (1349, 0.009356019798948158), (4353, 0.009353122673205068), (3812, 0.009347356341086736), (280, 0.009343932932266328), (4052, 0.009338521396657647), (3462, 0.009338394382832), (4602, 0.009337751400171321), (1672, 0.00932697843948045), (3048, 0.009326696712122093), (719, 0.009325060233713904), (3658, 0.009324848126530502), (367, 0.009320400643550239), (3684, 0.009319833950171453), (63, 0.00931362411698938), (406, 0.009312526598606785), (1263, 0.009305508354606369), (3885, 0.009300431260191965), (1722, 0.009295548996788281), (2376, 0.009288206341123898), (3313, 0.009278160916974398), (3195, 0.009277969888699744), (1457, 0.009276877912565519), (3076, 0.009272868058585456), (1749, 0.009272238346202572), (2752, 0.009263641244196782), (3019, 0.009263537520124073), (2994, 0.009260682924170158), (566, 0.009258872051598765), (2080, 0.009258139903608697), (615, 0.009252589904393604), (1615, 0.009252111274749071), (4327, 0.009248900887964494), (2947, 0.009245487130551703), (1736, 0.009243066573421334), (3850, 0.009242746555305176), (3821, 0.009239726661740765), (531, 0.009237527993382302), (2130, 0.009236417886909806), (1676, 0.009234756068868272), (2593, 0.009232818534552815), (4788, 0.009232662571561589), (2471, 0.009230111178032942), (1591, 0.009229778109459309), (1338, 0.00921821583421879), (3861, 0.009216748648627851), (879, 0.009210571165509296), (3062, 0.009210360658400776), (3586, 0.009203743726188809), (854, 0.009202528186279367), (2038, 0.009202325274218772), (3197, 0.009199292216358046), (4718, 0.009193291263125517), (4202, 0.009192812750131332), (3914, 0.009192439500143023), (1553, 0.009186041697854872), (2799, 0.009174624921166363), (3433, 0.009174352575188142), (1660, 0.009172341291495089), (3442, 0.009168208705050598), (336, 0.009161764031058832), (2906, 0.009161006648411962), (2978, 0.009150973467612067), (3348, 0.009147847271260612), (176, 0.00914696292707064), (2463, 0.009146434940948422), (4204, 0.00914115436907649), (849, 0.009138541018680823), (691, 0.009138457462542531), (2940, 0.009136125211054674), (2371, 0.009135030115222964), (3970, 0.009130601656683262), (3741, 0.009126933116800268), (1820, 0.009126843900097348), (3049, 0.009123874350206288), (1585, 0.009123585341072736), (124, 0.009121013777987049), (987, 0.009117896890853395), (4696, 0.00911489553760762), (2335, 0.009113826059579583), (1105, 0.009109387213797168), (2348, 0.00910807197311284), (775, 0.009105414650626599), (273, 0.009104620005870935), (485, 0.009101199556693008), (3636, 0.00909950058335151), (3375, 0.009098049496849472), (3346, 0.009094267441302557), (3158, 0.009092830006954862), (2424, 0.009088654719433755), (2660, 0.009083006817745418), (2911, 0.00908113834674048), (1255, 0.00907236275997672), (1596, 0.009070853272511772), (548, 0.009070714230636242), (3253, 0.009069719435171219), (3483, 0.009067351328371281), (893, 0.00906192057652092), (2564, 0.009060978813870822), (3428, 0.009057337394936046), (2306, 0.00905399671923683), (3052, 0.009053265396938043), (4321, 0.009052450048972309), (1160, 0.009050034368457008), (2378, 0.009048687965467641), (3626, 0.009045234139906185), (1974, 0.009044790580451281), (4740, 0.009043772867654811), (1551, 0.009043345497408378), (1882, 0.009033258889313228), (1661, 0.009016832484347311), (558, 0.009016664783186511), (3349, 0.009012863920234992), (3040, 0.009010226734973554), (680, 0.00900982740951281), (2801, 0.009006675606426835), (2982, 0.009005866214089393), (1874, 0.009005420358686851), (4216, 0.00900382318700999), (756, 0.009000164466558784), (708, 0.00899956947188469), (3120, 0.008997462918972758), (2561, 0.008984554868955668), (4265, 0.008982010034716237), (1980, 0.008979576161284971), (3839, 0.008978796266968717), (1264, 0.008975486507405003), (1121, 0.008974139706591238), (2462, 0.008970080536064082), (2124, 0.008968511620479814), (4343, 0.008968359395249552), (4134, 0.008967865127392838), (315, 0.008959542892795208), (3566, 0.00895512247331253), (3647, 0.008953932252667381), (4792, 0.008952670651720463), (429, 0.008951232841697214), (1186, 0.008948727461751139), (4249, 0.008946832741296692), (3234, 0.008946338235155551), (3246, 0.008946106539300532), (1907, 0.008945442348562016), (3750, 0.008937969211427779), (4576, 0.008937247259330424), (3860, 0.008930100254051457), (2912, 0.008929881301347047), (3936, 0.00892175797901032), (1100, 0.008917961652909836), (752, 0.008914130455950653), (2483, 0.008911421408808556), (2468, 0.008907488932990044), (2161, 0.008905080262831972), (4381, 0.008905021271850982), (1550, 0.008904936363315701), (1095, 0.0089034831940077), (1096, 0.008901094377971168), (1829, 0.008889871871171767), (3179, 0.008886790535704455), (346, 0.008886759073724763), (630, 0.008886077115813028), (2185, 0.008884251485546227), (2388, 0.008883663720706777), (3797, 0.008883551738829048), (4390, 0.008878825384457162), (840, 0.00887590183336817), (739, 0.008872985930083148), (2263, 0.008868984787979083), (4595, 0.00886176387035242), (3063, 0.008859033682311652), (4310, 0.008855426730527288), (515, 0.008853219052598008), (1428, 0.008838706948310527), (1625, 0.00883648892694876), (2739, 0.008834788708981824), (49, 0.008832707979668931), (380, 0.008832295154985676), (2549, 0.00881369594428913), (679, 0.008812325427218192), (3074, 0.008796503246881913), (2149, 0.00879069954447513), (1406, 0.008789327418572355), (2977, 0.008786017528983755), (2282, 0.008784934328643275), (1581, 0.008759782743087795), (3518, 0.008755787875395974), (3108, 0.008749259538170089), (4733, 0.008744575444145437), (2639, 0.008743220060357198), (1900, 0.008742154300500547), (1084, 0.008736449020893083), (3017, 0.008736190280772747), (3454, 0.008735120431078224), (1622, 0.008726926155476768), (2133, 0.008712252064127056), (839, 0.008709502084207062), (1883, 0.008707541618032761), (3177, 0.008704732670684496), (2661, 0.008703462166012229), (711, 0.00869713332410539), (3305, 0.008695898394347304), (2074, 0.008691836077368108), (4799, 0.008691335920688381), (3370, 0.008688944543192821), (1946, 0.008678716894110323), (684, 0.00866216092095423), (3266, 0.008659331701982563), (1955, 0.008653752080210906), (2762, 0.008651876482445446), (2196, 0.008645814478659404), (3467, 0.008642462361223251), (2431, 0.008640078037125439), (4090, 0.008634097327216431), (3776, 0.008627542303389007), (3620, 0.008625004217365874), (4605, 0.008616632714634358), (3413, 0.008612170514444599), (3631, 0.008612075073952228), (1827, 0.008611885918138204), (3277, 0.00860237602444971), (4331, 0.008594822815755345), (2965, 0.008583859908164473), (308, 0.008576826506673846), (941, 0.008576381175542443), (4263, 0.00856856572595246), (1598, 0.008564710451474528), (3296, 0.008563363938873119), (692, 0.008559272820159126), (4726, 0.00855726546641365), (730, 0.008557170701214272), (4340, 0.008556263445609651), (3123, 0.00855565814120977), (1281, 0.008551031675909773), (2397, 0.008536914978498506), (3124, 0.008535604733450414), (3416, 0.00852981514346638), (2229, 0.008523687510646846), (723, 0.00852111297481901), (1607, 0.00852042917577791), (4397, 0.008477149749727146), (1397, 0.00847495395503792), (3414, 0.008473325713461703), (3073, 0.008465928561846327), (2186, 0.008453633970361628), (2440, 0.008444642356550026), (3309, 0.00844452938535241), (3895, 0.00844419243462989), (2985, 0.008428318634424798), (1930, 0.008420987219294138), (4024, 0.008419900323800977), (1892, 0.00840158270706902), (2832, 0.008394112628877633), (475, 0.008389064019176776), (2777, 0.008383002934508717), (1041, 0.00837928937610017), (2478, 0.008354411526920878), (4302, 0.00835022944836218), (1993, 0.008343164895669716), (2429, 0.008337027099521787), (3643, 0.008328559559641586), (2300, 0.008326002300500112), (1341, 0.008309495335351611), (1639, 0.008303767616741349), (1583, 0.008294362916956835), (4648, 0.0082939510746627), (1119, 0.008284401431336913), (4383, 0.008273237389937535), (3169, 0.00826493495464727), (2131, 0.008261001090151081), (3421, 0.008259858402307228), (3879, 0.008259184885449092), (1735, 0.008258304151217652), (2484, 0.008258167623981493), (371, 0.008249497346592477), (4071, 0.008243216408210172), (1003, 0.008241318430063252), (1212, 0.008240480757966365), (4283, 0.008225536094659428), (2774, 0.008225266318494068), (983, 0.008223347463784586), (3018, 0.008219495041225341), (3473, 0.008215492579801517), (3983, 0.008206850745206046), (1556, 0.008203021980665472), (1517, 0.008201859779076597), (3576, 0.008198897325900479), (2283, 0.008186368406948271), (4201, 0.00818574870248771), (3165, 0.008168841421205157), (3418, 0.008160240640108181), (4226, 0.008152720402575867), (2623, 0.008150191993664211), (4404, 0.008148553366734602), (4080, 0.008141693163236867), (950, 0.008135437992256654), (442, 0.008126602599664487), (3001, 0.008088358905900699), (794, 0.00808482189027663), (3256, 0.00807726561488014), (1778, 0.008075891659283786), (3440, 0.008070961165403677), (1971, 0.008070837297923968), (3460, 0.008031287008647482), (4287, 0.008031122544265946), (3175, 0.008014846460785558), (340, 0.007998000300012135), (2209, 0.007989077965671757), (3008, 0.007982612396129355), (1064, 0.007974237528988692), (2750, 0.00794249931157474), (4535, 0.007900676524484366), (1024, 0.007893944846745979), (1811, 0.007877438689683032), (3625, 0.007865781333527617), (1817, 0.00785115597044579), (629, 0.007837371982289376), (1226, 0.007836517973259266), (3709, 0.007820563893989886), (1404, 0.007811882636799724), (3512, 0.007796308452976017), (3358, 0.0077528474985428825), (3645, 0.007750713152447218), (3091, 0.0077396889180238945), (4223, 0.007731036278397023), (3143, 0.0077259186771028955), (4382, 0.007711745531370437), (3425, 0.007697332413186827), (3205, 0.007652618746495612), (3553, 0.007637041822814127), (2677, 0.007614772923746273), (3032, 0.007607838794526037), (2016, 0.007586307885997664), (2184, 0.007580406681368647), (1666, 0.007554944097668758), (3275, 0.007468950421753616), (4326, 0.007448857405676845), (4084, 0.007370796931527163), (4482, 0.007317965017202549), (1456, 0.007233233635712512), (4174, 0.007216126336691329), (4752, 0.007165435783970404), (3974, 0.007161196170579993), (1304, 0.007106555149192476), (1047, 0.007077162390692758), (3615, 0.00702022401086772), (4798, 0.006910243304119014), (1046, 0.006814176351391362), (1008, 0.006812721780422651), (1480, 0.006470516773525388), (409, 0.0061715734273922), (2, 0.0), (6, 0.0), (7, 0.0), (11, 0.0), (15, 0.0), (16, 0.0), (17, 0.0), (20, 0.0), (21, 0.0), (25, 0.0), (26, 0.0), (27, 0.0), (28, 0.0), (29, 0.0), (33, 0.0), (34, 0.0), (35, 0.0), (38, 0.0), (44, 0.0), (45, 0.0), (47, 0.0), (48, 0.0), (51, 0.0), (52, 0.0), (55, 0.0), (56, 0.0), (60, 0.0), (62, 0.0), (67, 0.0), (68, 0.0), (70, 0.0), (71, 0.0), (74, 0.0), (76, 0.0), (78, 0.0), (82, 0.0), (84, 0.0), (85, 0.0), (87, 0.0), (91, 0.0), (94, 0.0), (97, 0.0), (102, 0.0), (104, 0.0), (107, 0.0), (109, 0.0), (110, 0.0), (111, 0.0), (112, 0.0), (118, 0.0), (127, 0.0), (128, 0.0), (130, 0.0), (134, 0.0), (136, 0.0), (138, 0.0), (139, 0.0), (141, 0.0), (142, 0.0), (143, 0.0), (144, 0.0), (145, 0.0), (146, 0.0), (147, 0.0), (151, 0.0), (153, 0.0), (155, 0.0), (157, 0.0), (158, 0.0), (161, 0.0), (166, 0.0), (167, 0.0), (169, 0.0), (173, 0.0), (174, 0.0), (179, 0.0), (180, 0.0), (185, 0.0), (187, 0.0), (188, 0.0), (192, 0.0), (193, 0.0), (194, 0.0), (202, 0.0), (203, 0.0), (209, 0.0), (214, 0.0), (218, 0.0), (221, 0.0), (222, 0.0), (225, 0.0), (227, 0.0), (228, 0.0), (229, 0.0), (230, 0.0), (231, 0.0), (232, 0.0), (233, 0.0), (236, 0.0), (237, 0.0), (240, 0.0), (243, 0.0), (244, 0.0), (246, 0.0), (249, 0.0), (253, 0.0), (254, 0.0), (255, 0.0), (260, 0.0), (261, 0.0), (263, 0.0), (264, 0.0), (266, 0.0), (274, 0.0), (277, 0.0), (282, 0.0), (283, 0.0), (286, 0.0), (288, 0.0), (289, 0.0), (294, 0.0), (300, 0.0), (301, 0.0), (302, 0.0), (304, 0.0), (307, 0.0), (311, 0.0), (312, 0.0), (313, 0.0), (317, 0.0), (319, 0.0), (320, 0.0), (325, 0.0), (333, 0.0), (335, 0.0), (337, 0.0), (338, 0.0), (344, 0.0), (347, 0.0), (348, 0.0), (349, 0.0), (355, 0.0), (359, 0.0), (360, 0.0), (362, 0.0), (363, 0.0), (365, 0.0), (368, 0.0), (374, 0.0), (375, 0.0), (376, 0.0), (378, 0.0), (382, 0.0), (383, 0.0), (385, 0.0), (386, 0.0), (390, 0.0), (392, 0.0), (394, 0.0), (397, 0.0), (399, 0.0), (401, 0.0), (404, 0.0), (418, 0.0), (424, 0.0), (427, 0.0), (430, 0.0), (432, 0.0), (436, 0.0), (439, 0.0), (445, 0.0), (449, 0.0), (455, 0.0), (458, 0.0), (459, 0.0), (460, 0.0), (461, 0.0), (462, 0.0), (464, 0.0), (465, 0.0), (466, 0.0), (467, 0.0), (469, 0.0), (474, 0.0), (477, 0.0), (478, 0.0), (482, 0.0), (487, 0.0), (490, 0.0), (491, 0.0), (492, 0.0), (496, 0.0), (498, 0.0), (502, 0.0), (504, 0.0), (507, 0.0), (508, 0.0), (509, 0.0), (511, 0.0), (512, 0.0), (514, 0.0), (519, 0.0), (520, 0.0), (521, 0.0), (522, 0.0), (523, 0.0), (526, 0.0), (529, 0.0), (530, 0.0), (532, 0.0), (533, 0.0), (536, 0.0), (538, 0.0), (540, 0.0), (541, 0.0), (545, 0.0), (550, 0.0), (551, 0.0), (552, 0.0), (561, 0.0), (562, 0.0), (564, 0.0), (568, 0.0), (569, 0.0), (570, 0.0), (573, 0.0), (579, 0.0), (580, 0.0), (590, 0.0), (593, 0.0), (594, 0.0), (595, 0.0), (596, 0.0), (598, 0.0), (599, 0.0), (601, 0.0), (602, 0.0), (604, 0.0), (607, 0.0), (609, 0.0), (610, 0.0), (611, 0.0), (616, 0.0), (619, 0.0), (621, 0.0), (622, 0.0), (623, 0.0), (625, 0.0), (628, 0.0), (632, 0.0), (635, 0.0), (637, 0.0), (639, 0.0), (640, 0.0), (641, 0.0), (645, 0.0), (648, 0.0), (649, 0.0), (650, 0.0), (651, 0.0), (653, 0.0), (654, 0.0), (655, 0.0), (657, 0.0), (660, 0.0), (664, 0.0), (668, 0.0), (670, 0.0), (671, 0.0), (674, 0.0), (682, 0.0), (683, 0.0), (685, 0.0), (686, 0.0), (687, 0.0), (688, 0.0), (698, 0.0), (699, 0.0), (700, 0.0), (701, 0.0), (703, 0.0), (704, 0.0), (705, 0.0), (707, 0.0), (709, 0.0), (712, 0.0), (713, 0.0), (724, 0.0), (725, 0.0), (727, 0.0), (729, 0.0), (733, 0.0), (734, 0.0), (735, 0.0), (737, 0.0), (738, 0.0), (742, 0.0), (744, 0.0), (745, 0.0), (749, 0.0), (751, 0.0), (765, 0.0), (769, 0.0), (770, 0.0), (773, 0.0), (777, 0.0), (778, 0.0), (780, 0.0), (783, 0.0), (786, 0.0), (787, 0.0), (789, 0.0), (793, 0.0), (796, 0.0), (798, 0.0), (800, 0.0), (801, 0.0), (802, 0.0), (803, 0.0), (806, 0.0), (808, 0.0), (816, 0.0), (817, 0.0), (818, 0.0), (819, 0.0), (823, 0.0), (824, 0.0), (829, 0.0), (834, 0.0), (835, 0.0), (837, 0.0), (838, 0.0), (843, 0.0), (844, 0.0), (845, 0.0), (848, 0.0), (850, 0.0), (851, 0.0), (853, 0.0), (855, 0.0), (859, 0.0), (860, 0.0), (861, 0.0), (863, 0.0), (868, 0.0), (872, 0.0), (876, 0.0), (878, 0.0), (883, 0.0), (885, 0.0), (887, 0.0), (888, 0.0), (889, 0.0), (890, 0.0), (891, 0.0), (894, 0.0), (895, 0.0), (899, 0.0), (900, 0.0), (902, 0.0), (906, 0.0), (907, 0.0), (908, 0.0), (909, 0.0), (912, 0.0), (913, 0.0), (916, 0.0), (919, 0.0), (921, 0.0), (924, 0.0), (925, 0.0), (926, 0.0), (927, 0.0), (932, 0.0), (940, 0.0), (945, 0.0), (951, 0.0), (952, 0.0), (953, 0.0), (954, 0.0), (956, 0.0), (957, 0.0), (960, 0.0), (961, 0.0), (965, 0.0), (966, 0.0), (972, 0.0), (973, 0.0), (975, 0.0), (976, 0.0), (984, 0.0), (985, 0.0), (986, 0.0), (989, 0.0), (991, 0.0), (997, 0.0), (1004, 0.0), (1005, 0.0), (1007, 0.0), (1011, 0.0), (1012, 0.0), (1014, 0.0), (1019, 0.0), (1021, 0.0), (1023, 0.0), (1028, 0.0), (1032, 0.0), (1037, 0.0), (1039, 0.0), (1044, 0.0), (1051, 0.0), (1053, 0.0), (1054, 0.0), (1056, 0.0), (1060, 0.0), (1061, 0.0), (1062, 0.0), (1065, 0.0), (1066, 0.0), (1067, 0.0), (1068, 0.0), (1069, 0.0), (1070, 0.0), (1071, 0.0), (1072, 0.0), (1074, 0.0), (1077, 0.0), (1079, 0.0), (1083, 0.0), (1088, 0.0), (1090, 0.0), (1093, 0.0), (1099, 0.0), (1101, 0.0), (1104, 0.0), (1106, 0.0), (1107, 0.0), (1109, 0.0), (1114, 0.0), (1116, 0.0), (1117, 0.0), (1123, 0.0), (1126, 0.0), (1128, 0.0), (1130, 0.0), (1136, 0.0), (1137, 0.0), (1138, 0.0), (1140, 0.0), (1142, 0.0), (1143, 0.0), (1145, 0.0), (1146, 0.0), (1149, 0.0), (1155, 0.0), (1157, 0.0), (1158, 0.0), (1161, 0.0), (1164, 0.0), (1167, 0.0), (1168, 0.0), (1169, 0.0), (1171, 0.0), (1173, 0.0), (1175, 0.0), (1178, 0.0), (1182, 0.0), (1185, 0.0), (1188, 0.0), (1189, 0.0), (1193, 0.0), (1195, 0.0), (1198, 0.0), (1199, 0.0), (1200, 0.0), (1205, 0.0), (1208, 0.0), (1210, 0.0), (1211, 0.0), (1218, 0.0), (1219, 0.0), (1221, 0.0), (1224, 0.0), (1229, 0.0), (1231, 0.0), (1232, 0.0), (1235, 0.0), (1242, 0.0), (1248, 0.0), (1249, 0.0), (1251, 0.0), (1252, 0.0), (1254, 0.0), (1258, 0.0), (1261, 0.0), (1262, 0.0), (1267, 0.0), (1268, 0.0), (1273, 0.0), (1283, 0.0), (1284, 0.0), (1285, 0.0), (1287, 0.0), (1288, 0.0), (1290, 0.0), (1291, 0.0), (1295, 0.0), (1297, 0.0), (1298, 0.0), (1302, 0.0), (1307, 0.0), (1308, 0.0), (1310, 0.0), (1314, 0.0), (1315, 0.0), (1317, 0.0), (1319, 0.0), (1321, 0.0), (1323, 0.0), (1325, 0.0), (1326, 0.0), (1327, 0.0), (1329, 0.0), (1330, 0.0), (1332, 0.0), (1333, 0.0), (1340, 0.0), (1344, 0.0), (1345, 0.0), (1347, 0.0), (1353, 0.0), (1354, 0.0), (1355, 0.0), (1356, 0.0), (1357, 0.0), (1360, 0.0), (1361, 0.0), (1364, 0.0), (1365, 0.0), (1366, 0.0), (1367, 0.0), (1371, 0.0), (1376, 0.0), (1378, 0.0), (1381, 0.0), (1383, 0.0), (1385, 0.0), (1386, 0.0), (1387, 0.0), (1388, 0.0), (1389, 0.0), (1391, 0.0), (1393, 0.0), (1395, 0.0), (1396, 0.0), (1398, 0.0), (1399, 0.0), (1401, 0.0), (1402, 0.0), (1405, 0.0), (1414, 0.0), (1415, 0.0), (1416, 0.0), (1424, 0.0), (1426, 0.0), (1436, 0.0), (1437, 0.0), (1440, 0.0), (1441, 0.0), (1444, 0.0), (1446, 0.0), (1447, 0.0), (1448, 0.0), (1450, 0.0), (1452, 0.0), (1454, 0.0), (1455, 0.0), (1460, 0.0), (1462, 0.0), (1463, 0.0), (1464, 0.0), (1465, 0.0), (1471, 0.0), (1475, 0.0), (1476, 0.0), (1483, 0.0), (1485, 0.0), (1487, 0.0), (1489, 0.0), (1491, 0.0), (1493, 0.0), (1494, 0.0), (1496, 0.0), (1501, 0.0), (1509, 0.0), (1510, 0.0), (1511, 0.0), (1520, 0.0), (1521, 0.0), (1522, 0.0), (1526, 0.0), (1528, 0.0), (1530, 0.0), (1532, 0.0), (1534, 0.0), (1536, 0.0), (1537, 0.0), (1539, 0.0), (1540, 0.0), (1541, 0.0), (1542, 0.0), (1543, 0.0), (1544, 0.0), (1549, 0.0), (1554, 0.0), (1555, 0.0), (1557, 0.0), (1559, 0.0), (1567, 0.0), (1568, 0.0), (1573, 0.0), (1580, 0.0), (1582, 0.0), (1584, 0.0), (1586, 0.0), (1587, 0.0), (1590, 0.0), (1593, 0.0), (1600, 0.0), (1601, 0.0), (1602, 0.0), (1604, 0.0), (1610, 0.0), (1613, 0.0), (1614, 0.0), (1616, 0.0), (1617, 0.0), (1620, 0.0), (1621, 0.0), (1623, 0.0), (1628, 0.0), (1633, 0.0), (1634, 0.0), (1636, 0.0), (1638, 0.0), (1640, 0.0), (1641, 0.0), (1642, 0.0), (1645, 0.0), (1646, 0.0), (1648, 0.0), (1649, 0.0), (1650, 0.0), (1651, 0.0), (1654, 0.0), (1662, 0.0), (1663, 0.0), (1665, 0.0), (1667, 0.0), (1673, 0.0), (1677, 0.0), (1678, 0.0), (1679, 0.0), (1683, 0.0), (1684, 0.0), (1690, 0.0), (1691, 0.0), (1694, 0.0), (1695, 0.0), (1696, 0.0), (1697, 0.0), (1698, 0.0), (1700, 0.0), (1701, 0.0), (1702, 0.0), (1703, 0.0), (1704, 0.0), (1709, 0.0), (1710, 0.0), (1711, 0.0), (1713, 0.0), (1714, 0.0), (1715, 0.0), (1716, 0.0), (1718, 0.0), (1719, 0.0), (1723, 0.0), (1724, 0.0), (1725, 0.0), (1726, 0.0), (1727, 0.0), (1729, 0.0), (1730, 0.0), (1733, 0.0), (1734, 0.0), (1738, 0.0), (1741, 0.0), (1743, 0.0), (1750, 0.0), (1751, 0.0), (1752, 0.0), (1753, 0.0), (1754, 0.0), (1755, 0.0), (1756, 0.0), (1760, 0.0), (1766, 0.0), (1769, 0.0), (1772, 0.0), (1773, 0.0), (1774, 0.0), (1776, 0.0), (1777, 0.0), (1784, 0.0), (1786, 0.0), (1790, 0.0), (1797, 0.0), (1798, 0.0), (1801, 0.0), (1808, 0.0), (1809, 0.0), (1810, 0.0), (1815, 0.0), (1816, 0.0), (1823, 0.0), (1825, 0.0), (1831, 0.0), (1833, 0.0), (1835, 0.0), (1836, 0.0), (1840, 0.0), (1841, 0.0), (1844, 0.0), (1854, 0.0), (1855, 0.0), (1856, 0.0), (1857, 0.0), (1862, 0.0), (1864, 0.0), (1866, 0.0), (1867, 0.0), (1871, 0.0), (1872, 0.0), (1875, 0.0), (1876, 0.0), (1877, 0.0), (1880, 0.0), (1885, 0.0), (1887, 0.0), (1888, 0.0), (1891, 0.0), (1895, 0.0), (1898, 0.0), (1899, 0.0), (1901, 0.0), (1903, 0.0), (1906, 0.0), (1908, 0.0), (1911, 0.0), (1917, 0.0), (1919, 0.0), (1920, 0.0), (1921, 0.0), (1922, 0.0), (1923, 0.0), (1928, 0.0), (1933, 0.0), (1934, 0.0), (1937, 0.0), (1938, 0.0), (1940, 0.0), (1941, 0.0), (1947, 0.0), (1948, 0.0), (1949, 0.0), (1950, 0.0), (1951, 0.0), (1953, 0.0), (1956, 0.0), (1958, 0.0), (1961, 0.0), (1962, 0.0), (1965, 0.0), (1968, 0.0), (1972, 0.0), (1975, 0.0), (1979, 0.0), (1985, 0.0), (1988, 0.0), (1990, 0.0), (1994, 0.0), (1997, 0.0), (1998, 0.0), (2000, 0.0), (2001, 0.0), (2005, 0.0), (2006, 0.0), (2009, 0.0), (2010, 0.0), (2011, 0.0), (2012, 0.0), (2013, 0.0), (2023, 0.0), (2028, 0.0), (2030, 0.0), (2031, 0.0), (2032, 0.0), (2039, 0.0), (2040, 0.0), (2041, 0.0), (2044, 0.0), (2045, 0.0), (2050, 0.0), (2051, 0.0), (2053, 0.0), (2058, 0.0), (2059, 0.0), (2063, 0.0), (2064, 0.0), (2065, 0.0), (2067, 0.0), (2073, 0.0), (2075, 0.0), (2076, 0.0), (2077, 0.0), (2079, 0.0), (2083, 0.0), (2084, 0.0), (2087, 0.0), (2088, 0.0), (2089, 0.0), (2093, 0.0), (2095, 0.0), (2097, 0.0), (2101, 0.0), (2103, 0.0), (2106, 0.0), (2107, 0.0), (2109, 0.0), (2110, 0.0), (2112, 0.0), (2117, 0.0), (2118, 0.0), (2119, 0.0), (2121, 0.0), (2122, 0.0), (2125, 0.0), (2128, 0.0), (2129, 0.0), (2132, 0.0), (2134, 0.0), (2135, 0.0), (2137, 0.0), (2139, 0.0), (2143, 0.0), (2144, 0.0), (2146, 0.0), (2152, 0.0), (2162, 0.0), (2164, 0.0), (2172, 0.0), (2173, 0.0), (2174, 0.0), (2180, 0.0), (2181, 0.0), (2183, 0.0), (2188, 0.0), (2190, 0.0), (2194, 0.0), (2198, 0.0), (2200, 0.0), (2201, 0.0), (2203, 0.0), (2207, 0.0), (2208, 0.0), (2211, 0.0), (2213, 0.0), (2217, 0.0), (2219, 0.0), (2224, 0.0), (2226, 0.0), (2227, 0.0), (2232, 0.0), (2235, 0.0), (2236, 0.0), (2241, 0.0), (2243, 0.0), (2246, 0.0), (2248, 0.0), (2252, 0.0), (2253, 0.0), (2254, 0.0), (2256, 0.0), (2257, 0.0), (2259, 0.0), (2264, 0.0), (2266, 0.0), (2267, 0.0), (2270, 0.0), (2271, 0.0), (2272, 0.0), (2273, 0.0), (2274, 0.0), (2278, 0.0), (2279, 0.0), (2286, 0.0), (2287, 0.0), (2292, 0.0), (2293, 0.0), (2295, 0.0), (2297, 0.0), (2298, 0.0), (2299, 0.0), (2309, 0.0), (2312, 0.0), (2315, 0.0), (2316, 0.0), (2319, 0.0), (2325, 0.0), (2327, 0.0), (2330, 0.0), (2332, 0.0), (2337, 0.0), (2344, 0.0), (2347, 0.0), (2350, 0.0), (2352, 0.0), (2353, 0.0), (2356, 0.0), (2358, 0.0), (2359, 0.0), (2367, 0.0), (2369, 0.0), (2370, 0.0), (2373, 0.0), (2374, 0.0), (2379, 0.0), (2380, 0.0), (2382, 0.0), (2385, 0.0), (2386, 0.0), (2396, 0.0), (2401, 0.0), (2402, 0.0), (2404, 0.0), (2406, 0.0), (2409, 0.0), (2410, 0.0), (2411, 0.0), (2413, 0.0), (2414, 0.0), (2418, 0.0), (2419, 0.0), (2421, 0.0), (2422, 0.0), (2432, 0.0), (2434, 0.0), (2436, 0.0), (2442, 0.0), (2443, 0.0), (2447, 0.0), (2451, 0.0), (2453, 0.0), (2457, 0.0), (2458, 0.0), (2459, 0.0), (2460, 0.0), (2464, 0.0), (2469, 0.0), (2472, 0.0), (2475, 0.0), (2476, 0.0), (2477, 0.0), (2479, 0.0), (2481, 0.0), (2485, 0.0), (2486, 0.0), (2490, 0.0), (2493, 0.0), (2494, 0.0), (2497, 0.0), (2498, 0.0), (2500, 0.0), (2501, 0.0), (2503, 0.0), (2505, 0.0), (2508, 0.0), (2509, 0.0), (2510, 0.0), (2512, 0.0), (2515, 0.0), (2516, 0.0), (2517, 0.0), (2518, 0.0), (2519, 0.0), (2521, 0.0), (2523, 0.0), (2526, 0.0), (2528, 0.0), (2533, 0.0), (2535, 0.0), (2537, 0.0), (2540, 0.0), (2541, 0.0), (2547, 0.0), (2548, 0.0), (2551, 0.0), (2552, 0.0), (2558, 0.0), (2559, 0.0), (2565, 0.0), (2566, 0.0), (2570, 0.0), (2574, 0.0), (2576, 0.0), (2588, 0.0), (2589, 0.0), (2590, 0.0), (2594, 0.0), (2595, 0.0), (2599, 0.0), (2600, 0.0), (2601, 0.0), (2602, 0.0), (2605, 0.0), (2607, 0.0), (2608, 0.0), (2610, 0.0), (2616, 0.0), (2617, 0.0), (2618, 0.0), (2620, 0.0), (2626, 0.0), (2629, 0.0), (2630, 0.0), (2634, 0.0), (2636, 0.0), (2637, 0.0), (2641, 0.0), (2643, 0.0), (2644, 0.0), (2646, 0.0), (2648, 0.0), (2649, 0.0), (2650, 0.0), (2652, 0.0), (2653, 0.0), (2654, 0.0), (2656, 0.0), (2658, 0.0), (2662, 0.0), (2663, 0.0), (2664, 0.0), (2665, 0.0), (2666, 0.0), (2668, 0.0), (2669, 0.0), (2670, 0.0), (2671, 0.0), (2672, 0.0), (2673, 0.0), (2678, 0.0), (2679, 0.0), (2680, 0.0), (2681, 0.0), (2682, 0.0), (2683, 0.0), (2684, 0.0), (2686, 0.0), (2688, 0.0), (2689, 0.0), (2690, 0.0), (2691, 0.0), (2694, 0.0), (2696, 0.0), (2697, 0.0), (2698, 0.0), (2699, 0.0), (2701, 0.0), (2704, 0.0), (2705, 0.0), (2706, 0.0), (2707, 0.0), (2709, 0.0), (2710, 0.0), (2711, 0.0), (2712, 0.0), (2714, 0.0), (2716, 0.0), (2717, 0.0), (2718, 0.0), (2720, 0.0), (2722, 0.0), (2723, 0.0), (2724, 0.0), (2725, 0.0), (2728, 0.0), (2733, 0.0), (2735, 0.0), (2737, 0.0), (2743, 0.0), (2744, 0.0), (2745, 0.0), (2748, 0.0), (2751, 0.0), (2754, 0.0), (2758, 0.0), (2760, 0.0), (2764, 0.0), (2766, 0.0), (2768, 0.0), (2770, 0.0), (2772, 0.0), (2775, 0.0), (2776, 0.0), (2779, 0.0), (2781, 0.0), (2782, 0.0), (2784, 0.0), (2785, 0.0), (2786, 0.0), (2787, 0.0), (2795, 0.0), (2802, 0.0), (2803, 0.0), (2806, 0.0), (2810, 0.0), (2811, 0.0), (2817, 0.0), (2819, 0.0), (2821, 0.0), (2825, 0.0), (2827, 0.0), (2828, 0.0), (2834, 0.0), (2838, 0.0), (2840, 0.0), (2841, 0.0), (2842, 0.0), (2843, 0.0), (2844, 0.0), (2845, 0.0), (2847, 0.0), (2850, 0.0), (2852, 0.0), (2853, 0.0), (2854, 0.0), (2855, 0.0), (2856, 0.0), (2857, 0.0), (2863, 0.0), (2866, 0.0), (2867, 0.0), (2868, 0.0), (2870, 0.0), (2871, 0.0), (2872, 0.0), (2873, 0.0), (2876, 0.0), (2877, 0.0), (2880, 0.0), (2881, 0.0), (2882, 0.0), (2883, 0.0), (2886, 0.0), (2890, 0.0), (2893, 0.0), (2895, 0.0), (2896, 0.0), (2898, 0.0), (2900, 0.0), (2903, 0.0), (2905, 0.0), (2908, 0.0), (2910, 0.0), (2913, 0.0), (2916, 0.0), (2917, 0.0), (2918, 0.0), (2920, 0.0), (2921, 0.0), (2923, 0.0), (2924, 0.0), (2925, 0.0), (2926, 0.0), (2928, 0.0), (2930, 0.0), (2932, 0.0), (2933, 0.0), (2934, 0.0), (2935, 0.0), (2936, 0.0), (2937, 0.0), (2938, 0.0), (2941, 0.0), (2942, 0.0), (2943, 0.0), (2945, 0.0), (2951, 0.0), (2952, 0.0), (2954, 0.0), (2955, 0.0), (2956, 0.0), (2957, 0.0), (2958, 0.0), (2960, 0.0), (2962, 0.0), (2963, 0.0), (2966, 0.0), (2967, 0.0), (2968, 0.0), (2969, 0.0), (2970, 0.0), (2972, 0.0), (2973, 0.0), (2974, 0.0), (2976, 0.0), (2980, 0.0), (2981, 0.0), (2984, 0.0), (2987, 0.0), (2988, 0.0), (2989, 0.0), (2992, 0.0), (2995, 0.0), (2996, 0.0), (2997, 0.0), (3002, 0.0), (3005, 0.0), (3007, 0.0), (3013, 0.0), (3015, 0.0), (3021, 0.0), (3022, 0.0), (3023, 0.0), (3024, 0.0), (3025, 0.0), (3026, 0.0), (3027, 0.0), (3028, 0.0), (3029, 0.0), (3034, 0.0), (3035, 0.0), (3036, 0.0), (3037, 0.0), (3038, 0.0), (3039, 0.0), (3041, 0.0), (3042, 0.0), (3045, 0.0), (3054, 0.0), (3057, 0.0), (3058, 0.0), (3059, 0.0), (3060, 0.0), (3061, 0.0), (3064, 0.0), (3065, 0.0), (3067, 0.0), (3069, 0.0), (3070, 0.0), (3071, 0.0), (3077, 0.0), (3078, 0.0), (3079, 0.0), (3081, 0.0), (3082, 0.0), (3084, 0.0), (3085, 0.0), (3087, 0.0), (3089, 0.0), (3090, 0.0), (3096, 0.0), (3098, 0.0), (3099, 0.0), (3100, 0.0), (3102, 0.0), (3103, 0.0), (3104, 0.0), (3105, 0.0), (3107, 0.0), (3109, 0.0), (3110, 0.0), (3113, 0.0), (3114, 0.0), (3115, 0.0), (3116, 0.0), (3117, 0.0), (3118, 0.0), (3119, 0.0), (3121, 0.0), (3122, 0.0), (3126, 0.0), (3128, 0.0), (3129, 0.0), (3130, 0.0), (3131, 0.0), (3133, 0.0), (3134, 0.0), (3135, 0.0), (3136, 0.0), (3137, 0.0), (3139, 0.0), (3140, 0.0), (3144, 0.0), (3145, 0.0), (3149, 0.0), (3150, 0.0), (3152, 0.0), (3153, 0.0), (3154, 0.0), (3155, 0.0), (3156, 0.0), (3159, 0.0), (3162, 0.0), (3163, 0.0), (3164, 0.0), (3166, 0.0), (3167, 0.0), (3171, 0.0), (3174, 0.0), (3178, 0.0), (3182, 0.0), (3183, 0.0), (3185, 0.0), (3187, 0.0), (3188, 0.0), (3190, 0.0), (3191, 0.0), (3193, 0.0), (3194, 0.0), (3196, 0.0), (3198, 0.0), (3200, 0.0), (3204, 0.0), (3206, 0.0), (3210, 0.0), (3212, 0.0), (3213, 0.0), (3215, 0.0), (3216, 0.0), (3217, 0.0), (3219, 0.0), (3221, 0.0), (3222, 0.0), (3223, 0.0), (3225, 0.0), (3226, 0.0), (3228, 0.0), (3230, 0.0), (3231, 0.0), (3233, 0.0), (3235, 0.0), (3240, 0.0), (3248, 0.0), (3249, 0.0), (3251, 0.0), (3255, 0.0), (3257, 0.0), (3258, 0.0), (3259, 0.0), (3260, 0.0), (3261, 0.0), (3262, 0.0), (3263, 0.0), (3264, 0.0), (3265, 0.0), (3268, 0.0), (3269, 0.0), (3271, 0.0), (3272, 0.0), (3274, 0.0), (3278, 0.0), (3280, 0.0), (3282, 0.0), (3283, 0.0), (3284, 0.0), (3288, 0.0), (3289, 0.0), (3292, 0.0), (3295, 0.0), (3298, 0.0), (3299, 0.0), (3300, 0.0), (3304, 0.0), (3307, 0.0), (3310, 0.0), (3311, 0.0), (3312, 0.0), (3314, 0.0), (3317, 0.0), (3319, 0.0), (3324, 0.0), (3327, 0.0), (3328, 0.0), (3331, 0.0), (3335, 0.0), (3336, 0.0), (3340, 0.0), (3341, 0.0), (3342, 0.0), (3343, 0.0), (3344, 0.0), (3353, 0.0), (3356, 0.0), (3357, 0.0), (3359, 0.0), (3360, 0.0), (3363, 0.0), (3365, 0.0), (3366, 0.0), (3367, 0.0), (3368, 0.0), (3369, 0.0), (3373, 0.0), (3377, 0.0), (3378, 0.0), (3380, 0.0), (3382, 0.0), (3384, 0.0), (3388, 0.0), (3392, 0.0), (3393, 0.0), (3395, 0.0), (3396, 0.0), (3398, 0.0), (3399, 0.0), (3403, 0.0), (3407, 0.0), (3408, 0.0), (3410, 0.0), (3411, 0.0), (3412, 0.0), (3415, 0.0), (3419, 0.0), (3422, 0.0), (3426, 0.0), (3429, 0.0), (3430, 0.0), (3431, 0.0), (3432, 0.0), (3435, 0.0), (3436, 0.0), (3437, 0.0), (3438, 0.0), (3443, 0.0), (3445, 0.0), (3447, 0.0), (3448, 0.0), (3452, 0.0), (3453, 0.0), (3456, 0.0), (3457, 0.0), (3461, 0.0), (3468, 0.0), (3469, 0.0), (3471, 0.0), (3476, 0.0), (3478, 0.0), (3482, 0.0), (3484, 0.0), (3485, 0.0), (3487, 0.0), (3491, 0.0), (3492, 0.0), (3493, 0.0), (3496, 0.0), (3497, 0.0), (3498, 0.0), (3500, 0.0), (3502, 0.0), (3505, 0.0), (3509, 0.0), (3513, 0.0), (3514, 0.0), (3516, 0.0), (3517, 0.0), (3519, 0.0), (3521, 0.0), (3522, 0.0), (3523, 0.0), (3524, 0.0), (3525, 0.0), (3530, 0.0), (3534, 0.0), (3535, 0.0), (3536, 0.0), (3539, 0.0), (3540, 0.0), (3542, 0.0), (3543, 0.0), (3545, 0.0), (3547, 0.0), (3548, 0.0), (3551, 0.0), (3555, 0.0), (3557, 0.0), (3560, 0.0), (3565, 0.0), (3568, 0.0), (3569, 0.0), (3570, 0.0), (3572, 0.0), (3573, 0.0), (3575, 0.0), (3577, 0.0), (3578, 0.0), (3580, 0.0), (3581, 0.0), (3582, 0.0), (3583, 0.0), (3584, 0.0), (3585, 0.0), (3587, 0.0), (3588, 0.0), (3589, 0.0), (3590, 0.0), (3594, 0.0), (3598, 0.0), (3601, 0.0), (3605, 0.0), (3606, 0.0), (3609, 0.0), (3610, 0.0), (3612, 0.0), (3614, 0.0), (3617, 0.0), (3618, 0.0), (3621, 0.0), (3629, 0.0), (3632, 0.0), (3633, 0.0), (3638, 0.0), (3639, 0.0), (3641, 0.0), (3642, 0.0), (3646, 0.0), (3649, 0.0), (3650, 0.0), (3654, 0.0), (3655, 0.0), (3656, 0.0), (3657, 0.0), (3663, 0.0), (3666, 0.0), (3670, 0.0), (3673, 0.0), (3674, 0.0), (3675, 0.0), (3676, 0.0), (3677, 0.0), (3681, 0.0), (3686, 0.0), (3687, 0.0), (3689, 0.0), (3690, 0.0), (3692, 0.0), (3693, 0.0), (3696, 0.0), (3697, 0.0), (3702, 0.0), (3705, 0.0), (3707, 0.0), (3708, 0.0), (3712, 0.0), (3713, 0.0), (3715, 0.0), (3718, 0.0), (3720, 0.0), (3721, 0.0), (3722, 0.0), (3723, 0.0), (3724, 0.0), (3725, 0.0), (3727, 0.0), (3728, 0.0), (3729, 0.0), (3731, 0.0), (3732, 0.0), (3736, 0.0), (3738, 0.0), (3740, 0.0), (3742, 0.0), (3745, 0.0), (3746, 0.0), (3749, 0.0), (3751, 0.0), (3752, 0.0), (3759, 0.0), (3760, 0.0), (3761, 0.0), (3763, 0.0), (3768, 0.0), (3773, 0.0), (3781, 0.0), (3783, 0.0), (3787, 0.0), (3788, 0.0), (3790, 0.0), (3792, 0.0), (3793, 0.0), (3794, 0.0), (3795, 0.0), (3799, 0.0), (3801, 0.0), (3803, 0.0), (3804, 0.0), (3805, 0.0), (3806, 0.0), (3807, 0.0), (3809, 0.0), (3810, 0.0), (3811, 0.0), (3813, 0.0), (3814, 0.0), (3816, 0.0), (3818, 0.0), (3819, 0.0), (3820, 0.0), (3822, 0.0), (3824, 0.0), (3825, 0.0), (3826, 0.0), (3827, 0.0), (3830, 0.0), (3835, 0.0), (3838, 0.0), (3842, 0.0), (3843, 0.0), (3844, 0.0), (3846, 0.0), (3852, 0.0), (3853, 0.0), (3856, 0.0), (3857, 0.0), (3862, 0.0), (3863, 0.0), (3867, 0.0), (3870, 0.0), (3871, 0.0), (3875, 0.0), (3876, 0.0), (3877, 0.0), (3880, 0.0), (3881, 0.0), (3882, 0.0), (3884, 0.0), (3886, 0.0), (3892, 0.0), (3894, 0.0), (3902, 0.0), (3904, 0.0), (3909, 0.0), (3910, 0.0), (3911, 0.0), (3912, 0.0), (3913, 0.0), (3917, 0.0), (3920, 0.0), (3922, 0.0), (3923, 0.0), (3924, 0.0), (3926, 0.0), (3927, 0.0), (3930, 0.0), (3931, 0.0), (3933, 0.0), (3937, 0.0), (3938, 0.0), (3941, 0.0), (3942, 0.0), (3943, 0.0), (3945, 0.0), (3949, 0.0), (3950, 0.0), (3951, 0.0), (3952, 0.0), (3953, 0.0), (3955, 0.0), (3958, 0.0), (3960, 0.0), (3961, 0.0), (3962, 0.0), (3963, 0.0), (3964, 0.0), (3965, 0.0), (3967, 0.0), (3968, 0.0), (3969, 0.0), (3975, 0.0), (3977, 0.0), (3978, 0.0), (3980, 0.0), (3982, 0.0), (3985, 0.0), (3987, 0.0), (3989, 0.0), (3990, 0.0), (3992, 0.0), (3993, 0.0), (3994, 0.0), (3995, 0.0), (3996, 0.0), (3997, 0.0), (3999, 0.0), (4000, 0.0), (4001, 0.0), (4002, 0.0), (4004, 0.0), (4005, 0.0), (4006, 0.0), (4007, 0.0), (4016, 0.0), (4018, 0.0), (4021, 0.0), (4022, 0.0), (4023, 0.0), (4025, 0.0), (4026, 0.0), (4029, 0.0), (4031, 0.0), (4034, 0.0), (4035, 0.0), (4036, 0.0), (4040, 0.0), (4042, 0.0), (4043, 0.0), (4044, 0.0), (4046, 0.0), (4047, 0.0), (4054, 0.0), (4056, 0.0), (4057, 0.0), (4058, 0.0), (4059, 0.0), (4060, 0.0), (4061, 0.0), (4064, 0.0), (4066, 0.0), (4068, 0.0), (4069, 0.0), (4070, 0.0), (4072, 0.0), (4074, 0.0), (4075, 0.0), (4082, 0.0), (4083, 0.0), (4085, 0.0), (4086, 0.0), (4089, 0.0), (4091, 0.0), (4092, 0.0), (4093, 0.0), (4095, 0.0), (4096, 0.0), (4097, 0.0), (4101, 0.0), (4102, 0.0), (4103, 0.0), (4104, 0.0), (4107, 0.0), (4109, 0.0), (4111, 0.0), (4112, 0.0), (4113, 0.0), (4114, 0.0), (4115, 0.0), (4116, 0.0), (4118, 0.0), (4119, 0.0), (4120, 0.0), (4121, 0.0), (4122, 0.0), (4123, 0.0), (4124, 0.0), (4126, 0.0), (4128, 0.0), (4129, 0.0), (4130, 0.0), (4133, 0.0), (4136, 0.0), (4137, 0.0), (4138, 0.0), (4140, 0.0), (4141, 0.0), (4143, 0.0), (4147, 0.0), (4148, 0.0), (4154, 0.0), (4156, 0.0), (4157, 0.0), (4161, 0.0), (4162, 0.0), (4165, 0.0), (4166, 0.0), (4168, 0.0), (4169, 0.0), (4171, 0.0), (4173, 0.0), (4178, 0.0), (4179, 0.0), (4185, 0.0), (4186, 0.0), (4187, 0.0), (4188, 0.0), (4190, 0.0), (4192, 0.0), (4194, 0.0), (4196, 0.0), (4197, 0.0), (4198, 0.0), (4199, 0.0), (4206, 0.0), (4207, 0.0), (4208, 0.0), (4210, 0.0), (4212, 0.0), (4213, 0.0), (4215, 0.0), (4217, 0.0), (4218, 0.0), (4219, 0.0), (4220, 0.0), (4227, 0.0), (4229, 0.0), (4233, 0.0), (4234, 0.0), (4235, 0.0), (4236, 0.0), (4240, 0.0), (4242, 0.0), (4243, 0.0), (4244, 0.0), (4245, 0.0), (4247, 0.0), (4248, 0.0), (4250, 0.0), (4253, 0.0), (4254, 0.0), (4257, 0.0), (4258, 0.0), (4260, 0.0), (4262, 0.0), (4266, 0.0), (4268, 0.0), (4269, 0.0), (4270, 0.0), (4271, 0.0), (4274, 0.0), (4275, 0.0), (4277, 0.0), (4278, 0.0), (4280, 0.0), (4281, 0.0), (4282, 0.0), (4288, 0.0), (4289, 0.0), (4290, 0.0), (4293, 0.0), (4294, 0.0), (4296, 0.0), (4298, 0.0), (4299, 0.0), (4301, 0.0), (4303, 0.0), (4304, 0.0), (4305, 0.0), (4306, 0.0), (4307, 0.0), (4308, 0.0), (4309, 0.0), (4314, 0.0), (4315, 0.0), (4316, 0.0), (4318, 0.0), (4322, 0.0), (4323, 0.0), (4328, 0.0), (4332, 0.0), (4334, 0.0), (4335, 0.0), (4336, 0.0), (4338, 0.0), (4341, 0.0), (4342, 0.0), (4344, 0.0), (4346, 0.0), (4347, 0.0), (4349, 0.0), (4351, 0.0), (4354, 0.0), (4358, 0.0), (4359, 0.0), (4361, 0.0), (4362, 0.0), (4363, 0.0), (4364, 0.0), (4366, 0.0), (4369, 0.0), (4371, 0.0), (4374, 0.0), (4379, 0.0), (4384, 0.0), (4385, 0.0), (4387, 0.0), (4389, 0.0), (4394, 0.0), (4395, 0.0), (4396, 0.0), (4398, 0.0), (4400, 0.0), (4401, 0.0), (4402, 0.0), (4403, 0.0), (4405, 0.0), (4406, 0.0), (4407, 0.0), (4409, 0.0), (4410, 0.0), (4412, 0.0), (4413, 0.0), (4415, 0.0), (4416, 0.0), (4417, 0.0), (4418, 0.0), (4419, 0.0), (4420, 0.0), (4422, 0.0), (4423, 0.0), (4424, 0.0), (4425, 0.0), (4426, 0.0), (4429, 0.0), (4431, 0.0), (4433, 0.0), (4434, 0.0), (4435, 0.0), (4436, 0.0), (4437, 0.0), (4441, 0.0), (4443, 0.0), (4444, 0.0), (4445, 0.0), (4446, 0.0), (4450, 0.0), (4451, 0.0), (4452, 0.0), (4453, 0.0), (4455, 0.0), (4456, 0.0), (4457, 0.0), (4458, 0.0), (4459, 0.0), (4460, 0.0), (4461, 0.0), (4462, 0.0), (4463, 0.0), (4464, 0.0), (4465, 0.0), (4466, 0.0), (4468, 0.0), (4469, 0.0), (4471, 0.0), (4474, 0.0), (4476, 0.0), (4478, 0.0), (4479, 0.0), (4480, 0.0), (4483, 0.0), (4485, 0.0), (4487, 0.0), (4489, 0.0), (4490, 0.0), (4491, 0.0), (4492, 0.0), (4495, 0.0), (4497, 0.0), (4499, 0.0), (4500, 0.0), (4503, 0.0), (4504, 0.0), (4505, 0.0), (4508, 0.0), (4510, 0.0), (4511, 0.0), (4512, 0.0), (4513, 0.0), (4516, 0.0), (4517, 0.0), (4520, 0.0), (4521, 0.0), (4523, 0.0), (4530, 0.0), (4532, 0.0), (4533, 0.0), (4534, 0.0), (4536, 0.0), (4537, 0.0), (4538, 0.0), (4540, 0.0), (4541, 0.0), (4542, 0.0), (4544, 0.0), (4546, 0.0), (4547, 0.0), (4548, 0.0), (4549, 0.0), (4550, 0.0), (4551, 0.0), (4552, 0.0), (4553, 0.0), (4554, 0.0), (4557, 0.0), (4560, 0.0), (4561, 0.0), (4562, 0.0), (4563, 0.0), (4564, 0.0), (4565, 0.0), (4566, 0.0), (4567, 0.0), (4568, 0.0), (4570, 0.0), (4571, 0.0), (4573, 0.0), (4575, 0.0), (4578, 0.0), (4581, 0.0), (4582, 0.0), (4586, 0.0), (4587, 0.0), (4588, 0.0), (4589, 0.0), (4590, 0.0), (4591, 0.0), (4592, 0.0), (4593, 0.0), (4597, 0.0), (4598, 0.0), (4599, 0.0), (4603, 0.0), (4606, 0.0), (4607, 0.0), (4609, 0.0), (4611, 0.0), (4612, 0.0), (4614, 0.0), (4615, 0.0), (4616, 0.0), (4617, 0.0), (4618, 0.0), (4619, 0.0), (4620, 0.0), (4622, 0.0), (4623, 0.0), (4624, 0.0), (4627, 0.0), (4628, 0.0), (4629, 0.0), (4632, 0.0), (4633, 0.0), (4635, 0.0), (4636, 0.0), (4637, 0.0), (4638, 0.0), (4639, 0.0), (4640, 0.0), (4641, 0.0), (4644, 0.0), (4651, 0.0), (4652, 0.0), (4653, 0.0), (4654, 0.0), (4655, 0.0), (4657, 0.0), (4658, 0.0), (4659, 0.0), (4660, 0.0), (4661, 0.0), (4662, 0.0), (4663, 0.0), (4667, 0.0), (4668, 0.0), (4669, 0.0), (4671, 0.0), (4674, 0.0), (4676, 0.0), (4681, 0.0), (4682, 0.0), (4683, 0.0), (4684, 0.0), (4685, 0.0), (4686, 0.0), (4687, 0.0), (4689, 0.0), (4690, 0.0), (4691, 0.0), (4692, 0.0), (4693, 0.0), (4694, 0.0), (4695, 0.0), (4697, 0.0), (4698, 0.0), (4699, 0.0), (4700, 0.0), (4702, 0.0), (4703, 0.0), (4705, 0.0), (4706, 0.0), (4708, 0.0), (4709, 0.0), (4710, 0.0), (4711, 0.0), (4712, 0.0), (4713, 0.0), (4714, 0.0), (4715, 0.0), (4716, 0.0), (4719, 0.0), (4720, 0.0), (4721, 0.0), (4722, 0.0), (4723, 0.0), (4725, 0.0), (4729, 0.0), (4731, 0.0), (4734, 0.0), (4736, 0.0), (4737, 0.0), (4738, 0.0), (4741, 0.0), (4743, 0.0), (4745, 0.0), (4747, 0.0), (4748, 0.0), (4750, 0.0), (4751, 0.0), (4753, 0.0), (4754, 0.0), (4755, 0.0), (4756, 0.0), (4758, 0.0), (4761, 0.0), (4762, 0.0), (4764, 0.0), (4765, 0.0), (4766, 0.0), (4768, 0.0), (4769, 0.0), (4770, 0.0), (4771, 0.0), (4775, 0.0), (4777, 0.0), (4779, 0.0), (4781, 0.0), (4783, 0.0), (4784, 0.0), (4785, 0.0), (4786, 0.0), (4790, 0.0), (4794, 0.0), (4797, 0.0), (4800, 0.0), (4802, 0.0)]\n"
          ]
        }
      ]
    },
    {
      "cell_type": "code",
      "source": [
        "# print the name of similar movies based on the index\n",
        "\n",
        "print('Movies suggested for you : \\n')\n",
        "\n",
        "i = 1\n",
        "\n",
        "for movie in sorted_similar_movies:\n",
        "  index = movie[0]\n",
        "  title_from_index = movies_data[movies_data.index==index]['title'].values[0]\n",
        "  if (i<30):\n",
        "    print(i, '.',title_from_index)\n",
        "    i+=1"
      ],
      "metadata": {
        "colab": {
          "base_uri": "https://localhost:8080/"
        },
        "id": "Okj3wwj2-yi6",
        "outputId": "5f48bf6d-b66e-496b-fed0-17b62805d1fa"
      },
      "execution_count": 49,
      "outputs": [
        {
          "output_type": "stream",
          "name": "stdout",
          "text": [
            "Movies suggested for you : \n",
            "\n",
            "1 . Batman\n",
            "2 . Batman Returns\n",
            "3 . Batman & Robin\n",
            "4 . Batman Begins\n",
            "5 . Man of Steel\n",
            "6 . Beetlejuice\n",
            "7 . Mars Attacks!\n",
            "8 . Superman Returns\n",
            "9 . Jonah Hex\n",
            "10 . The Dark Knight Rises\n",
            "11 . Superman III\n",
            "12 . Bedazzled\n",
            "13 . A History of Violence\n",
            "14 . Reds\n",
            "15 . I Dreamed of Africa\n",
            "16 . The Dark Knight\n",
            "17 . Superman\n",
            "18 . Something's Gotta Give\n",
            "19 . Exorcist II: The Heretic\n",
            "20 . Superman II\n",
            "21 . Blood and Wine\n",
            "22 . The New Guy\n",
            "23 . Catwoman\n",
            "24 . 8 Mile\n",
            "25 . Nine 1/2 Weeks\n",
            "26 . Batman\n",
            "27 . Batman Forever\n",
            "28 . Multiplicity\n",
            "29 . Cellular\n"
          ]
        }
      ]
    },
    {
      "cell_type": "markdown",
      "source": [
        "#Movie Recommendation system"
      ],
      "metadata": {
        "id": "bWZZ3Skw-5y3"
      }
    },
    {
      "cell_type": "code",
      "source": [
        "movie_name = input(' Enter your favourite movie name : ')\n",
        "\n",
        "list_of_all_titles = movies_data['title'].tolist()\n",
        "\n",
        "find_close_match = difflib.get_close_matches(movie_name, list_of_all_titles)\n",
        "\n",
        "close_match = find_close_match[0]\n",
        "\n",
        "index_of_the_movie = movies_data[movies_data.title == close_match]['index'].values[0]\n",
        "\n",
        "similarity_score = list(enumerate(similarity[index_of_the_movie]))\n",
        "\n",
        "sorted_similar_movies = sorted(similarity_score, key = lambda x:x[1], reverse = True)\n",
        "\n",
        "print('Movies suggested for you : \\n')\n",
        "\n",
        "i = 1\n",
        "\n",
        "for movie in sorted_similar_movies:\n",
        "  index = movie[0]\n",
        "  title_from_index = movies_data[movies_data.index==index]['title'].values[0]\n",
        "  if (i<30):\n",
        "    print(i, '.',title_from_index)\n",
        "    i+=1"
      ],
      "metadata": {
        "colab": {
          "base_uri": "https://localhost:8080/"
        },
        "id": "-FkRWEqR-0Po",
        "outputId": "70bbe238-42fc-4106-8b3d-8e2aaf6d8121"
      },
      "execution_count": 50,
      "outputs": [
        {
          "output_type": "stream",
          "name": "stdout",
          "text": [
            " Enter your favourite movie name : iron mam\n",
            "Movies suggested for you : \n",
            "\n",
            "1 . Iron Man\n",
            "2 . Iron Man 2\n",
            "3 . Iron Man 3\n",
            "4 . The Avengers\n",
            "5 . Captain America: Civil War\n",
            "6 . The Helix... Loaded\n",
            "7 . Avengers: Age of Ultron\n",
            "8 . X-Men: The Last Stand\n",
            "9 . X-Men: Days of Future Past\n",
            "10 . X-Men\n",
            "11 . X2\n",
            "12 . Made\n",
            "13 . Tropic Thunder\n",
            "14 . The Incredible Hulk\n",
            "15 . X-Men: Apocalypse\n",
            "16 . The Amazing Spider-Man 2\n",
            "17 . Captain America: The Winter Soldier\n",
            "18 . Gothika\n",
            "19 . X-Men: First Class\n",
            "20 . A Scanner Darkly\n",
            "21 . The Judge\n",
            "22 . Deadpool\n",
            "23 . The Best Man\n",
            "24 . The Nativity Story\n",
            "25 . Lucky You\n",
            "26 . The Kite Runner\n",
            "27 . Arlington Road\n",
            "28 . Ant-Man\n",
            "29 . The Hunting Party\n"
          ]
        }
      ]
    }
  ]
}